{
 "cells": [
  {
   "cell_type": "markdown",
   "source": [
    "# 100 numpy exercises\n",
    "\n",
    "This is a collection of exercises that have been collected in the numpy mailing list, on stack overflow and in the numpy documentation. The goal of this collection is to offer a quick reference for both old and new users but also to provide a set of exercises for those who teach.\n",
    "\n",
    "\n",
    "If you find an error or think you've a better way to solve some of them, feel free to open an issue at <https://github.com/rougier/numpy-100>"
   ],
   "metadata": {}
  },
  {
   "cell_type": "markdown",
   "source": [
    "#### 1. Import the numpy package under the name `np` (★☆☆)"
   ],
   "metadata": {}
  },
  {
   "cell_type": "code",
   "execution_count": 1,
   "source": [
    "import numpy as np"
   ],
   "outputs": [],
   "metadata": {
    "collapsed": true
   }
  },
  {
   "cell_type": "markdown",
   "source": [
    "#### 2. Print the numpy version and the configuration (★☆☆)"
   ],
   "metadata": {}
  },
  {
   "cell_type": "code",
   "execution_count": 8,
   "source": [
    "print(np.__version__,)\n",
    "np.show_config()"
   ],
   "outputs": [
    {
     "output_type": "stream",
     "name": "stdout",
     "text": [
      "1.19.1\n",
      "blas_mkl_info:\n",
      "    libraries = ['mkl_rt', 'pthread']\n",
      "    library_dirs = ['/Users/saidalikhonalikhonov/opt/anaconda3/envs/sayeed/lib']\n",
      "    define_macros = [('SCIPY_MKL_H', None), ('HAVE_CBLAS', None)]\n",
      "    include_dirs = ['/Users/saidalikhonalikhonov/opt/anaconda3/envs/sayeed/include']\n",
      "blas_opt_info:\n",
      "    libraries = ['mkl_rt', 'pthread']\n",
      "    library_dirs = ['/Users/saidalikhonalikhonov/opt/anaconda3/envs/sayeed/lib']\n",
      "    define_macros = [('SCIPY_MKL_H', None), ('HAVE_CBLAS', None)]\n",
      "    include_dirs = ['/Users/saidalikhonalikhonov/opt/anaconda3/envs/sayeed/include']\n",
      "lapack_mkl_info:\n",
      "    libraries = ['mkl_rt', 'pthread']\n",
      "    library_dirs = ['/Users/saidalikhonalikhonov/opt/anaconda3/envs/sayeed/lib']\n",
      "    define_macros = [('SCIPY_MKL_H', None), ('HAVE_CBLAS', None)]\n",
      "    include_dirs = ['/Users/saidalikhonalikhonov/opt/anaconda3/envs/sayeed/include']\n",
      "lapack_opt_info:\n",
      "    libraries = ['mkl_rt', 'pthread']\n",
      "    library_dirs = ['/Users/saidalikhonalikhonov/opt/anaconda3/envs/sayeed/lib']\n",
      "    define_macros = [('SCIPY_MKL_H', None), ('HAVE_CBLAS', None)]\n",
      "    include_dirs = ['/Users/saidalikhonalikhonov/opt/anaconda3/envs/sayeed/include']\n"
     ]
    }
   ],
   "metadata": {}
  },
  {
   "cell_type": "markdown",
   "source": [
    "#### 3. Create a null vector of size 10 (★☆☆)"
   ],
   "metadata": {}
  },
  {
   "cell_type": "code",
   "execution_count": 10,
   "source": [
    "vector = np.zeros(10)\n"
   ],
   "outputs": [
    {
     "output_type": "stream",
     "name": "stdout",
     "text": [
      "[0. 0. 0. 0. 0. 0. 0. 0. 0. 0.]\n"
     ]
    }
   ],
   "metadata": {}
  },
  {
   "cell_type": "markdown",
   "source": [
    "#### 4.  How to find the memory size of any array (★☆☆)"
   ],
   "metadata": {}
  },
  {
   "cell_type": "code",
   "execution_count": 13,
   "source": [
    "def size_of_arr(arr):\n",
    "    size_arr = arr.size\n",
    "    item_size = arr.itemsize\n",
    "    memory_size = size_arr * item_size\n",
    "    return memory_size\n",
    "print(size_of_arr(np.arange(5)))"
   ],
   "outputs": [
    {
     "output_type": "stream",
     "name": "stdout",
     "text": [
      "40\n"
     ]
    }
   ],
   "metadata": {}
  },
  {
   "cell_type": "markdown",
   "source": [
    "#### 5.  How to get the documentation of the numpy add function from the command line? (★☆☆)"
   ],
   "metadata": {}
  },
  {
   "cell_type": "code",
   "execution_count": 15,
   "source": [
    "print(np.info(np.add))"
   ],
   "outputs": [
    {
     "output_type": "stream",
     "name": "stdout",
     "text": [
      "add(x1, x2, /, out=None, *, where=True, casting='same_kind', order='K', dtype=None, subok=True[, signature, extobj])\n",
      "\n",
      "Add arguments element-wise.\n",
      "\n",
      "Parameters\n",
      "----------\n",
      "x1, x2 : array_like\n",
      "    The arrays to be added.\n",
      "    If ``x1.shape != x2.shape``, they must be broadcastable to a common\n",
      "    shape (which becomes the shape of the output).\n",
      "out : ndarray, None, or tuple of ndarray and None, optional\n",
      "    A location into which the result is stored. If provided, it must have\n",
      "    a shape that the inputs broadcast to. If not provided or None,\n",
      "    a freshly-allocated array is returned. A tuple (possible only as a\n",
      "    keyword argument) must have length equal to the number of outputs.\n",
      "where : array_like, optional\n",
      "    This condition is broadcast over the input. At locations where the\n",
      "    condition is True, the `out` array will be set to the ufunc result.\n",
      "    Elsewhere, the `out` array will retain its original value.\n",
      "    Note that if an uninitialized `out` array is created via the default\n",
      "    ``out=None``, locations within it where the condition is False will\n",
      "    remain uninitialized.\n",
      "**kwargs\n",
      "    For other keyword-only arguments, see the\n",
      "    :ref:`ufunc docs <ufuncs.kwargs>`.\n",
      "\n",
      "Returns\n",
      "-------\n",
      "add : ndarray or scalar\n",
      "    The sum of `x1` and `x2`, element-wise.\n",
      "    This is a scalar if both `x1` and `x2` are scalars.\n",
      "\n",
      "Notes\n",
      "-----\n",
      "Equivalent to `x1` + `x2` in terms of array broadcasting.\n",
      "\n",
      "Examples\n",
      "--------\n",
      ">>> np.add(1.0, 4.0)\n",
      "5.0\n",
      ">>> x1 = np.arange(9.0).reshape((3, 3))\n",
      ">>> x2 = np.arange(3.0)\n",
      ">>> np.add(x1, x2)\n",
      "array([[  0.,   2.,   4.],\n",
      "       [  3.,   5.,   7.],\n",
      "       [  6.,   8.,  10.]])\n",
      "None\n"
     ]
    }
   ],
   "metadata": {
    "collapsed": true
   }
  },
  {
   "cell_type": "markdown",
   "source": [
    "#### 6.  Create a null vector of size 10 but the fifth value which is 1 (★☆☆)"
   ],
   "metadata": {}
  },
  {
   "cell_type": "code",
   "execution_count": 17,
   "source": [
    "null_vec = np.zeros(10)\n",
    "null_vec[4] = 1"
   ],
   "outputs": [
    {
     "output_type": "stream",
     "name": "stdout",
     "text": [
      "[0. 0. 0. 0. 1. 0. 0. 0. 0. 0.]\n"
     ]
    }
   ],
   "metadata": {}
  },
  {
   "cell_type": "markdown",
   "source": [
    "#### 7.  Create a vector with values ranging from 10 to 49 (★☆☆)"
   ],
   "metadata": {}
  },
  {
   "cell_type": "code",
   "execution_count": 46,
   "source": [
    "vec = np.arange(10,50)\n",
    "print(vec)"
   ],
   "outputs": [
    {
     "output_type": "stream",
     "name": "stdout",
     "text": [
      "[10 11 12 13 14 15 16 17 18 19 20 21 22 23 24 25 26 27 28 29 30 31 32 33\n",
      " 34 35 36 37 38 39 40 41 42 43 44 45 46 47 48 49]\n"
     ]
    }
   ],
   "metadata": {}
  },
  {
   "cell_type": "markdown",
   "source": [
    "#### 8.  Reverse a vector (first element becomes last) (★☆☆)"
   ],
   "metadata": {}
  },
  {
   "cell_type": "code",
   "execution_count": 47,
   "source": [
    "vec = vec[::-1]\n",
    "print(vec)"
   ],
   "outputs": [
    {
     "output_type": "stream",
     "name": "stdout",
     "text": [
      "[49 48 47 46 45 44 43 42 41 40 39 38 37 36 35 34 33 32 31 30 29 28 27 26\n",
      " 25 24 23 22 21 20 19 18 17 16 15 14 13 12 11 10]\n"
     ]
    }
   ],
   "metadata": {}
  },
  {
   "cell_type": "markdown",
   "source": [
    "#### 9.  Create a 3x3 matrix with values ranging from 0 to 8 (★☆☆)"
   ],
   "metadata": {}
  },
  {
   "cell_type": "code",
   "execution_count": 51,
   "source": [
    "mat = np.arange(9).reshape(( 3,3 ))\n",
    "print(mat)"
   ],
   "outputs": [
    {
     "output_type": "stream",
     "name": "stdout",
     "text": [
      "[[0 1 2]\n",
      " [3 4 5]\n",
      " [6 7 8]]\n"
     ]
    }
   ],
   "metadata": {}
  },
  {
   "cell_type": "markdown",
   "source": [
    "#### 10. Find indices of non-zero elements from \\[1,2,0,0,4,0\\] (★☆☆)"
   ],
   "metadata": {}
  },
  {
   "cell_type": "code",
   "execution_count": 58,
   "source": [
    "arr = [1,2,0,0,4,0]\n",
    "new = np.nonzero(arr)\n",
    "print(new)"
   ],
   "outputs": [
    {
     "output_type": "stream",
     "name": "stdout",
     "text": [
      "(array([0, 1, 4]),)\n"
     ]
    }
   ],
   "metadata": {}
  },
  {
   "cell_type": "markdown",
   "source": [
    "#### 11. Create a 3x3 identity matrix (★☆☆)"
   ],
   "metadata": {}
  },
  {
   "cell_type": "code",
   "execution_count": 60,
   "source": [
    "np.identity(3)"
   ],
   "outputs": [
    {
     "output_type": "execute_result",
     "data": {
      "text/plain": [
       "array([[1., 0., 0.],\n",
       "       [0., 1., 0.],\n",
       "       [0., 0., 1.]])"
      ]
     },
     "metadata": {},
     "execution_count": 60
    }
   ],
   "metadata": {}
  },
  {
   "cell_type": "markdown",
   "source": [
    "#### 12. Create a 3x3x3 array with random values (★☆☆)"
   ],
   "metadata": {}
  },
  {
   "cell_type": "code",
   "execution_count": 61,
   "source": [
    "np.random.random(size=(3,3,3))"
   ],
   "outputs": [
    {
     "output_type": "execute_result",
     "data": {
      "text/plain": [
       "array([[[7.19986812e-01, 8.65025080e-01, 7.47050817e-01],\n",
       "        [5.20570013e-01, 8.92478636e-01, 7.61957084e-01],\n",
       "        [4.84285456e-01, 8.45843381e-01, 4.11047827e-02]],\n",
       "\n",
       "       [[5.09259590e-01, 2.30957585e-04, 7.05426966e-01],\n",
       "        [5.62294002e-01, 6.91867644e-01, 6.14941090e-01],\n",
       "        [2.41019810e-01, 7.28489052e-01, 8.48709060e-01]],\n",
       "\n",
       "       [[8.20763212e-01, 6.44078616e-01, 9.48535521e-01],\n",
       "        [5.00050808e-01, 5.01427062e-01, 5.51670106e-01],\n",
       "        [9.73759979e-01, 5.19022855e-01, 2.10948386e-01]]])"
      ]
     },
     "metadata": {},
     "execution_count": 61
    }
   ],
   "metadata": {
    "collapsed": true
   }
  },
  {
   "cell_type": "markdown",
   "source": [
    "#### 13. Create a 10x10 array with random values and find the minimum and maximum values (★☆☆)"
   ],
   "metadata": {}
  },
  {
   "cell_type": "code",
   "execution_count": 63,
   "source": [
    "new = np.random.random(size=(10,10))\n",
    "min = np.amin(new)\n",
    "max = np.amax(new)\n",
    "print(max,min)"
   ],
   "outputs": [
    {
     "output_type": "stream",
     "name": "stdout",
     "text": [
      "0.9934619808633647 0.00454203389289598\n"
     ]
    }
   ],
   "metadata": {}
  },
  {
   "cell_type": "markdown",
   "source": [
    "#### 14. Create a random vector of size 30 and find the mean value (★☆☆)"
   ],
   "metadata": {}
  },
  {
   "cell_type": "code",
   "execution_count": 66,
   "source": [
    "new_vector = np.random.random(size=(30))\n",
    "print(np.mean(new_vector))"
   ],
   "outputs": [
    {
     "output_type": "stream",
     "name": "stdout",
     "text": [
      "0.5491676236614964\n"
     ]
    }
   ],
   "metadata": {}
  },
  {
   "cell_type": "markdown",
   "source": [
    "#### 15. Create a 2d array with 1 on the border and 0 inside (★☆☆)"
   ],
   "metadata": {}
  },
  {
   "cell_type": "code",
   "execution_count": 118,
   "source": [
    "arr = np.ones((10,10))\n",
    "arr[1:-1,1:-1] = 0\n",
    "print(arr)\n",
    "print(arr.shape)"
   ],
   "outputs": [
    {
     "output_type": "stream",
     "name": "stdout",
     "text": [
      "[[1. 1. 1. 1. 1. 1. 1. 1. 1. 1.]\n",
      " [1. 0. 0. 0. 0. 0. 0. 0. 0. 1.]\n",
      " [1. 0. 0. 0. 0. 0. 0. 0. 0. 1.]\n",
      " [1. 0. 0. 0. 0. 0. 0. 0. 0. 1.]\n",
      " [1. 0. 0. 0. 0. 0. 0. 0. 0. 1.]\n",
      " [1. 0. 0. 0. 0. 0. 0. 0. 0. 1.]\n",
      " [1. 0. 0. 0. 0. 0. 0. 0. 0. 1.]\n",
      " [1. 0. 0. 0. 0. 0. 0. 0. 0. 1.]\n",
      " [1. 0. 0. 0. 0. 0. 0. 0. 0. 1.]\n",
      " [1. 1. 1. 1. 1. 1. 1. 1. 1. 1.]]\n",
      "(10, 10)\n"
     ]
    }
   ],
   "metadata": {}
  },
  {
   "cell_type": "markdown",
   "source": [
    "#### 16. How to add a border (filled with 0's) around an existing array? (★☆☆)"
   ],
   "metadata": {}
  },
  {
   "cell_type": "code",
   "execution_count": 76,
   "source": [
    "def padding(arr):\n",
    "    new = np.pad(arr,pad_width=1,mode='constant',constant_values=0)\n",
    "    return new\n",
    "print(padding(np.arange(9).reshape((3,3))))"
   ],
   "outputs": [
    {
     "output_type": "stream",
     "name": "stdout",
     "text": [
      "[[0 0 0 0 0]\n",
      " [0 0 1 2 0]\n",
      " [0 3 4 5 0]\n",
      " [0 6 7 8 0]\n",
      " [0 0 0 0 0]]\n"
     ]
    }
   ],
   "metadata": {}
  },
  {
   "cell_type": "markdown",
   "source": [
    "#### 17. What is the result of the following expression? (★☆☆)"
   ],
   "metadata": {}
  },
  {
   "cell_type": "markdown",
   "source": [
    "```python\n",
    "0 * np.nan\n",
    "np.nan == np.nan\n",
    "np.inf > np.nan\n",
    "np.nan - np.nan\n",
    "np.nan in set([np.nan])\n",
    "0.3 == 3 * 0.1\n",
    "```"
   ],
   "metadata": {}
  },
  {
   "cell_type": "code",
   "execution_count": 77,
   "source": [
    "print(0*np.nan)\n",
    "print(np.nan == np.nan)\n",
    "print(np.inf > np.nan)\n",
    "print(np.nan - np.nan)\n",
    "print(np.nan in set([np.nan]))\n",
    "print(0.3 == 3 * 0.1)"
   ],
   "outputs": [
    {
     "output_type": "stream",
     "name": "stdout",
     "text": [
      "nan\n",
      "False\n",
      "False\n",
      "nan\n",
      "True\n",
      "False\n"
     ]
    }
   ],
   "metadata": {}
  },
  {
   "cell_type": "markdown",
   "source": [
    "#### 18. Create a 5x5 matrix with values 1,2,3,4 just below the diagonal (★☆☆)"
   ],
   "metadata": {}
  },
  {
   "cell_type": "code",
   "execution_count": 106,
   "source": [
    "arr = 1+np.arange(4)\n",
    "z = np.diag(arr,k=-1)\n",
    "print(z)"
   ],
   "outputs": [
    {
     "output_type": "stream",
     "name": "stdout",
     "text": [
      "[[0 0 0 0 0]\n",
      " [1 0 0 0 0]\n",
      " [0 2 0 0 0]\n",
      " [0 0 3 0 0]\n",
      " [0 0 0 4 0]]\n"
     ]
    }
   ],
   "metadata": {}
  },
  {
   "cell_type": "markdown",
   "source": [
    "#### 19. Create a 8x8 matrix and fill it with a checkerboard pattern (★☆☆)"
   ],
   "metadata": {}
  },
  {
   "cell_type": "code",
   "execution_count": 116,
   "source": [
    "arr = np.zeros((8,8))\n",
    "arr[::2,::2] = 1\n",
    "arr[1::2,1::2] = 1\n",
    "print(arr)\n"
   ],
   "outputs": [
    {
     "output_type": "stream",
     "name": "stdout",
     "text": [
      "[[1. 0. 1. 0. 1. 0. 1. 0.]\n",
      " [0. 1. 0. 1. 0. 1. 0. 1.]\n",
      " [1. 0. 1. 0. 1. 0. 1. 0.]\n",
      " [0. 1. 0. 1. 0. 1. 0. 1.]\n",
      " [1. 0. 1. 0. 1. 0. 1. 0.]\n",
      " [0. 1. 0. 1. 0. 1. 0. 1.]\n",
      " [1. 0. 1. 0. 1. 0. 1. 0.]\n",
      " [0. 1. 0. 1. 0. 1. 0. 1.]]\n"
     ]
    }
   ],
   "metadata": {}
  },
  {
   "cell_type": "markdown",
   "source": [
    "#### 20. Consider a (6,7,8) shape array, what is the index (x,y,z) of the 100th element?"
   ],
   "metadata": {}
  },
  {
   "cell_type": "code",
   "execution_count": 114,
   "source": [
    "np.unravel_index(100,(6,7,8))\n"
   ],
   "outputs": [
    {
     "output_type": "execute_result",
     "data": {
      "text/plain": [
       "(1, 5, 4)"
      ]
     },
     "metadata": {},
     "execution_count": 114
    }
   ],
   "metadata": {}
  },
  {
   "cell_type": "markdown",
   "source": [
    "#### 21. Create a checkerboard 8x8 matrix using the tile function (★☆☆)"
   ],
   "metadata": {}
  },
  {
   "cell_type": "code",
   "execution_count": 125,
   "source": [
    "\n",
    "array = np.array([[1,0],[0,1]])\n",
    "tiled = np.tile(array,(4,4))\n",
    "print(tiled)\n"
   ],
   "outputs": [
    {
     "output_type": "stream",
     "name": "stdout",
     "text": [
      "[[1 0 1 0 1 0 1 0]\n",
      " [0 1 0 1 0 1 0 1]\n",
      " [1 0 1 0 1 0 1 0]\n",
      " [0 1 0 1 0 1 0 1]\n",
      " [1 0 1 0 1 0 1 0]\n",
      " [0 1 0 1 0 1 0 1]\n",
      " [1 0 1 0 1 0 1 0]\n",
      " [0 1 0 1 0 1 0 1]]\n"
     ]
    }
   ],
   "metadata": {}
  },
  {
   "cell_type": "markdown",
   "source": [
    "#### 22. Normalize a 5x5 random matrix (★☆☆)"
   ],
   "metadata": {}
  },
  {
   "cell_type": "code",
   "execution_count": 128,
   "source": [
    "arr = np.random.random(size=(5,5))\n",
    "print(arr)\n"
   ],
   "outputs": [
    {
     "output_type": "stream",
     "name": "stdout",
     "text": [
      "[[0.86976222 0.52404825 0.20437098 0.15395893 0.88745252]\n",
      " [0.19740781 0.233308   0.4140454  0.81604967 0.6257481 ]\n",
      " [0.59361121 0.75062335 0.17643661 0.33179854 0.25760698]\n",
      " [0.85523806 0.21809711 0.17903788 0.64495026 0.78919144]\n",
      " [0.13737059 0.26704306 0.61505963 0.05564507 0.58238573]]\n"
     ]
    }
   ],
   "metadata": {}
  },
  {
   "cell_type": "markdown",
   "source": [
    "#### 23. Create a custom dtype that describes a color as four unsigned bytes (RGBA) (★☆☆)"
   ],
   "metadata": {}
  },
  {
   "cell_type": "code",
   "execution_count": null,
   "source": [],
   "outputs": [],
   "metadata": {
    "collapsed": true
   }
  },
  {
   "cell_type": "markdown",
   "source": [
    "#### 24. Multiply a 5x3 matrix by a 3x2 matrix (real matrix product) (★☆☆)"
   ],
   "metadata": {}
  },
  {
   "cell_type": "code",
   "execution_count": 131,
   "source": [
    "a = np.ones((5,3))\n",
    "b=np.ones((3,2))\n",
    "prod=np.dot(a,b)\n",
    "print(prod)"
   ],
   "outputs": [
    {
     "output_type": "stream",
     "name": "stdout",
     "text": [
      "[[3. 3.]\n",
      " [3. 3.]\n",
      " [3. 3.]\n",
      " [3. 3.]\n",
      " [3. 3.]]\n"
     ]
    }
   ],
   "metadata": {}
  },
  {
   "cell_type": "markdown",
   "source": [
    "#### 25. Given a 1D array, negate all elements which are between 3 and 8, in place. (★☆☆)"
   ],
   "metadata": {}
  },
  {
   "cell_type": "code",
   "execution_count": 139,
   "source": [
    "arr = np.arange(10)\n",
    "new = arr[arr>=3]\n",
    "new = new[new<8]\n",
    "print(new)"
   ],
   "outputs": [
    {
     "output_type": "stream",
     "name": "stdout",
     "text": [
      "[3 4 5 6 7]\n"
     ]
    }
   ],
   "metadata": {}
  },
  {
   "cell_type": "markdown",
   "source": [
    "#### 26. What is the output of the following script? (★☆☆)"
   ],
   "metadata": {}
  },
  {
   "cell_type": "markdown",
   "source": [
    "```python\n",
    "# Author: Jake VanderPlas\n",
    "\n",
    "print(sum(range(5),-1))\n",
    "from numpy import *\n",
    "print(sum(range(5),-1))\n",
    "```"
   ],
   "metadata": {}
  },
  {
   "cell_type": "code",
   "execution_count": 2,
   "source": [
    "print(sum(range(5),-1))\n",
    "from numpy import *\n",
    "print(sum(range(5),-1))"
   ],
   "outputs": [
    {
     "output_type": "stream",
     "name": "stdout",
     "text": [
      "9\n",
      "10\n"
     ]
    }
   ],
   "metadata": {}
  },
  {
   "cell_type": "markdown",
   "source": [
    "#### 27. Consider an integer vector Z, which of these expressions are legal? (★☆☆)"
   ],
   "metadata": {}
  },
  {
   "cell_type": "markdown",
   "source": [
    "```python\n",
    "Z**Z\n",
    "2 << Z >> 2\n",
    "Z <- Z\n",
    "1j*Z\n",
    "Z/1/1\n",
    "Z<Z>Z\n",
    "```"
   ],
   "metadata": {}
  },
  {
   "cell_type": "code",
   "execution_count": null,
   "source": [],
   "outputs": [],
   "metadata": {}
  },
  {
   "cell_type": "markdown",
   "source": [
    "#### 28. What are the result of the following expressions?"
   ],
   "metadata": {}
  },
  {
   "cell_type": "markdown",
   "source": [
    "```python\n",
    "np.array(0) / np.array(0)\n",
    "np.array(0) // np.array(0)\n",
    "np.array([np.nan]).astype(int).astype(float)\n",
    "```"
   ],
   "metadata": {}
  },
  {
   "cell_type": "code",
   "execution_count": 4,
   "source": [
    "import numpy as np\n",
    "np.array(0) / np.array(0)\n",
    "np.array(0) // np.array(0)\n",
    "np.array([np.nan]).astype(int).astype(float)"
   ],
   "outputs": [
    {
     "output_type": "stream",
     "name": "stderr",
     "text": [
      "/var/folders/1h/x7tmv9xd1bsclx868ql32nf40000gn/T/ipykernel_70351/291608809.py:2: RuntimeWarning: invalid value encountered in true_divide\n",
      "  np.array(0) / np.array(0)\n",
      "/var/folders/1h/x7tmv9xd1bsclx868ql32nf40000gn/T/ipykernel_70351/291608809.py:3: RuntimeWarning: divide by zero encountered in floor_divide\n",
      "  np.array(0) // np.array(0)\n"
     ]
    },
    {
     "output_type": "execute_result",
     "data": {
      "text/plain": [
       "array([-9.22337204e+18])"
      ]
     },
     "metadata": {},
     "execution_count": 4
    }
   ],
   "metadata": {}
  },
  {
   "cell_type": "markdown",
   "source": [
    "#### 29. How to round away from zero a float array ? (★☆☆)"
   ],
   "metadata": {}
  },
  {
   "cell_type": "code",
   "execution_count": 9,
   "source": [
    "arr = np.array([1.5,5.5,3.5])\n",
    "print(arr.round())"
   ],
   "outputs": [
    {
     "output_type": "stream",
     "name": "stdout",
     "text": [
      "[2. 6. 4.]\n"
     ]
    }
   ],
   "metadata": {}
  },
  {
   "cell_type": "markdown",
   "source": [
    "#### 30. How to find common values between two arrays? (★☆☆)"
   ],
   "metadata": {}
  },
  {
   "cell_type": "code",
   "execution_count": 14,
   "source": [
    "def check_arr(c1,c2):\n",
    "    return np.intersect1d(c1,c2)\n",
    "\n",
    "check_arr([1,4,3,5,6],[1,4,67,78])"
   ],
   "outputs": [
    {
     "output_type": "execute_result",
     "data": {
      "text/plain": [
       "array([1, 4])"
      ]
     },
     "metadata": {},
     "execution_count": 14
    }
   ],
   "metadata": {}
  },
  {
   "cell_type": "markdown",
   "source": [
    "#### 31. How to ignore all numpy warnings (not recommended)? (★☆☆)"
   ],
   "metadata": {}
  },
  {
   "cell_type": "code",
   "execution_count": null,
   "source": [
    "#np.seterr(all='ignore') #it also canbe , warn raise etc."
   ],
   "outputs": [],
   "metadata": {}
  },
  {
   "cell_type": "markdown",
   "source": [
    "#### 32. Is the following expressions true? (★☆☆)"
   ],
   "metadata": {}
  },
  {
   "cell_type": "markdown",
   "source": [
    "```python\n",
    "np.sqrt(-1) == np.emath.sqrt(-1)\n",
    "```"
   ],
   "metadata": {}
  },
  {
   "cell_type": "code",
   "execution_count": null,
   "source": [
    "# nan is not equal to complex number"
   ],
   "outputs": [],
   "metadata": {}
  },
  {
   "cell_type": "markdown",
   "source": [
    "#### 33. How to get the dates of yesterday, today and tomorrow? (★☆☆)"
   ],
   "metadata": {}
  },
  {
   "cell_type": "code",
   "execution_count": 18,
   "source": [
    "today = np.datetime64('today','D')\n",
    "yesterday = today - np.timedelta64(1,'D')\n",
    "tomorrow = today + np.timedelta64(1,'D')\n"
   ],
   "outputs": [
    {
     "output_type": "stream",
     "name": "stdout",
     "text": [
      "2021-09-24\n"
     ]
    }
   ],
   "metadata": {
    "collapsed": true
   }
  },
  {
   "cell_type": "markdown",
   "source": [
    "#### 34. How to get all the dates corresponding to the month of July 2016? (★★☆)"
   ],
   "metadata": {}
  },
  {
   "cell_type": "code",
   "execution_count": 13,
   "source": [
    "arr = np.arange(\"2016-07\",\"2016-08\",dtype=\"datetime64[D]\")\n",
    "print(arr)"
   ],
   "outputs": [
    {
     "output_type": "stream",
     "name": "stdout",
     "text": [
      "['2016-07-01' '2016-07-02' '2016-07-03' '2016-07-04' '2016-07-05'\n",
      " '2016-07-06' '2016-07-07' '2016-07-08' '2016-07-09' '2016-07-10'\n",
      " '2016-07-11' '2016-07-12' '2016-07-13' '2016-07-14' '2016-07-15'\n",
      " '2016-07-16' '2016-07-17' '2016-07-18' '2016-07-19' '2016-07-20'\n",
      " '2016-07-21' '2016-07-22' '2016-07-23' '2016-07-24' '2016-07-25'\n",
      " '2016-07-26' '2016-07-27' '2016-07-28' '2016-07-29' '2016-07-30'\n",
      " '2016-07-31']\n"
     ]
    }
   ],
   "metadata": {}
  },
  {
   "cell_type": "markdown",
   "source": [
    "#### 35. How to compute ((A+B)\\*(-A/2)) in place (without copy)? (★★☆)"
   ],
   "metadata": {}
  },
  {
   "cell_type": "code",
   "execution_count": 25,
   "source": [
    "def func(A,B):\n",
    "    return np.multiply(np.add(A,B),np.negative(A/2))\n",
    "\n",
    "func(np.array([1,2]),np.array([4,2]))"
   ],
   "outputs": [
    {
     "output_type": "execute_result",
     "data": {
      "text/plain": [
       "array([-2.5, -4. ])"
      ]
     },
     "metadata": {},
     "execution_count": 25
    }
   ],
   "metadata": {}
  },
  {
   "cell_type": "markdown",
   "source": [
    "#### 36. Extract the integer part of a random array using 5 different methods (★★☆)"
   ],
   "metadata": {}
  },
  {
   "cell_type": "code",
   "execution_count": null,
   "source": [],
   "outputs": [],
   "metadata": {}
  },
  {
   "cell_type": "markdown",
   "source": [
    "#### 37. Create a 5x5 matrix with row values ranging from 0 to 4 (★★☆)"
   ],
   "metadata": {}
  },
  {
   "cell_type": "code",
   "execution_count": 22,
   "source": [
    "arr = np.zeros((5,5))\n",
    "arr[:,:] = np.arange(5)\n",
    "print(arr)"
   ],
   "outputs": [
    {
     "output_type": "stream",
     "name": "stdout",
     "text": [
      "[[0. 1. 2. 3. 4.]\n",
      " [0. 1. 2. 3. 4.]\n",
      " [0. 1. 2. 3. 4.]\n",
      " [0. 1. 2. 3. 4.]\n",
      " [0. 1. 2. 3. 4.]]\n"
     ]
    }
   ],
   "metadata": {}
  },
  {
   "cell_type": "markdown",
   "source": [
    "#### 38. Consider a generator function that generates 10 integers and use it to build an array (★☆☆)"
   ],
   "metadata": {}
  },
  {
   "cell_type": "code",
   "execution_count": 32,
   "source": [
    "def generatorr(n):\n",
    "    return np.random.randint(20,size=n)\n",
    "generatorr(10)"
   ],
   "outputs": [
    {
     "output_type": "execute_result",
     "data": {
      "text/plain": [
       "array([ 1, 17, 18, 10,  5, 13,  6,  7, 13,  5])"
      ]
     },
     "metadata": {},
     "execution_count": 32
    }
   ],
   "metadata": {}
  },
  {
   "cell_type": "markdown",
   "source": [
    "#### 39. Create a vector of size 10 with values ranging from 0 to 1, both excluded (★★☆)"
   ],
   "metadata": {}
  },
  {
   "cell_type": "code",
   "execution_count": 42,
   "source": [
    "arr = np.linspace(0,1,num=11,endpoint=False)\n",
    "print(arr)\n",
    "arr[arr>0]"
   ],
   "outputs": [
    {
     "output_type": "stream",
     "name": "stdout",
     "text": [
      "[0.         0.09090909 0.18181818 0.27272727 0.36363636 0.45454545\n",
      " 0.54545455 0.63636364 0.72727273 0.81818182 0.90909091]\n"
     ]
    },
    {
     "output_type": "execute_result",
     "data": {
      "text/plain": [
       "array([0.09090909, 0.18181818, 0.27272727, 0.36363636, 0.45454545,\n",
       "       0.54545455, 0.63636364, 0.72727273, 0.81818182, 0.90909091])"
      ]
     },
     "metadata": {},
     "execution_count": 42
    }
   ],
   "metadata": {}
  },
  {
   "cell_type": "markdown",
   "source": [
    "#### 40. Create a random vector of size 10 and sort it (★★☆)"
   ],
   "metadata": {}
  },
  {
   "cell_type": "code",
   "execution_count": 45,
   "source": [
    "arr = np.random.randint(10,size=10)\n",
    "print(np.sort(arr))"
   ],
   "outputs": [
    {
     "output_type": "stream",
     "name": "stdout",
     "text": [
      "[0 3 3 4 4 6 6 8 8 8]\n"
     ]
    }
   ],
   "metadata": {}
  },
  {
   "cell_type": "markdown",
   "source": [
    "#### 41. How to sum a small array faster than np.sum? (★★☆)"
   ],
   "metadata": {}
  },
  {
   "cell_type": "code",
   "execution_count": null,
   "source": [],
   "outputs": [],
   "metadata": {}
  },
  {
   "cell_type": "markdown",
   "source": [
    "#### 42. Consider two random array A and B, check if they are equal (★★☆)"
   ],
   "metadata": {}
  },
  {
   "cell_type": "code",
   "execution_count": 47,
   "source": [
    "arr1 = np.random.randint(10,size=4)\n",
    "arr2 = np.random.randint(10,size=4)\n",
    "arr1 == arr2\n",
    "\n",
    "np.array_equal(arr1,arr2)"
   ],
   "outputs": [
    {
     "output_type": "execute_result",
     "data": {
      "text/plain": [
       "False"
      ]
     },
     "metadata": {},
     "execution_count": 47
    }
   ],
   "metadata": {}
  },
  {
   "cell_type": "markdown",
   "source": [
    "#### 43. Make an array immutable (read-only) (★★☆)"
   ],
   "metadata": {}
  },
  {
   "cell_type": "code",
   "execution_count": 49,
   "source": [
    "arr = np.array([1,3,4,5])\n",
    "arr.flags.writeable = False"
   ],
   "outputs": [],
   "metadata": {}
  },
  {
   "cell_type": "markdown",
   "source": [
    "#### 44. Consider a random 10x2 matrix representing cartesian coordinates, convert them to polar coordinates (★★☆)"
   ],
   "metadata": {}
  },
  {
   "cell_type": "code",
   "execution_count": 57,
   "source": [
    "z = np.random.randint(2,size=20).reshape((10,2))\n",
    "x,y = z[:,0], z[:,1]\n",
    "radi = np.sqrt( x**2 + y**2 )\n",
    "angl = np.arctan2(y,x)"
   ],
   "outputs": [],
   "metadata": {}
  },
  {
   "cell_type": "markdown",
   "source": [
    "#### 45. Create random vector of size 10 and replace the maximum value by 0 (★★☆)"
   ],
   "metadata": {}
  },
  {
   "cell_type": "code",
   "execution_count": 63,
   "source": [
    "a = np.random.randint(5,size=10) #array with random numbers will be created \n",
    "np.where(a==np.amax(a),0,a) #it takes the condition first, action if condtion True is second, the last if condition False"
   ],
   "outputs": [
    {
     "output_type": "execute_result",
     "data": {
      "text/plain": [
       "array([1, 2, 3, 3, 0, 2, 0, 3, 0, 0])"
      ]
     },
     "metadata": {},
     "execution_count": 63
    }
   ],
   "metadata": {}
  },
  {
   "cell_type": "markdown",
   "source": [
    "#### 46. Create a structured array with `x` and `y` coordinates covering the \\[0,1\\]x\\[0,1\\] area (★★☆)"
   ],
   "metadata": {}
  },
  {
   "cell_type": "code",
   "execution_count": null,
   "source": [],
   "outputs": [],
   "metadata": {}
  },
  {
   "cell_type": "markdown",
   "source": [
    "####  47. Given two arrays, X and Y, construct the Cauchy matrix C (Cij =1/(xi - yj))"
   ],
   "metadata": {}
  },
  {
   "cell_type": "code",
   "execution_count": null,
   "source": [],
   "outputs": [],
   "metadata": {}
  },
  {
   "cell_type": "markdown",
   "source": [
    "#### 48. Print the minimum and maximum representable value for each numpy scalar type (★★☆)"
   ],
   "metadata": {}
  },
  {
   "cell_type": "code",
   "execution_count": null,
   "source": [],
   "outputs": [],
   "metadata": {}
  },
  {
   "cell_type": "markdown",
   "source": [
    "#### 49. How to print all the values of an array? (★★☆)"
   ],
   "metadata": {}
  },
  {
   "cell_type": "code",
   "execution_count": null,
   "source": [
    "#we actually print all values whith print function\n",
    "#using set_printoptions can adjust the way obects get printed"
   ],
   "outputs": [],
   "metadata": {}
  },
  {
   "cell_type": "markdown",
   "source": [
    "#### 50. How to find the closest value (to a given scalar) in a vector? (★★☆)"
   ],
   "metadata": {}
  },
  {
   "cell_type": "code",
   "execution_count": 9,
   "source": [
    "import numpy as np\n",
    "def find_closest(arr, val):\n",
    "    new_arr = (arr - val)\n",
    "    new_arr = np.abs(new_arr)\n",
    "    i = np.argmin(new_arr)\n",
    "    return arr[i]\n",
    "\n",
    "find_closest(np.array([1,2,3,4,5,85,70]),4)"
   ],
   "outputs": [
    {
     "output_type": "execute_result",
     "data": {
      "text/plain": [
       "4"
      ]
     },
     "metadata": {},
     "execution_count": 9
    }
   ],
   "metadata": {}
  },
  {
   "cell_type": "markdown",
   "source": [
    "#### 51. Create a structured array representing a position (x,y) and a color (r,g,b) (★★☆)"
   ],
   "metadata": {}
  },
  {
   "cell_type": "code",
   "execution_count": null,
   "source": [],
   "outputs": [],
   "metadata": {}
  },
  {
   "cell_type": "markdown",
   "source": [
    "#### 52. Consider a random vector with shape (100,2) representing coordinates, find point by point distances (★★☆)"
   ],
   "metadata": {}
  },
  {
   "cell_type": "code",
   "execution_count": 34,
   "source": [
    "arr = np.arange(200).reshape((100,2))\n",
    "x,y = np.atleast_2d(arr[:,0],arr[:,1]) #separating x and y from the conrdinates of point\n",
    "delta_x = x - x.T # calculating all the delta x\n",
    "delta_y = y - y.T #calculatin all the delta y\n",
    "\n",
    "d = np.sqrt(delta_x**2 + delta_y**2) #each row stores the array of distances from that particular point to each point in the array\n",
    "print(d)\n",
    "\n",
    "\n"
   ],
   "outputs": [
    {
     "output_type": "stream",
     "name": "stdout",
     "text": [
      "[[  0.           2.82842712   5.65685425 ... 274.3574311  277.18585823\n",
      "  280.01428535]\n",
      " [  2.82842712   0.           2.82842712 ... 271.52900398 274.3574311\n",
      "  277.18585823]\n",
      " [  5.65685425   2.82842712   0.         ... 268.70057685 271.52900398\n",
      "  274.3574311 ]\n",
      " ...\n",
      " [274.3574311  271.52900398 268.70057685 ...   0.           2.82842712\n",
      "    5.65685425]\n",
      " [277.18585823 274.3574311  271.52900398 ...   2.82842712   0.\n",
      "    2.82842712]\n",
      " [280.01428535 277.18585823 274.3574311  ...   5.65685425   2.82842712\n",
      "    0.        ]]\n"
     ]
    }
   ],
   "metadata": {}
  },
  {
   "cell_type": "markdown",
   "source": [
    "#### 53. How to convert a float (32 bits) array into an integer (32 bits) in place?"
   ],
   "metadata": {}
  },
  {
   "cell_type": "code",
   "execution_count": 44,
   "source": [
    "a = np.arange(5, dtype='float32')\n",
    "a.astype(\"float32\",copy=False)"
   ],
   "outputs": [
    {
     "output_type": "execute_result",
     "data": {
      "text/plain": [
       "array([0., 1., 2., 3., 4.], dtype=float32)"
      ]
     },
     "metadata": {},
     "execution_count": 44
    }
   ],
   "metadata": {}
  },
  {
   "cell_type": "markdown",
   "source": [
    "#### 54. How to read the following file? (★★☆)"
   ],
   "metadata": {}
  },
  {
   "cell_type": "markdown",
   "source": [
    "```\n",
    "1, 2, 3, 4, 5\n",
    "6,  ,  , 7, 8\n",
    " ,  , 9,10,11\n",
    "```"
   ],
   "metadata": {}
  },
  {
   "cell_type": "code",
   "execution_count": null,
   "source": [
    "#open the file\n",
    "#f = open(file.txt)\n",
    "#f.read()\n",
    "#data = np.genfromtxt(f,delimiter=\",\")"
   ],
   "outputs": [],
   "metadata": {}
  },
  {
   "cell_type": "markdown",
   "source": [
    "#### 55. What is the equivalent of enumerate for numpy arrays? (★★☆)"
   ],
   "metadata": {}
  },
  {
   "cell_type": "code",
   "execution_count": 45,
   "source": [
    "import numpy as np\n",
    "a = np.arange(9).reshape( (3,3) )\n",
    "for i,value in np.ndenumerate(a):\n",
    "    print(i,value)"
   ],
   "outputs": [
    {
     "output_type": "stream",
     "name": "stdout",
     "text": [
      "(0, 0) 0\n",
      "(0, 1) 1\n",
      "(0, 2) 2\n",
      "(1, 0) 3\n",
      "(1, 1) 4\n",
      "(1, 2) 5\n",
      "(2, 0) 6\n",
      "(2, 1) 7\n",
      "(2, 2) 8\n"
     ]
    }
   ],
   "metadata": {}
  },
  {
   "cell_type": "markdown",
   "source": [
    "#### 56. Generate a generic 2D Gaussian-like array (★★☆)"
   ],
   "metadata": {}
  },
  {
   "cell_type": "code",
   "execution_count": null,
   "source": [],
   "outputs": [],
   "metadata": {}
  },
  {
   "cell_type": "markdown",
   "source": [
    "#### 57. How to randomly place p elements in a 2D array? (★★☆)"
   ],
   "metadata": {}
  },
  {
   "cell_type": "code",
   "execution_count": null,
   "source": [
    "a = np.zeros((8,8))"
   ],
   "outputs": [],
   "metadata": {}
  },
  {
   "cell_type": "markdown",
   "source": [
    "#### 58. Subtract the mean of each row of a matrix (★★☆)"
   ],
   "metadata": {}
  },
  {
   "cell_type": "code",
   "execution_count": 26,
   "source": [
    "a = np.arange(10).reshape((5,2))\n",
    "a = a - np.mean(a,axis=1,keepdims=True)\n",
    "a\n"
   ],
   "outputs": [
    {
     "output_type": "execute_result",
     "data": {
      "text/plain": [
       "array([[-0.5,  0.5],\n",
       "       [-0.5,  0.5],\n",
       "       [-0.5,  0.5],\n",
       "       [-0.5,  0.5],\n",
       "       [-0.5,  0.5]])"
      ]
     },
     "metadata": {},
     "execution_count": 26
    }
   ],
   "metadata": {}
  },
  {
   "cell_type": "markdown",
   "source": [
    "#### 59. How to sort an array by the nth column? (★★☆)"
   ],
   "metadata": {}
  },
  {
   "cell_type": "code",
   "execution_count": 51,
   "source": [
    "def sort_arr(arr,n):\n",
    "    ind = np.argsort(arr[:,n])\n",
    "    return arr[ind]\n",
    "\n",
    "a = np.array([[2,5,6],[5,4,6],[1,3,5]])\n",
    "print(a)\n",
    "sort_arr(a,1)"
   ],
   "outputs": [
    {
     "output_type": "stream",
     "name": "stdout",
     "text": [
      "[[2 5 6]\n",
      " [5 4 6]\n",
      " [1 3 5]]\n"
     ]
    },
    {
     "output_type": "execute_result",
     "data": {
      "text/plain": [
       "array([[1, 3, 5],\n",
       "       [5, 4, 6],\n",
       "       [2, 5, 6]])"
      ]
     },
     "metadata": {},
     "execution_count": 51
    }
   ],
   "metadata": {}
  },
  {
   "cell_type": "markdown",
   "source": [
    "#### 60. How to tell if a given 2D array has null columns? (★★☆)"
   ],
   "metadata": {}
  },
  {
   "cell_type": "code",
   "execution_count": 17,
   "source": [
    "\n",
    "Z = np.random.randint(0,3,(3,10))\n",
    "print((~Z.any(axis=0)).any())"
   ],
   "outputs": [
    {
     "output_type": "stream",
     "name": "stdout",
     "text": [
      "True\n",
      "[[1 0 2 0 0 1 2 0 2 2]\n",
      " [2 1 1 0 2 1 1 1 2 2]\n",
      " [0 0 2 2 0 2 0 2 1 1]]\n"
     ]
    }
   ],
   "metadata": {}
  },
  {
   "cell_type": "markdown",
   "source": [
    "#### 61. Find the nearest value from a given value in an array (★★☆)"
   ],
   "metadata": {}
  },
  {
   "cell_type": "code",
   "execution_count": 2,
   "source": [
    "import numpy as np\n",
    "def find_closest(arr, val):\n",
    "    new_arr = (arr - val)\n",
    "    new_arr = np.abs(new_arr)\n",
    "    i = np.argmin(new_arr)\n",
    "    return arr[i]\n",
    "\n",
    "find_closest(np.array([1,2,3,4,5,85,70]),4)"
   ],
   "outputs": [
    {
     "output_type": "execute_result",
     "data": {
      "text/plain": [
       "4"
      ]
     },
     "metadata": {},
     "execution_count": 2
    }
   ],
   "metadata": {}
  },
  {
   "cell_type": "markdown",
   "source": [
    "#### 62. Considering two arrays with shape (1,3) and (3,1), how to compute their sum using an iterator? (★★☆)"
   ],
   "metadata": {}
  },
  {
   "cell_type": "code",
   "execution_count": 8,
   "source": [
    "\n"
   ],
   "outputs": [],
   "metadata": {}
  },
  {
   "cell_type": "markdown",
   "source": [
    "#### 63. Create an array class that has a name attribute (★★☆)"
   ],
   "metadata": {}
  },
  {
   "cell_type": "code",
   "execution_count": null,
   "source": [],
   "outputs": [],
   "metadata": {}
  },
  {
   "cell_type": "markdown",
   "source": [
    "#### 64. Consider a given vector, how to add 1 to each element indexed by a second vector (be careful with repeated indices)? (★★★)"
   ],
   "metadata": {}
  },
  {
   "cell_type": "code",
   "execution_count": 11,
   "source": [
    "arr = np.array([1,3,4,1,2])\n",
    "arr_2 = np.zeros(12)\n",
    "for i in arr:\n",
    "    arr_2[i]+=1\n",
    "\n",
    "print(arr_2)\n"
   ],
   "outputs": [
    {
     "output_type": "stream",
     "name": "stdout",
     "text": [
      "[0. 2. 1. 1. 1. 0. 0. 0. 0. 0. 0. 0.]\n"
     ]
    }
   ],
   "metadata": {}
  },
  {
   "cell_type": "markdown",
   "source": [
    "#### 65. How to accumulate elements of a vector (X) to an array (F) based on an index list (I)? (★★★)"
   ],
   "metadata": {}
  },
  {
   "cell_type": "code",
   "execution_count": 20,
   "source": [
    "X = np.arange(10)\n",
    "lis = [1,3,5,6,2,4,9,0,8,11]\n",
    "new = np.zeros(20)\n",
    "count = 0\n",
    "for i in X:\n",
    "    j = lis[count]\n",
    "    new[j] = i\n",
    "    count+=1\n",
    "new"
   ],
   "outputs": [
    {
     "output_type": "execute_result",
     "data": {
      "text/plain": [
       "array([7., 0., 4., 1., 5., 2., 3., 0., 8., 6., 0., 9., 0., 0., 0., 0., 0.,\n",
       "       0., 0., 0.])"
      ]
     },
     "metadata": {},
     "execution_count": 20
    }
   ],
   "metadata": {}
  },
  {
   "cell_type": "markdown",
   "source": [
    "#### 66. Considering a (w,h,3) image of (dtype=ubyte), compute the number of unique colors (★★★)"
   ],
   "metadata": {}
  },
  {
   "cell_type": "code",
   "execution_count": null,
   "source": [],
   "outputs": [],
   "metadata": {}
  },
  {
   "cell_type": "markdown",
   "source": [
    "#### 67. Considering a four dimensions array, how to get sum over the last two axis at once? (★★★)"
   ],
   "metadata": {}
  },
  {
   "cell_type": "code",
   "execution_count": 24,
   "source": [
    "a = np.arange(24).reshape((2,3,2,2))\n",
    "print(np.sum(a,axis=(-2,-1)))"
   ],
   "outputs": [
    {
     "output_type": "stream",
     "name": "stdout",
     "text": [
      "[[ 6 22 38]\n",
      " [54 70 86]]\n"
     ]
    }
   ],
   "metadata": {}
  },
  {
   "cell_type": "markdown",
   "source": [
    "#### 68. Considering a one-dimensional vector D, how to compute means of subsets of D using a vector S of same size describing subset  indices? (★★★)"
   ],
   "metadata": {}
  },
  {
   "cell_type": "code",
   "execution_count": 43,
   "source": [
    "S = np.random.randint(0,20,20)\n",
    "D = np.arange(20)\n",
    "\n",
    "print(S)\n",
    "print(D)\n",
    "\n",
    "for i in S:\n",
    "    res = np.sum(D[:i])/len(D[:i])\n",
    "    print(res)\n",
    "\n",
    "\n",
    "\n"
   ],
   "outputs": [
    {
     "output_type": "stream",
     "name": "stdout",
     "text": [
      "[ 8 14 15  7 16 11  0  0 19  9 18  3  2 11 14  1 10 15 16  1]\n",
      "[ 0  1  2  3  4  5  6  7  8  9 10 11 12 13 14 15 16 17 18 19]\n",
      "3.5\n",
      "6.5\n",
      "7.0\n",
      "3.0\n",
      "7.5\n",
      "5.0\n",
      "nan\n",
      "nan\n",
      "9.0\n",
      "4.0\n",
      "8.5\n",
      "1.0\n",
      "0.5\n",
      "5.0\n",
      "6.5\n",
      "0.0\n",
      "4.5\n",
      "7.0\n",
      "7.5\n",
      "0.0\n"
     ]
    },
    {
     "output_type": "stream",
     "name": "stderr",
     "text": [
      "/var/folders/1h/x7tmv9xd1bsclx868ql32nf40000gn/T/ipykernel_6759/2726878399.py:8: RuntimeWarning: invalid value encountered in long_scalars\n",
      "  res = np.sum(D[:i])/len(D[:i])\n"
     ]
    }
   ],
   "metadata": {}
  },
  {
   "cell_type": "markdown",
   "source": [
    "#### 69. How to get the diagonal of a dot product? (★★★)"
   ],
   "metadata": {}
  },
  {
   "cell_type": "code",
   "execution_count": 66,
   "source": [
    "def diagonals(A,B):\n",
    "   return np.diag(np.dot(A,B))\n",
    "\n",
    "diagonals(np.arange(9).reshape((3,3)),np.arange(9).reshape((3,3)))"
   ],
   "outputs": [
    {
     "output_type": "execute_result",
     "data": {
      "text/plain": [
       "array([ 15,  54, 111])"
      ]
     },
     "metadata": {},
     "execution_count": 66
    }
   ],
   "metadata": {}
  },
  {
   "cell_type": "markdown",
   "source": [
    "#### 70. Consider the vector \\[1, 2, 3, 4, 5\\], how to build a new vector with 3 consecutive zeros interleaved between each value? (★★★)"
   ],
   "metadata": {}
  },
  {
   "cell_type": "code",
   "execution_count": 119,
   "source": [
    "a = np.arange(1,6)\n",
    "b = np.zeros((17))\n",
    "b[::4] = a #takes every 4 element and change it item from a\n",
    "print(b)\n"
   ],
   "outputs": [
    {
     "output_type": "stream",
     "name": "stdout",
     "text": [
      "[1. 0. 0. 0. 2. 0. 0. 0. 3. 0. 0. 0. 4. 0. 0. 0. 5.]\n"
     ]
    }
   ],
   "metadata": {}
  },
  {
   "cell_type": "markdown",
   "source": [
    "#### 71. Consider an array of dimension (5,5,3), how to mulitply it by an array with dimensions (5,5)? (★★★)"
   ],
   "metadata": {}
  },
  {
   "cell_type": "code",
   "execution_count": null,
   "source": [],
   "outputs": [],
   "metadata": {
    "collapsed": true
   }
  },
  {
   "cell_type": "markdown",
   "source": [
    "#### 72. How to swap two rows of an array? (★★★)"
   ],
   "metadata": {}
  },
  {
   "cell_type": "code",
   "execution_count": 85,
   "source": [
    "a = np.arange(9).reshape((3,3))\n",
    "#we can do like this\n",
    "a[[0,2]], a[[2,0]] = a[[2,0]],a[[0,2]]#swaps 0 and 2 nd rows, it s shorter for [[0,2],:]\n",
    "\n",
    "print(a)"
   ],
   "outputs": [
    {
     "output_type": "stream",
     "name": "stdout",
     "text": [
      "[[6 7 8]\n",
      " [3 4 5]\n",
      " [0 1 2]]\n"
     ]
    }
   ],
   "metadata": {}
  },
  {
   "cell_type": "markdown",
   "source": [
    "#### 73. Consider a set of 10 triplets describing 10 triangles (with shared vertices), find the set of unique line segments composing all the  triangles (★★★)"
   ],
   "metadata": {}
  },
  {
   "cell_type": "code",
   "execution_count": null,
   "source": [],
   "outputs": [],
   "metadata": {}
  },
  {
   "cell_type": "markdown",
   "source": [
    "#### 74. Given an array C that is a bincount, how to produce an array A such that np.bincount(A) == C? (★★★)"
   ],
   "metadata": {}
  },
  {
   "cell_type": "code",
   "execution_count": 120,
   "source": [],
   "outputs": [
    {
     "output_type": "execute_result",
     "data": {
      "text/plain": [
       "array([0, 2, 1, 4, 1, 1, 1, 0, 0, 1])"
      ]
     },
     "metadata": {},
     "execution_count": 120
    }
   ],
   "metadata": {}
  },
  {
   "cell_type": "markdown",
   "source": [
    "#### 75. How to compute averages using a sliding window over an array? (★★★)"
   ],
   "metadata": {}
  },
  {
   "cell_type": "code",
   "execution_count": 53,
   "source": [
    "def moving_average(a, n=3) :\n",
    "    res = np.cumsum(a)\n",
    "    res[n:] = res[n:] - res[:-n]\n",
    "    return res[n-1:]/n\n",
    "arr = np.arange(20)\n",
    "moving_average(arr)"
   ],
   "outputs": [
    {
     "output_type": "execute_result",
     "data": {
      "text/plain": [
       "array([ 1.,  2.,  3.,  4.,  5.,  6.,  7.,  8.,  9., 10., 11., 12., 13.,\n",
       "       14., 15., 16., 17., 18.])"
      ]
     },
     "metadata": {},
     "execution_count": 53
    }
   ],
   "metadata": {}
  },
  {
   "cell_type": "markdown",
   "source": [
    "#### 76. Consider a one-dimensional array Z, build a two-dimensional array whose first row is (Z\\[0\\],Z\\[1\\],Z\\[2\\]) and each subsequent row is  shifted by 1 (last row should be (Z\\[-3\\],Z\\[-2\\],Z\\[-1\\]) (★★★)"
   ],
   "metadata": {}
  },
  {
   "cell_type": "code",
   "execution_count": 6,
   "source": [
    "import numpy as np\n",
    "def matrix_builder(a,window=3):\n",
    "    new = np.zeros((len(a)-2,3))\n",
    "    for i in range((len(a))-2):\n",
    "        new[i,:] = a[i:i+3]\n",
    "    print(new)\n",
    "matrix_builder(np.arange(20))\n",
    "\n",
    "c = np.array([[2,2],[3,3]])\n",
    "\n",
    "\n"
   ],
   "outputs": [
    {
     "output_type": "stream",
     "name": "stdout",
     "text": [
      "[[ 0.  1.  2.]\n",
      " [ 1.  2.  3.]\n",
      " [ 2.  3.  4.]\n",
      " [ 3.  4.  5.]\n",
      " [ 4.  5.  6.]\n",
      " [ 5.  6.  7.]\n",
      " [ 6.  7.  8.]\n",
      " [ 7.  8.  9.]\n",
      " [ 8.  9. 10.]\n",
      " [ 9. 10. 11.]\n",
      " [10. 11. 12.]\n",
      " [11. 12. 13.]\n",
      " [12. 13. 14.]\n",
      " [13. 14. 15.]\n",
      " [14. 15. 16.]\n",
      " [15. 16. 17.]\n",
      " [16. 17. 18.]\n",
      " [17. 18. 19.]]\n"
     ]
    },
    {
     "output_type": "execute_result",
     "data": {
      "text/plain": [
       "2"
      ]
     },
     "metadata": {},
     "execution_count": 6
    }
   ],
   "metadata": {}
  },
  {
   "cell_type": "markdown",
   "source": [
    "#### 77. How to negate a boolean, or to change the sign of a float inplace? (★★★)"
   ],
   "metadata": {}
  },
  {
   "cell_type": "code",
   "execution_count": 79,
   "source": [
    "Z = np.random.uniform(1,10,100)\n",
    "np.negative(Z)\n"
   ],
   "outputs": [
    {
     "output_type": "execute_result",
     "data": {
      "text/plain": [
       "array([-7.7468703 , -1.82034918, -6.1325081 , -4.98042127, -3.8251988 ,\n",
       "       -5.82268648, -2.55571392, -1.38680655, -8.50982064, -4.14706399,\n",
       "       -3.74801015, -5.65962421, -4.14334442, -9.18225402, -5.12023026,\n",
       "       -9.2044395 , -9.35269762, -1.28601845, -9.53452574, -8.4986363 ,\n",
       "       -1.46780908, -4.19139803, -7.17061787, -9.68287059, -1.79543325,\n",
       "       -8.16611811, -4.75863952, -3.78984095, -7.21783336, -7.67809166,\n",
       "       -3.73622068, -1.00619533, -7.11895224, -9.38523788, -7.15154563,\n",
       "       -5.51775398, -6.60414443, -5.34071812, -7.40550034, -4.3836496 ,\n",
       "       -8.53147134, -7.60444503, -2.27455953, -6.73922523, -4.44488061,\n",
       "       -6.05843713, -8.11822637, -1.03494055, -7.82217338, -5.3780494 ,\n",
       "       -8.48800113, -7.08941309, -6.78683174, -5.78691195, -7.90887359,\n",
       "       -7.18550418, -6.9603569 , -8.14083941, -8.02772645, -7.57953007,\n",
       "       -8.63933994, -5.40698208, -8.3165204 , -1.78033974, -7.31938183,\n",
       "       -3.62967382, -7.84138056, -6.33046902, -5.3561226 , -7.08591412,\n",
       "       -5.12451202, -1.44235873, -3.10371935, -3.60679898, -5.06572881,\n",
       "       -8.4642416 , -5.04048809, -5.60194825, -9.65298482, -9.18265145,\n",
       "       -4.16045694, -4.41606718, -1.16900095, -6.37469428, -6.53522489,\n",
       "       -9.69465088, -3.83025779, -2.44034426, -6.16486174, -7.36243569,\n",
       "       -9.71635529, -6.82924053, -4.19205696, -8.88851791, -7.6124704 ,\n",
       "       -4.37582751, -5.20326427, -5.74190835, -6.39687641, -9.3487795 ])"
      ]
     },
     "metadata": {},
     "execution_count": 79
    }
   ],
   "metadata": {}
  },
  {
   "cell_type": "markdown",
   "source": [
    "#### 78. Consider 2 sets of points P0,P1 describing lines (2d) and a point p, how to compute distance from p to each line i  (P0\\[i\\],P1\\[i\\])? (★★★)"
   ],
   "metadata": {}
  },
  {
   "cell_type": "code",
   "execution_count": 77,
   "source": [
    "import numpy as np\n",
    "P0  = np.array([[0,1],[2,3],[4,1],[3,3]])\n",
    "P1  = np.array([[2,5],[4,4],[0,0],[2,8]])\n",
    "point = np.array([2,0])\n",
    "\n",
    "def distance(P0,P1,point):\n",
    "        deltas = (P0 - P1) #finds delta x and delta y\n",
    "        k = (deltas[:,1]/deltas[:,0])# using delta x and delta y stores slope of the line \n",
    "        b = P0[:,1] - k * P0[:,0] # stores constant member of line equation\n",
    "        distance = (abs(k*point[0]-point[1]+b))/np.sqrt(k**2+1) # equation for distance \n",
    "        distance = distance.reshape((len(P0),1)) # reshapes list of results into n x 1 2d matrix, vertical matrix\n",
    "        return distance\n",
    "     \n",
    "\n",
    "distance(P0,P1,point)\n",
    "\n",
    "\n",
    "\n"
   ],
   "outputs": [
    {
     "output_type": "execute_result",
     "data": {
      "text/plain": [
       "array([[2.23606798],\n",
       "       [2.68328157],\n",
       "       [0.48507125],\n",
       "       [1.56892908]])"
      ]
     },
     "metadata": {},
     "execution_count": 77
    }
   ],
   "metadata": {}
  },
  {
   "cell_type": "markdown",
   "source": [
    "#### 79. Consider 2 sets of points P0,P1 describing lines (2d) and a set of points P, how to compute distance from each point j (P\\[j\\]) to each line i (P0\\[i\\],P1\\[i\\])? (★★★)"
   ],
   "metadata": {}
  },
  {
   "cell_type": "code",
   "execution_count": 80,
   "source": [
    "points = [[2,0],[1,0],[3,4]]\n",
    "distance_points = np.array([distance(P0,P1,point) for point in points]) # using for loop we can iterate over set points\n",
    "distance_points\n",
    "\n"
   ],
   "outputs": [
    {
     "output_type": "execute_result",
     "data": {
      "text/plain": [
       "array([[[2.23606798],\n",
       "        [2.68328157],\n",
       "        [0.48507125],\n",
       "        [1.56892908]],\n",
       "\n",
       "       [[1.34164079],\n",
       "        [2.23606798],\n",
       "        [0.24253563],\n",
       "        [2.54950976]],\n",
       "\n",
       "       [[1.34164079],\n",
       "        [0.4472136 ],\n",
       "        [3.15296313],\n",
       "        [0.19611614]]])"
      ]
     },
     "metadata": {},
     "execution_count": 80
    }
   ],
   "metadata": {}
  },
  {
   "cell_type": "markdown",
   "source": [
    "#### 80. Consider an arbitrary array, write a function that extract a subpart with a fixed shape and centered on a given element (pad with a `fill` value when necessary) (★★★)"
   ],
   "metadata": {}
  },
  {
   "cell_type": "code",
   "execution_count": 169,
   "source": [
    "Z = np.random.randint(0,10,(10,10))\n",
    "shape = (7,7)\n",
    "position = (1,1)\n",
    "\n",
    "R = np.zeros(shape)\n",
    "P  = np.array(list(position)).astype(int)\n",
    "Rs = np.array(list(R.shape)).astype(int)\n",
    "Zs = np.array(list(Z.shape)).astype(int)\n",
    "\n",
    "R_start = np.zeros((len(shape),)).astype(int)\n",
    "R_stop  = np.array(list(shape)).astype(int)\n",
    "Z_start = (P-Rs//2)\n",
    "Z_stop  = (P+Rs//2)+Rs%2\n",
    "\n",
    "R_start = (R_start - np.minimum(Z_start,0)).tolist()\n",
    "Z_start = (np.maximum(Z_start,0)).tolist()\n",
    "R_stop = np.maximum(R_start, (R_stop - np.maximum(Z_stop-Zs,0))).tolist()\n",
    "Z_stop = (np.minimum(Z_stop,Zs)).tolist()\n",
    "\n",
    "r = [slice(start,stop) for start,stop in zip(R_start,R_stop)]\n",
    "z = [slice(start,stop) for start,stop in zip(Z_start,Z_stop)]\n",
    "R[r] = Z[z]\n",
    "print(Z)\n",
    "print(R)\n",
    "\n",
    "\n",
    "\n",
    "\n",
    "\n"
   ],
   "outputs": [
    {
     "output_type": "stream",
     "name": "stdout",
     "text": [
      "[[5 5 1 1 5 4 1 0 6 3]\n",
      " [6 1 8 0 2 7 4 6 0 5]\n",
      " [9 5 0 5 4 3 5 5 6 8]\n",
      " [7 4 2 1 0 6 2 2 5 1]\n",
      " [6 8 1 2 1 7 8 6 2 4]\n",
      " [2 0 1 8 5 6 5 0 7 1]\n",
      " [0 9 6 1 0 1 9 1 5 0]\n",
      " [5 9 2 3 4 3 7 7 2 1]\n",
      " [1 2 5 2 3 7 2 9 5 8]\n",
      " [3 4 0 0 0 2 4 1 9 3]]\n",
      "[[0. 0. 0. 0. 0. 0. 0.]\n",
      " [0. 0. 0. 0. 0. 0. 0.]\n",
      " [0. 0. 5. 5. 1. 1. 5.]\n",
      " [0. 0. 6. 1. 8. 0. 2.]\n",
      " [0. 0. 9. 5. 0. 5. 4.]\n",
      " [0. 0. 7. 4. 2. 1. 0.]\n",
      " [0. 0. 6. 8. 1. 2. 1.]]\n"
     ]
    },
    {
     "output_type": "stream",
     "name": "stderr",
     "text": [
      "/var/folders/1h/x7tmv9xd1bsclx868ql32nf40000gn/T/ipykernel_21586/2727336794.py:22: FutureWarning: Using a non-tuple sequence for multidimensional indexing is deprecated; use `arr[tuple(seq)]` instead of `arr[seq]`. In the future this will be interpreted as an array index, `arr[np.array(seq)]`, which will result either in an error or a different result.\n",
      "  R[r] = Z[z]\n"
     ]
    }
   ],
   "metadata": {}
  },
  {
   "cell_type": "markdown",
   "source": [
    "#### 81. Consider an array Z = \\[1,2,3,4,5,6,7,8,9,10,11,12,13,14\\], how to generate an array R = \\[\\[1,2,3,4\\], \\[2,3,4,5\\], \\[3,4,5,6\\], ..., \\[11,12,13,14\\]\\]? (★★★)"
   ],
   "metadata": {}
  },
  {
   "cell_type": "code",
   "execution_count": 176,
   "source": [
    "Z = np.arange(15)\n",
    "R = np.zeros((len(Z)-3,4))\n",
    "for i in range(len(Z)-3):\n",
    "    R[i,:] = Z[i:i+4]\n"
   ],
   "outputs": [
    {
     "output_type": "stream",
     "name": "stdout",
     "text": [
      "[[ 0.  1.  2.  3.]\n",
      " [ 1.  2.  3.  4.]\n",
      " [ 2.  3.  4.  5.]\n",
      " [ 3.  4.  5.  6.]\n",
      " [ 4.  5.  6.  7.]\n",
      " [ 5.  6.  7.  8.]\n",
      " [ 6.  7.  8.  9.]\n",
      " [ 7.  8.  9. 10.]\n",
      " [ 8.  9. 10. 11.]\n",
      " [ 9. 10. 11. 12.]\n",
      " [10. 11. 12. 13.]\n",
      " [11. 12. 13. 14.]]\n"
     ]
    }
   ],
   "metadata": {}
  },
  {
   "cell_type": "markdown",
   "source": [
    "#### 82. Compute a matrix rank (★★★)"
   ],
   "metadata": {}
  },
  {
   "cell_type": "code",
   "execution_count": null,
   "source": [],
   "outputs": [],
   "metadata": {}
  },
  {
   "cell_type": "markdown",
   "source": [
    "#### 83. How to find the most frequent value in an array?"
   ],
   "metadata": {}
  },
  {
   "cell_type": "code",
   "execution_count": 216,
   "source": [
    "mat = np.random.randint(0,25,50)\n",
    "\n",
    "np.bincount(mat).argmax() \n",
    "#bincount returns occurences of bin values, argmax returns index of the max value(index of the occurence is equal to the value)"
   ],
   "outputs": [
    {
     "output_type": "execute_result",
     "data": {
      "text/plain": [
       "3"
      ]
     },
     "metadata": {},
     "execution_count": 216
    }
   ],
   "metadata": {}
  },
  {
   "cell_type": "markdown",
   "source": [
    "#### 84. Extract all the contiguous 3x3 blocks from a random 10x10 matrix (★★★)"
   ],
   "metadata": {}
  },
  {
   "cell_type": "code",
   "execution_count": 237,
   "source": [
    "mat = np.random.randint(0,20,(10,10))\n",
    "\n",
    "print(mat)\n",
    "\n",
    "print(\"-\"*30)\n",
    "for i in range((mat.shape[0])-2):\n",
    "    for j in range(mat.shape[1]-2):\n",
    "        print(mat[i:i+3,j:j+3])"
   ],
   "outputs": [
    {
     "output_type": "stream",
     "name": "stdout",
     "text": [
      "[[ 2 13  3  4 17 15 18  4 11  2]\n",
      " [11 18 18  0 14 11  6 15 11  6]\n",
      " [16 17 18  0 19 17  2 14  2 19]\n",
      " [16 18  4  3  2 16 10 13  7 17]\n",
      " [16  7  8  8  3 13  4 12 16 10]\n",
      " [15  1 14  9  2 11  2  3  3  3]\n",
      " [ 0 19  9  4 17 11  5 15  2  2]\n",
      " [15  3 19  1 16  1  1 16  0 17]\n",
      " [ 2 16  4  5 13  2  4  7 14  0]\n",
      " [ 2  8  9  5 14 13 14 19  7 18]]\n",
      "------------------------------\n",
      "[[ 2 13  3]\n",
      " [11 18 18]\n",
      " [16 17 18]]\n",
      "[[13  3  4]\n",
      " [18 18  0]\n",
      " [17 18  0]]\n",
      "[[ 3  4 17]\n",
      " [18  0 14]\n",
      " [18  0 19]]\n",
      "[[ 4 17 15]\n",
      " [ 0 14 11]\n",
      " [ 0 19 17]]\n",
      "[[17 15 18]\n",
      " [14 11  6]\n",
      " [19 17  2]]\n",
      "[[15 18  4]\n",
      " [11  6 15]\n",
      " [17  2 14]]\n",
      "[[18  4 11]\n",
      " [ 6 15 11]\n",
      " [ 2 14  2]]\n",
      "[[ 4 11  2]\n",
      " [15 11  6]\n",
      " [14  2 19]]\n",
      "[[11 18 18]\n",
      " [16 17 18]\n",
      " [16 18  4]]\n",
      "[[18 18  0]\n",
      " [17 18  0]\n",
      " [18  4  3]]\n",
      "[[18  0 14]\n",
      " [18  0 19]\n",
      " [ 4  3  2]]\n",
      "[[ 0 14 11]\n",
      " [ 0 19 17]\n",
      " [ 3  2 16]]\n",
      "[[14 11  6]\n",
      " [19 17  2]\n",
      " [ 2 16 10]]\n",
      "[[11  6 15]\n",
      " [17  2 14]\n",
      " [16 10 13]]\n",
      "[[ 6 15 11]\n",
      " [ 2 14  2]\n",
      " [10 13  7]]\n",
      "[[15 11  6]\n",
      " [14  2 19]\n",
      " [13  7 17]]\n",
      "[[16 17 18]\n",
      " [16 18  4]\n",
      " [16  7  8]]\n",
      "[[17 18  0]\n",
      " [18  4  3]\n",
      " [ 7  8  8]]\n",
      "[[18  0 19]\n",
      " [ 4  3  2]\n",
      " [ 8  8  3]]\n",
      "[[ 0 19 17]\n",
      " [ 3  2 16]\n",
      " [ 8  3 13]]\n",
      "[[19 17  2]\n",
      " [ 2 16 10]\n",
      " [ 3 13  4]]\n",
      "[[17  2 14]\n",
      " [16 10 13]\n",
      " [13  4 12]]\n",
      "[[ 2 14  2]\n",
      " [10 13  7]\n",
      " [ 4 12 16]]\n",
      "[[14  2 19]\n",
      " [13  7 17]\n",
      " [12 16 10]]\n",
      "[[16 18  4]\n",
      " [16  7  8]\n",
      " [15  1 14]]\n",
      "[[18  4  3]\n",
      " [ 7  8  8]\n",
      " [ 1 14  9]]\n",
      "[[ 4  3  2]\n",
      " [ 8  8  3]\n",
      " [14  9  2]]\n",
      "[[ 3  2 16]\n",
      " [ 8  3 13]\n",
      " [ 9  2 11]]\n",
      "[[ 2 16 10]\n",
      " [ 3 13  4]\n",
      " [ 2 11  2]]\n",
      "[[16 10 13]\n",
      " [13  4 12]\n",
      " [11  2  3]]\n",
      "[[10 13  7]\n",
      " [ 4 12 16]\n",
      " [ 2  3  3]]\n",
      "[[13  7 17]\n",
      " [12 16 10]\n",
      " [ 3  3  3]]\n",
      "[[16  7  8]\n",
      " [15  1 14]\n",
      " [ 0 19  9]]\n",
      "[[ 7  8  8]\n",
      " [ 1 14  9]\n",
      " [19  9  4]]\n",
      "[[ 8  8  3]\n",
      " [14  9  2]\n",
      " [ 9  4 17]]\n",
      "[[ 8  3 13]\n",
      " [ 9  2 11]\n",
      " [ 4 17 11]]\n",
      "[[ 3 13  4]\n",
      " [ 2 11  2]\n",
      " [17 11  5]]\n",
      "[[13  4 12]\n",
      " [11  2  3]\n",
      " [11  5 15]]\n",
      "[[ 4 12 16]\n",
      " [ 2  3  3]\n",
      " [ 5 15  2]]\n",
      "[[12 16 10]\n",
      " [ 3  3  3]\n",
      " [15  2  2]]\n",
      "[[15  1 14]\n",
      " [ 0 19  9]\n",
      " [15  3 19]]\n",
      "[[ 1 14  9]\n",
      " [19  9  4]\n",
      " [ 3 19  1]]\n",
      "[[14  9  2]\n",
      " [ 9  4 17]\n",
      " [19  1 16]]\n",
      "[[ 9  2 11]\n",
      " [ 4 17 11]\n",
      " [ 1 16  1]]\n",
      "[[ 2 11  2]\n",
      " [17 11  5]\n",
      " [16  1  1]]\n",
      "[[11  2  3]\n",
      " [11  5 15]\n",
      " [ 1  1 16]]\n",
      "[[ 2  3  3]\n",
      " [ 5 15  2]\n",
      " [ 1 16  0]]\n",
      "[[ 3  3  3]\n",
      " [15  2  2]\n",
      " [16  0 17]]\n",
      "[[ 0 19  9]\n",
      " [15  3 19]\n",
      " [ 2 16  4]]\n",
      "[[19  9  4]\n",
      " [ 3 19  1]\n",
      " [16  4  5]]\n",
      "[[ 9  4 17]\n",
      " [19  1 16]\n",
      " [ 4  5 13]]\n",
      "[[ 4 17 11]\n",
      " [ 1 16  1]\n",
      " [ 5 13  2]]\n",
      "[[17 11  5]\n",
      " [16  1  1]\n",
      " [13  2  4]]\n",
      "[[11  5 15]\n",
      " [ 1  1 16]\n",
      " [ 2  4  7]]\n",
      "[[ 5 15  2]\n",
      " [ 1 16  0]\n",
      " [ 4  7 14]]\n",
      "[[15  2  2]\n",
      " [16  0 17]\n",
      " [ 7 14  0]]\n",
      "[[15  3 19]\n",
      " [ 2 16  4]\n",
      " [ 2  8  9]]\n",
      "[[ 3 19  1]\n",
      " [16  4  5]\n",
      " [ 8  9  5]]\n",
      "[[19  1 16]\n",
      " [ 4  5 13]\n",
      " [ 9  5 14]]\n",
      "[[ 1 16  1]\n",
      " [ 5 13  2]\n",
      " [ 5 14 13]]\n",
      "[[16  1  1]\n",
      " [13  2  4]\n",
      " [14 13 14]]\n",
      "[[ 1  1 16]\n",
      " [ 2  4  7]\n",
      " [13 14 19]]\n",
      "[[ 1 16  0]\n",
      " [ 4  7 14]\n",
      " [14 19  7]]\n",
      "[[16  0 17]\n",
      " [ 7 14  0]\n",
      " [19  7 18]]\n"
     ]
    }
   ],
   "metadata": {}
  },
  {
   "cell_type": "markdown",
   "source": [
    "#### 85. Create a 2D array subclass such that Z\\[i,j\\] == Z\\[j,i\\] (★★★)"
   ],
   "metadata": {}
  },
  {
   "cell_type": "code",
   "execution_count": 241,
   "source": [
    "\n"
   ],
   "outputs": [
    {
     "output_type": "stream",
     "name": "stdout",
     "text": [
      "[[ 2  9 17 12  4]\n",
      " [ 9  5 17 12  5]\n",
      " [17 17  5 42  7]\n",
      " [12 12 42  1  8]\n",
      " [ 4  5  7  8  6]]\n"
     ]
    }
   ],
   "metadata": {}
  },
  {
   "cell_type": "markdown",
   "source": [
    "#### 86. Consider a set of p matrices wich shape (n,n) and a set of p vectors with shape (n,1). How to compute the sum of of the p matrix products at once? (result has shape (n,1)) (★★★)"
   ],
   "metadata": {}
  },
  {
   "cell_type": "code",
   "execution_count": null,
   "source": [],
   "outputs": [],
   "metadata": {}
  },
  {
   "cell_type": "markdown",
   "source": [
    "#### 87. Consider a 16x16 array, how to get the block-sum (block size is 4x4)? (★★★)"
   ],
   "metadata": {}
  },
  {
   "cell_type": "code",
   "execution_count": 248,
   "source": [
    "mat = np.random.randint(0,25,(16,16))\n",
    "#mat = np.ones(256).reshape((16,16))\n",
    "print(mat)\n",
    "for i in range(mat.shape[0]-3):\n",
    "    for j in range(mat.shape[1]-3):\n",
    "        print(np.sum(mat[i:i+4,j:j+4]))\n",
    "\n"
   ],
   "outputs": [
    {
     "output_type": "stream",
     "name": "stdout",
     "text": [
      "[[24 13 22 11 10 11  9 23  0  7 13  5  7 15 24 18]\n",
      " [ 4 22  4 11 22  3  2  0 24  9 16 22 10 12 10  2]\n",
      " [14 14 13  5  6 24 13  1  5 11 18 15  2  7 10 18]\n",
      " [ 9  6 20  8 18 23  8 24 19  3 20 14 15  0 10 18]\n",
      " [23 22 18 13  8 14  2 14 17  0 24 13 14  1 23 11]\n",
      " [ 4  2 19  9 24  2 15  7 20 16  8 13 23 10  2  7]\n",
      " [13 13 16  7  3  1 16 13  2 22  5 13 23  4 23  3]\n",
      " [17  8  9 14  8 22 17 16 11  2  1  5  9  1  5 11]\n",
      " [ 5  2 13  3 24  8  8 12 11 17 16 19 16 14 22  4]\n",
      " [10 23  0  9 12 17 16 17  6 19  4 16 16 20  8 22]\n",
      " [18  5 20 16 15 17 23  8 12  6  8 18 12 22  6  1]\n",
      " [23  9 21  9 21  5 22 15 24 18  7  8  1 13 16 13]\n",
      " [ 5 24 13 19 19 10  9  6  7  9  8  2  9  7  4  6]\n",
      " [ 3  7 15  0 16 12 15 15  1 13 16 20 16  4 18  1]\n",
      " [10 19 10 17 12 21 23 22  6  8 24 24  6  5 18 20]\n",
      " [ 0 13  3  3  3  1  4 16 14  1 13 13  7 15 24  3]]\n",
      "200\n",
      "205\n",
      "211\n",
      "184\n",
      "197\n",
      "189\n",
      "158\n",
      "193\n",
      "201\n",
      "187\n",
      "191\n",
      "178\n",
      "178\n",
      "206\n",
      "210\n",
      "210\n",
      "180\n",
      "182\n",
      "193\n",
      "152\n",
      "205\n",
      "230\n",
      "206\n",
      "203\n",
      "178\n",
      "163\n",
      "199\n",
      "205\n",
      "224\n",
      "192\n",
      "203\n",
      "208\n",
      "175\n",
      "207\n",
      "216\n",
      "209\n",
      "197\n",
      "172\n",
      "171\n",
      "202\n",
      "206\n",
      "203\n",
      "171\n",
      "192\n",
      "197\n",
      "198\n",
      "214\n",
      "209\n",
      "226\n",
      "200\n",
      "201\n",
      "187\n",
      "207\n",
      "193\n",
      "187\n",
      "175\n",
      "182\n",
      "189\n",
      "190\n",
      "178\n",
      "172\n",
      "191\n",
      "167\n",
      "182\n",
      "170\n",
      "154\n",
      "174\n",
      "182\n",
      "181\n",
      "196\n",
      "181\n",
      "205\n",
      "179\n",
      "181\n",
      "208\n",
      "180\n",
      "202\n",
      "177\n",
      "162\n",
      "164\n",
      "166\n",
      "185\n",
      "210\n",
      "193\n",
      "205\n",
      "174\n",
      "169\n",
      "203\n",
      "182\n",
      "214\n",
      "201\n",
      "172\n",
      "181\n",
      "207\n",
      "229\n",
      "240\n",
      "221\n",
      "201\n",
      "166\n",
      "171\n",
      "184\n",
      "197\n",
      "209\n",
      "189\n",
      "186\n",
      "202\n",
      "210\n",
      "225\n",
      "240\n",
      "221\n",
      "234\n",
      "200\n",
      "209\n",
      "201\n",
      "210\n",
      "227\n",
      "206\n",
      "224\n",
      "235\n",
      "223\n",
      "239\n",
      "232\n",
      "214\n",
      "217\n",
      "174\n",
      "172\n",
      "161\n",
      "171\n",
      "178\n",
      "176\n",
      "207\n",
      "229\n",
      "228\n",
      "228\n",
      "228\n",
      "201\n",
      "203\n",
      "173\n",
      "177\n",
      "171\n",
      "171\n",
      "176\n",
      "149\n",
      "204\n",
      "231\n",
      "220\n",
      "230\n",
      "243\n",
      "213\n",
      "213\n",
      "199\n",
      "195\n",
      "189\n",
      "170\n",
      "171\n",
      "157\n",
      "161\n",
      "193\n",
      "174\n",
      "184\n",
      "204\n",
      "182\n",
      "169\n",
      "179\n",
      "179\n",
      "189\n",
      "189\n",
      "192\n",
      "163\n"
     ]
    }
   ],
   "metadata": {}
  },
  {
   "cell_type": "markdown",
   "source": [
    "#### 88. How to implement the Game of Life using numpy arrays? (★★★)"
   ],
   "metadata": {}
  },
  {
   "cell_type": "code",
   "execution_count": null,
   "source": [
    "\n",
    "\n",
    "\n"
   ],
   "outputs": [],
   "metadata": {}
  },
  {
   "cell_type": "markdown",
   "source": [
    "#### 89. How to get the n largest values of an array (★★★)"
   ],
   "metadata": {}
  },
  {
   "cell_type": "code",
   "execution_count": 331,
   "source": [
    "new = np.arange(25).reshape((5,5))\n",
    "np.random.shuffle(new)\n",
    "def n_largest(arr,n):\n",
    "    arr = arr.flatten()\n",
    "    arr.sort()\n",
    "    print(arr[-n:])\n",
    "print(new)\n",
    "n_largest(new,5)\n",
    "\n"
   ],
   "outputs": [
    {
     "output_type": "stream",
     "name": "stdout",
     "text": [
      "[[ 5  6  7  8  9]\n",
      " [20 21 22 23 24]\n",
      " [ 0  1  2  3  4]\n",
      " [15 16 17 18 19]\n",
      " [10 11 12 13 14]]\n",
      "[20 21 22 23 24]\n"
     ]
    }
   ],
   "metadata": {}
  },
  {
   "cell_type": "markdown",
   "source": [
    "#### 90. Given an arbitrary number of vectors, build the cartesian product (every combinations of every item) (★★★)"
   ],
   "metadata": {}
  },
  {
   "cell_type": "code",
   "execution_count": 329,
   "source": [],
   "outputs": [
    {
     "output_type": "execute_result",
     "data": {
      "text/plain": [
       "(20,)"
      ]
     },
     "metadata": {},
     "execution_count": 329
    }
   ],
   "metadata": {
    "scrolled": true
   }
  },
  {
   "cell_type": "markdown",
   "source": [
    "#### 91. How to create a record array from a regular array? (★★★)"
   ],
   "metadata": {}
  },
  {
   "cell_type": "code",
   "execution_count": null,
   "source": [],
   "outputs": [],
   "metadata": {}
  },
  {
   "cell_type": "markdown",
   "source": [
    "#### 92. Consider a large vector Z, compute Z to the power of 3 using 3 different methods (★★★)"
   ],
   "metadata": {}
  },
  {
   "cell_type": "code",
   "execution_count": null,
   "source": [],
   "outputs": [],
   "metadata": {}
  },
  {
   "cell_type": "markdown",
   "source": [
    "#### 93. Consider two arrays A and B of shape (8,3) and (2,2). How to find rows of A that contain elements of each row of B regardless of the order of the elements in B? (★★★)"
   ],
   "metadata": {}
  },
  {
   "cell_type": "code",
   "execution_count": null,
   "source": [],
   "outputs": [],
   "metadata": {}
  },
  {
   "cell_type": "markdown",
   "source": [
    "#### 94. Considering a 10x3 matrix, extract rows with unequal values (e.g. \\[2,2,3\\]) (★★★)"
   ],
   "metadata": {}
  },
  {
   "cell_type": "code",
   "execution_count": null,
   "source": [],
   "outputs": [],
   "metadata": {}
  },
  {
   "cell_type": "markdown",
   "source": [
    "#### 95. Convert a vector of ints into a matrix binary representation (★★★)"
   ],
   "metadata": {}
  },
  {
   "cell_type": "code",
   "execution_count": null,
   "source": [],
   "outputs": [],
   "metadata": {}
  },
  {
   "cell_type": "markdown",
   "source": [
    "#### 96. Given a two dimensional array, how to extract unique rows? (★★★)"
   ],
   "metadata": {}
  },
  {
   "cell_type": "code",
   "execution_count": 187,
   "source": [
    "arr = np.arange(10).reshape( (5,2) )\n",
    "\n",
    "np.unique(arr,axis=0)\n"
   ],
   "outputs": [
    {
     "output_type": "execute_result",
     "data": {
      "text/plain": [
       "array([[0, 1],\n",
       "       [2, 3],\n",
       "       [4, 5],\n",
       "       [6, 7],\n",
       "       [8, 9]])"
      ]
     },
     "metadata": {},
     "execution_count": 187
    }
   ],
   "metadata": {}
  },
  {
   "cell_type": "markdown",
   "source": [
    "#### 97. Considering 2 vectors A & B, write the einsum equivalent of inner, outer, sum, and mul function (★★★)"
   ],
   "metadata": {}
  },
  {
   "cell_type": "code",
   "execution_count": null,
   "source": [],
   "outputs": [],
   "metadata": {}
  },
  {
   "cell_type": "markdown",
   "source": [
    "#### 98. Considering a path described by two vectors (X,Y), how to sample it using equidistant samples (★★★)?"
   ],
   "metadata": {}
  },
  {
   "cell_type": "code",
   "execution_count": null,
   "source": [],
   "outputs": [],
   "metadata": {
    "collapsed": true
   }
  },
  {
   "cell_type": "markdown",
   "source": [
    "#### 99. Given an integer n and a 2D array X, select from X the rows which can be interpreted as draws from a multinomial distribution with n degrees, i.e., the rows which only contain integers and which sum to n. (★★★)"
   ],
   "metadata": {}
  },
  {
   "cell_type": "code",
   "execution_count": null,
   "source": [],
   "outputs": [],
   "metadata": {}
  },
  {
   "cell_type": "markdown",
   "source": [
    "#### 100. Compute bootstrapped 95% confidence intervals for the mean of a 1D array X (i.e., resample the elements of an array with replacement N times, compute the mean of each sample, and then compute percentiles over the means). (★★★)"
   ],
   "metadata": {}
  },
  {
   "cell_type": "code",
   "execution_count": null,
   "source": [],
   "outputs": [],
   "metadata": {}
  }
 ],
 "metadata": {
  "kernelspec": {
   "name": "python3",
   "display_name": "Python 3.8.11 64-bit ('sayeed': conda)"
  },
  "language_info": {
   "codemirror_mode": {
    "name": "ipython",
    "version": 3
   },
   "file_extension": ".py",
   "mimetype": "text/x-python",
   "name": "python",
   "nbconvert_exporter": "python",
   "pygments_lexer": "ipython3",
   "version": "3.8.11"
  },
  "interpreter": {
   "hash": "57ccbecd372b9becaf4e59334636d42e5a64583ce917e4ad46b635842aed01d7"
  }
 },
 "nbformat": 4,
 "nbformat_minor": 1
}