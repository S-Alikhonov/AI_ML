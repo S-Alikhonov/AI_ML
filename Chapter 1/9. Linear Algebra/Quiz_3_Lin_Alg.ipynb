{
 "cells": [
  {
   "cell_type": "markdown",
   "source": [
    "## Linear Algebra Quiz #3\n",
    "\n",
    "![title](./img/3_0.jpeg)\n",
    "\n",
    "We strongly suggest working with numpy :)"
   ],
   "metadata": {}
  },
  {
   "cell_type": "code",
   "execution_count": 2,
   "source": [
    "#Do your imports here\n",
    "import numpy as np"
   ],
   "outputs": [],
   "metadata": {}
  },
  {
   "cell_type": "markdown",
   "source": [
    "![title](./img/3_2.png)\n",
    "Create a program that can output\n",
    "\n",
    "- What is the value of element c23​ of Matrix C where C=A x B ?\n",
    "- What is the value of element c23​ of Matrix C where C=B x A ?"
   ],
   "metadata": {}
  },
  {
   "cell_type": "code",
   "execution_count": 11,
   "source": [
    "def c_calc(m1,m2,i,j):\n",
    "    m1 = np.array(m1)\n",
    "    m2 = np.array(m2)\n",
    "    if m1.shape[1] == m2.shape[0]:\n",
    "        prod = np.dot(m1,m2)\n",
    "        if i-1<=prod.shape[0] and j-1<=prod.shape[1]:\n",
    "            return prod[i-1][j-1]\n",
    "            #return prod\n",
    "        else:\n",
    "            return 'values i and j are out range matrix idices'\n",
    "    else:\n",
    "        return 'it s impossible multiply those two'\n",
    "a = [[3,1,2],[-5,4,1],[0,3,-8]]\n",
    "b=[[0,5,-1],[3,2,-1],[10,0.5,4]]\n",
    "c_calc(a,b,2,3)"
   ],
   "outputs": [
    {
     "output_type": "execute_result",
     "data": {
      "text/plain": [
       "5.0"
      ]
     },
     "metadata": {},
     "execution_count": 11
    }
   ],
   "metadata": {}
  },
  {
   "cell_type": "code",
   "execution_count": 49,
   "source": [
    "# okay numpy is great but... how would you inverse a matrix by hand?\n",
    "\n",
    "def inverse_matrix(A):\n",
    "    new = np.empty_like(A,dtype=float)#as we do some math calculation, we need both decimal and integer part of the element, and we store inside new matrix\n",
    "    mat = np.array(A)\n",
    "    for i in range(mat.shape[0]):\n",
    "        for j in range(mat.shape[1]):\n",
    "            a = np.delete(np.delete(mat,i,0),j,1) #creates submatrices\n",
    "            new[i][j] = np.linalg.det(a)*(-1)**((i+1)+(j+1)) #construct cofactors matrix\n",
    "            inverse = new.T/np.linalg.det(mat) # new.T is adjoint matrix of mat\n",
    "    print(inverse)\n",
    "\n",
    "\n",
    "a = [[3,1,2],[-5,4,1],[0,3,-8]]\n",
    "inverse_matrix(a)\n",
    "\n",
    "\n",
    "\n",
    "\n",
    "            "
   ],
   "outputs": [
    {
     "output_type": "stream",
     "name": "stdout",
     "text": [
      "[[ 0.2        -0.08        0.04      ]\n",
      " [ 0.22857143  0.13714286  0.07428571]\n",
      " [ 0.08571429  0.05142857 -0.09714286]]\n"
     ]
    }
   ],
   "metadata": {}
  },
  {
   "cell_type": "markdown",
   "source": [
    "![title](./img/3_1.png)\n",
    "Create a program that can output\n",
    "\n",
    "- What is the value of the ijth element if i = 2 and j=3?\n",
    "- What is the value of the ijth element if i = 3 and j=1?"
   ],
   "metadata": {}
  },
  {
   "cell_type": "code",
   "execution_count": 13,
   "source": [
    "# Just answer using code --> easy stuff!\n",
    "def mat_solver(m1,m2,m3,i,j):\n",
    "    m1 = np.array(m1)\n",
    "    m2 = np.array(m2)\n",
    "    m3 = np.array(m3)\n",
    "    res = m1+m2-m3\n",
    "\n",
    "    print('{},{} element of matrix is {}'.format(i,j,res[i-1,j-1]))\n",
    "      \n",
    "a = [[3,0.6,4,-3],[-1.3,4,0,8.6],[7,0,-8,0.006]]\n",
    "b = [[3,-5.76,45,0],[2,-2,1.3,9],[-9,0,0,0]]\n",
    "c = [[0,1009,-66.7849,90],[0,5,4,-0.07],[-7.7,0,0,0]]\n",
    "i =2\n",
    "j=3\n",
    "\n",
    "mat_solver(a,b,c,i,j)\n",
    "\n",
    "# Harder\n",
    "# Can you build a matrix solver that can do output the result given n matrices and a sequence of operations such as [add subtract multiply transpose?]\n",
    "#Some ideas on valid operations: Multiplication Addition Subtraction Inverstion Transposed. "
   ],
   "outputs": [
    {
     "output_type": "stream",
     "name": "stdout",
     "text": [
      "2,3 element of matrix is -2.7\n"
     ]
    }
   ],
   "metadata": {}
  },
  {
   "cell_type": "markdown",
   "source": [
    "![title](./img/3_3.png)\n",
    "Create a program that can output\n",
    "- How many rows will C have?\n",
    "- How many columns will C have?\n",
    "- What will be the value of c13​?"
   ],
   "metadata": {}
  },
  {
   "cell_type": "code",
   "execution_count": 12,
   "source": [
    "def c_calc(m1,m2,i,j):\n",
    "    m1 = np.array(m1)\n",
    "    m2 = np.array(m2)\n",
    "    if m1.shape[1] == m2.shape[0]:\n",
    "        prod = np.dot(m1,m2)\n",
    "        print(prod)\n",
    "        print('this matrix has {} rows and {} columns'.format(prod.shape[0],prod.shape[1]))\n",
    "        if i-1<=prod.shape[0] and j-1<=prod.shape[1]:\n",
    "            print('C{}{} element of matrix is {}'.format(i,j,prod[i-1,j-1]))\n",
    "        else:\n",
    "            return 'values i and j are out range matrix idices'\n",
    "    else:\n",
    "        return 'it s impossible multiply those two'\n",
    "a = [[0.6,-15,2,5,98]]\n",
    "b=[[2,2,-4],[9,-14,0],[13,-0.5,44],[1,9,4],[0,0,5]]\n",
    "c_calc(a,b,1,3)"
   ],
   "outputs": [
    {
     "output_type": "stream",
     "name": "stdout",
     "text": [
      "[[-102.8  255.2  595.6]]\n",
      "this matrix has 1 rows and 3 columns\n",
      "C13 element of matrix is 595.6\n"
     ]
    }
   ],
   "metadata": {}
  }
 ],
 "metadata": {
  "kernelspec": {
   "name": "python3",
   "display_name": "Python 3.8.11 64-bit ('sayeed': conda)"
  },
  "language_info": {
   "codemirror_mode": {
    "name": "ipython",
    "version": 3
   },
   "file_extension": ".py",
   "mimetype": "text/x-python",
   "name": "python",
   "nbconvert_exporter": "python",
   "pygments_lexer": "ipython3",
   "version": "3.8.11"
  },
  "varInspector": {
   "cols": {
    "lenName": 16,
    "lenType": 16,
    "lenVar": 40
   },
   "kernels_config": {
    "python": {
     "delete_cmd_postfix": "",
     "delete_cmd_prefix": "del ",
     "library": "var_list.py",
     "varRefreshCmd": "print(var_dic_list())"
    },
    "r": {
     "delete_cmd_postfix": ") ",
     "delete_cmd_prefix": "rm(",
     "library": "var_list.r",
     "varRefreshCmd": "cat(var_dic_list()) "
    }
   },
   "types_to_exclude": [
    "module",
    "function",
    "builtin_function_or_method",
    "instance",
    "_Feature"
   ],
   "window_display": false
  },
  "interpreter": {
   "hash": "57ccbecd372b9becaf4e59334636d42e5a64583ce917e4ad46b635842aed01d7"
  }
 },
 "nbformat": 4,
 "nbformat_minor": 2
}