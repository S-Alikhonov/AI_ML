{
 "cells": [
  {
   "cell_type": "markdown",
   "source": [
    "## Develop your own cheatsheet taking notes during the course\n",
    "\n",
    "You can either do it here or in Notion, if you want guidance for it you can rewatch the class taken by Umut about note taking https://strive-school.zoom.us/rec/share/bKqjQrgxpTljao75kpoesMafGtzQcwFtXuWqSVTOvuoO36i0b1pDTtVOK1RbwHRa.00z2B3Y_wtvKKbMA."
   ],
   "metadata": {}
  },
  {
   "cell_type": "markdown",
   "source": [
    "It is convenient to have short notes with definitions, and an example with a snippet of code.\n",
    "\n",
    "Example:"
   ],
   "metadata": {}
  },
  {
   "cell_type": "markdown",
   "source": [
    "### Norm of a vector\n",
    "\n",
    "$$ v = (v_{1}, v_{2}, ...,v_{n})$$\n",
    "\n",
    "$$ ||v|| = \\sqrt{v_{1}^{2}+v_{2}^{2} + ... + v_{n}^{2}}$$"
   ],
   "metadata": {}
  },
  {
   "cell_type": "code",
   "execution_count": 2,
   "source": [
    "import numpy as np\n",
    "v = np.array([1,2,3,4])\n",
    "v_norm = np.linalg.norm(v)\n",
    "v_norm"
   ],
   "outputs": [
    {
     "output_type": "execute_result",
     "data": {
      "text/plain": [
       "5.477225575051661"
      ]
     },
     "metadata": {},
     "execution_count": 2
    }
   ],
   "metadata": {
    "ExecuteTime": {
     "end_time": "2021-07-12T06:40:03.948538Z",
     "start_time": "2021-07-12T06:40:03.924970Z"
    }
   }
  },
  {
   "cell_type": "markdown",
   "source": [
    "dot product of vectors"
   ],
   "metadata": {}
  },
  {
   "cell_type": "code",
   "execution_count": 27,
   "source": [
    "import numpy as np\n",
    "v1 = np.array([1,3,4])\n",
    "v2 = np.array([4,5,4])\n",
    "\n",
    "d_product = np.dot(v1,v2)\n",
    "d_product"
   ],
   "outputs": [
    {
     "output_type": "execute_result",
     "data": {
      "text/plain": [
       "35"
      ]
     },
     "metadata": {},
     "execution_count": 27
    }
   ],
   "metadata": {}
  },
  {
   "cell_type": "markdown",
   "source": [
    "angles between 2 vectors"
   ],
   "metadata": {}
  },
  {
   "cell_type": "code",
   "execution_count": 28,
   "source": [
    "import numpy as np\n",
    "v1 = np.array([1,2])\n",
    "v2 = np.array([3,4])\n",
    "#as cosa=a*b / (norm(a) * norm(b))\n",
    "angle = np.arccos(np.dot(v1,v2)/(np.linalg.norm(v1)*np.linalg.norm(v2)))\n",
    "print(angle)"
   ],
   "outputs": [
    {
     "output_type": "stream",
     "name": "stdout",
     "text": [
      "0.17985349979247847\n"
     ]
    }
   ],
   "metadata": {}
  },
  {
   "cell_type": "markdown",
   "source": [
    "conversion of angles"
   ],
   "metadata": {}
  },
  {
   "cell_type": "code",
   "execution_count": 35,
   "source": [
    "def d2r(degree):\n",
    "    radian = np.pi*(degree/180)\n",
    "    return radian\n",
    "\n",
    "def r2d(radian):\n",
    "    degree = (radian/np.pi)*180\n",
    "    return degree\n",
    "\n",
    "r2d(np.pi/2)"
   ],
   "outputs": [
    {
     "output_type": "execute_result",
     "data": {
      "text/plain": [
       "90.0"
      ]
     },
     "metadata": {},
     "execution_count": 35
    }
   ],
   "metadata": {}
  },
  {
   "cell_type": "markdown",
   "source": [
    "multiplication of 2 matrices"
   ],
   "metadata": {}
  },
  {
   "cell_type": "code",
   "execution_count": 38,
   "source": [
    "import numpy as np\n",
    "m1 = np.array([[1,3],[2,3],[4,5]])\n",
    "m2 = np.array([[4,5],[6,5]])\n",
    "\n",
    "#in order for multiplication to be applicable, column number of first matrix should be equal to number of rows of second matrix\n",
    "if m1.shape[1] == m2.shape[0]:\n",
    "    print('shape of product will be {}x{}'.format(m1.shape[0],m2.shape[1]))\n",
    "    multiplication = (np.dot(m1,m2))\n",
    "    print(multiplication)\n",
    "else:\n",
    "    print('not possible')"
   ],
   "outputs": [
    {
     "output_type": "stream",
     "name": "stdout",
     "text": [
      "shape of product will be 3x2\n",
      "[[22 20]\n",
      " [26 25]\n",
      " [46 45]]\n"
     ]
    }
   ],
   "metadata": {}
  }
 ],
 "metadata": {
  "kernelspec": {
   "name": "python3",
   "display_name": "Python 3.8.11 64-bit ('sayeed': conda)"
  },
  "language_info": {
   "codemirror_mode": {
    "name": "ipython",
    "version": 3
   },
   "file_extension": ".py",
   "mimetype": "text/x-python",
   "name": "python",
   "nbconvert_exporter": "python",
   "pygments_lexer": "ipython3",
   "version": "3.8.11"
  },
  "varInspector": {
   "cols": {
    "lenName": 16,
    "lenType": 16,
    "lenVar": 40
   },
   "kernels_config": {
    "python": {
     "delete_cmd_postfix": "",
     "delete_cmd_prefix": "del ",
     "library": "var_list.py",
     "varRefreshCmd": "print(var_dic_list())"
    },
    "r": {
     "delete_cmd_postfix": ") ",
     "delete_cmd_prefix": "rm(",
     "library": "var_list.r",
     "varRefreshCmd": "cat(var_dic_list()) "
    }
   },
   "types_to_exclude": [
    "module",
    "function",
    "builtin_function_or_method",
    "instance",
    "_Feature"
   ],
   "window_display": false
  },
  "interpreter": {
   "hash": "57ccbecd372b9becaf4e59334636d42e5a64583ce917e4ad46b635842aed01d7"
  }
 },
 "nbformat": 4,
 "nbformat_minor": 5
}