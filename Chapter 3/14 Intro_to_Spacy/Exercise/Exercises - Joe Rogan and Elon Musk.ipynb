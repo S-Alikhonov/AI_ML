{
 "cells": [
  {
   "cell_type": "code",
   "execution_count": 141,
   "id": "broad-working",
   "metadata": {
    "ExecuteTime": {
     "end_time": "2021-03-29T22:31:33.722276Z",
     "start_time": "2021-03-29T22:31:33.372070Z"
    }
   },
   "outputs": [],
   "source": [
    "import pandas as pd"
   ]
  },
  {
   "cell_type": "code",
   "execution_count": 142,
   "id": "accepting-profit",
   "metadata": {
    "ExecuteTime": {
     "end_time": "2021-03-29T22:31:33.737038Z",
     "start_time": "2021-03-29T22:31:33.723718Z"
    }
   },
   "outputs": [
    {
     "data": {
      "text/html": [
       "<div>\n",
       "<style scoped>\n",
       "    .dataframe tbody tr th:only-of-type {\n",
       "        vertical-align: middle;\n",
       "    }\n",
       "\n",
       "    .dataframe tbody tr th {\n",
       "        vertical-align: top;\n",
       "    }\n",
       "\n",
       "    .dataframe thead th {\n",
       "        text-align: right;\n",
       "    }\n",
       "</style>\n",
       "<table border=\"1\" class=\"dataframe\">\n",
       "  <thead>\n",
       "    <tr style=\"text-align: right;\">\n",
       "      <th></th>\n",
       "      <th>Timestamp</th>\n",
       "      <th>Speaker</th>\n",
       "      <th>Text</th>\n",
       "    </tr>\n",
       "  </thead>\n",
       "  <tbody>\n",
       "    <tr>\n",
       "      <th>0</th>\n",
       "      <td>[00:00:00]</td>\n",
       "      <td>Joe Rogan</td>\n",
       "      <td>Ah, ha, ha, ha. Four, three, two, one, boom. T...</td>\n",
       "    </tr>\n",
       "    <tr>\n",
       "      <th>1</th>\n",
       "      <td>[00:00:09]</td>\n",
       "      <td>Elon Musk</td>\n",
       "      <td>You're welcome.</td>\n",
       "    </tr>\n",
       "    <tr>\n",
       "      <th>2</th>\n",
       "      <td>[00:00:10]</td>\n",
       "      <td>Joe Rogan</td>\n",
       "      <td>It's very good to meet you.</td>\n",
       "    </tr>\n",
       "    <tr>\n",
       "      <th>3</th>\n",
       "      <td>[00:00:11]</td>\n",
       "      <td>Elon Musk</td>\n",
       "      <td>Nice to meet you too.</td>\n",
       "    </tr>\n",
       "    <tr>\n",
       "      <th>4</th>\n",
       "      <td>[00:00:12]</td>\n",
       "      <td>Joe Rogan</td>\n",
       "      <td>And thanks for not lighting this place on fire.</td>\n",
       "    </tr>\n",
       "  </tbody>\n",
       "</table>\n",
       "</div>"
      ],
      "text/plain": [
       "    Timestamp    Speaker                                               Text\n",
       "0  [00:00:00]  Joe Rogan  Ah, ha, ha, ha. Four, three, two, one, boom. T...\n",
       "1  [00:00:09]  Elon Musk                                    You're welcome.\n",
       "2  [00:00:10]  Joe Rogan                        It's very good to meet you.\n",
       "3  [00:00:11]  Elon Musk                              Nice to meet you too.\n",
       "4  [00:00:12]  Joe Rogan    And thanks for not lighting this place on fire."
      ]
     },
     "execution_count": 142,
     "metadata": {},
     "output_type": "execute_result"
    }
   ],
   "source": [
    "df = pd.read_csv(\"data/jre_elon_musk.csv\")\n",
    "df.head()"
   ]
  },
  {
   "cell_type": "code",
   "execution_count": 143,
   "id": "pacific-proportion",
   "metadata": {
    "ExecuteTime": {
     "end_time": "2021-03-29T22:31:33.740828Z",
     "start_time": "2021-03-29T22:31:33.738483Z"
    }
   },
   "outputs": [
    {
     "name": "stdout",
     "output_type": "stream",
     "text": [
      "1 - Ah, ha, ha, ha. Four, three, two, one, boom. Thank you. Thanks for doing this, man. Really appreciate it.\n",
      "2 - You're welcome.\n",
      "3 - It's very good to meet you.\n",
      "4 - Nice to meet you too.\n",
      "5 - And thanks for not lighting this place on fire.\n",
      "6 - You're welcome. That's coming later.\n",
      "7 - How does one, just in the middle of doing all the things you do, create cars, rockets, all the stuff you're doing,constantly innovating, decide to just make a flamethrower? Where do you have the time for that?\n",
      "8 - Well, the flame, we didn't put a lot of time into the flamethrower. This was an off-the-cuff thing. It's sort of a hobbycompany called the Boring Company, which started out as a joke, and we decided to make a real, and dig a tunnelunder LA. And then, other people asked us to dig tunnels. And so, we said yes in a few cases.\n",
      "9 - Now, who-\n",
      "10 - And then, we have a merchandise section that only has one piece of merchandise at a time. And we started off witha cap. And there was only one thing on, which is BoringCompany.com/hat. That's it. And then, we sold the hats,limited edition. It just said, \"The Boring Company.\"\n"
     ]
    }
   ],
   "source": [
    "# Print the first ten lines of text\n",
    "first_ten = df.head(10).Text.values\n",
    "for i,text in enumerate(first_ten):\n",
    "    print(f'{i+1} - {text}')"
   ]
  },
  {
   "cell_type": "code",
   "execution_count": 144,
   "id": "split-binary",
   "metadata": {
    "ExecuteTime": {
     "end_time": "2021-03-29T22:31:33.744723Z",
     "start_time": "2021-03-29T22:31:33.742128Z"
    }
   },
   "outputs": [],
   "source": [
    "# Create a function to convert timestamp into seconds\n",
    "import re\n",
    "def convert_timestamp_into_seconds(timestamp):\n",
    "    #convert string to timedelta, convert into seconds using  total_seconds\n",
    "    timestamp = pd.Timedelta(timestamp.replace('[','').replace(']','')).total_seconds()\n",
    "    return timestamp"
   ]
  },
  {
   "cell_type": "code",
   "execution_count": 145,
   "id": "described-sussex",
   "metadata": {
    "ExecuteTime": {
     "end_time": "2021-03-29T22:31:33.752441Z",
     "start_time": "2021-03-29T22:31:33.745762Z"
    }
   },
   "outputs": [],
   "source": [
    "# Convert the Timestamp column using the function defined above\n",
    "\n",
    "df[\"Timestamp\"] = df['Timestamp'].apply(convert_timestamp_into_seconds)"
   ]
  },
  {
   "cell_type": "markdown",
   "id": "bb5785ac",
   "metadata": {},
   "source": [
    "#### **getting duration of each speech**"
   ]
  },
  {
   "cell_type": "code",
   "execution_count": 146,
   "id": "exotic-wireless",
   "metadata": {
    "ExecuteTime": {
     "end_time": "2021-03-29T22:31:33.761163Z",
     "start_time": "2021-03-29T22:31:33.754043Z"
    }
   },
   "outputs": [],
   "source": [
    "df[\"Interval\"] = df.Timestamp.shift(-1) - df.Timestamp"
   ]
  },
  {
   "cell_type": "markdown",
   "id": "6ccdb8e7",
   "metadata": {},
   "source": [
    "#### there were speech some values with duration of 0, we should make them 1, as it's considered minimum duration"
   ]
  },
  {
   "cell_type": "code",
   "execution_count": 147,
   "id": "747e0b58",
   "metadata": {},
   "outputs": [],
   "source": [
    "df.loc[df['Interval']==0,'Interval'] = 1"
   ]
  },
  {
   "cell_type": "markdown",
   "id": "e8e8b652",
   "metadata": {},
   "source": [
    "#### some nan value, because of the shift"
   ]
  },
  {
   "cell_type": "code",
   "execution_count": null,
   "id": "12a58eb8",
   "metadata": {},
   "outputs": [],
   "source": []
  },
  {
   "cell_type": "code",
   "execution_count": 160,
   "id": "f53f0525",
   "metadata": {},
   "outputs": [],
   "source": [
    "df['Interval'].fillna(1,inplace=True)"
   ]
  },
  {
   "cell_type": "code",
   "execution_count": 161,
   "id": "d51a5d27",
   "metadata": {},
   "outputs": [
    {
     "data": {
      "text/html": [
       "<div>\n",
       "<style scoped>\n",
       "    .dataframe tbody tr th:only-of-type {\n",
       "        vertical-align: middle;\n",
       "    }\n",
       "\n",
       "    .dataframe tbody tr th {\n",
       "        vertical-align: top;\n",
       "    }\n",
       "\n",
       "    .dataframe thead th {\n",
       "        text-align: right;\n",
       "    }\n",
       "</style>\n",
       "<table border=\"1\" class=\"dataframe\">\n",
       "  <thead>\n",
       "    <tr style=\"text-align: right;\">\n",
       "      <th></th>\n",
       "      <th>Timestamp</th>\n",
       "      <th>Speaker</th>\n",
       "      <th>Text</th>\n",
       "      <th>Interval</th>\n",
       "    </tr>\n",
       "  </thead>\n",
       "  <tbody>\n",
       "    <tr>\n",
       "      <th>0</th>\n",
       "      <td>0.0</td>\n",
       "      <td>Joe Rogan</td>\n",
       "      <td>Ah, ha, ha, ha. Four, three, two, one, boom. T...</td>\n",
       "      <td>9.0</td>\n",
       "    </tr>\n",
       "    <tr>\n",
       "      <th>1</th>\n",
       "      <td>9.0</td>\n",
       "      <td>Elon Musk</td>\n",
       "      <td>You're welcome.</td>\n",
       "      <td>1.0</td>\n",
       "    </tr>\n",
       "    <tr>\n",
       "      <th>2</th>\n",
       "      <td>10.0</td>\n",
       "      <td>Joe Rogan</td>\n",
       "      <td>It's very good to meet you.</td>\n",
       "      <td>1.0</td>\n",
       "    </tr>\n",
       "    <tr>\n",
       "      <th>3</th>\n",
       "      <td>11.0</td>\n",
       "      <td>Elon Musk</td>\n",
       "      <td>Nice to meet you too.</td>\n",
       "      <td>1.0</td>\n",
       "    </tr>\n",
       "    <tr>\n",
       "      <th>4</th>\n",
       "      <td>12.0</td>\n",
       "      <td>Joe Rogan</td>\n",
       "      <td>And thanks for not lighting this place on fire.</td>\n",
       "      <td>1.0</td>\n",
       "    </tr>\n",
       "    <tr>\n",
       "      <th>...</th>\n",
       "      <td>...</td>\n",
       "      <td>...</td>\n",
       "      <td>...</td>\n",
       "      <td>...</td>\n",
       "    </tr>\n",
       "    <tr>\n",
       "      <th>1826</th>\n",
       "      <td>9401.0</td>\n",
       "      <td>Joe Rogan</td>\n",
       "      <td>I believe it's true too. So, thank you.</td>\n",
       "      <td>2.0</td>\n",
       "    </tr>\n",
       "    <tr>\n",
       "      <th>1827</th>\n",
       "      <td>9403.0</td>\n",
       "      <td>Elon Musk</td>\n",
       "      <td>You're welcome.</td>\n",
       "      <td>1.0</td>\n",
       "    </tr>\n",
       "    <tr>\n",
       "      <th>1828</th>\n",
       "      <td>9404.0</td>\n",
       "      <td>Joe Rogan</td>\n",
       "      <td>All you assholes out there, be nice. Be nice, ...</td>\n",
       "      <td>6.0</td>\n",
       "    </tr>\n",
       "    <tr>\n",
       "      <th>1829</th>\n",
       "      <td>9410.0</td>\n",
       "      <td>Elon Musk</td>\n",
       "      <td>All right, thank you.</td>\n",
       "      <td>1.0</td>\n",
       "    </tr>\n",
       "    <tr>\n",
       "      <th>1830</th>\n",
       "      <td>9410.0</td>\n",
       "      <td>Joe Rogan</td>\n",
       "      <td>Good night, everybody. END OF TRANSCRIPTAutoma...</td>\n",
       "      <td>1.0</td>\n",
       "    </tr>\n",
       "  </tbody>\n",
       "</table>\n",
       "<p>1831 rows × 4 columns</p>\n",
       "</div>"
      ],
      "text/plain": [
       "      Timestamp    Speaker                                               Text  \\\n",
       "0           0.0  Joe Rogan  Ah, ha, ha, ha. Four, three, two, one, boom. T...   \n",
       "1           9.0  Elon Musk                                    You're welcome.   \n",
       "2          10.0  Joe Rogan                        It's very good to meet you.   \n",
       "3          11.0  Elon Musk                              Nice to meet you too.   \n",
       "4          12.0  Joe Rogan    And thanks for not lighting this place on fire.   \n",
       "...         ...        ...                                                ...   \n",
       "1826     9401.0  Joe Rogan            I believe it's true too. So, thank you.   \n",
       "1827     9403.0  Elon Musk                                    You're welcome.   \n",
       "1828     9404.0  Joe Rogan  All you assholes out there, be nice. Be nice, ...   \n",
       "1829     9410.0  Elon Musk                              All right, thank you.   \n",
       "1830     9410.0  Joe Rogan  Good night, everybody. END OF TRANSCRIPTAutoma...   \n",
       "\n",
       "      Interval  \n",
       "0          9.0  \n",
       "1          1.0  \n",
       "2          1.0  \n",
       "3          1.0  \n",
       "4          1.0  \n",
       "...        ...  \n",
       "1826       2.0  \n",
       "1827       1.0  \n",
       "1828       6.0  \n",
       "1829       1.0  \n",
       "1830       1.0  \n",
       "\n",
       "[1831 rows x 4 columns]"
      ]
     },
     "execution_count": 161,
     "metadata": {},
     "output_type": "execute_result"
    }
   ],
   "source": [
    "df"
   ]
  },
  {
   "cell_type": "code",
   "execution_count": 150,
   "id": "flush-rating",
   "metadata": {
    "ExecuteTime": {
     "end_time": "2021-03-29T22:31:33.779836Z",
     "start_time": "2021-03-29T22:31:33.776781Z"
    }
   },
   "outputs": [
    {
     "data": {
      "text/plain": [
       "array(['Joe Rogan', 'Elon Musk', 'Jaime'], dtype=object)"
      ]
     },
     "execution_count": 150,
     "metadata": {},
     "output_type": "execute_result"
    }
   ],
   "source": [
    "df.Speaker.unique()"
   ]
  },
  {
   "cell_type": "markdown",
   "id": "c48ec2cc",
   "metadata": {},
   "source": [
    "#### speech duration of unique speakers"
   ]
  },
  {
   "cell_type": "code",
   "execution_count": 162,
   "id": "impressive-montana",
   "metadata": {
    "ExecuteTime": {
     "end_time": "2021-03-29T22:31:33.786629Z",
     "start_time": "2021-03-29T22:31:33.781182Z"
    }
   },
   "outputs": [
    {
     "data": {
      "text/html": [
       "<div>\n",
       "<style scoped>\n",
       "    .dataframe tbody tr th:only-of-type {\n",
       "        vertical-align: middle;\n",
       "    }\n",
       "\n",
       "    .dataframe tbody tr th {\n",
       "        vertical-align: top;\n",
       "    }\n",
       "\n",
       "    .dataframe thead th {\n",
       "        text-align: right;\n",
       "    }\n",
       "</style>\n",
       "<table border=\"1\" class=\"dataframe\">\n",
       "  <thead>\n",
       "    <tr style=\"text-align: right;\">\n",
       "      <th></th>\n",
       "      <th>Interval</th>\n",
       "    </tr>\n",
       "    <tr>\n",
       "      <th>Speaker</th>\n",
       "      <th></th>\n",
       "    </tr>\n",
       "  </thead>\n",
       "  <tbody>\n",
       "    <tr>\n",
       "      <th>Elon Musk</th>\n",
       "      <td>5075.0</td>\n",
       "    </tr>\n",
       "    <tr>\n",
       "      <th>Jaime</th>\n",
       "      <td>45.0</td>\n",
       "    </tr>\n",
       "    <tr>\n",
       "      <th>Joe Rogan</th>\n",
       "      <td>4637.0</td>\n",
       "    </tr>\n",
       "  </tbody>\n",
       "</table>\n",
       "</div>"
      ],
      "text/plain": [
       "           Interval\n",
       "Speaker            \n",
       "Elon Musk    5075.0\n",
       "Jaime          45.0\n",
       "Joe Rogan    4637.0"
      ]
     },
     "execution_count": 162,
     "metadata": {},
     "output_type": "execute_result"
    }
   ],
   "source": [
    "# Total seconds spoken by Joe Rogan\n",
    "# Total seconds spoken by Elon Musk\n",
    "# Total seconds spoken by Jaime\n",
    "pd.pivot_table(df,values='Interval',index='Speaker',aggfunc='sum')"
   ]
  },
  {
   "cell_type": "code",
   "execution_count": 163,
   "id": "powerful-detail",
   "metadata": {
    "ExecuteTime": {
     "end_time": "2021-03-29T22:31:33.804917Z",
     "start_time": "2021-03-29T22:31:33.798845Z"
    }
   },
   "outputs": [
    {
     "data": {
      "text/html": [
       "<div>\n",
       "<style scoped>\n",
       "    .dataframe tbody tr th:only-of-type {\n",
       "        vertical-align: middle;\n",
       "    }\n",
       "\n",
       "    .dataframe tbody tr th {\n",
       "        vertical-align: top;\n",
       "    }\n",
       "\n",
       "    .dataframe thead th {\n",
       "        text-align: right;\n",
       "    }\n",
       "</style>\n",
       "<table border=\"1\" class=\"dataframe\">\n",
       "  <thead>\n",
       "    <tr style=\"text-align: right;\">\n",
       "      <th></th>\n",
       "      <th>Interval</th>\n",
       "    </tr>\n",
       "    <tr>\n",
       "      <th>Speaker</th>\n",
       "      <th></th>\n",
       "    </tr>\n",
       "  </thead>\n",
       "  <tbody>\n",
       "    <tr>\n",
       "      <th>Elon Musk</th>\n",
       "      <td>5.583058</td>\n",
       "    </tr>\n",
       "    <tr>\n",
       "      <th>Jaime</th>\n",
       "      <td>2.647059</td>\n",
       "    </tr>\n",
       "    <tr>\n",
       "      <th>Joe Rogan</th>\n",
       "      <td>5.123757</td>\n",
       "    </tr>\n",
       "  </tbody>\n",
       "</table>\n",
       "</div>"
      ],
      "text/plain": [
       "           Interval\n",
       "Speaker            \n",
       "Elon Musk  5.583058\n",
       "Jaime      2.647059\n",
       "Joe Rogan  5.123757"
      ]
     },
     "execution_count": 163,
     "metadata": {},
     "output_type": "execute_result"
    }
   ],
   "source": [
    "# Average speaking interval for each person\n",
    "pd.pivot_table(df,values='Interval',index='Speaker',aggfunc='mean')\n"
   ]
  },
  {
   "cell_type": "markdown",
   "id": "suburban-shipping",
   "metadata": {},
   "source": [
    "Who speaks faster?\n",
    "\n",
    "Tokenize the text, preprocess the tokens so that you have only words (excluding punctuation) and compute the velocity of each speaker as: number of words per interval / length of interval . Store the result in a column named Velocity and compute the average for each speaker."
   ]
  },
  {
   "cell_type": "code",
   "execution_count": 179,
   "id": "facial-living",
   "metadata": {
    "ExecuteTime": {
     "end_time": "2021-03-29T22:31:44.193591Z",
     "start_time": "2021-03-29T22:31:33.806035Z"
    }
   },
   "outputs": [],
   "source": [
    "# Preprocess the data\n",
    "import spacy\n",
    "nlp = spacy.load(\"en_core_web_sm\")\n",
    "# Create a function to remove punctuation from text\n",
    "\n",
    "def remove_punctuation(text):\n",
    "    res =[]\n",
    "    doc = nlp(text)\n",
    "    for token in doc:\n",
    "        if token.pos_ != 'PUNCT':\n",
    "            res.append(token.text)\n",
    "    return ' '.join(res)\n",
    "\n",
    "\n",
    "# # Create a function to count the non punctuation token of a text\n",
    "def count_tokens(text):\n",
    "    doc = nlp(text)\n",
    "    return len(doc)\n",
    "\n",
    "# # Create a function to remove stop words from text\n",
    "def remove_stopwords(text):\n",
    "    # your code here\n",
    "    doc = nlp(text)\n",
    "    result = [token.text for token in doc if not token.is_stop]\n",
    "    return ' '.join(result)\n",
    "\n"
   ]
  },
  {
   "cell_type": "markdown",
   "id": "fcfdf4d2",
   "metadata": {},
   "source": [
    "### punctuation removal"
   ]
  },
  {
   "cell_type": "code",
   "execution_count": null,
   "id": "14d69871",
   "metadata": {},
   "outputs": [],
   "source": [
    "df[\"TextNoPunct\"] = df['Text'].apply(remove_punctuation)"
   ]
  },
  {
   "cell_type": "code",
   "execution_count": 177,
   "id": "81263296",
   "metadata": {},
   "outputs": [
    {
     "data": {
      "text/html": [
       "<div>\n",
       "<style scoped>\n",
       "    .dataframe tbody tr th:only-of-type {\n",
       "        vertical-align: middle;\n",
       "    }\n",
       "\n",
       "    .dataframe tbody tr th {\n",
       "        vertical-align: top;\n",
       "    }\n",
       "\n",
       "    .dataframe thead th {\n",
       "        text-align: right;\n",
       "    }\n",
       "</style>\n",
       "<table border=\"1\" class=\"dataframe\">\n",
       "  <thead>\n",
       "    <tr style=\"text-align: right;\">\n",
       "      <th></th>\n",
       "      <th>Timestamp</th>\n",
       "      <th>Speaker</th>\n",
       "      <th>Text</th>\n",
       "      <th>Interval</th>\n",
       "      <th>TextNoPunct</th>\n",
       "    </tr>\n",
       "  </thead>\n",
       "  <tbody>\n",
       "    <tr>\n",
       "      <th>0</th>\n",
       "      <td>0.0</td>\n",
       "      <td>Joe Rogan</td>\n",
       "      <td>Ah, ha, ha, ha. Four, three, two, one, boom. T...</td>\n",
       "      <td>9.0</td>\n",
       "      <td>Ah ha ha ha Four three two one boom Thank you ...</td>\n",
       "    </tr>\n",
       "    <tr>\n",
       "      <th>1</th>\n",
       "      <td>9.0</td>\n",
       "      <td>Elon Musk</td>\n",
       "      <td>You're welcome.</td>\n",
       "      <td>1.0</td>\n",
       "      <td>You 're welcome</td>\n",
       "    </tr>\n",
       "    <tr>\n",
       "      <th>2</th>\n",
       "      <td>10.0</td>\n",
       "      <td>Joe Rogan</td>\n",
       "      <td>It's very good to meet you.</td>\n",
       "      <td>1.0</td>\n",
       "      <td>It 's very good to meet you</td>\n",
       "    </tr>\n",
       "    <tr>\n",
       "      <th>3</th>\n",
       "      <td>11.0</td>\n",
       "      <td>Elon Musk</td>\n",
       "      <td>Nice to meet you too.</td>\n",
       "      <td>1.0</td>\n",
       "      <td>Nice to meet you too</td>\n",
       "    </tr>\n",
       "    <tr>\n",
       "      <th>4</th>\n",
       "      <td>12.0</td>\n",
       "      <td>Joe Rogan</td>\n",
       "      <td>And thanks for not lighting this place on fire.</td>\n",
       "      <td>1.0</td>\n",
       "      <td>And thanks for not lighting this place on fire</td>\n",
       "    </tr>\n",
       "    <tr>\n",
       "      <th>...</th>\n",
       "      <td>...</td>\n",
       "      <td>...</td>\n",
       "      <td>...</td>\n",
       "      <td>...</td>\n",
       "      <td>...</td>\n",
       "    </tr>\n",
       "    <tr>\n",
       "      <th>1826</th>\n",
       "      <td>9401.0</td>\n",
       "      <td>Joe Rogan</td>\n",
       "      <td>I believe it's true too. So, thank you.</td>\n",
       "      <td>2.0</td>\n",
       "      <td>I believe it 's true too So thank you</td>\n",
       "    </tr>\n",
       "    <tr>\n",
       "      <th>1827</th>\n",
       "      <td>9403.0</td>\n",
       "      <td>Elon Musk</td>\n",
       "      <td>You're welcome.</td>\n",
       "      <td>1.0</td>\n",
       "      <td>You 're welcome</td>\n",
       "    </tr>\n",
       "    <tr>\n",
       "      <th>1828</th>\n",
       "      <td>9404.0</td>\n",
       "      <td>Joe Rogan</td>\n",
       "      <td>All you assholes out there, be nice. Be nice, ...</td>\n",
       "      <td>6.0</td>\n",
       "      <td>All you assholes out there be nice Be nice bit...</td>\n",
       "    </tr>\n",
       "    <tr>\n",
       "      <th>1829</th>\n",
       "      <td>9410.0</td>\n",
       "      <td>Elon Musk</td>\n",
       "      <td>All right, thank you.</td>\n",
       "      <td>1.0</td>\n",
       "      <td>All right thank you</td>\n",
       "    </tr>\n",
       "    <tr>\n",
       "      <th>1830</th>\n",
       "      <td>9410.0</td>\n",
       "      <td>Joe Rogan</td>\n",
       "      <td>Good night, everybody. END OF TRANSCRIPTAutoma...</td>\n",
       "      <td>1.0</td>\n",
       "      <td>Good night everybody END OF TRANSCRIPTAutomate...</td>\n",
       "    </tr>\n",
       "  </tbody>\n",
       "</table>\n",
       "<p>1831 rows × 5 columns</p>\n",
       "</div>"
      ],
      "text/plain": [
       "      Timestamp    Speaker                                               Text  \\\n",
       "0           0.0  Joe Rogan  Ah, ha, ha, ha. Four, three, two, one, boom. T...   \n",
       "1           9.0  Elon Musk                                    You're welcome.   \n",
       "2          10.0  Joe Rogan                        It's very good to meet you.   \n",
       "3          11.0  Elon Musk                              Nice to meet you too.   \n",
       "4          12.0  Joe Rogan    And thanks for not lighting this place on fire.   \n",
       "...         ...        ...                                                ...   \n",
       "1826     9401.0  Joe Rogan            I believe it's true too. So, thank you.   \n",
       "1827     9403.0  Elon Musk                                    You're welcome.   \n",
       "1828     9404.0  Joe Rogan  All you assholes out there, be nice. Be nice, ...   \n",
       "1829     9410.0  Elon Musk                              All right, thank you.   \n",
       "1830     9410.0  Joe Rogan  Good night, everybody. END OF TRANSCRIPTAutoma...   \n",
       "\n",
       "      Interval                                        TextNoPunct  \n",
       "0          9.0  Ah ha ha ha Four three two one boom Thank you ...  \n",
       "1          1.0                                    You 're welcome  \n",
       "2          1.0                        It 's very good to meet you  \n",
       "3          1.0                               Nice to meet you too  \n",
       "4          1.0     And thanks for not lighting this place on fire  \n",
       "...        ...                                                ...  \n",
       "1826       2.0              I believe it 's true too So thank you  \n",
       "1827       1.0                                    You 're welcome  \n",
       "1828       6.0  All you assholes out there be nice Be nice bit...  \n",
       "1829       1.0                                All right thank you  \n",
       "1830       1.0  Good night everybody END OF TRANSCRIPTAutomate...  \n",
       "\n",
       "[1831 rows x 5 columns]"
      ]
     },
     "execution_count": 177,
     "metadata": {},
     "output_type": "execute_result"
    }
   ],
   "source": [
    "df"
   ]
  },
  {
   "cell_type": "markdown",
   "id": "3adfaf65",
   "metadata": {},
   "source": [
    "### clearing stop words"
   ]
  },
  {
   "cell_type": "code",
   "execution_count": 180,
   "id": "3c7c1778",
   "metadata": {},
   "outputs": [],
   "source": [
    "df['TextNoStopWords'] = df.TextNoPunct.apply(remove_stopwords)"
   ]
  },
  {
   "cell_type": "markdown",
   "id": "39d2503d",
   "metadata": {},
   "source": [
    "### counting tokens"
   ]
  },
  {
   "cell_type": "code",
   "execution_count": 182,
   "id": "2926ef9d",
   "metadata": {},
   "outputs": [],
   "source": [
    "df['n_tokens'] = df.TextNoPunct.apply(count_tokens)"
   ]
  },
  {
   "cell_type": "code",
   "execution_count": 184,
   "id": "d6ae68c9",
   "metadata": {},
   "outputs": [],
   "source": [
    "df['noTokensWOStopWords']  =df.TextNoStopWords.apply(count_tokens)"
   ]
  },
  {
   "cell_type": "code",
   "execution_count": 185,
   "id": "7351e396",
   "metadata": {},
   "outputs": [
    {
     "data": {
      "text/html": [
       "<div>\n",
       "<style scoped>\n",
       "    .dataframe tbody tr th:only-of-type {\n",
       "        vertical-align: middle;\n",
       "    }\n",
       "\n",
       "    .dataframe tbody tr th {\n",
       "        vertical-align: top;\n",
       "    }\n",
       "\n",
       "    .dataframe thead th {\n",
       "        text-align: right;\n",
       "    }\n",
       "</style>\n",
       "<table border=\"1\" class=\"dataframe\">\n",
       "  <thead>\n",
       "    <tr style=\"text-align: right;\">\n",
       "      <th></th>\n",
       "      <th>Timestamp</th>\n",
       "      <th>Speaker</th>\n",
       "      <th>Text</th>\n",
       "      <th>Interval</th>\n",
       "      <th>TextNoPunct</th>\n",
       "      <th>TextNoStopWords</th>\n",
       "      <th>n_tokens</th>\n",
       "      <th>noTokensWOStopWords</th>\n",
       "    </tr>\n",
       "  </thead>\n",
       "  <tbody>\n",
       "    <tr>\n",
       "      <th>0</th>\n",
       "      <td>0.0</td>\n",
       "      <td>Joe Rogan</td>\n",
       "      <td>Ah, ha, ha, ha. Four, three, two, one, boom. T...</td>\n",
       "      <td>9.0</td>\n",
       "      <td>Ah ha ha ha Four three two one boom Thank you ...</td>\n",
       "      <td>Ah ha ha ha boom Thank Thanks man appreciate</td>\n",
       "      <td>19</td>\n",
       "      <td>9</td>\n",
       "    </tr>\n",
       "    <tr>\n",
       "      <th>1</th>\n",
       "      <td>9.0</td>\n",
       "      <td>Elon Musk</td>\n",
       "      <td>You're welcome.</td>\n",
       "      <td>1.0</td>\n",
       "      <td>You 're welcome</td>\n",
       "      <td>welcome</td>\n",
       "      <td>3</td>\n",
       "      <td>1</td>\n",
       "    </tr>\n",
       "    <tr>\n",
       "      <th>2</th>\n",
       "      <td>10.0</td>\n",
       "      <td>Joe Rogan</td>\n",
       "      <td>It's very good to meet you.</td>\n",
       "      <td>1.0</td>\n",
       "      <td>It 's very good to meet you</td>\n",
       "      <td>good meet</td>\n",
       "      <td>7</td>\n",
       "      <td>2</td>\n",
       "    </tr>\n",
       "    <tr>\n",
       "      <th>3</th>\n",
       "      <td>11.0</td>\n",
       "      <td>Elon Musk</td>\n",
       "      <td>Nice to meet you too.</td>\n",
       "      <td>1.0</td>\n",
       "      <td>Nice to meet you too</td>\n",
       "      <td>Nice meet</td>\n",
       "      <td>5</td>\n",
       "      <td>2</td>\n",
       "    </tr>\n",
       "    <tr>\n",
       "      <th>4</th>\n",
       "      <td>12.0</td>\n",
       "      <td>Joe Rogan</td>\n",
       "      <td>And thanks for not lighting this place on fire.</td>\n",
       "      <td>1.0</td>\n",
       "      <td>And thanks for not lighting this place on fire</td>\n",
       "      <td>thanks lighting place fire</td>\n",
       "      <td>9</td>\n",
       "      <td>4</td>\n",
       "    </tr>\n",
       "    <tr>\n",
       "      <th>...</th>\n",
       "      <td>...</td>\n",
       "      <td>...</td>\n",
       "      <td>...</td>\n",
       "      <td>...</td>\n",
       "      <td>...</td>\n",
       "      <td>...</td>\n",
       "      <td>...</td>\n",
       "      <td>...</td>\n",
       "    </tr>\n",
       "    <tr>\n",
       "      <th>1826</th>\n",
       "      <td>9401.0</td>\n",
       "      <td>Joe Rogan</td>\n",
       "      <td>I believe it's true too. So, thank you.</td>\n",
       "      <td>2.0</td>\n",
       "      <td>I believe it 's true too So thank you</td>\n",
       "      <td>believe true thank</td>\n",
       "      <td>9</td>\n",
       "      <td>3</td>\n",
       "    </tr>\n",
       "    <tr>\n",
       "      <th>1827</th>\n",
       "      <td>9403.0</td>\n",
       "      <td>Elon Musk</td>\n",
       "      <td>You're welcome.</td>\n",
       "      <td>1.0</td>\n",
       "      <td>You 're welcome</td>\n",
       "      <td>welcome</td>\n",
       "      <td>3</td>\n",
       "      <td>1</td>\n",
       "    </tr>\n",
       "    <tr>\n",
       "      <th>1828</th>\n",
       "      <td>9404.0</td>\n",
       "      <td>Joe Rogan</td>\n",
       "      <td>All you assholes out there, be nice. Be nice, ...</td>\n",
       "      <td>6.0</td>\n",
       "      <td>All you assholes out there be nice Be nice bit...</td>\n",
       "      <td>assholes nice nice bitch right Thank everybody...</td>\n",
       "      <td>18</td>\n",
       "      <td>9</td>\n",
       "    </tr>\n",
       "    <tr>\n",
       "      <th>1829</th>\n",
       "      <td>9410.0</td>\n",
       "      <td>Elon Musk</td>\n",
       "      <td>All right, thank you.</td>\n",
       "      <td>1.0</td>\n",
       "      <td>All right thank you</td>\n",
       "      <td>right thank</td>\n",
       "      <td>4</td>\n",
       "      <td>2</td>\n",
       "    </tr>\n",
       "    <tr>\n",
       "      <th>1830</th>\n",
       "      <td>9410.0</td>\n",
       "      <td>Joe Rogan</td>\n",
       "      <td>Good night, everybody. END OF TRANSCRIPTAutoma...</td>\n",
       "      <td>1.0</td>\n",
       "      <td>Good night everybody END OF TRANSCRIPTAutomate...</td>\n",
       "      <td>Good night everybody END TRANSCRIPTAutomated t...</td>\n",
       "      <td>18</td>\n",
       "      <td>16</td>\n",
       "    </tr>\n",
       "  </tbody>\n",
       "</table>\n",
       "<p>1831 rows × 8 columns</p>\n",
       "</div>"
      ],
      "text/plain": [
       "      Timestamp    Speaker                                               Text  \\\n",
       "0           0.0  Joe Rogan  Ah, ha, ha, ha. Four, three, two, one, boom. T...   \n",
       "1           9.0  Elon Musk                                    You're welcome.   \n",
       "2          10.0  Joe Rogan                        It's very good to meet you.   \n",
       "3          11.0  Elon Musk                              Nice to meet you too.   \n",
       "4          12.0  Joe Rogan    And thanks for not lighting this place on fire.   \n",
       "...         ...        ...                                                ...   \n",
       "1826     9401.0  Joe Rogan            I believe it's true too. So, thank you.   \n",
       "1827     9403.0  Elon Musk                                    You're welcome.   \n",
       "1828     9404.0  Joe Rogan  All you assholes out there, be nice. Be nice, ...   \n",
       "1829     9410.0  Elon Musk                              All right, thank you.   \n",
       "1830     9410.0  Joe Rogan  Good night, everybody. END OF TRANSCRIPTAutoma...   \n",
       "\n",
       "      Interval                                        TextNoPunct  \\\n",
       "0          9.0  Ah ha ha ha Four three two one boom Thank you ...   \n",
       "1          1.0                                    You 're welcome   \n",
       "2          1.0                        It 's very good to meet you   \n",
       "3          1.0                               Nice to meet you too   \n",
       "4          1.0     And thanks for not lighting this place on fire   \n",
       "...        ...                                                ...   \n",
       "1826       2.0              I believe it 's true too So thank you   \n",
       "1827       1.0                                    You 're welcome   \n",
       "1828       6.0  All you assholes out there be nice Be nice bit...   \n",
       "1829       1.0                                All right thank you   \n",
       "1830       1.0  Good night everybody END OF TRANSCRIPTAutomate...   \n",
       "\n",
       "                                        TextNoStopWords  n_tokens  \\\n",
       "0          Ah ha ha ha boom Thank Thanks man appreciate        19   \n",
       "1                                               welcome         3   \n",
       "2                                             good meet         7   \n",
       "3                                             Nice meet         5   \n",
       "4                            thanks lighting place fire         9   \n",
       "...                                                 ...       ...   \n",
       "1826                                 believe true thank         9   \n",
       "1827                                            welcome         3   \n",
       "1828  assholes nice nice bitch right Thank everybody...        18   \n",
       "1829                                        right thank         4   \n",
       "1830  Good night everybody END TRANSCRIPTAutomated t...        18   \n",
       "\n",
       "      noTokensWOStopWords  \n",
       "0                       9  \n",
       "1                       1  \n",
       "2                       2  \n",
       "3                       2  \n",
       "4                       4  \n",
       "...                   ...  \n",
       "1826                    3  \n",
       "1827                    1  \n",
       "1828                    9  \n",
       "1829                    2  \n",
       "1830                   16  \n",
       "\n",
       "[1831 rows x 8 columns]"
      ]
     },
     "execution_count": 185,
     "metadata": {},
     "output_type": "execute_result"
    }
   ],
   "source": [
    "df"
   ]
  },
  {
   "cell_type": "code",
   "execution_count": 186,
   "id": "daily-newton",
   "metadata": {
    "ExecuteTime": {
     "end_time": "2021-03-29T22:31:53.450694Z",
     "start_time": "2021-03-29T22:31:53.448360Z"
    }
   },
   "outputs": [],
   "source": [
    "# Compute the velocity and store it in a new column\n",
    "\n",
    "df[\"Velocity\"] = df.n_tokens/df.Interval"
   ]
  },
  {
   "cell_type": "code",
   "execution_count": 187,
   "id": "intimate-pottery",
   "metadata": {
    "ExecuteTime": {
     "end_time": "2021-03-29T22:31:53.461867Z",
     "start_time": "2021-03-29T22:31:53.451650Z"
    }
   },
   "outputs": [
    {
     "data": {
      "text/html": [
       "<div>\n",
       "<style scoped>\n",
       "    .dataframe tbody tr th:only-of-type {\n",
       "        vertical-align: middle;\n",
       "    }\n",
       "\n",
       "    .dataframe tbody tr th {\n",
       "        vertical-align: top;\n",
       "    }\n",
       "\n",
       "    .dataframe thead th {\n",
       "        text-align: right;\n",
       "    }\n",
       "</style>\n",
       "<table border=\"1\" class=\"dataframe\">\n",
       "  <thead>\n",
       "    <tr style=\"text-align: right;\">\n",
       "      <th></th>\n",
       "      <th>Timestamp</th>\n",
       "      <th>Speaker</th>\n",
       "      <th>Text</th>\n",
       "      <th>Interval</th>\n",
       "      <th>TextNoPunct</th>\n",
       "      <th>TextNoStopWords</th>\n",
       "      <th>n_tokens</th>\n",
       "      <th>noTokensWOStopWords</th>\n",
       "      <th>Velocity</th>\n",
       "    </tr>\n",
       "  </thead>\n",
       "  <tbody>\n",
       "    <tr>\n",
       "      <th>0</th>\n",
       "      <td>0.0</td>\n",
       "      <td>Joe Rogan</td>\n",
       "      <td>Ah, ha, ha, ha. Four, three, two, one, boom. T...</td>\n",
       "      <td>9.0</td>\n",
       "      <td>Ah ha ha ha Four three two one boom Thank you ...</td>\n",
       "      <td>Ah ha ha ha boom Thank Thanks man appreciate</td>\n",
       "      <td>19</td>\n",
       "      <td>9</td>\n",
       "      <td>2.111111</td>\n",
       "    </tr>\n",
       "    <tr>\n",
       "      <th>1</th>\n",
       "      <td>9.0</td>\n",
       "      <td>Elon Musk</td>\n",
       "      <td>You're welcome.</td>\n",
       "      <td>1.0</td>\n",
       "      <td>You 're welcome</td>\n",
       "      <td>welcome</td>\n",
       "      <td>3</td>\n",
       "      <td>1</td>\n",
       "      <td>3.000000</td>\n",
       "    </tr>\n",
       "    <tr>\n",
       "      <th>2</th>\n",
       "      <td>10.0</td>\n",
       "      <td>Joe Rogan</td>\n",
       "      <td>It's very good to meet you.</td>\n",
       "      <td>1.0</td>\n",
       "      <td>It 's very good to meet you</td>\n",
       "      <td>good meet</td>\n",
       "      <td>7</td>\n",
       "      <td>2</td>\n",
       "      <td>7.000000</td>\n",
       "    </tr>\n",
       "    <tr>\n",
       "      <th>3</th>\n",
       "      <td>11.0</td>\n",
       "      <td>Elon Musk</td>\n",
       "      <td>Nice to meet you too.</td>\n",
       "      <td>1.0</td>\n",
       "      <td>Nice to meet you too</td>\n",
       "      <td>Nice meet</td>\n",
       "      <td>5</td>\n",
       "      <td>2</td>\n",
       "      <td>5.000000</td>\n",
       "    </tr>\n",
       "    <tr>\n",
       "      <th>4</th>\n",
       "      <td>12.0</td>\n",
       "      <td>Joe Rogan</td>\n",
       "      <td>And thanks for not lighting this place on fire.</td>\n",
       "      <td>1.0</td>\n",
       "      <td>And thanks for not lighting this place on fire</td>\n",
       "      <td>thanks lighting place fire</td>\n",
       "      <td>9</td>\n",
       "      <td>4</td>\n",
       "      <td>9.000000</td>\n",
       "    </tr>\n",
       "    <tr>\n",
       "      <th>...</th>\n",
       "      <td>...</td>\n",
       "      <td>...</td>\n",
       "      <td>...</td>\n",
       "      <td>...</td>\n",
       "      <td>...</td>\n",
       "      <td>...</td>\n",
       "      <td>...</td>\n",
       "      <td>...</td>\n",
       "      <td>...</td>\n",
       "    </tr>\n",
       "    <tr>\n",
       "      <th>1826</th>\n",
       "      <td>9401.0</td>\n",
       "      <td>Joe Rogan</td>\n",
       "      <td>I believe it's true too. So, thank you.</td>\n",
       "      <td>2.0</td>\n",
       "      <td>I believe it 's true too So thank you</td>\n",
       "      <td>believe true thank</td>\n",
       "      <td>9</td>\n",
       "      <td>3</td>\n",
       "      <td>4.500000</td>\n",
       "    </tr>\n",
       "    <tr>\n",
       "      <th>1827</th>\n",
       "      <td>9403.0</td>\n",
       "      <td>Elon Musk</td>\n",
       "      <td>You're welcome.</td>\n",
       "      <td>1.0</td>\n",
       "      <td>You 're welcome</td>\n",
       "      <td>welcome</td>\n",
       "      <td>3</td>\n",
       "      <td>1</td>\n",
       "      <td>3.000000</td>\n",
       "    </tr>\n",
       "    <tr>\n",
       "      <th>1828</th>\n",
       "      <td>9404.0</td>\n",
       "      <td>Joe Rogan</td>\n",
       "      <td>All you assholes out there, be nice. Be nice, ...</td>\n",
       "      <td>6.0</td>\n",
       "      <td>All you assholes out there be nice Be nice bit...</td>\n",
       "      <td>assholes nice nice bitch right Thank everybody...</td>\n",
       "      <td>18</td>\n",
       "      <td>9</td>\n",
       "      <td>3.000000</td>\n",
       "    </tr>\n",
       "    <tr>\n",
       "      <th>1829</th>\n",
       "      <td>9410.0</td>\n",
       "      <td>Elon Musk</td>\n",
       "      <td>All right, thank you.</td>\n",
       "      <td>1.0</td>\n",
       "      <td>All right thank you</td>\n",
       "      <td>right thank</td>\n",
       "      <td>4</td>\n",
       "      <td>2</td>\n",
       "      <td>4.000000</td>\n",
       "    </tr>\n",
       "    <tr>\n",
       "      <th>1830</th>\n",
       "      <td>9410.0</td>\n",
       "      <td>Joe Rogan</td>\n",
       "      <td>Good night, everybody. END OF TRANSCRIPTAutoma...</td>\n",
       "      <td>1.0</td>\n",
       "      <td>Good night everybody END OF TRANSCRIPTAutomate...</td>\n",
       "      <td>Good night everybody END TRANSCRIPTAutomated t...</td>\n",
       "      <td>18</td>\n",
       "      <td>16</td>\n",
       "      <td>18.000000</td>\n",
       "    </tr>\n",
       "  </tbody>\n",
       "</table>\n",
       "<p>1831 rows × 9 columns</p>\n",
       "</div>"
      ],
      "text/plain": [
       "      Timestamp    Speaker                                               Text  \\\n",
       "0           0.0  Joe Rogan  Ah, ha, ha, ha. Four, three, two, one, boom. T...   \n",
       "1           9.0  Elon Musk                                    You're welcome.   \n",
       "2          10.0  Joe Rogan                        It's very good to meet you.   \n",
       "3          11.0  Elon Musk                              Nice to meet you too.   \n",
       "4          12.0  Joe Rogan    And thanks for not lighting this place on fire.   \n",
       "...         ...        ...                                                ...   \n",
       "1826     9401.0  Joe Rogan            I believe it's true too. So, thank you.   \n",
       "1827     9403.0  Elon Musk                                    You're welcome.   \n",
       "1828     9404.0  Joe Rogan  All you assholes out there, be nice. Be nice, ...   \n",
       "1829     9410.0  Elon Musk                              All right, thank you.   \n",
       "1830     9410.0  Joe Rogan  Good night, everybody. END OF TRANSCRIPTAutoma...   \n",
       "\n",
       "      Interval                                        TextNoPunct  \\\n",
       "0          9.0  Ah ha ha ha Four three two one boom Thank you ...   \n",
       "1          1.0                                    You 're welcome   \n",
       "2          1.0                        It 's very good to meet you   \n",
       "3          1.0                               Nice to meet you too   \n",
       "4          1.0     And thanks for not lighting this place on fire   \n",
       "...        ...                                                ...   \n",
       "1826       2.0              I believe it 's true too So thank you   \n",
       "1827       1.0                                    You 're welcome   \n",
       "1828       6.0  All you assholes out there be nice Be nice bit...   \n",
       "1829       1.0                                All right thank you   \n",
       "1830       1.0  Good night everybody END OF TRANSCRIPTAutomate...   \n",
       "\n",
       "                                        TextNoStopWords  n_tokens  \\\n",
       "0          Ah ha ha ha boom Thank Thanks man appreciate        19   \n",
       "1                                               welcome         3   \n",
       "2                                             good meet         7   \n",
       "3                                             Nice meet         5   \n",
       "4                            thanks lighting place fire         9   \n",
       "...                                                 ...       ...   \n",
       "1826                                 believe true thank         9   \n",
       "1827                                            welcome         3   \n",
       "1828  assholes nice nice bitch right Thank everybody...        18   \n",
       "1829                                        right thank         4   \n",
       "1830  Good night everybody END TRANSCRIPTAutomated t...        18   \n",
       "\n",
       "      noTokensWOStopWords   Velocity  \n",
       "0                       9   2.111111  \n",
       "1                       1   3.000000  \n",
       "2                       2   7.000000  \n",
       "3                       2   5.000000  \n",
       "4                       4   9.000000  \n",
       "...                   ...        ...  \n",
       "1826                    3   4.500000  \n",
       "1827                    1   3.000000  \n",
       "1828                    9   3.000000  \n",
       "1829                    2   4.000000  \n",
       "1830                   16  18.000000  \n",
       "\n",
       "[1831 rows x 9 columns]"
      ]
     },
     "execution_count": 187,
     "metadata": {},
     "output_type": "execute_result"
    }
   ],
   "source": [
    "df"
   ]
  },
  {
   "cell_type": "code",
   "execution_count": 190,
   "id": "explicit-climb",
   "metadata": {
    "ExecuteTime": {
     "end_time": "2021-03-29T22:31:53.466751Z",
     "start_time": "2021-03-29T22:31:53.462928Z"
    }
   },
   "outputs": [
    {
     "data": {
      "text/plain": [
       "Speaker\n",
       "Elon Musk    2.887164\n",
       "Jaime        3.630031\n",
       "Joe Rogan    3.064403\n",
       "Name: Velocity, dtype: float64"
      ]
     },
     "execution_count": 190,
     "metadata": {},
     "output_type": "execute_result"
    }
   ],
   "source": [
    "df.groupby(by='Speaker').mean()['Velocity']"
   ]
  },
  {
   "cell_type": "markdown",
   "id": "structured-asian",
   "metadata": {},
   "source": [
    "After all, Elon was high...\n",
    "\n",
    "![image](https://bsmedia.business-standard.com/_media/bs/img/article/2018-09/09/full/1536463138-6668.jpg)"
   ]
  },
  {
   "cell_type": "code",
   "execution_count": null,
   "id": "green-samba",
   "metadata": {},
   "outputs": [],
   "source": [
    "# "
   ]
  }
 ],
 "metadata": {
  "kernelspec": {
   "display_name": "Python 3",
   "language": "python",
   "name": "python3"
  },
  "language_info": {
   "codemirror_mode": {
    "name": "ipython",
    "version": 3
   },
   "file_extension": ".py",
   "mimetype": "text/x-python",
   "name": "python",
   "nbconvert_exporter": "python",
   "pygments_lexer": "ipython3",
   "version": "3.9.7"
  },
  "varInspector": {
   "cols": {
    "lenName": 16,
    "lenType": 16,
    "lenVar": 40
   },
   "kernels_config": {
    "python": {
     "delete_cmd_postfix": "",
     "delete_cmd_prefix": "del ",
     "library": "var_list.py",
     "varRefreshCmd": "print(var_dic_list())"
    },
    "r": {
     "delete_cmd_postfix": ") ",
     "delete_cmd_prefix": "rm(",
     "library": "var_list.r",
     "varRefreshCmd": "cat(var_dic_list()) "
    }
   },
   "types_to_exclude": [
    "module",
    "function",
    "builtin_function_or_method",
    "instance",
    "_Feature"
   ],
   "window_display": false
  }
 },
 "nbformat": 4,
 "nbformat_minor": 5
}
