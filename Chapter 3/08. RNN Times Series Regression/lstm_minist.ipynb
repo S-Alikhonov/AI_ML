{
 "cells": [
  {
   "cell_type": "code",
   "execution_count": 2,
   "metadata": {},
   "outputs": [],
   "source": [
    "from torchvision import datasets,transforms\n",
    "from torch import nn \n",
    "import torch\n",
    "from torch.utils.data import DataLoader\n",
    "import torch.nn.functional as F\n",
    "import numpy as np"
   ]
  },
  {
   "cell_type": "code",
   "execution_count": 3,
   "metadata": {},
   "outputs": [
    {
     "name": "stdout",
     "output_type": "stream",
     "text": [
      "Downloading http://yann.lecun.com/exdb/mnist/train-images-idx3-ubyte.gz\n",
      "Downloading http://yann.lecun.com/exdb/mnist/train-images-idx3-ubyte.gz to mnist/MNIST/raw/train-images-idx3-ubyte.gz\n"
     ]
    },
    {
     "name": "stderr",
     "output_type": "stream",
     "text": [
      "9913344it [00:05, 1754245.31it/s]                             \n"
     ]
    },
    {
     "name": "stdout",
     "output_type": "stream",
     "text": [
      "Extracting mnist/MNIST/raw/train-images-idx3-ubyte.gz to mnist/MNIST/raw\n",
      "\n",
      "Downloading http://yann.lecun.com/exdb/mnist/train-labels-idx1-ubyte.gz\n",
      "Downloading http://yann.lecun.com/exdb/mnist/train-labels-idx1-ubyte.gz to mnist/MNIST/raw/train-labels-idx1-ubyte.gz\n"
     ]
    },
    {
     "name": "stderr",
     "output_type": "stream",
     "text": [
      "29696it [00:00, 421608.29it/s]           \n"
     ]
    },
    {
     "name": "stdout",
     "output_type": "stream",
     "text": [
      "Extracting mnist/MNIST/raw/train-labels-idx1-ubyte.gz to mnist/MNIST/raw\n",
      "\n",
      "Downloading http://yann.lecun.com/exdb/mnist/t10k-images-idx3-ubyte.gz\n",
      "Downloading http://yann.lecun.com/exdb/mnist/t10k-images-idx3-ubyte.gz to mnist/MNIST/raw/t10k-images-idx3-ubyte.gz\n"
     ]
    },
    {
     "name": "stderr",
     "output_type": "stream",
     "text": [
      "1649664it [00:01, 1320610.28it/s]                             \n"
     ]
    },
    {
     "name": "stdout",
     "output_type": "stream",
     "text": [
      "Extracting mnist/MNIST/raw/t10k-images-idx3-ubyte.gz to mnist/MNIST/raw\n",
      "\n",
      "Downloading http://yann.lecun.com/exdb/mnist/t10k-labels-idx1-ubyte.gz\n",
      "Downloading http://yann.lecun.com/exdb/mnist/t10k-labels-idx1-ubyte.gz to mnist/MNIST/raw/t10k-labels-idx1-ubyte.gz\n"
     ]
    },
    {
     "name": "stderr",
     "output_type": "stream",
     "text": [
      "5120it [00:00, 15471784.21it/s]         "
     ]
    },
    {
     "name": "stdout",
     "output_type": "stream",
     "text": [
      "Extracting mnist/MNIST/raw/t10k-labels-idx1-ubyte.gz to mnist/MNIST/raw\n",
      "\n"
     ]
    },
    {
     "name": "stderr",
     "output_type": "stream",
     "text": [
      "\n"
     ]
    }
   ],
   "source": [
    "train_set = datasets.MNIST('mnist/',train=True,download=True,transform=transforms.ToTensor())\n",
    "test_set = datasets.MNIST('mnist/',train=False,download=True,transform=transforms.ToTensor())"
   ]
  },
  {
   "cell_type": "code",
   "execution_count": 11,
   "metadata": {},
   "outputs": [],
   "source": [
    "class LSTM(nn.Module):\n",
    "    def __init__(self,input_dim,output_dim,hidden_dim,n_layers,batch_size):\n",
    "        super(LSTM,self).__init__()\n",
    "        self.input_dim = input_dim\n",
    "        self.hidden_dim = hidden_dim\n",
    "        self.output_dim = output_dim\n",
    "        self.n_layers = n_layers\n",
    "        self.batch_size = batch_size\n",
    "        self.lstm = nn.LSTM(self.input_dim,self.hidden_dim,self.n_layers,batch_first=True)\n",
    "        self.fc = nn.Linear(self.hidden_dim,self.output_dim)\n",
    "\n",
    "    def forward(self,x):\n",
    "        c0 = torch.zeros(self.n_layers,self.batch_size,self.hidden_dim).requires_grad_()\n",
    "        h0 = torch.zeros(self.n_layers,self.batch_size,self.hidden_dim).requires_grad_()\n",
    "        out,(h_t,c_t) = self.lstm(x,(h0,c0))\n",
    "        output = F.relu(h_t[-1])\n",
    "        return self.fc(output)\n"
   ]
  },
  {
   "cell_type": "code",
   "execution_count": 13,
   "metadata": {},
   "outputs": [
    {
     "name": "stdout",
     "output_type": "stream",
     "text": [
      "running [1/5]\n",
      "\ttrain loss is : 0.5024\taccuracy : 0.8411000014469028\n",
      "running [2/5]\n",
      "\ttrain loss is : 0.1396\taccuracy : 0.9595333378513654\n",
      "running [3/5]\n",
      "\ttrain loss is : 0.0904\taccuracy : 0.9739333421985308\n",
      "running [4/5]\n",
      "\ttrain loss is : 0.0711\taccuracy : 0.9795000101129214\n",
      "running [5/5]\n",
      "\ttrain loss is : 0.0593\taccuracy : 0.9823500100771586\n"
     ]
    }
   ],
   "source": [
    "batch_size = 100\n",
    "in_dim = 28\n",
    "out_dim = 10\n",
    "n_seq = 28\n",
    "hidden_dim = 128\n",
    "n_layers = 1\n",
    "epochs = 5\n",
    "losses = []\n",
    "accs = []\n",
    "model = LSTM(in_dim,out_dim,hidden_dim,n_layers,batch_size)\n",
    "criterion = nn.CrossEntropyLoss()\n",
    "optimizer = torch.optim.Adam(model.parameters(),lr=0.003)\n",
    "trainload = DataLoader(train_set,batch_size=batch_size)\n",
    "testload = DataLoader(test_set,batch_size=batch_size)\n",
    "for e in range(epochs):\n",
    "    loss_tr = []\n",
    "    acc_tr = []\n",
    "    print(f'running [{e+1}/{epochs}]')\n",
    "\n",
    "    model.train()\n",
    "    for i, (img_tr,y_tr) in enumerate(iter(trainload)):\n",
    "        #preventing grad. from accumulation\n",
    "        optimizer.zero_grad()\n",
    "        #reshaping images N X 1 X 28 X 28 -> N x n_Seq x num_features\n",
    "        img_tr = img_tr.view(-1,n_seq,in_dim)\n",
    "        output = model.forward(img_tr)\n",
    "        loss = criterion(output,y_tr)\n",
    "        loss.backward()\n",
    "        optimizer.step()\n",
    "        loss_tr.append(loss.item())\n",
    "        acc_tr.append(y_tr.eq(output.detach().argmax(dim=1)).float().mean().item())\n",
    "    losses.append(np.mean(loss_tr))\n",
    "    accs.append(np.mean(acc_tr))\n",
    "    print(f'\\ttrain loss is : {losses[-1]:.4f}\\taccuracy : {accs[-1]}')\n",
    "\n",
    "\n"
   ]
  },
  {
   "cell_type": "code",
   "execution_count": 18,
   "metadata": {},
   "outputs": [
    {
     "name": "stdout",
     "output_type": "stream",
     "text": [
      "\ttest loss : 0.07616689075483009\taccuracy : 0.9782000064849854\n"
     ]
    }
   ],
   "source": [
    "testload = DataLoader(test_set,batch_size=batch_size)\n",
    "\n",
    "\n",
    "loss_test = []\n",
    "acc_test = []\n",
    "with torch.no_grad():\n",
    "    model.eval()\n",
    "    for i, (img_test,y_test) in enumerate(iter(testload)):\n",
    "        #preventing grad. from accumulation\n",
    "        #reshaping images N X 1 X 28 X 28 -> N x n_Seq x num_features\n",
    "        img_test = img_test.view(-1,n_seq,in_dim)\n",
    "        output_test = model.forward(img_test)\n",
    "        loss = criterion(output_test,y_test)\n",
    "        loss_test.append(loss.item())\n",
    "        acc_test.append(y_test.eq(output_test.detach().argmax(dim=1)).float().mean().item())\n",
    "\n",
    "    print(f'\\ttest loss : {np.mean(loss_test)}\\taccuracy : {np.mean(acc_test)}')\n",
    "    \n"
   ]
  }
 ],
 "metadata": {
  "interpreter": {
   "hash": "c552931fb620b60b927d393c6464ee521e771bb8b6920714febc020bd5f2901f"
  },
  "kernelspec": {
   "display_name": "Python 3.9.7 64-bit ('deep_env': conda)",
   "language": "python",
   "name": "python3"
  },
  "language_info": {
   "codemirror_mode": {
    "name": "ipython",
    "version": 3
   },
   "file_extension": ".py",
   "mimetype": "text/x-python",
   "name": "python",
   "nbconvert_exporter": "python",
   "pygments_lexer": "ipython3",
   "version": "3.9.7"
  },
  "orig_nbformat": 4
 },
 "nbformat": 4,
 "nbformat_minor": 2
}
