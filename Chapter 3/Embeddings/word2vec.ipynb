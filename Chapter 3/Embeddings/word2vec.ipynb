{
 "cells": [
  {
   "cell_type": "code",
   "execution_count": 18,
   "metadata": {},
   "outputs": [],
   "source": [
    "import torch\n",
    "import numpy as np\n",
    "from torch import matmul\n",
    "from torch.autograd import Variable\n",
    "from embeddings import embeds\n",
    "from torch import nn\n",
    "import torch.nn.functional as F\n",
    "pth= 'blakepoems.txt'\n",
    "def input_layer(word_idx,voca_size):\n",
    "\tx = torch.zeros(voca_size)\n",
    "\tx[word_idx] = 1.0\n",
    "\treturn x\n",
    "\n",
    "\t\n",
    "def train(n_epochs,lr,embedding_size):\n",
    "    dataset,voca_size,(w2i,i2w) = embeds(pth,4)\n",
    "    #it s our linear transformations, let's say 1 hidden layer\n",
    "    W1 = Variable( torch.rand(embedding_size,voca_size).float(), requires_grad=True)\n",
    "    #it s our second hidden layer, \n",
    "    W2 = Variable( torch.rand(voca_size,embedding_size).float(), requires_grad=True)\n",
    "    for epoch in range(n_epochs):\n",
    "        print(f'running {epoch+1} out of {n_epochs} epochs')\n",
    "        loss_val = 0\n",
    "        for i,(data, target) in enumerate(dataset):\n",
    "\n",
    "            x = Variable(input_layer(data,voca_size)).float()\n",
    "            y_true = Variable(torch.from_numpy(np.array([target])).long())\n",
    "\n",
    "            #we are trainsforming x from (voca_size x 1) to (embedding x 1)\n",
    "            z1 = matmul(W1,x)\n",
    "            #it s transforming from (embedding x 1) to (voca_size x 1)\n",
    "            z2= matmul(W2,z1)\n",
    "            \n",
    "            #activation\n",
    "            log_softmax = F.log_softmax(z2, dim=0)\n",
    "            \n",
    "            #loss function expects input as N x C, or in our case 1 x voca_size\n",
    "            #so we will reshape our prediction output \n",
    "            loss = F.nll_loss(log_softmax.view(1,-1), y_true)\n",
    "            loss.backward()\n",
    "            \n",
    "            loss_val += loss.item()\n",
    "            \n",
    "            W1.data -= lr * W1.grad.data\n",
    "            W2.data -= lr * W2.grad.data\n",
    "\n",
    "            W1.grad.data.zero_()\n",
    "            W2.grad.data.zero_()\n",
    "            #we can compare visually, prediction and ground truth\n",
    "            if (i+1) % 10000 == 0:\n",
    "                print(f'\\titeration - {i+1}')\n",
    "                pred_ind = log_softmax.argmax(dim=0).item()\n",
    "                print(f'\\t\\tcenter word: {i2w[data]}\\t context pred.: {i2w[pred_ind]}\\tg.truth : {i2w[y_true.item()]}')\n",
    "\n",
    "    \n",
    "        \n",
    "        if epoch % 2 == 0:    \n",
    "            print(f'Loss at epoch {epoch}: {loss_val/len(dataset)}')\n",
    "            #let check for the last pairs pred and output \n",
    "            \n",
    "\n",
    "            pass\n",
    "\n"
   ]
  },
  {
   "cell_type": "code",
   "execution_count": 19,
   "metadata": {},
   "outputs": [
    {
     "name": "stdout",
     "output_type": "stream",
     "text": [
      "running 1 out of 20 epochs\n",
      "\titeration - 10000\n",
      "\t\tcenter word: name\t context pred.: and\tg.truth : my\n",
      "\titeration - 20000\n",
      "\t\tcenter word: fly\t context pred.: and\tg.truth : and\n",
      "\titeration - 30000\n",
      "\t\tcenter word: a\t context pred.: the\tg.truth : weakness\n",
      "Loss at epoch 0: 6.183877958556433\n",
      "running 2 out of 20 epochs\n",
      "\titeration - 10000\n",
      "\t\tcenter word: name\t context pred.: and\tg.truth : my\n",
      "\titeration - 20000\n",
      "\t\tcenter word: fly\t context pred.: and\tg.truth : and\n",
      "\titeration - 30000\n",
      "\t\tcenter word: a\t context pred.: and\tg.truth : weakness\n",
      "running 3 out of 20 epochs\n",
      "\titeration - 10000\n",
      "\t\tcenter word: name\t context pred.: and\tg.truth : my\n",
      "\titeration - 20000\n",
      "\t\tcenter word: fly\t context pred.: and\tg.truth : and\n",
      "\titeration - 30000\n",
      "\t\tcenter word: a\t context pred.: and\tg.truth : weakness\n",
      "Loss at epoch 2: 5.920687491680206\n",
      "running 4 out of 20 epochs\n",
      "\titeration - 10000\n",
      "\t\tcenter word: name\t context pred.: and\tg.truth : my\n"
     ]
    },
    {
     "ename": "KeyboardInterrupt",
     "evalue": "",
     "output_type": "error",
     "traceback": [
      "\u001b[0;31m---------------------------------------------------------------------------\u001b[0m",
      "\u001b[0;31mKeyboardInterrupt\u001b[0m                         Traceback (most recent call last)",
      "\u001b[0;32m/var/folders/1h/x7tmv9xd1bsclx868ql32nf40000gn/T/ipykernel_61168/2176799402.py\u001b[0m in \u001b[0;36m<module>\u001b[0;34m\u001b[0m\n\u001b[0;32m----> 1\u001b[0;31m \u001b[0mtrain\u001b[0m\u001b[0;34m(\u001b[0m\u001b[0;36m20\u001b[0m\u001b[0;34m,\u001b[0m\u001b[0;36m0.03\u001b[0m\u001b[0;34m,\u001b[0m\u001b[0;36m10\u001b[0m\u001b[0;34m)\u001b[0m\u001b[0;34m\u001b[0m\u001b[0;34m\u001b[0m\u001b[0m\n\u001b[0m",
      "\u001b[0;32m/var/folders/1h/x7tmv9xd1bsclx868ql32nf40000gn/T/ipykernel_61168/1495946651.py\u001b[0m in \u001b[0;36mtrain\u001b[0;34m(n_epochs, lr, embedding_size)\u001b[0m\n\u001b[1;32m     43\u001b[0m \u001b[0;34m\u001b[0m\u001b[0m\n\u001b[1;32m     44\u001b[0m             \u001b[0mW1\u001b[0m\u001b[0;34m.\u001b[0m\u001b[0mdata\u001b[0m \u001b[0;34m-=\u001b[0m \u001b[0mlr\u001b[0m \u001b[0;34m*\u001b[0m \u001b[0mW1\u001b[0m\u001b[0;34m.\u001b[0m\u001b[0mgrad\u001b[0m\u001b[0;34m.\u001b[0m\u001b[0mdata\u001b[0m\u001b[0;34m\u001b[0m\u001b[0;34m\u001b[0m\u001b[0m\n\u001b[0;32m---> 45\u001b[0;31m             \u001b[0mW2\u001b[0m\u001b[0;34m.\u001b[0m\u001b[0mdata\u001b[0m \u001b[0;34m-=\u001b[0m \u001b[0mlr\u001b[0m \u001b[0;34m*\u001b[0m \u001b[0mW2\u001b[0m\u001b[0;34m.\u001b[0m\u001b[0mgrad\u001b[0m\u001b[0;34m.\u001b[0m\u001b[0mdata\u001b[0m\u001b[0;34m\u001b[0m\u001b[0;34m\u001b[0m\u001b[0m\n\u001b[0m\u001b[1;32m     46\u001b[0m \u001b[0;34m\u001b[0m\u001b[0m\n\u001b[1;32m     47\u001b[0m             \u001b[0mW1\u001b[0m\u001b[0;34m.\u001b[0m\u001b[0mgrad\u001b[0m\u001b[0;34m.\u001b[0m\u001b[0mdata\u001b[0m\u001b[0;34m.\u001b[0m\u001b[0mzero_\u001b[0m\u001b[0;34m(\u001b[0m\u001b[0;34m)\u001b[0m\u001b[0;34m\u001b[0m\u001b[0;34m\u001b[0m\u001b[0m\n",
      "\u001b[0;31mKeyboardInterrupt\u001b[0m: "
     ]
    }
   ],
   "source": [
    "train(20,0.03,10)"
   ]
  }
 ],
 "metadata": {
  "interpreter": {
   "hash": "c552931fb620b60b927d393c6464ee521e771bb8b6920714febc020bd5f2901f"
  },
  "kernelspec": {
   "display_name": "Python 3.9.7 64-bit ('deep_env': conda)",
   "language": "python",
   "name": "python3"
  },
  "language_info": {
   "codemirror_mode": {
    "name": "ipython",
    "version": 3
   },
   "file_extension": ".py",
   "mimetype": "text/x-python",
   "name": "python",
   "nbconvert_exporter": "python",
   "pygments_lexer": "ipython3",
   "version": "3.9.7"
  },
  "orig_nbformat": 4
 },
 "nbformat": 4,
 "nbformat_minor": 2
}
