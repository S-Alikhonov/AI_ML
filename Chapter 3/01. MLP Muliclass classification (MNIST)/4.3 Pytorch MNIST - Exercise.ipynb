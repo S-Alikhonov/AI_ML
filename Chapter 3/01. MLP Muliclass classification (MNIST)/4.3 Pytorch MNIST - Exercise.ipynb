{
 "cells": [
  {
   "cell_type": "markdown",
   "source": [
    "<div style=\"background:#222222; color:#ffffff; padding:20px\">\n",
    "    <h2 align=\"center\">Deep Learning Fundamentals</h2>\n",
    "    <h2 align=\"center\" style=\"color:#01ff84\">Multiclass Clasification: MNIST</h2>\n",
    "<div>"
   ],
   "metadata": {}
  },
  {
   "cell_type": "markdown",
   "source": [
    "## Imports"
   ],
   "metadata": {}
  },
  {
   "cell_type": "code",
   "execution_count": 1,
   "source": [
    "%matplotlib inline\n",
    "%config InlineBackend.figure_format = 'retina'\n",
    "\n",
    "from collections import OrderedDict\n",
    "\n",
    "import numpy as np\n",
    "import matplotlib.pyplot as plt\n",
    "import time\n",
    "\n",
    "import torch\n",
    "from torch import nn\n",
    "from torch import optim\n",
    "import torch.nn.functional as F\n",
    "\n",
    "from torchvision import datasets, transforms"
   ],
   "outputs": [],
   "metadata": {}
  },
  {
   "cell_type": "markdown",
   "source": [
    "## Auxliary plotting function"
   ],
   "metadata": {}
  },
  {
   "cell_type": "code",
   "execution_count": 2,
   "source": [
    "# https://discuss.pytorch.org/t/view-classify-in-module-helper/30279/6\n",
    "\n",
    "def view_classify(img, ps):\n",
    "\n",
    "    ps = ps.data.numpy().squeeze()\n",
    "\n",
    "    fig, (ax1, ax2) = plt.subplots(figsize=(6,9), ncols=2)\n",
    "    ax1.imshow(img.resize_(1, 28, 28).numpy().squeeze())\n",
    "    ax1.axis('off')\n",
    "    ax2.barh(np.arange(10), ps)\n",
    "    ax2.set_aspect(0.1)\n",
    "    ax2.set_yticks(np.arange(10))\n",
    "    ax2.set_yticklabels(np.arange(10))\n",
    "    ax2.set_title('Class Probability')\n",
    "    ax2.set_xlim(0, 1.1)"
   ],
   "outputs": [],
   "metadata": {}
  },
  {
   "cell_type": "markdown",
   "source": [
    "# Load MNIST Dataset\n",
    "First up, we need to get our dataset. This is provided through the `torchvision` package. The code below will download the MNIST dataset, then create training and test datasets for us. Don't worry too much about the details here, you'll learn more about this later."
   ],
   "metadata": {}
  },
  {
   "cell_type": "code",
   "execution_count": 2,
   "source": [
    "# Define a transform to normalize the data (Preprocessing)\n",
    "transform = transforms.Compose([transforms.ToTensor(), transforms.Normalize((0.5), (0.5)) ])\n",
    "\n",
    "# Download and load the training data\n",
    "trainset    = datasets.MNIST('MNIST_data/', download=True, train=True, transform=transform)\n",
    "trainloader = torch.utils.data.DataLoader(trainset, batch_size=64, shuffle=True)\n",
    "\n",
    "# Download and load the test data\n",
    "testset    = datasets.MNIST('MNIST_data/', download=True, train=False, transform=transform)\n",
    "testloader = torch.utils.data.DataLoader(testset, batch_size=64, shuffle=True)"
   ],
   "outputs": [],
   "metadata": {}
  },
  {
   "cell_type": "code",
   "execution_count": 3,
   "source": [
    "dataiter = iter(trainloader)\n",
    "images, labels = dataiter.next()\n",
    "\n"
   ],
   "outputs": [],
   "metadata": {}
  },
  {
   "cell_type": "markdown",
   "source": [
    "We have the training data loaded into `trainloader` and we make that an iterator with `iter(trainloader)`. We'd use this to loop through the dataset for training, but here I'm just grabbing the first batch so we can check out the data. We can see below that `images` is just a tensor with size (64, 1, 28, 28). So, 64 images per batch, 1 color channel, and 28x28 images."
   ],
   "metadata": {}
  },
  {
   "cell_type": "code",
   "execution_count": null,
   "source": [
    "plt.imshow(images[9].numpy().squeeze(), cmap='Greys_r');"
   ],
   "outputs": [],
   "metadata": {}
  },
  {
   "cell_type": "code",
   "execution_count": null,
   "source": [
    "images[1].numpy().squeeze()"
   ],
   "outputs": [],
   "metadata": {}
  },
  {
   "cell_type": "markdown",
   "source": [
    "## Building networks with PyTorch\n",
    "\n",
    "Here I'll use PyTorch to build a simple feedfoward network to classify the MNIST images. That is, the network will receive a digit image as input and predict the digit in the image.\n",
    "\n",
    "<img src=\"assets/mlp_mnist.png\" width=600px>\n",
    "\n",
    "To build a neural network with PyTorch, you use the `torch.nn` module. The network itself is a class inheriting from `torch.nn.Module`. You define each of the operations separately, like `nn.Linear(784, 128)` for a fully connected linear layer with 784 inputs and 128 units.\n",
    "\n",
    "The class needs to include a `forward` method that implements the forward pass through the network. In this method, you pass some input tensor `x` through each of the operations you defined earlier. The `torch.nn` module also has functional equivalents for things like ReLUs in `torch.nn.functional`. This module is usually imported as `F`. Then to use a ReLU activation on some layer (which is just a tensor), you'd do `F.relu(x)`. Below are a few different commonly used activation functions.\n",
    "\n",
    "<img src=\"assets/activation.png\" width=700px>\n",
    "\n",
    "So, for this network, I'll build it with three fully connected layers, then a softmax output for predicting classes. The softmax function is similar to the sigmoid in that it squashes inputs between 0 and 1, but it's also normalized so that all the values sum to one like a proper probability distribution."
   ],
   "metadata": {}
  },
  {
   "cell_type": "code",
   "execution_count": null,
   "source": [
    "class Network(nn.Module):\n",
    "    \n",
    "    # Defining the layers, 128, 64, 10 units each\n",
    "    def __init__(self):\n",
    "        super().__init__()\n",
    "        self.fc1 = nn.Linear(784, 128)\n",
    "        self.fc2 = nn.Linear(128, 64)\n",
    "        self.fc3 = nn.Linear(64, 10)\n",
    "        \n",
    "    # Forward pass through the network, returns the output logits\n",
    "    def forward(self, x):\n",
    "        x = self.fc1(x)\n",
    "        x = F.relu(x)\n",
    "        x = self.fc2(x)\n",
    "        x = F.relu(x)\n",
    "        x = self.fc3(x)\n",
    "        x = F.softmax(x, dim=1)\n",
    "        return x\n",
    "\n",
    "model = Network()\n",
    "model"
   ],
   "outputs": [],
   "metadata": {}
  },
  {
   "cell_type": "markdown",
   "source": [
    "### Sequential API\n",
    "PyTorch provides a convenient way to build networks like this where a tensor is passed sequentially through operations, `nn.Sequential` ([documentation](https://pytorch.org/docs/master/nn.html#torch.nn.Sequential)). Using this to build the equivalent network:"
   ],
   "metadata": {}
  },
  {
   "cell_type": "code",
   "execution_count": 4,
   "source": [
    "# Hyperparameters for our network\n",
    "input_size   = 784\n",
    "hidden_sizes = [128, 64]\n",
    "output_size   = 10\n",
    "\n",
    "# Build a feed-forward network\n",
    "model = nn.Sequential(nn.Linear(input_size, hidden_sizes[0]),\n",
    "                      nn.ReLU(),\n",
    "                      nn.Linear(hidden_sizes[0], hidden_sizes[1]),\n",
    "                      nn.ReLU(),\n",
    "                      nn.Linear(hidden_sizes[1], output_size),\n",
    "                      nn.Softmax(dim=1))\n",
    "print(model)"
   ],
   "outputs": [
    {
     "output_type": "stream",
     "name": "stdout",
     "text": [
      "Sequential(\n",
      "  (0): Linear(in_features=784, out_features=128, bias=True)\n",
      "  (1): ReLU()\n",
      "  (2): Linear(in_features=128, out_features=64, bias=True)\n",
      "  (3): ReLU()\n",
      "  (4): Linear(in_features=64, out_features=10, bias=True)\n",
      "  (5): Softmax(dim=1)\n",
      ")\n"
     ]
    }
   ],
   "metadata": {}
  },
  {
   "cell_type": "markdown",
   "source": [
    "You can also pass in an `OrderedDict` to name the individual layers and operations. Note that a dictionary keys must be unique, so _each operation must have a different name_."
   ],
   "metadata": {}
  },
  {
   "cell_type": "code",
   "execution_count": null,
   "source": [
    "model = nn.Sequential(OrderedDict([\n",
    "          ('fc1',   nn.Linear(input_size, hidden_sizes[0])),\n",
    "          ('relu1', nn.ReLU()),\n",
    "          ('fc2',   nn.Linear(hidden_sizes[0], hidden_sizes[1])),\n",
    "          ('relu2', nn.ReLU()),\n",
    "          ('output', nn.Linear(hidden_sizes[1], output_size)),\n",
    "          ('softmax', nn.Softmax(dim=1))]))\n",
    "model"
   ],
   "outputs": [],
   "metadata": {}
  },
  {
   "cell_type": "markdown",
   "source": [
    "### Initializing weights and biases\n",
    "\n",
    "The weights and such are automatically initialized for you, but it's possible to customize how they are initialized. The weights and biases are tensors attached to the layer you defined, you can get them with `model.fc1.weight` for instance."
   ],
   "metadata": {}
  },
  {
   "cell_type": "code",
   "execution_count": null,
   "source": [
    "print(model.fc1.weight)\n",
    "print(model.fc1.bias)"
   ],
   "outputs": [],
   "metadata": {}
  },
  {
   "cell_type": "markdown",
   "source": [
    "For custom initialization, we want to modify these tensors in place. These are actually autograd *Variables*, so we need to get back the actual tensors with `model.fc1.weight.data`. Once we have the tensors, we can fill them with zeros (for biases) or random normal values."
   ],
   "metadata": {}
  },
  {
   "cell_type": "code",
   "execution_count": null,
   "source": [
    "# Set biases to all zeros\n",
    "model.fc1.bias.data.fill_(0)"
   ],
   "outputs": [],
   "metadata": {}
  },
  {
   "cell_type": "code",
   "execution_count": null,
   "source": [
    "# sample from random normal with standard dev = 0.01\n",
    "model.fc1.weight.data.normal_(std=0.01)"
   ],
   "outputs": [],
   "metadata": {}
  },
  {
   "cell_type": "markdown",
   "source": [
    "### STEP 1: Forward pass\n",
    "\n",
    "Now that we have a network, let's see what happens when we pass in an image. This is called the forward pass. We're going to convert the image data into a tensor, then pass it through the operations defined by the network architecture."
   ],
   "metadata": {}
  },
  {
   "cell_type": "code",
   "execution_count": 5,
   "source": [
    "# Grab some data \n",
    "dataiter = iter(trainloader)\n",
    "images, labels = dataiter.next()\n",
    "\n",
    "# Resize images into a 1D vector, new shape is (batch size, color channels, image pixels) \n",
    "images.resize_(64, 1, 784)\n",
    "# or images.resize_(images.shape[0], 1, 784) to not automatically get batch size\n",
    "\n",
    "# Forward pass through the network\n",
    "img_idx = 0\n",
    "print(img_idx)\n",
    "ps = model.forward(images[img_idx,:])\n",
    "\n",
    "img = images[img_idx]\n",
    "view_classify(img.view(1, 28, 28), ps)"
   ],
   "outputs": [
    {
     "output_type": "stream",
     "name": "stdout",
     "text": [
      "0\n"
     ]
    },
    {
     "output_type": "error",
     "ename": "NameError",
     "evalue": "name 'view_classify' is not defined",
     "traceback": [
      "\u001b[0;31m---------------------------------------------------------------------------\u001b[0m",
      "\u001b[0;31mNameError\u001b[0m                                 Traceback (most recent call last)",
      "\u001b[0;32m/var/folders/1h/x7tmv9xd1bsclx868ql32nf40000gn/T/ipykernel_42356/532185279.py\u001b[0m in \u001b[0;36m<module>\u001b[0;34m\u001b[0m\n\u001b[1;32m     13\u001b[0m \u001b[0;34m\u001b[0m\u001b[0m\n\u001b[1;32m     14\u001b[0m \u001b[0mimg\u001b[0m \u001b[0;34m=\u001b[0m \u001b[0mimages\u001b[0m\u001b[0;34m[\u001b[0m\u001b[0mimg_idx\u001b[0m\u001b[0;34m]\u001b[0m\u001b[0;34m\u001b[0m\u001b[0;34m\u001b[0m\u001b[0m\n\u001b[0;32m---> 15\u001b[0;31m \u001b[0mview_classify\u001b[0m\u001b[0;34m(\u001b[0m\u001b[0mimg\u001b[0m\u001b[0;34m.\u001b[0m\u001b[0mview\u001b[0m\u001b[0;34m(\u001b[0m\u001b[0;36m1\u001b[0m\u001b[0;34m,\u001b[0m \u001b[0;36m28\u001b[0m\u001b[0;34m,\u001b[0m \u001b[0;36m28\u001b[0m\u001b[0;34m)\u001b[0m\u001b[0;34m,\u001b[0m \u001b[0mps\u001b[0m\u001b[0;34m)\u001b[0m\u001b[0;34m\u001b[0m\u001b[0;34m\u001b[0m\u001b[0m\n\u001b[0m",
      "\u001b[0;31mNameError\u001b[0m: name 'view_classify' is not defined"
     ]
    }
   ],
   "metadata": {}
  },
  {
   "cell_type": "markdown",
   "source": [
    "As you can see above, our network has basically no idea what this digit is. It's because we haven't trained it yet, all the weights are random!"
   ],
   "metadata": {}
  },
  {
   "cell_type": "markdown",
   "source": [
    "# Training Neural Networks\n",
    "\n",
    "The network we built isn't so smart, it doesn't know anything about our handwritten digits. Neural networks with non-linear activations work like universal function approximators. There is some function that maps your input to the output. For example, images of handwritten digits to class probabilities. The power of neural networks is that we can train them to approximate this function, and basically any function given enough data and compute time.\n",
    "\n",
    "<img src=\"assets/function_approx.png\" width=500px>\n",
    "\n",
    "At first the network is naive, it doesn't know the function mapping the inputs to the outputs. We train the network by showing it examples of real data, then adjusting the network parameters such that it approximates this function.\n",
    "\n",
    "To find these parameters, we need to know how poorly the network is predicting the real outputs. For this we calculate a **loss function** (also called the cost), a measure of our prediction error. For example, the mean squared loss is often used in regression and binary classification problems\n",
    "\n",
    "$$\n",
    "\\ell = \\frac{1}{2n}\\sum_i^n{\\left(y_i - \\hat{y}_i\\right)^2}\n",
    "$$\n",
    "\n",
    "where $n$ is the number of training examples, $y_i$ are the true labels, and $\\hat{y}_i$ are the predicted labels.\n",
    "\n",
    "By minimizing this loss with respect to the network parameters, we can find configurations where the loss is at a minimum and the network is able to predict the correct labels with high accuracy. We find this minimum using a process called **gradient descent**. The gradient is the slope of the loss function and points in the direction of fastest change. To get to the minimum in the least amount of time, we then want to follow the gradient (downwards). You can think of this like descending a mountain by following the steepest slope to the base.\n",
    "\n",
    "<img src='assets/gradient_descent.png' width=350px>"
   ],
   "metadata": {}
  },
  {
   "cell_type": "markdown",
   "source": [
    "## Backpropagation\n",
    "\n",
    "For single layer networks, gradient descent is simple to implement. However, it's more complicated for deeper, multilayer neural networks like the one we've built. Complicated enough that it took about 30 years before researchers figured out how to train multilayer networks, although it's straightforward once you learn about it. \n",
    "\n",
    "This is done through **backpropagation** which is really just an application of the chain rule from calculus. It's easiest to understand if we convert a two layer network into a graph representation.\n",
    "\n",
    "<img src='assets/w1_backprop_graph.png' width=400px>\n",
    "\n",
    "In the forward pass through the network, our data and operations go from right to left here. To train the weights with gradient descent, we propagate the gradient of the cost backwards through the network. Mathematically, this is really just calculating the gradient of the loss with respect to the weights using the chain rule.\n",
    "\n",
    "$$\n",
    "\\frac{\\partial \\ell}{\\partial w_1} = \\frac{\\partial l_1}{\\partial w_1} \\frac{\\partial s}{\\partial l_1} \\frac{\\partial l_2}{\\partial s} \\frac{\\partial \\ell}{\\partial l_2}\n",
    "$$\n",
    "\n",
    "We update our weights using this gradient with some learning rate $\\alpha$. \n",
    "\n",
    "$$\n",
    "w^\\prime = w - \\alpha \\frac{\\partial \\ell}{\\partial w}\n",
    "$$\n",
    "\n",
    "The learning rate is set such that the weight update steps are small enough that the iterative method settles in a minimum.\n",
    "\n",
    "The first thing we need to do for training is define our loss function. In PyTorch, you'll usually see this as `criterion`. Here we're using softmax output, so we want to use `criterion = nn.CrossEntropyLoss()` as our loss. Later when training, you use `loss = criterion(output, targets)` to calculate the actual loss.\n",
    "\n",
    "We also need to define the optimizer we're using, SGD or Adam, or something along those lines. Here I'll just use SGD with `torch.optim.SGD`, passing in the network parameters and the learning rate."
   ],
   "metadata": {}
  },
  {
   "cell_type": "markdown",
   "source": [
    "## Autograd\n",
    "\n",
    "Torch provides a module, `autograd`, for automatically calculating the gradient of tensors. It does this by keeping track of operations performed on tensors. To make sure PyTorch keeps track of operations on a tensor and calculates the gradients, you need to set `requires_grad` on a tensor. You can do this at creation with the `requires_grad` keyword, or at any time with `x.requires_grad_(True)`.\n",
    "\n",
    "You can turn off gradients for a block of code with the `torch.no_grad()` content:\n",
    "```python\n",
    "x = torch.zeros(1, requires_grad=True)\n",
    ">>> with torch.no_grad():\n",
    "...     y = x * 2\n",
    ">>> y.requires_grad\n",
    "False\n",
    "```\n",
    "\n",
    "Also, you can turn on or off gradients altogether with `torch.set_grad_enabled(True|False)`.\n",
    "\n",
    "The gradients are computed with respect to some variable `z` with `z.backward()`. This does a backward pass through the operations that created `z`."
   ],
   "metadata": {}
  },
  {
   "cell_type": "code",
   "execution_count": null,
   "source": [
    "x = torch.randn(2,2, requires_grad=True)\n",
    "print(x)"
   ],
   "outputs": [],
   "metadata": {}
  },
  {
   "cell_type": "code",
   "execution_count": null,
   "source": [
    "y = x**2\n",
    "print(y)"
   ],
   "outputs": [],
   "metadata": {}
  },
  {
   "cell_type": "markdown",
   "source": [
    "Below we can see the operation that created `y`, a power operation `PowBackward0`."
   ],
   "metadata": {}
  },
  {
   "cell_type": "code",
   "execution_count": null,
   "source": [
    "## grad_fn shows the function that generated this variable\n",
    "print(y.grad_fn)\n"
   ],
   "outputs": [],
   "metadata": {}
  },
  {
   "cell_type": "markdown",
   "source": [
    "The autgrad module keeps track of these operations and knows how to calculate the gradient for each one. In this way, it's able to calculate the gradients for a chain of operations, with respect to any one tensor. Let's reduce the tensor `y` to a scalar value, the mean."
   ],
   "metadata": {}
  },
  {
   "cell_type": "code",
   "execution_count": null,
   "source": [
    "z = y.mean()\n",
    "print(z)"
   ],
   "outputs": [],
   "metadata": {}
  },
  {
   "cell_type": "markdown",
   "source": [
    "You can check the gradients for `x` and `y` but they are empty currently."
   ],
   "metadata": {}
  },
  {
   "cell_type": "code",
   "execution_count": null,
   "source": [
    "print(x.grad)"
   ],
   "outputs": [],
   "metadata": {}
  },
  {
   "cell_type": "markdown",
   "source": [
    "To calculate the gradients, you need to run the `.backward` method on a Variable, `z` for example. This will calculate the gradient for `z` with respect to `x`\n",
    "\n",
    "$$\n",
    "\\frac{\\partial z}{\\partial x} = \\frac{\\partial}{\\partial x}\\left[\\frac{1}{n}\\sum_i^n x_i^2\\right] = \\frac{x}{2}\n",
    "$$"
   ],
   "metadata": {}
  },
  {
   "cell_type": "code",
   "execution_count": null,
   "source": [
    "z.backward()\n",
    "print(x.grad)\n",
    "print(x/2)"
   ],
   "outputs": [],
   "metadata": {}
  },
  {
   "cell_type": "markdown",
   "source": [
    "These gradients calculations are particularly useful for neural networks. For training we need the gradients of the weights with respect to the cost. With PyTorch, we run data forward through the network to calculate the cost, then, go backwards to calculate the gradients with respect to the cost. Once we have the gradients we can make a gradient descent step. "
   ],
   "metadata": {}
  },
  {
   "cell_type": "markdown",
   "source": [
    "I'll build a network with `nn.Sequential` here. Only difference from the last part is I'm not actually using softmax on the output, but instead just using the raw output from the last layer. This is because the output from softmax is a probability distribution. Often, the output will have values really close to zero or really close to one. Due to [inaccuracies with representing numbers as floating points](https://docs.python.org/3/tutorial/floatingpoint.html), computations with a softmax output can lose accuracy and become unstable. To get around this, we'll use the raw output, called the **logits**, to calculate the loss."
   ],
   "metadata": {}
  },
  {
   "cell_type": "code",
   "execution_count": 6,
   "source": [
    "# Hyperparameters for our network\n",
    "input_size   = 784\n",
    "hidden_sizes = [128, 64]\n",
    "output_size  = 10\n",
    "\n",
    "# Build a feed-forward network\n",
    "model = nn.Sequential(OrderedDict([\n",
    "          ('fc1', nn.Linear(input_size, hidden_sizes[0])),\n",
    "          ('relu1', nn.ReLU()),\n",
    "          ('fc2', nn.Linear(hidden_sizes[0], hidden_sizes[1])),\n",
    "          ('relu2', nn.ReLU()),\n",
    "          ('logits', nn.Linear(hidden_sizes[1], output_size))]))\n",
    "\n",
    "model1 = nn.Sequential(OrderedDict([\n",
    "          ('fc1', nn.Linear(input_size, hidden_sizes[0])),\n",
    "          ('relu1', nn.ReLU()),\n",
    "          ('fc2', nn.Linear(hidden_sizes[0], hidden_sizes[1])),\n",
    "          ('relu2', nn.ReLU()),\n",
    "          ('fc3',nn.Linear(hidden_sizes[1],output_size)),\n",
    "          ('output', nn.Softmax(dim=1))]))"
   ],
   "outputs": [],
   "metadata": {}
  },
  {
   "cell_type": "markdown",
   "source": [
    "## Training the network!\n",
    "\n",
    "The first thing we need to do for training is define our loss function. In PyTorch, you'll usually see this as `criterion`. Here we're using softmax output, so we want to use `criterion = nn.CrossEntropyLoss()` as our loss. Later when training, you use `loss = criterion(output, targets)` to calculate the actual loss.\n",
    "\n",
    "We also need to define the optimizer we're using, SGD or Adam, or something along those lines. Here I'll just use SGD with `torch.optim.SGD`, passing in the network parameters and the learning rate."
   ],
   "metadata": {}
  },
  {
   "cell_type": "code",
   "execution_count": 7,
   "source": [
    "criterion = nn.CrossEntropyLoss()\n",
    "optimizer = optim.SGD(model.parameters(), lr=0.01)"
   ],
   "outputs": [],
   "metadata": {}
  },
  {
   "cell_type": "markdown",
   "source": [
    "First, let's consider just one learning step before looping through all the data. The general process with PyTorch:\n",
    "\n",
    "* Make a forward pass through the network to get the logits \n",
    "* Use the logits to calculate the loss\n",
    "* Perform a backward pass through the network with `loss.backward()` to calculate the gradients\n",
    "* Take a step with the optimizer to update the weights\n",
    "\n",
    "Below I'll go through one training step and print out the weights and gradients so you can see how it changes."
   ],
   "metadata": {}
  },
  {
   "cell_type": "code",
   "execution_count": 8,
   "source": [
    "print('Initial weights - ', model.fc1.weight)\n",
    "\n",
    "images, labels = next(iter(trainloader))\n",
    "images.resize_(64, 784)\n",
    "\n",
    "# Clear the gradients, do this because gradients are accumulated\n",
    "optimizer.zero_grad()\n",
    "\n",
    "# Forward pass, then backward pass, then update weights\n",
    "output = model.forward(images)\n",
    "loss = criterion(output, labels)\n",
    "loss.backward()\n",
    "print('Gradient -', model.fc1.weight.grad)\n",
    "optimizer.step()"
   ],
   "outputs": [
    {
     "output_type": "stream",
     "name": "stdout",
     "text": [
      "Initial weights -  Parameter containing:\n",
      "tensor([[-0.0103, -0.0295,  0.0253,  ...,  0.0161, -0.0046, -0.0168],\n",
      "        [-0.0225,  0.0107, -0.0219,  ...,  0.0092,  0.0249, -0.0011],\n",
      "        [ 0.0255,  0.0091,  0.0128,  ...,  0.0133, -0.0013, -0.0228],\n",
      "        ...,\n",
      "        [-0.0161, -0.0349, -0.0117,  ..., -0.0118,  0.0200,  0.0263],\n",
      "        [-0.0026,  0.0194,  0.0166,  ...,  0.0348,  0.0295, -0.0293],\n",
      "        [-0.0310,  0.0342,  0.0142,  ..., -0.0175, -0.0046, -0.0133]],\n",
      "       requires_grad=True)\n",
      "Gradient - tensor([[ 0.0000,  0.0000,  0.0000,  ...,  0.0000,  0.0000,  0.0000],\n",
      "        [-0.0006, -0.0006, -0.0006,  ..., -0.0006, -0.0006, -0.0006],\n",
      "        [ 0.0031,  0.0031,  0.0031,  ...,  0.0031,  0.0031,  0.0031],\n",
      "        ...,\n",
      "        [ 0.0035,  0.0035,  0.0035,  ...,  0.0035,  0.0035,  0.0035],\n",
      "        [-0.0027, -0.0027, -0.0027,  ..., -0.0027, -0.0027, -0.0027],\n",
      "        [ 0.0005,  0.0005,  0.0005,  ...,  0.0005,  0.0005,  0.0005]])\n"
     ]
    }
   ],
   "metadata": {}
  },
  {
   "cell_type": "code",
   "execution_count": null,
   "source": [
    "print('Updated weights - ', model.fc1.weight)"
   ],
   "outputs": [],
   "metadata": {}
  },
  {
   "cell_type": "markdown",
   "source": [
    "### Training for real\n",
    "\n",
    "Now we'll put this algorithm into a loop so we can go through all the images. This is fairly straightforward. We'll loop through the mini-batches in our dataset, pass the data through the network to calculate the losses, get the gradients, then run the optimizer."
   ],
   "metadata": {}
  },
  {
   "cell_type": "code",
   "execution_count": 3,
   "source": [
    "optimizer = optim.SGD(model.parameters(), lr=0.03)"
   ],
   "outputs": [
    {
     "output_type": "error",
     "ename": "NameError",
     "evalue": "name 'model' is not defined",
     "traceback": [
      "\u001b[0;31m---------------------------------------------------------------------------\u001b[0m",
      "\u001b[0;31mNameError\u001b[0m                                 Traceback (most recent call last)",
      "\u001b[0;32m/var/folders/1h/x7tmv9xd1bsclx868ql32nf40000gn/T/ipykernel_42506/4181990790.py\u001b[0m in \u001b[0;36m<module>\u001b[0;34m\u001b[0m\n\u001b[0;32m----> 1\u001b[0;31m \u001b[0moptimizer\u001b[0m \u001b[0;34m=\u001b[0m \u001b[0moptim\u001b[0m\u001b[0;34m.\u001b[0m\u001b[0mSGD\u001b[0m\u001b[0;34m(\u001b[0m\u001b[0mmodel\u001b[0m\u001b[0;34m.\u001b[0m\u001b[0mparameters\u001b[0m\u001b[0;34m(\u001b[0m\u001b[0;34m)\u001b[0m\u001b[0;34m,\u001b[0m \u001b[0mlr\u001b[0m\u001b[0;34m=\u001b[0m\u001b[0;36m0.03\u001b[0m\u001b[0;34m)\u001b[0m\u001b[0;34m\u001b[0m\u001b[0;34m\u001b[0m\u001b[0m\n\u001b[0m",
      "\u001b[0;31mNameError\u001b[0m: name 'model' is not defined"
     ]
    }
   ],
   "metadata": {}
  },
  {
   "cell_type": "code",
   "execution_count": 9,
   "source": [
    "epochs = 10\n",
    "print_every = 40\n",
    "\n",
    "for e in range(epochs):\n",
    "    running_loss = 0\n",
    "    print(f\"Epoch: {e+1}/{epochs}\")\n",
    "\n",
    "    for i, (images, labels) in enumerate(iter(trainloader)):\n",
    "\n",
    "        # Flatten MNIST images into a 784 long vector\n",
    "        images.resize_(images.size()[0], 784)\n",
    "        optimizer.zero_grad()\n",
    "        output = model.forward(images)\n",
    "        loss = criterion(output, labels) # 2) Compute loss\n",
    "        loss.backward()                  # 3) Backward pass\n",
    "        optimizer.step()                 # 4) Update model\n",
    "        \n",
    "        running_loss += loss.item()\n",
    "        \n",
    "        if i % print_every == 0:\n",
    "            print(f\"\\tIteration: {i}\\t Loss: {running_loss/print_every:.4f}\")\n",
    "            running_loss = 0"
   ],
   "outputs": [
    {
     "output_type": "stream",
     "name": "stdout",
     "text": [
      "Epoch: 1/10\n",
      "\tIteration: 0\t Loss: 0.0569\n",
      "\tIteration: 40\t Loss: 2.2530\n",
      "\tIteration: 80\t Loss: 2.1713\n",
      "\tIteration: 120\t Loss: 2.0463\n",
      "\tIteration: 160\t Loss: 1.8909\n",
      "\tIteration: 200\t Loss: 1.6922\n",
      "\tIteration: 240\t Loss: 1.4849\n",
      "\tIteration: 280\t Loss: 1.2677\n",
      "\tIteration: 320\t Loss: 1.0989\n",
      "\tIteration: 360\t Loss: 0.9563\n",
      "\tIteration: 400\t Loss: 0.8478\n",
      "\tIteration: 440\t Loss: 0.7900\n",
      "\tIteration: 480\t Loss: 0.7001\n",
      "\tIteration: 520\t Loss: 0.6572\n",
      "\tIteration: 560\t Loss: 0.6358\n",
      "\tIteration: 600\t Loss: 0.5837\n",
      "\tIteration: 640\t Loss: 0.5407\n",
      "\tIteration: 680\t Loss: 0.4870\n",
      "\tIteration: 720\t Loss: 0.5256\n",
      "\tIteration: 760\t Loss: 0.4916\n",
      "\tIteration: 800\t Loss: 0.4578\n",
      "\tIteration: 840\t Loss: 0.4365\n",
      "\tIteration: 880\t Loss: 0.4608\n",
      "\tIteration: 920\t Loss: 0.4565\n",
      "Epoch: 2/10\n",
      "\tIteration: 0\t Loss: 0.0099\n",
      "\tIteration: 40\t Loss: 0.4022\n",
      "\tIteration: 80\t Loss: 0.4139\n",
      "\tIteration: 120\t Loss: 0.4158\n",
      "\tIteration: 160\t Loss: 0.4175\n",
      "\tIteration: 200\t Loss: 0.4044\n",
      "\tIteration: 240\t Loss: 0.4104\n",
      "\tIteration: 280\t Loss: 0.3683\n",
      "\tIteration: 320\t Loss: 0.4051\n",
      "\tIteration: 360\t Loss: 0.3836\n",
      "\tIteration: 400\t Loss: 0.4081\n",
      "\tIteration: 440\t Loss: 0.4048\n",
      "\tIteration: 480\t Loss: 0.3806\n",
      "\tIteration: 520\t Loss: 0.3581\n",
      "\tIteration: 560\t Loss: 0.4073\n",
      "\tIteration: 600\t Loss: 0.3673\n",
      "\tIteration: 640\t Loss: 0.3620\n",
      "\tIteration: 680\t Loss: 0.3674\n",
      "\tIteration: 720\t Loss: 0.3720\n",
      "\tIteration: 760\t Loss: 0.3334\n",
      "\tIteration: 800\t Loss: 0.3872\n",
      "\tIteration: 840\t Loss: 0.3785\n",
      "\tIteration: 880\t Loss: 0.3636\n",
      "\tIteration: 920\t Loss: 0.3488\n",
      "Epoch: 3/10\n",
      "\tIteration: 0\t Loss: 0.0110\n",
      "\tIteration: 40\t Loss: 0.3504\n",
      "\tIteration: 80\t Loss: 0.3337\n",
      "\tIteration: 120\t Loss: 0.3214\n",
      "\tIteration: 160\t Loss: 0.2980\n",
      "\tIteration: 200\t Loss: 0.3167\n",
      "\tIteration: 240\t Loss: 0.3490\n",
      "\tIteration: 280\t Loss: 0.3705\n",
      "\tIteration: 320\t Loss: 0.3464\n",
      "\tIteration: 360\t Loss: 0.3438\n",
      "\tIteration: 400\t Loss: 0.3387\n",
      "\tIteration: 440\t Loss: 0.3531\n",
      "\tIteration: 480\t Loss: 0.2833\n",
      "\tIteration: 520\t Loss: 0.3314\n",
      "\tIteration: 560\t Loss: 0.3438\n",
      "\tIteration: 600\t Loss: 0.3411\n",
      "\tIteration: 640\t Loss: 0.3184\n",
      "\tIteration: 680\t Loss: 0.3317\n",
      "\tIteration: 720\t Loss: 0.3237\n",
      "\tIteration: 760\t Loss: 0.3593\n",
      "\tIteration: 800\t Loss: 0.3063\n",
      "\tIteration: 840\t Loss: 0.3112\n",
      "\tIteration: 880\t Loss: 0.3041\n",
      "\tIteration: 920\t Loss: 0.2973\n",
      "Epoch: 4/10\n",
      "\tIteration: 0\t Loss: 0.0061\n",
      "\tIteration: 40\t Loss: 0.2958\n",
      "\tIteration: 80\t Loss: 0.3028\n",
      "\tIteration: 120\t Loss: 0.3357\n",
      "\tIteration: 160\t Loss: 0.2885\n",
      "\tIteration: 200\t Loss: 0.2926\n",
      "\tIteration: 240\t Loss: 0.3043\n",
      "\tIteration: 280\t Loss: 0.3081\n",
      "\tIteration: 320\t Loss: 0.2736\n",
      "\tIteration: 360\t Loss: 0.2980\n",
      "\tIteration: 400\t Loss: 0.3146\n",
      "\tIteration: 440\t Loss: 0.2943\n",
      "\tIteration: 480\t Loss: 0.3041\n",
      "\tIteration: 520\t Loss: 0.3230\n",
      "\tIteration: 560\t Loss: 0.3092\n",
      "\tIteration: 600\t Loss: 0.2932\n",
      "\tIteration: 640\t Loss: 0.3127\n",
      "\tIteration: 680\t Loss: 0.2783\n",
      "\tIteration: 720\t Loss: 0.2831\n",
      "\tIteration: 760\t Loss: 0.3098\n",
      "\tIteration: 800\t Loss: 0.2950\n",
      "\tIteration: 840\t Loss: 0.3119\n",
      "\tIteration: 880\t Loss: 0.2536\n",
      "\tIteration: 920\t Loss: 0.2795\n",
      "Epoch: 5/10\n",
      "\tIteration: 0\t Loss: 0.0073\n",
      "\tIteration: 40\t Loss: 0.2968\n",
      "\tIteration: 80\t Loss: 0.2838\n",
      "\tIteration: 120\t Loss: 0.3060\n",
      "\tIteration: 160\t Loss: 0.2495\n",
      "\tIteration: 200\t Loss: 0.3016\n",
      "\tIteration: 240\t Loss: 0.2653\n",
      "\tIteration: 280\t Loss: 0.2831\n",
      "\tIteration: 320\t Loss: 0.2643\n",
      "\tIteration: 360\t Loss: 0.2642\n",
      "\tIteration: 400\t Loss: 0.2654\n",
      "\tIteration: 440\t Loss: 0.2743\n",
      "\tIteration: 480\t Loss: 0.2779\n",
      "\tIteration: 520\t Loss: 0.2644\n",
      "\tIteration: 560\t Loss: 0.2826\n",
      "\tIteration: 600\t Loss: 0.2713\n",
      "\tIteration: 640\t Loss: 0.2634\n",
      "\tIteration: 680\t Loss: 0.2887\n",
      "\tIteration: 720\t Loss: 0.2367\n",
      "\tIteration: 760\t Loss: 0.2991\n",
      "\tIteration: 800\t Loss: 0.2728\n",
      "\tIteration: 840\t Loss: 0.2789\n",
      "\tIteration: 880\t Loss: 0.2705\n",
      "\tIteration: 920\t Loss: 0.2378\n",
      "Epoch: 6/10\n",
      "\tIteration: 0\t Loss: 0.0048\n",
      "\tIteration: 40\t Loss: 0.2634\n",
      "\tIteration: 80\t Loss: 0.2532\n",
      "\tIteration: 120\t Loss: 0.2720\n",
      "\tIteration: 160\t Loss: 0.2857\n",
      "\tIteration: 200\t Loss: 0.2655\n",
      "\tIteration: 240\t Loss: 0.2590\n",
      "\tIteration: 280\t Loss: 0.2839\n",
      "\tIteration: 320\t Loss: 0.2545\n",
      "\tIteration: 360\t Loss: 0.2451\n",
      "\tIteration: 400\t Loss: 0.2382\n",
      "\tIteration: 440\t Loss: 0.2370\n",
      "\tIteration: 480\t Loss: 0.2436\n",
      "\tIteration: 520\t Loss: 0.2341\n",
      "\tIteration: 560\t Loss: 0.2549\n",
      "\tIteration: 600\t Loss: 0.2460\n",
      "\tIteration: 640\t Loss: 0.2543\n",
      "\tIteration: 680\t Loss: 0.2712\n",
      "\tIteration: 720\t Loss: 0.2439\n",
      "\tIteration: 760\t Loss: 0.2419\n",
      "\tIteration: 800\t Loss: 0.2582\n",
      "\tIteration: 840\t Loss: 0.2448\n",
      "\tIteration: 880\t Loss: 0.2308\n",
      "\tIteration: 920\t Loss: 0.2482\n",
      "Epoch: 7/10\n",
      "\tIteration: 0\t Loss: 0.0051\n",
      "\tIteration: 40\t Loss: 0.2215\n",
      "\tIteration: 80\t Loss: 0.2509\n",
      "\tIteration: 120\t Loss: 0.2420\n",
      "\tIteration: 160\t Loss: 0.2609\n",
      "\tIteration: 200\t Loss: 0.2630\n",
      "\tIteration: 240\t Loss: 0.2477\n",
      "\tIteration: 280\t Loss: 0.2258\n",
      "\tIteration: 320\t Loss: 0.2492\n",
      "\tIteration: 360\t Loss: 0.2553\n",
      "\tIteration: 400\t Loss: 0.2478\n",
      "\tIteration: 440\t Loss: 0.2340\n",
      "\tIteration: 480\t Loss: 0.2377\n",
      "\tIteration: 520\t Loss: 0.2387\n",
      "\tIteration: 560\t Loss: 0.2157\n",
      "\tIteration: 600\t Loss: 0.2402\n",
      "\tIteration: 640\t Loss: 0.2327\n",
      "\tIteration: 680\t Loss: 0.2343\n",
      "\tIteration: 720\t Loss: 0.2107\n",
      "\tIteration: 760\t Loss: 0.2188\n",
      "\tIteration: 800\t Loss: 0.2080\n",
      "\tIteration: 840\t Loss: 0.2177\n",
      "\tIteration: 880\t Loss: 0.2151\n",
      "\tIteration: 920\t Loss: 0.2091\n",
      "Epoch: 8/10\n",
      "\tIteration: 0\t Loss: 0.0051\n",
      "\tIteration: 40\t Loss: 0.2113\n",
      "\tIteration: 80\t Loss: 0.2099\n",
      "\tIteration: 120\t Loss: 0.2290\n",
      "\tIteration: 160\t Loss: 0.2201\n",
      "\tIteration: 200\t Loss: 0.2168\n",
      "\tIteration: 240\t Loss: 0.2105\n",
      "\tIteration: 280\t Loss: 0.1996\n",
      "\tIteration: 320\t Loss: 0.2130\n",
      "\tIteration: 360\t Loss: 0.1959\n",
      "\tIteration: 400\t Loss: 0.2250\n",
      "\tIteration: 440\t Loss: 0.2363\n",
      "\tIteration: 480\t Loss: 0.2005\n",
      "\tIteration: 520\t Loss: 0.1823\n",
      "\tIteration: 560\t Loss: 0.2257\n",
      "\tIteration: 600\t Loss: 0.2048\n",
      "\tIteration: 640\t Loss: 0.2329\n",
      "\tIteration: 680\t Loss: 0.2241\n",
      "\tIteration: 720\t Loss: 0.2174\n",
      "\tIteration: 760\t Loss: 0.2067\n",
      "\tIteration: 800\t Loss: 0.2218\n",
      "\tIteration: 840\t Loss: 0.2204\n",
      "\tIteration: 880\t Loss: 0.2248\n",
      "\tIteration: 920\t Loss: 0.2091\n",
      "Epoch: 9/10\n",
      "\tIteration: 0\t Loss: 0.0064\n",
      "\tIteration: 40\t Loss: 0.2124\n",
      "\tIteration: 80\t Loss: 0.1976\n",
      "\tIteration: 120\t Loss: 0.2166\n",
      "\tIteration: 160\t Loss: 0.2042\n",
      "\tIteration: 200\t Loss: 0.1892\n",
      "\tIteration: 240\t Loss: 0.2053\n",
      "\tIteration: 280\t Loss: 0.2193\n",
      "\tIteration: 320\t Loss: 0.1985\n",
      "\tIteration: 360\t Loss: 0.2041\n",
      "\tIteration: 400\t Loss: 0.1956\n",
      "\tIteration: 440\t Loss: 0.2323\n",
      "\tIteration: 480\t Loss: 0.1984\n",
      "\tIteration: 520\t Loss: 0.1829\n",
      "\tIteration: 560\t Loss: 0.2048\n",
      "\tIteration: 600\t Loss: 0.1622\n",
      "\tIteration: 640\t Loss: 0.1926\n",
      "\tIteration: 680\t Loss: 0.1763\n",
      "\tIteration: 720\t Loss: 0.1914\n",
      "\tIteration: 760\t Loss: 0.1939\n",
      "\tIteration: 800\t Loss: 0.1828\n",
      "\tIteration: 840\t Loss: 0.2162\n",
      "\tIteration: 880\t Loss: 0.1988\n",
      "\tIteration: 920\t Loss: 0.1854\n",
      "Epoch: 10/10\n",
      "\tIteration: 0\t Loss: 0.0123\n",
      "\tIteration: 40\t Loss: 0.1838\n",
      "\tIteration: 80\t Loss: 0.1578\n",
      "\tIteration: 120\t Loss: 0.1786\n",
      "\tIteration: 160\t Loss: 0.1785\n",
      "\tIteration: 200\t Loss: 0.1968\n",
      "\tIteration: 240\t Loss: 0.1820\n",
      "\tIteration: 280\t Loss: 0.1657\n",
      "\tIteration: 320\t Loss: 0.1581\n",
      "\tIteration: 360\t Loss: 0.2207\n",
      "\tIteration: 400\t Loss: 0.1995\n",
      "\tIteration: 440\t Loss: 0.2045\n",
      "\tIteration: 480\t Loss: 0.1846\n",
      "\tIteration: 520\t Loss: 0.1880\n",
      "\tIteration: 560\t Loss: 0.1813\n",
      "\tIteration: 600\t Loss: 0.1735\n",
      "\tIteration: 640\t Loss: 0.1758\n",
      "\tIteration: 680\t Loss: 0.1804\n",
      "\tIteration: 720\t Loss: 0.1646\n",
      "\tIteration: 760\t Loss: 0.1757\n",
      "\tIteration: 800\t Loss: 0.1881\n",
      "\tIteration: 840\t Loss: 0.1784\n",
      "\tIteration: 880\t Loss: 0.1938\n",
      "\tIteration: 920\t Loss: 0.1919\n"
     ]
    }
   ],
   "metadata": {}
  },
  {
   "cell_type": "markdown",
   "source": [
    "With the network trained, we can check out it's predictions."
   ],
   "metadata": {}
  },
  {
   "cell_type": "code",
   "execution_count": null,
   "source": [
    "images, labels = next(iter(trainloader))\n",
    "\n",
    "img = images[0].view(1, 784)\n",
    "# Turn off gradients to speed up this part\n",
    "with torch.no_grad():\n",
    "    logits = model1.forward(img)\n",
    "\n",
    "# Output of the network are logits, need to take softmax for probabilities\n",
    "# ps = F.softmax(logits, dim=1)\n",
    "view_classify(img.view(1, 28, 28),logits)"
   ],
   "outputs": [],
   "metadata": {}
  },
  {
   "cell_type": "markdown",
   "source": [
    "Now our network is brilliant. It can accurately predict the digits in our images."
   ],
   "metadata": {}
  },
  {
   "cell_type": "markdown",
   "source": [
    "<div style=\"background:#222222; color:#ffffff; padding:20px\">\n",
    "    <h2 align=\"center\" style=\"color:#01ff84\">MNIST Clasification: Exercise</h2>\n",
    "<div>"
   ],
   "metadata": {}
  },
  {
   "cell_type": "markdown",
   "source": [
    "<div style=\"background:#222222; color:#ffffff; padding:20px\">\n",
    "  <h3 style=\"color:#01ff84; margin-top:4px\">Exercise 1:</h3>\n",
    "  <p>Now it's your turn to build a simple network, use any method I've covered so far. In the next notebook, you'll learn how to train a network so it can make good predictions.</p>\n",
    "  <p>Build a network to classify the MNIST images with 3 hidden layers. Use 400 units in the first hidden layer, 200 units in the second layer, and 100 units in the third layer. Each hidden layer should have a ReLU activation function, and use softmax on the output layer.</p>\n",
    "<div>"
   ],
   "metadata": {}
  },
  {
   "cell_type": "code",
   "execution_count": null,
   "source": [
    "# Define a transform to normalize the data (Preprocessing)\n",
    "transform = transforms.Compose([transforms.ToTensor(), transforms.Normalize((0.5), (0.5)) ])\n",
    "\n",
    "# Download and load the training data\n",
    "trainset    = datasets.MNIST('MNIST_data/', download=True, train=True, transform=transform)\n",
    "trainloader = torch.utils.data.DataLoader(trainset, batch_size=64, shuffle=True)\n",
    "\n",
    "# Download and load the test data\n",
    "testset    = datasets.MNIST('MNIST_data/', download=True, train=False, transform=transform)\n",
    "testloader = torch.utils.data.DataLoader(testset, batch_size=64, shuffle=True)"
   ],
   "outputs": [],
   "metadata": {}
  },
  {
   "cell_type": "code",
   "execution_count": 3,
   "source": [
    "## TODO: Your network here\n",
    "input_dim = 784\n",
    "hidden_dims = [400,200,100]\n",
    "output = 10\n",
    "model = nn.Sequential(OrderedDict([\n",
    "    ('clf1',nn.Linear(input_dim,hidden_dims[0])),\n",
    "    ('act1',nn.ReLU()),\n",
    "    ('clf2',nn.Linear(hidden_dims[0],hidden_dims[1])),\n",
    "    ('act2',nn.ReLU()),\n",
    "    ('clf3',nn.Linear(hidden_dims[1],hidden_dims[2])),\n",
    "    ('act3',nn.ReLU()),\n",
    "    ('clf4',nn.Linear(hidden_dims[2],output))\n",
    "]))\n"
   ],
   "outputs": [],
   "metadata": {}
  },
  {
   "cell_type": "code",
   "execution_count": 4,
   "source": [
    "transform = transforms.Compose([transforms.ToTensor(),transforms.Normalize((0.5),(0.5))])\n",
    "trainset = datasets.MNIST('MNIST_sets/',download=True,train=True,transform=transform)\n",
    "trainloader = torch.utils.data.DataLoader(trainset,batch_size=64,shuffle=True)\n",
    "testset = datasets.MNIST('MINST_sets/',download=True,train=False,transform=transform)\n",
    "testloader = torch.utils.data.DataLoader(testset,batch_size=64,shuffle=True)\n"
   ],
   "outputs": [],
   "metadata": {}
  },
  {
   "cell_type": "code",
   "execution_count": 51,
   "source": [
    "# loss = nn.CrossEntropyLoss()\n",
    "# optimizer = optim.SGD(model.parameters(),lr=0.01)\n",
    "# def trainer(model,optimizer,loss,epochs,lr):\n",
    "#     print_interval = 50\n",
    "#     losses = 0\n",
    "#     for epoch in range(epochs):\n",
    "#         print(f'running epoch {epoch+1} out of epochs')\n",
    "#         for i, (images,labels) in enumerate(iter(trainloader)):\n",
    "#             images.resize_(images.size()[0],784)\n",
    "#             optimizer.zero_grad()\n",
    "#             y_h = model(images)\n",
    "#             loss_values = loss(y_h,labels)\n",
    "#             loss_values.backward()\n",
    "#             optimizer.step()\n",
    "#             losses+=loss_values.item()\n",
    "\n",
    "#             if i % print_interval==0:\n",
    "#                 print(f'\\t {i} iteration loss: \\t {losses/print_interval}')\n",
    "#                 losses=0\n",
    "\n",
    "# trainer(model,optimizer,loss,10,0.001)     \n"
   ],
   "outputs": [],
   "metadata": {}
  },
  {
   "cell_type": "code",
   "execution_count": 49,
   "source": [
    "# Run this cell with your model to make sure it works\n",
    "# Forward pass through the network and display output\n",
    "images, labels = next(iter(trainloader))\n",
    "images.resize_(images.shape[0], 1, 784)\n",
    "ps = model.forward(images[0,:])\n",
    "ps = nn.Softmax()\n",
    "view_classify(images[0].view(1, 28, 28), ps)"
   ],
   "outputs": [
    {
     "output_type": "display_data",
     "data": {
      "image/png": "[encoded data removed]",
      "text/plain": [
       "<Figure size 432x648 with 2 Axes>"
      ]
     },
     "metadata": {
      "image/png": {
       "width": 349,
       "height": 195
      },
      "needs_background": "light"
     }
    }
   ],
   "metadata": {}
  },
  {
   "cell_type": "markdown",
   "source": [
    "<div style=\"background:#222222; color:#ffffff; padding:20px\">\n",
    "  <h3 style=\"color:#01ff84; margin-top:4px\">Exercise 2:</h3>\n",
    "  <p>Train your network implementing the Pytorch training loop and <strong style=\"color:#01ff84\">after each epoch, use the model for predicting the test (validation) MNIST data.</strong></p>\n",
    "  <p>Note: If your model does not fit with the final softmax layer, you can remove this layer.</p>\n",
    "  <p>Hint: <a href=\"https://discuss.pytorch.org/t/training-loop-checking-validation-accuracy/78399\">Training loop checking validation accuracy\n",
    "</a></p>\n",
    "  <p>Research about <code>model.train()</code>, <code>model.eval()</code> and <code>with torch.no_grad()</code> in Pytorch.\n",
    "<div>"
   ],
   "metadata": {}
  },
  {
   "cell_type": "code",
   "execution_count": 5,
   "source": [
    "## TODO:\n",
    "loss = nn.CrossEntropyLoss()\n",
    "optimizer = optim.SGD(model.parameters(),lr=0.01)\n",
    "def trainer(model,optimizer,loss,epochs,lr):\n",
    "    print_interval = 50\n",
    "    losses = 0\n",
    "    losses_eval = 0\n",
    "    for epoch in range(epochs):\n",
    "        print(f'running epoch {epoch+1} out of epochs')\n",
    "        for i, (images,labels) in enumerate(iter(trainloader)):\n",
    "            images.resize_(images.size()[0],784)\n",
    "            optimizer.zero_grad()\n",
    "            y_h = model(images)\n",
    "            loss_values = loss(y_h,labels)\n",
    "            loss_values.backward()\n",
    "            optimizer.step()\n",
    "            losses+=loss_values.item()\n",
    "\n",
    "            if i % print_interval==0:\n",
    "                print(f'\\t {i} iteration loss: \\t {losses/print_interval}')\n",
    "                losses=0\n",
    "\n",
    "        model.eval()\n",
    "        for j,(imgs,lbls) in enumerate(iter(testloader)):\n",
    "\n",
    "            imgs.resize_(imgs.size()[0],784)\n",
    "            with torch.no_grad():\n",
    "                y_h_eval = model(imgs)\n",
    "\n",
    "                loss_values_eval = loss(y_h_eval,lbls)\n",
    "                losses_eval += loss_values_eval.item()\n",
    "                \n",
    "            if j%print_interval==0:\n",
    "                print(f'\\t\\t {j} iteration evalation loss\\t {losses_eval/print_interval}')\n",
    "                losses_eval =0\n",
    "                \n",
    "        model.train()\n",
    "        \n",
    "\n",
    "\n",
    "trainer(model,optimizer,loss,10,0.001)    "
   ],
   "outputs": [
    {
     "output_type": "stream",
     "name": "stdout",
     "text": [
      "running epoch 1 out of epochs\n",
      "\t 0 iteration loss: \t 0.04608600616455078\n",
      "\t 50 iteration loss: \t 2.290423426628113\n",
      "\t 100 iteration loss: \t 2.2651261281967163\n",
      "\t 150 iteration loss: \t 2.2281071233749388\n",
      "\t 200 iteration loss: \t 2.1875335454940794\n",
      "\t 250 iteration loss: \t 2.120050811767578\n",
      "\t 300 iteration loss: \t 2.0372736382484438\n",
      "\t 350 iteration loss: \t 1.8842394590377807\n",
      "\t 400 iteration loss: \t 1.683006727695465\n",
      "\t 450 iteration loss: \t 1.4491487193107604\n",
      "\t 500 iteration loss: \t 1.2466127729415895\n",
      "\t 550 iteration loss: \t 1.080480934381485\n",
      "\t 600 iteration loss: \t 0.9367450559139252\n",
      "\t 650 iteration loss: \t 0.8242621719837189\n",
      "\t 700 iteration loss: \t 0.7691342949867248\n",
      "\t 750 iteration loss: \t 0.7030721336603165\n",
      "\t 800 iteration loss: \t 0.659120402932167\n",
      "\t 850 iteration loss: \t 0.6262472975254059\n",
      "\t 900 iteration loss: \t 0.5815162640810013\n",
      "\t\t 0 iteration evalation loss\t 0.013186955451965332\n",
      "\t\t 50 iteration evalation loss\t 0.5769737154245377\n",
      "\t\t 100 iteration evalation loss\t 0.5643419462442398\n",
      "\t\t 150 iteration evalation loss\t 0.5496630102396012\n",
      "running epoch 2 out of epochs\n",
      "\t 0 iteration loss: \t 0.41350926995277404\n",
      "\t 50 iteration loss: \t 0.5428939509391785\n",
      "\t 100 iteration loss: \t 0.5263594824075699\n",
      "\t 150 iteration loss: \t 0.5068781006336213\n",
      "\t 200 iteration loss: \t 0.47957064747810363\n",
      "\t 250 iteration loss: \t 0.4749447253346443\n",
      "\t 300 iteration loss: \t 0.43646500766277313\n",
      "\t 350 iteration loss: \t 0.4513156884908676\n",
      "\t 400 iteration loss: \t 0.4156942865252495\n",
      "\t 450 iteration loss: \t 0.40936129689216616\n",
      "\t 500 iteration loss: \t 0.4377221816778183\n",
      "\t 550 iteration loss: \t 0.3762973517179489\n",
      "\t 600 iteration loss: \t 0.4240145352482796\n",
      "\t 650 iteration loss: \t 0.3870404544472694\n",
      "\t 700 iteration loss: \t 0.36345813781023023\n",
      "\t 750 iteration loss: \t 0.3650234121084213\n",
      "\t 800 iteration loss: \t 0.400278637111187\n",
      "\t 850 iteration loss: \t 0.3788522759079933\n",
      "\t 900 iteration loss: \t 0.35036153584718704\n",
      "\t\t 0 iteration evalation loss\t 0.07181840598583221\n",
      "\t\t 50 iteration evalation loss\t 0.32976030588150024\n",
      "\t\t 100 iteration evalation loss\t 0.35392618298530576\n",
      "\t\t 150 iteration evalation loss\t 0.3602865219116211\n",
      "running epoch 3 out of epochs\n",
      "\t 0 iteration loss: \t 0.27910580158233644\n",
      "\t 50 iteration loss: \t 0.36215153098106384\n",
      "\t 100 iteration loss: \t 0.35279584765434263\n",
      "\t 150 iteration loss: \t 0.34427117615938185\n",
      "\t 200 iteration loss: \t 0.3873972636461258\n",
      "\t 250 iteration loss: \t 0.3544233301281929\n",
      "\t 300 iteration loss: \t 0.3841754698753357\n",
      "\t 350 iteration loss: \t 0.37530690640211106\n",
      "\t 400 iteration loss: \t 0.32528357714414596\n",
      "\t 450 iteration loss: \t 0.36266611590981485\n",
      "\t 500 iteration loss: \t 0.3193397928774357\n",
      "\t 550 iteration loss: \t 0.3199040874838829\n",
      "\t 600 iteration loss: \t 0.3094430468976498\n",
      "\t 650 iteration loss: \t 0.29298257201910016\n",
      "\t 700 iteration loss: \t 0.3456784743070602\n",
      "\t 750 iteration loss: \t 0.32089407786726953\n",
      "\t 800 iteration loss: \t 0.30225845783948896\n",
      "\t 850 iteration loss: \t 0.32224378883838656\n",
      "\t 900 iteration loss: \t 0.3180351409316063\n",
      "\t\t 0 iteration evalation loss\t 0.05332482278347015\n",
      "\t\t 50 iteration evalation loss\t 0.29255411595106123\n",
      "\t\t 100 iteration evalation loss\t 0.30040797501802446\n",
      "\t\t 150 iteration evalation loss\t 0.2996520148217678\n",
      "running epoch 4 out of epochs\n",
      "\t 0 iteration loss: \t 0.2536518625915051\n",
      "\t 50 iteration loss: \t 0.2989964136481285\n",
      "\t 100 iteration loss: \t 0.3522992043197155\n",
      "\t 150 iteration loss: \t 0.27050372019410135\n",
      "\t 200 iteration loss: \t 0.318395614027977\n",
      "\t 250 iteration loss: \t 0.29617966890335085\n",
      "\t 300 iteration loss: \t 0.2974887415766716\n",
      "\t 350 iteration loss: \t 0.30797960072755814\n",
      "\t 400 iteration loss: \t 0.30345700711011886\n",
      "\t 450 iteration loss: \t 0.2974701154232025\n",
      "\t 500 iteration loss: \t 0.28567700207233426\n",
      "\t 550 iteration loss: \t 0.2763697424530983\n",
      "\t 600 iteration loss: \t 0.2853900948166847\n",
      "\t 650 iteration loss: \t 0.2699719075858593\n",
      "\t 700 iteration loss: \t 0.2723987239599228\n",
      "\t 750 iteration loss: \t 0.2739016580581665\n",
      "\t 800 iteration loss: \t 0.2992942073941231\n",
      "\t 850 iteration loss: \t 0.2544174340367317\n",
      "\t 900 iteration loss: \t 0.30113096088171004\n",
      "\t\t 0 iteration evalation loss\t 0.028910306692123414\n",
      "\t\t 50 iteration evalation loss\t 0.2674220687150955\n",
      "\t\t 100 iteration evalation loss\t 0.28381219506263733\n",
      "\t\t 150 iteration evalation loss\t 0.2594031384587288\n",
      "running epoch 5 out of epochs\n",
      "\t 0 iteration loss: \t 0.21499114871025085\n",
      "\t 50 iteration loss: \t 0.27635638386011124\n",
      "\t 100 iteration loss: \t 0.2904209144413471\n",
      "\t 150 iteration loss: \t 0.2808139154314995\n",
      "\t 200 iteration loss: \t 0.27136683851480486\n",
      "\t 250 iteration loss: \t 0.2579889978468418\n",
      "\t 300 iteration loss: \t 0.2620535174012184\n",
      "\t 350 iteration loss: \t 0.24497876480221747\n",
      "\t 400 iteration loss: \t 0.2775506982207298\n",
      "\t 450 iteration loss: \t 0.2559703929722309\n",
      "\t 500 iteration loss: \t 0.2699941211938858\n",
      "\t 550 iteration loss: \t 0.2759594903886318\n",
      "\t 600 iteration loss: \t 0.2578311128914356\n",
      "\t 650 iteration loss: \t 0.2777690142393112\n",
      "\t 700 iteration loss: \t 0.2125646422803402\n",
      "\t 750 iteration loss: \t 0.2424033699929714\n",
      "\t 800 iteration loss: \t 0.23602894961833953\n",
      "\t 850 iteration loss: \t 0.21908210813999177\n",
      "\t 900 iteration loss: \t 0.25198794797062873\n",
      "\t\t 0 iteration evalation loss\t 0.02655341476202011\n",
      "\t\t 50 iteration evalation loss\t 0.242030448615551\n",
      "\t\t 100 iteration evalation loss\t 0.23475332036614419\n",
      "\t\t 150 iteration evalation loss\t 0.24357220143079758\n",
      "running epoch 6 out of epochs\n",
      "\t 0 iteration loss: \t 0.17183204919099807\n",
      "\t 50 iteration loss: \t 0.23222084566950799\n",
      "\t 100 iteration loss: \t 0.24542109042406082\n",
      "\t 150 iteration loss: \t 0.22497311607003212\n",
      "\t 200 iteration loss: \t 0.22383178934454917\n",
      "\t 250 iteration loss: \t 0.22462213292717934\n",
      "\t 300 iteration loss: \t 0.235207409709692\n",
      "\t 350 iteration loss: \t 0.2294968482851982\n",
      "\t 400 iteration loss: \t 0.21790506497025489\n",
      "\t 450 iteration loss: \t 0.23195781365036963\n",
      "\t 500 iteration loss: \t 0.2522819674015045\n",
      "\t 550 iteration loss: \t 0.23726451829075812\n",
      "\t 600 iteration loss: \t 0.2345397301018238\n",
      "\t 650 iteration loss: \t 0.23234110176563263\n",
      "\t 700 iteration loss: \t 0.21699874386191367\n",
      "\t 750 iteration loss: \t 0.21906270682811738\n",
      "\t 800 iteration loss: \t 0.20610503137111663\n",
      "\t 850 iteration loss: \t 0.22775036841630936\n",
      "\t 900 iteration loss: \t 0.23862383082509042\n",
      "\t\t 0 iteration evalation loss\t 0.032351235300302504\n",
      "\t\t 50 iteration evalation loss\t 0.22212309569120406\n",
      "\t\t 100 iteration evalation loss\t 0.2051609081029892\n",
      "\t\t 150 iteration evalation loss\t 0.21356292337179184\n",
      "running epoch 7 out of epochs\n",
      "\t 0 iteration loss: \t 0.17679546147584915\n",
      "\t 50 iteration loss: \t 0.1953505429625511\n",
      "\t 100 iteration loss: \t 0.2052583074569702\n",
      "\t 150 iteration loss: \t 0.19810952320694925\n",
      "\t 200 iteration loss: \t 0.20074322953820228\n",
      "\t 250 iteration loss: \t 0.19855818815529347\n",
      "\t 300 iteration loss: \t 0.19011433765292168\n",
      "\t 350 iteration loss: \t 0.20595994740724563\n",
      "\t 400 iteration loss: \t 0.2085321167111397\n",
      "\t 450 iteration loss: \t 0.20733201310038565\n",
      "\t 500 iteration loss: \t 0.20284308329224587\n",
      "\t 550 iteration loss: \t 0.2139979822933674\n",
      "\t 600 iteration loss: \t 0.22171788103878498\n",
      "\t 650 iteration loss: \t 0.21584436997771264\n",
      "\t 700 iteration loss: \t 0.21602966383099556\n",
      "\t 750 iteration loss: \t 0.19593095548450948\n",
      "\t 800 iteration loss: \t 0.21028333991765977\n",
      "\t 850 iteration loss: \t 0.20492795921862125\n",
      "\t 900 iteration loss: \t 0.19067589931190013\n",
      "\t\t 0 iteration evalation loss\t 0.022781363278627394\n",
      "\t\t 50 iteration evalation loss\t 0.17484709665179252\n",
      "\t\t 100 iteration evalation loss\t 0.2079279126226902\n",
      "\t\t 150 iteration evalation loss\t 0.18097903728485107\n",
      "running epoch 8 out of epochs\n",
      "\t 0 iteration loss: \t 0.14234201803803445\n",
      "\t 50 iteration loss: \t 0.19022723019123078\n",
      "\t 100 iteration loss: \t 0.2060900890082121\n",
      "\t 150 iteration loss: \t 0.18499564930796622\n",
      "\t 200 iteration loss: \t 0.19918607845902442\n",
      "\t 250 iteration loss: \t 0.1800416798889637\n",
      "\t 300 iteration loss: \t 0.16356246691197157\n",
      "\t 350 iteration loss: \t 0.19063882172107696\n",
      "\t 400 iteration loss: \t 0.20343582794070245\n",
      "\t 450 iteration loss: \t 0.17913615725934506\n",
      "\t 500 iteration loss: \t 0.1796058490127325\n",
      "\t 550 iteration loss: \t 0.1834547920525074\n",
      "\t 600 iteration loss: \t 0.1945119881629944\n",
      "\t 650 iteration loss: \t 0.18995696753263475\n",
      "\t 700 iteration loss: \t 0.17549604035913943\n",
      "\t 750 iteration loss: \t 0.17069412305951118\n",
      "\t 800 iteration loss: \t 0.17627989560365676\n",
      "\t 850 iteration loss: \t 0.16821770936250688\n",
      "\t 900 iteration loss: \t 0.16161079429090022\n",
      "\t\t 0 iteration evalation loss\t 0.030610340684652328\n",
      "\t\t 50 iteration evalation loss\t 0.17468510158360004\n",
      "\t\t 100 iteration evalation loss\t 0.1742351783066988\n",
      "\t\t 150 iteration evalation loss\t 0.16767827980220318\n",
      "running epoch 9 out of epochs\n",
      "\t 0 iteration loss: \t 0.15351934760808944\n",
      "\t 50 iteration loss: \t 0.17477843284606934\n",
      "\t 100 iteration loss: \t 0.17904982812702655\n",
      "\t 150 iteration loss: \t 0.16544156096875667\n",
      "\t 200 iteration loss: \t 0.14677559077739716\n",
      "\t 250 iteration loss: \t 0.16922581978142262\n",
      "\t 300 iteration loss: \t 0.14760043010115623\n",
      "\t 350 iteration loss: \t 0.17847292810678483\n",
      "\t 400 iteration loss: \t 0.18329740181565285\n",
      "\t 450 iteration loss: \t 0.17814397610723973\n",
      "\t 500 iteration loss: \t 0.1753273841738701\n",
      "\t 550 iteration loss: \t 0.18150511972606181\n",
      "\t 600 iteration loss: \t 0.16985500000417234\n",
      "\t 650 iteration loss: \t 0.1559340628236532\n",
      "\t 700 iteration loss: \t 0.15736724480986594\n",
      "\t 750 iteration loss: \t 0.16019848525524139\n",
      "\t 800 iteration loss: \t 0.1641269625723362\n",
      "\t 850 iteration loss: \t 0.17803882718086242\n",
      "\t 900 iteration loss: \t 0.16544884204864502\n",
      "\t\t 0 iteration evalation loss\t 0.023226894289255142\n",
      "\t\t 50 iteration evalation loss\t 0.16128915965557097\n",
      "\t\t 100 iteration evalation loss\t 0.14682551309466363\n",
      "\t\t 150 iteration evalation loss\t 0.16407509937882422\n",
      "running epoch 10 out of epochs\n",
      "\t 0 iteration loss: \t 0.08907809555530548\n",
      "\t 50 iteration loss: \t 0.179560829102993\n",
      "\t 100 iteration loss: \t 0.17135547533631323\n",
      "\t 150 iteration loss: \t 0.16640579134225844\n",
      "\t 200 iteration loss: \t 0.14480807162821294\n",
      "\t 250 iteration loss: \t 0.14701626859605313\n",
      "\t 300 iteration loss: \t 0.1619441445916891\n",
      "\t 350 iteration loss: \t 0.1567663612216711\n",
      "\t 400 iteration loss: \t 0.1441723397001624\n",
      "\t 450 iteration loss: \t 0.16962844714522363\n",
      "\t 500 iteration loss: \t 0.12993152596056462\n",
      "\t 550 iteration loss: \t 0.16557668052613736\n",
      "\t 600 iteration loss: \t 0.13504562631249428\n",
      "\t 650 iteration loss: \t 0.14185609325766563\n",
      "\t 700 iteration loss: \t 0.1421919945627451\n",
      "\t 750 iteration loss: \t 0.15988551255315542\n",
      "\t 800 iteration loss: \t 0.13924959152936936\n",
      "\t 850 iteration loss: \t 0.14555111065506934\n",
      "\t 900 iteration loss: \t 0.13506657540798186\n",
      "\t\t 0 iteration evalation loss\t 0.016876383647322656\n",
      "\t\t 50 iteration evalation loss\t 0.16996033504605293\n",
      "\t\t 100 iteration evalation loss\t 0.17743081033229827\n",
      "\t\t 150 iteration evalation loss\t 0.15290333077311516\n"
     ]
    }
   ],
   "metadata": {}
  },
  {
   "cell_type": "code",
   "execution_count": 25,
   "source": [
    "# Run this cell with your model to make sure it works and predicts well for the validation data\n",
    "images, labels = next(iter(testloader))\n",
    "images.resize_(images.shape[0], 1, 784)\n",
    "ps = model.forward(images[0,:])\n",
    "ps = F.softmax(ps, dim=1)\n",
    "view_classify(images[0].view(1, 28, 28), ps)"
   ],
   "outputs": [
    {
     "output_type": "display_data",
     "data": {
      "image/png": "[encoded data removed]",
      "text/plain": [
       "<Figure size 432x648 with 2 Axes>"
      ]
     },
     "metadata": {
      "image/png": {
       "width": 349,
       "height": 195
      },
      "needs_background": "light"
     }
    }
   ],
   "metadata": {}
  },
  {
   "cell_type": "markdown",
   "source": [
    "<div style=\"background:#222222; color:#ffffff; padding:20px\">\n",
    "  <h3 style=\"color:#01ff84; margin-top:4px\">Exercise 3:</h3>\n",
    "  <p>Write the code for adding <strong style=\"color:#01ff84\">Early Stopping with patience = 2</strong> to the training loop from scratch.</p>\n",
    "  <p><strong style=\"color:#01ff84\">Hint:</strong> Monitor the Validation loss every epoch, and if in 2 epochs, the validation loss does not improve, stop the training loop with <code>break</code>.</p>\n",
    "<div>"
   ],
   "metadata": {}
  },
  {
   "cell_type": "code",
   "execution_count": null,
   "source": [
    "## TODO: Your training loop here"
   ],
   "outputs": [],
   "metadata": {}
  },
  {
   "cell_type": "code",
   "execution_count": 5,
   "source": [
    "## TODO:\n",
    "loss = nn.CrossEntropyLoss()\n",
    "optimizer = optim.SGD(model.parameters(),lr=0.01)\n",
    "def trainer(model,optimizer,loss,epochs,lr):\n",
    "    flag=False\n",
    "    print_interval = 50\n",
    "    monitor = []\n",
    "    for epoch in range(epochs):\n",
    "        losses = []\n",
    "        print(f'running epoch {epoch+1} out of {epochs} epochs')\n",
    "        for i, (images,labels) in enumerate(iter(trainloader)): #iterating over trainloader images\n",
    "            images.resize_(images.size()[0],784) # [64,1,28,28] -> [64,784]\n",
    "            optimizer.zero_grad() # setting  grad =0, to prevent grad accumualtion\n",
    "            y_h = model(images) # forward pass\n",
    "            loss_values = loss(y_h,labels) # loss calc\n",
    "            loss_values.backward() # backprop\n",
    "            optimizer.step() #modification of weights with weight gradient calculated with help of backprop\n",
    "            losses.append(loss_values.item()) # appending losses, to calc mean loss for per epoch later\n",
    "        print(f'train average loss:\\t {torch.tensor(losses).mean()}') # printing average loss per epoch\n",
    "\n",
    "\n",
    "        model.eval() #eval mode on\n",
    "        losses_eval = []\n",
    "        for j,(imgs,lbls) in enumerate(iter(testloader)):\n",
    "            imgs.resize_(imgs.size()[0],784)\n",
    "            with torch.no_grad(): #we are not training , not modifying weight, so we dont need to store grad of weights to calc graph\n",
    "                y_h_eval = model(imgs)\n",
    "                loss_values_eval = loss(y_h_eval,lbls)\n",
    "                losses_eval.append(loss_values_eval.item())\n",
    "            \n",
    "        monitor.append(torch.tensor(losses_eval).mean())#storing mean loss per epoch, later to check whether it's decreasing in 2 epochs or not\n",
    "        print(f'validation loss:\\t {monitor[epoch]}')\n",
    "        if epoch>=2:\n",
    "            if not monitor[epoch]<monitor[epoch-1] and not monitor[epoch-1]<monitor[epoch-2]:\n",
    "                print('validation loss is not decreasing for 2 epochs, so we stop training.')\n",
    "                flag = True\n",
    "                break\n",
    "            if flag == True:\n",
    "                break\n",
    "        if flag==True:\n",
    "            break\n",
    "        \n",
    "        model.train()\n",
    "        \n",
    "\n",
    "\n",
    "trainer(model,optimizer,loss,10,0.001)"
   ],
   "outputs": [
    {
     "output_type": "stream",
     "name": "stdout",
     "text": [
      "running epoch 1 out of 10 epochs\n",
      "train average loss:\t 1.387587547302246\n",
      "validation loss:\t 0.5172812342643738\n",
      "running epoch 2 out of 10 epochs\n",
      "train average loss:\t 0.4125876724720001\n",
      "validation loss:\t 0.33296921849250793\n",
      "running epoch 3 out of 10 epochs\n",
      "train average loss:\t 0.3215517997741699\n",
      "validation loss:\t 0.2900733947753906\n",
      "running epoch 4 out of 10 epochs\n",
      "train average loss:\t 0.27754396200180054\n",
      "validation loss:\t 0.2570905089378357\n",
      "running epoch 5 out of 10 epochs\n",
      "train average loss:\t 0.24712029099464417\n",
      "validation loss:\t 0.2393159121274948\n",
      "running epoch 6 out of 10 epochs\n",
      "train average loss:\t 0.2201118767261505\n",
      "validation loss:\t 0.2251751869916916\n",
      "running epoch 7 out of 10 epochs\n",
      "train average loss:\t 0.1969040334224701\n",
      "validation loss:\t 0.18345147371292114\n",
      "running epoch 8 out of 10 epochs\n",
      "train average loss:\t 0.1769087016582489\n",
      "validation loss:\t 0.17865398526191711\n",
      "running epoch 9 out of 10 epochs\n",
      "train average loss:\t 0.1582219898700714\n",
      "validation loss:\t 0.15514881908893585\n",
      "running epoch 10 out of 10 epochs\n",
      "train average loss:\t 0.14379096031188965\n",
      "validation loss:\t 0.152031809091568\n"
     ]
    }
   ],
   "metadata": {}
  }
 ],
 "metadata": {
  "kernelspec": {
   "name": "python3",
   "display_name": "Python 3.9.7 64-bit ('deep_env': conda)"
  },
  "language_info": {
   "codemirror_mode": {
    "name": "ipython",
    "version": 3
   },
   "file_extension": ".py",
   "mimetype": "text/x-python",
   "name": "python",
   "nbconvert_exporter": "python",
   "pygments_lexer": "ipython3",
   "version": "3.9.7"
  },
  "interpreter": {
   "hash": "7b884b91808f249adbbbc046303483b453e9d806c558c4e2b2582ccec117f281"
  }
 },
 "nbformat": 4,
 "nbformat_minor": 2
}