{
 "cells": [
  {
   "cell_type": "markdown",
   "source": [
    "# MNIST Classifier\n",
    "\n",
    "In this notebook you will create both, an mnist tabular dataset and a classifier."
   ],
   "metadata": {}
  },
  {
   "cell_type": "markdown",
   "source": [
    "## 1.- import the Operating System (os) module in python and any other library you need"
   ],
   "metadata": {}
  },
  {
   "cell_type": "code",
   "execution_count": 167,
   "source": [
    "import os\n",
    "from PIL import Image,ImageOps\n",
    "import numpy as np\n",
    "import pandas as pd\n",
    "from IPython.display import display"
   ],
   "outputs": [],
   "metadata": {}
  },
  {
   "cell_type": "markdown",
   "source": [
    "## 2.- As you can see each class has its own folder (Do it only for train). \n",
    "\n",
    "    - Iterate folder by folder ( os.listdir() )\n",
    "    - Inside each folder: \n",
    "        1.- Read the image\n",
    "        2.- Reshape it into a flat array (784,)\n",
    "        3.- Save the data into a pandas dataframe apending the column name as the class\n",
    "    - Save the data into a CSV\n",
    "\n",
    "    Note: if it takes to long try doing only 100 images per folder for the CSV."
   ],
   "metadata": {}
  },
  {
   "cell_type": "code",
   "execution_count": 160,
   "source": [
    "path=\"data/trainingSet/trainingSet/\"\n",
    "tr_directory = os.listdir(path)[1:]\n",
    "df = []\n",
    "for dir in tr_directory:\n",
    "    filenames = os.listdir(f\"{path}{dir}\")\n",
    "    for filename in filenames:\n",
    "        img = Image.open(f\"{path}{dir}/{filename}\")\n",
    "        arr=np.array(img).astype(float).flatten()\n",
    "        arr= np.append(arr,float(dir))\n",
    "        df.append(arr)\n",
    "images = pd.DataFrame(df)\n",
    "images.to_csv('data.csv')\n"
   ],
   "outputs": [],
   "metadata": {
    "tags": []
   }
  },
  {
   "cell_type": "markdown",
   "source": [
    "## 3.- Load the CSV"
   ],
   "metadata": {}
  },
  {
   "cell_type": "code",
   "execution_count": 161,
   "source": [
    "images = pd.read_csv('data.csv')\n"
   ],
   "outputs": [],
   "metadata": {}
  },
  {
   "cell_type": "code",
   "execution_count": 155,
   "source": [
    "X,y = images.iloc[:,:-1],images.iloc[:,-1]\n"
   ],
   "outputs": [
    {
     "output_type": "execute_result",
     "data": {
      "text/plain": [
       "(42000,)"
      ]
     },
     "metadata": {},
     "execution_count": 155
    }
   ],
   "metadata": {}
  },
  {
   "cell_type": "code",
   "execution_count": 170,
   "source": [
    "imager = X.iloc[4,:].values\n",
    "imager = imager.reshape((28,28))\n",
    "icon = Image.fromarray(imager)\n",
    "%matplotlib inline\n",
    "from matplotlib.pyplot import imshow\n"
   ],
   "outputs": [],
   "metadata": {}
  },
  {
   "cell_type": "markdown",
   "source": [
    "## 4.- Create a dictionary of models (No preprocessing needed, it has already been done).\n",
    "    \n",
    "    Include both, tree models and mult models."
   ],
   "metadata": {}
  },
  {
   "cell_type": "code",
   "execution_count": 79,
   "source": [
    "from sklearn.tree import DecisionTreeClassifier\n",
    "from sklearn.ensemble import RandomForestClassifier,AdaBoostClassifier,GradientBoostingClassifier\n",
    "from sklearn.svm import SVC\n",
    "from sklearn.neighbors import KNeighborsClassifier\n",
    "from sklearn.model_selection import train_test_split,GridSearchCV\n",
    "X_train,X_test,y_train,y_test = train_test_split(X,y,stratify=y,test_size=0.2,random_state=0)\n"
   ],
   "outputs": [],
   "metadata": {}
  },
  {
   "cell_type": "markdown",
   "source": [
    "## 5.- Using either cross validation or stratification find out which is the best model\n",
    "    - Base your code on the previous two days examples"
   ],
   "metadata": {}
  },
  {
   "cell_type": "code",
   "execution_count": 80,
   "source": [
    "trees = {\n",
    "    'Decision tree': {\n",
    "        'model': DecisionTreeClassifier(),\n",
    "        'params':{\n",
    "            'max_depth':[None,10]\n",
    "\n",
    "        }\n",
    "    },\n",
    "    'Random Forest': {\n",
    "        'model': RandomForestClassifier(),\n",
    "        'params':{\n",
    "            'n_estimators':[100,200]\n",
    "        }\n",
    "    },\n",
    "    'Ada Boost': {\n",
    "        'model': AdaBoostClassifier(),\n",
    "        'params':{\n",
    "            'n_estimators':[50,100]\n",
    "            \n",
    "        }\n",
    "    },\n",
    "    'SVC': {\n",
    "        'model': SVC(),\n",
    "        'params':{\n",
    "            'C':[1,10],\n",
    "            'kernel':['rbf','poly']\n",
    "            \n",
    "        }\n",
    "    },\n",
    "    'KNN': {\n",
    "        'model': KNeighborsClassifier(),\n",
    "        'params':{\n",
    "            'n_neighbors':[5,10],\n",
    "            'p':[1,2]\n",
    "        }\n",
    "    }\n",
    "}\n",
    "results = []\n",
    "for name,param in trees.items():\n",
    "    grid = GridSearchCV(param['model'],param['params'],cv=3)\n",
    "    grid.fit(X_train,y_train)\n",
    "    results.append({\n",
    "        'model':name,\n",
    "        'best score':grid.best_score_,\n",
    "        'best parameters':grid.best_params_\n",
    "    })\n",
    "    print(f'hyperparameter tuning for {name} has been completed')\n"
   ],
   "outputs": [
    {
     "output_type": "stream",
     "name": "stdout",
     "text": [
      "hyperparameter tuning for Decision tree has been completed\n",
      "hyperparameter tuning for Random Forest has been completed\n",
      "hyperparameter tuning for Ada Boost has been completed\n",
      "hyperparameter tuning for SVC has been completed\n",
      "hyperparameter tuning for KNN has been completed\n"
     ]
    }
   ],
   "metadata": {}
  },
  {
   "cell_type": "code",
   "execution_count": 81,
   "source": [
    "resultss = pd.DataFrame(results)\n",
    "resultss"
   ],
   "outputs": [
    {
     "output_type": "execute_result",
     "data": {
      "text/html": [
       "<div>\n",
       "<style scoped>\n",
       "    .dataframe tbody tr th:only-of-type {\n",
       "        vertical-align: middle;\n",
       "    }\n",
       "\n",
       "    .dataframe tbody tr th {\n",
       "        vertical-align: top;\n",
       "    }\n",
       "\n",
       "    .dataframe thead th {\n",
       "        text-align: right;\n",
       "    }\n",
       "</style>\n",
       "<table border=\"1\" class=\"dataframe\">\n",
       "  <thead>\n",
       "    <tr style=\"text-align: right;\">\n",
       "      <th></th>\n",
       "      <th>model</th>\n",
       "      <th>best score</th>\n",
       "      <th>best parameters</th>\n",
       "    </tr>\n",
       "  </thead>\n",
       "  <tbody>\n",
       "    <tr>\n",
       "      <th>0</th>\n",
       "      <td>Decision tree</td>\n",
       "      <td>0.822827</td>\n",
       "      <td>{'max_depth': 10}</td>\n",
       "    </tr>\n",
       "    <tr>\n",
       "      <th>1</th>\n",
       "      <td>Random Forest</td>\n",
       "      <td>0.957411</td>\n",
       "      <td>{'n_estimators': 200}</td>\n",
       "    </tr>\n",
       "    <tr>\n",
       "      <th>2</th>\n",
       "      <td>Ada Boost</td>\n",
       "      <td>0.721250</td>\n",
       "      <td>{'n_estimators': 100}</td>\n",
       "    </tr>\n",
       "    <tr>\n",
       "      <th>3</th>\n",
       "      <td>SVC</td>\n",
       "      <td>0.976935</td>\n",
       "      <td>{'C': 10, 'kernel': 'rbf'}</td>\n",
       "    </tr>\n",
       "    <tr>\n",
       "      <th>4</th>\n",
       "      <td>KNN</td>\n",
       "      <td>0.961369</td>\n",
       "      <td>{'n_neighbors': 5, 'p': 2}</td>\n",
       "    </tr>\n",
       "  </tbody>\n",
       "</table>\n",
       "</div>"
      ],
      "text/plain": [
       "           model  best score             best parameters\n",
       "0  Decision tree    0.822827           {'max_depth': 10}\n",
       "1  Random Forest    0.957411       {'n_estimators': 200}\n",
       "2      Ada Boost    0.721250       {'n_estimators': 100}\n",
       "3            SVC    0.976935  {'C': 10, 'kernel': 'rbf'}\n",
       "4            KNN    0.961369  {'n_neighbors': 5, 'p': 2}"
      ]
     },
     "metadata": {},
     "execution_count": 81
    }
   ],
   "metadata": {}
  },
  {
   "cell_type": "markdown",
   "source": [
    "## Optional: Can you rotate an image?"
   ],
   "metadata": {}
  },
  {
   "cell_type": "code",
   "execution_count": 149,
   "source": [],
   "outputs": [],
   "metadata": {}
  },
  {
   "cell_type": "code",
   "execution_count": 150,
   "source": [],
   "outputs": [],
   "metadata": {}
  },
  {
   "cell_type": "code",
   "execution_count": 169,
   "source": [
    "image = Image.open('data/testSample/img_5.jpg')\n",
    "image.rotate(45).show()\n",
    "ImageOps.flip(image)\n",
    "ImageOps.mirror(image)"
   ],
   "outputs": [],
   "metadata": {}
  }
 ],
 "metadata": {
  "interpreter": {
   "hash": "be7f91b8a86516165fcb6cb0d2d574b7f158dfa612c4d7a1e53febf57ef86532"
  },
  "kernelspec": {
   "name": "python3",
   "display_name": "Python 3.9.7 64-bit ('new_env': conda)"
  },
  "language_info": {
   "codemirror_mode": {
    "name": "ipython",
    "version": 3
   },
   "file_extension": ".py",
   "mimetype": "text/x-python",
   "name": "python",
   "nbconvert_exporter": "python",
   "pygments_lexer": "ipython3",
   "version": "3.9.7"
  },
  "orig_nbformat": 4
 },
 "nbformat": 4,
 "nbformat_minor": 2
}