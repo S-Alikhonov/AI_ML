{
 "cells": [
  {
   "cell_type": "code",
   "execution_count": 177,
   "source": [
    "import pandas as pd\n",
    "import numpy as np\n",
    "from sklearn.model_selection import train_test_split\n"
   ],
   "outputs": [],
   "metadata": {}
  },
  {
   "cell_type": "code",
   "execution_count": 178,
   "source": [
    "df = pd.read_csv('climate.csv')\n",
    "df.columns"
   ],
   "outputs": [
    {
     "output_type": "execute_result",
     "data": {
      "text/plain": [
       "Index(['Date Time', 'p (mbar)', 'T (degC)', 'Tpot (K)', 'Tdew (degC)',\n",
       "       'rh (%)', 'VPmax (mbar)', 'VPact (mbar)', 'VPdef (mbar)', 'sh (g/kg)',\n",
       "       'H2OC (mmol/mol)', 'rho (g/m**3)', 'wv (m/s)', 'max. wv (m/s)',\n",
       "       'wd (deg)'],\n",
       "      dtype='object')"
      ]
     },
     "metadata": {},
     "execution_count": 178
    }
   ],
   "metadata": {}
  },
  {
   "cell_type": "code",
   "execution_count": 179,
   "source": [
    "df.drop('Date Time',axis=1,inplace=True)\n"
   ],
   "outputs": [],
   "metadata": {}
  },
  {
   "cell_type": "code",
   "execution_count": 180,
   "source": [
    "def generator(df,step=6):\n",
    "    x=[]\n",
    "    y=[]\n",
    "    seq = np.zeros((step,df.shape[1]))\n",
    "    for i in range(0,df.shape[0]-step+1,step+1):\n",
    "        for j in range(step):\n",
    "           seq[j] = df.iloc[i+j,:].values\n",
    "        x.append(seq.flatten())\n",
    "        y.append(df.iloc[i+step,:]['T (degC)'])\n",
    "    return x,y\n"
   ],
   "outputs": [],
   "metadata": {}
  },
  {
   "cell_type": "markdown",
   "source": [
    "for feautres, tried to drop temprature values, it gave ~0.2 mean absolute error"
   ],
   "metadata": {}
  },
  {
   "cell_type": "code",
   "execution_count": 181,
   "source": [
    "\n",
    "# df.drop('Date Time',axis=1,inplace=True)\n",
    "# df_x = df.drop('T (degC)',axis=1)\n",
    "# df_y =df['T (degC)']\n",
    "# def generator(df,step=6):\n",
    "#     x=[]\n",
    "#     y=[]\n",
    "#     seq = np.zeros((step,df_x.shape[1]))\n",
    "#     for i in range(0,df.shape[0]-step+1,step+1):\n",
    "#         for j in range(step):\n",
    "#            seq[j] = df_x.iloc[i+j,:].values\n",
    "#         x.append(seq.flatten())\n",
    "#         y.append(df_y.iloc[i+step])\n",
    "#     return x,y"
   ],
   "outputs": [],
   "metadata": {}
  },
  {
   "cell_type": "markdown",
   "source": [
    "tried using only temperatures of previous 6 observation, mae = 0.21"
   ],
   "metadata": {}
  },
  {
   "cell_type": "code",
   "execution_count": 182,
   "source": [
    "# def generator(df,step=6):\n",
    "#     x=[]\n",
    "#     y=[]\n",
    "    \n",
    "#     for i in range(0,df_y.shape[0]-step+1,step+1):  \n",
    "#         j=i\n",
    "#         x.append(df_y.values[j:j+step])\n",
    "#         y.append(df_y.values[i+step])\n",
    "#     return x,y"
   ],
   "outputs": [],
   "metadata": {}
  },
  {
   "cell_type": "code",
   "execution_count": 183,
   "source": [
    "x,y = generator(df)"
   ],
   "outputs": [],
   "metadata": {}
  },
  {
   "cell_type": "code",
   "execution_count": 184,
   "source": [
    "\n",
    "X_train,X_test,y_train,y_test = train_test_split(pd.DataFrame(x),pd.DataFrame(y),train_size=0.8,random_state=0)"
   ],
   "outputs": [],
   "metadata": {}
  },
  {
   "cell_type": "code",
   "execution_count": 185,
   "source": [
    "from xgboost import XGBRFRegressor\n",
    "model =XGBRFRegressor()\n",
    "model.fit(X_train,y_train)"
   ],
   "outputs": [
    {
     "output_type": "execute_result",
     "data": {
      "text/plain": [
       "XGBRFRegressor(base_score=0.5, booster='gbtree', colsample_bylevel=1,\n",
       "               colsample_bytree=1, gamma=0, gpu_id=-1, importance_type='gain',\n",
       "               interaction_constraints='', max_delta_step=0, max_depth=6,\n",
       "               min_child_weight=1, missing=nan, monotone_constraints='()',\n",
       "               n_estimators=100, n_jobs=8, num_parallel_tree=100,\n",
       "               objective='reg:squarederror', random_state=0, reg_alpha=0,\n",
       "               scale_pos_weight=1, tree_method='exact', validate_parameters=1,\n",
       "               verbosity=None)"
      ]
     },
     "metadata": {},
     "execution_count": 185
    }
   ],
   "metadata": {}
  },
  {
   "cell_type": "code",
   "execution_count": 186,
   "source": [
    "model.score(X_test,y_test)\n",
    "pred = model.predict(X_test)"
   ],
   "outputs": [],
   "metadata": {}
  },
  {
   "cell_type": "code",
   "execution_count": null,
   "source": [],
   "outputs": [
    {
     "output_type": "execute_result",
     "data": {
      "text/plain": [
       "0.21615132675228388"
      ]
     },
     "metadata": {},
     "execution_count": 156
    }
   ],
   "metadata": {}
  },
  {
   "cell_type": "code",
   "execution_count": null,
   "source": [],
   "outputs": [
    {
     "output_type": "execute_result",
     "data": {
      "text/plain": [
       "0.2017750789488253"
      ]
     },
     "metadata": {},
     "execution_count": 169
    }
   ],
   "metadata": {}
  },
  {
   "cell_type": "code",
   "execution_count": null,
   "source": [
    "from sklearn.metrics import mean_absolute_error\n",
    "mean_absolute_error(y_test,pred)"
   ],
   "outputs": [
    {
     "output_type": "execute_result",
     "data": {
      "text/plain": [
       "0.20063716649230365"
      ]
     },
     "metadata": {},
     "execution_count": 187
    }
   ],
   "metadata": {}
  }
 ],
 "metadata": {
  "orig_nbformat": 4,
  "language_info": {
   "name": "python",
   "version": "3.9.7",
   "mimetype": "text/x-python",
   "codemirror_mode": {
    "name": "ipython",
    "version": 3
   },
   "pygments_lexer": "ipython3",
   "nbconvert_exporter": "python",
   "file_extension": ".py"
  },
  "kernelspec": {
   "name": "python3",
   "display_name": "Python 3.9.7 64-bit ('new_env': conda)"
  },
  "interpreter": {
   "hash": "be7f91b8a86516165fcb6cb0d2d574b7f158dfa612c4d7a1e53febf57ef86532"
  }
 },
 "nbformat": 4,
 "nbformat_minor": 2
}