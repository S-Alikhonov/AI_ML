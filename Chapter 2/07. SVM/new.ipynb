{
 "cells": [
  {
   "cell_type": "code",
   "execution_count": 2,
   "source": [
    "#original data does not come with headers. add headers based on the documentation descrption\n",
    "\n",
    "import pandas as pd\n",
    "import numpy as np\n",
    "import matplotlib.pyplot as plt\n",
    "from sklearn.model_selection import GridSearchCV\n",
    "headers = ['age', 'workclass', 'fnlwgt', 'education', 'education-num', 'marital-status', \n",
    "           'occupation', 'relationship', 'race', 'sex', 'capital-gain', 'capital-loss', \n",
    "           'hours-per-week', 'native-country', 'target']\n",
    "data = pd.read_csv('./data/adult.data', names = headers)\n",
    "df = data.copy()"
   ],
   "outputs": [],
   "metadata": {}
  },
  {
   "cell_type": "code",
   "execution_count": 4,
   "source": [
    "df.loc[df['native-country']==' ?','native-country'] = None\n",
    "df.loc[df['workclass']==' ?','workclass'] = None\n",
    "df.loc[df['occupation']==' ?','occupation'] = None\n",
    "cleared = df.dropna().copy()"
   ],
   "outputs": [],
   "metadata": {}
  },
  {
   "cell_type": "code",
   "execution_count": 6,
   "source": [
    "from sklearn.preprocessing import OrdinalEncoder,OneHotEncoder,LabelEncoder\n",
    "from sklearn.model_selection import train_test_split\n",
    "encode = OrdinalEncoder()\n",
    "\n",
    "encode2 = OneHotEncoder()\n",
    "cleared[['workclass', 'education','marital-status', 'occupation', 'relationship', 'race', 'sex', 'native-country']] = encode.fit_transform(cleared[['workclass', 'education','marital-status', 'occupation', 'relationship', 'race', 'sex', 'native-country']])\n",
    "\n",
    "\n",
    "X = cleared.iloc[:,:-1].values\n",
    "y= cleared.target.values\n",
    "lab_en = LabelEncoder()\n",
    "y = lab_en.fit_transform(y)\n",
    "X_train,X_test,y_train,y_test = train_test_split(X,y,random_state=0,test_size=0.3)"
   ],
   "outputs": [],
   "metadata": {}
  },
  {
   "cell_type": "code",
   "execution_count": 16,
   "source": [
    "from sklearn.ensemble import RandomForestClassifier\n",
    "from sklearn.preprocessing import StandardScaler\n",
    "from sklearn.metrics import accuracy_score\n",
    "sc = StandardScaler()\n",
    "X_tr_sc = sc.fit_transform(X_train)\n",
    "X_ts_sc = sc.transform(X_test)\n",
    "mod = RandomForestClassifier()\n",
    "mod.fit(X_tr_sc,y_train)\n",
    "pred = mod.predict(X_ts_sc)\n",
    "\n",
    "accuracy_score(y_test,pred)\n",
    "\n"
   ],
   "outputs": [
    {
     "output_type": "execute_result",
     "data": {
      "text/plain": [
       "0.8495966405127638"
      ]
     },
     "metadata": {},
     "execution_count": 16
    }
   ],
   "metadata": {}
  }
 ],
 "metadata": {
  "orig_nbformat": 4,
  "language_info": {
   "name": "python",
   "version": "3.8.12",
   "mimetype": "text/x-python",
   "codemirror_mode": {
    "name": "ipython",
    "version": 3
   },
   "pygments_lexer": "ipython3",
   "nbconvert_exporter": "python",
   "file_extension": ".py"
  },
  "kernelspec": {
   "name": "python3",
   "display_name": "Python 3.8.12 64-bit ('strive': conda)"
  },
  "interpreter": {
   "hash": "474ac02e50c49bd2e5c48b8a8175c7e46a92ecb6860b4a01aa1c73b8fbab235e"
  }
 },
 "nbformat": 4,
 "nbformat_minor": 2
}