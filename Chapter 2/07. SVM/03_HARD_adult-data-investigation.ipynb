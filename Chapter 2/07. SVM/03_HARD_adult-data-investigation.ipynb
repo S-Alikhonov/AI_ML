{
 "cells": [
  {
   "cell_type": "markdown",
   "source": [
    "## Adult Dataset Part 1: Cleaning and Preparation\n",
    "\n",
    "#### Objectives:\n",
    "1. Preprocess the data and store the cleaned dataset as adult_clean.csv\n",
    "2. Load clean dataset and test supervised/unsupervised models\n",
    "    - Goal: Determine best model to predict if new entry earns >50k or <50k with supervised learning\n",
    "    - Goal: Find insights and patterns in data using unspuervised learning\n",
    "3. Apply k-folds cross validation\n",
    "    - Goal: Evaluate robustness of results across different models.\n",
    "    - Goal: Use and justify different error metrics\n",
    "\n",
    "\n",
    "#### Summary of dataset\n",
    "\n",
    "Datasource: https://archive.ics.uci.edu/ml/datasets/adult\n",
    "\n",
    "Feature descrptions copied below from the UCI website:\n",
    "\n",
    "- age: continuous. \n",
    "- workclass: Private, Self-emp-not-inc, Self-emp-inc, Federal-gov, Local-gov, State-gov, Without-pay, Never-worked. \n",
    "- fnlwgt: Continuous. A weighting assigned from the sampling process.\n",
    "- education: Bachelors, Some-college, 11th, HS-grad, Prof-school, Assoc-acdm, Assoc-voc, 9th, 7th-8th, 12th, Masters, 1st-4th, 10th, Doctorate, 5th-6th, Preschool. \n",
    "- education-num: continuous. \n",
    "- marital-status: Married-civ-spouse, Divorced, Never-married, Separated, Widowed, Married-spouse-absent, Married-AF-spouse. \n",
    "- occupation: Tech-support, Craft-repair, Other-service, Sales, Exec-managerial, Prof-specialty, Handlers-cleaners, Machine-op-inspct, Adm-clerical, Farming-fishing, Transport-moving, Priv-house-serv, Protective-serv, Armed-Forces. \n",
    "- relationship: Wife, Own-child, Husband, Not-in-family, Other-relative, Unmarried. \n",
    "- race: White, Asian-Pac-Islander, Amer-Indian-Eskimo, Other, Black. \n",
    "- sex: Female, Male. \n",
    "- capital-gain: continuous.\n",
    "- capital-loss: continuous. \n",
    "- hours-per-week: continuous. \n",
    "- native-country: United-States, Cambodia, England, Puerto-Rico, Canada, Germany, Outlying-US(Guam-USVI-etc), India, Japan, Greece, South, China, Cuba, Iran, Honduras, Philippines, Italy, Poland, Jamaica, Vietnam, Mexico, Portugal, Ireland, France, Dominican-Republic, Laos, Ecuador, Taiwan, Haiti, Columbia, Hungary, Guatemala, Nicaragua, Scotland, Thailand, Yugoslavia, El-Salvador, Trinadad&Tobago, Peru, Hong, Holand-Netherlands.\n",
    "- target: >50K, <=50K."
   ],
   "metadata": {}
  },
  {
   "cell_type": "code",
   "execution_count": 225,
   "source": [
    "import pandas as pd\n",
    "import numpy as np\n",
    "import matplotlib.pyplot as plt\n",
    "from sklearn.model_selection import GridSearchCV"
   ],
   "outputs": [],
   "metadata": {}
  },
  {
   "cell_type": "code",
   "execution_count": 226,
   "source": [
    "#original data does not come with headers. add headers based on the documentation descrption\n",
    "headers = ['age', 'workclass', 'fnlwgt', 'education', 'education-num', 'marital-status', \n",
    "           'occupation', 'relationship', 'race', 'sex', 'capital-gain', 'capital-loss', \n",
    "           'hours-per-week', 'native-country', 'target']"
   ],
   "outputs": [],
   "metadata": {}
  },
  {
   "cell_type": "code",
   "execution_count": 227,
   "source": [
    "data = pd.read_csv('./data/adult.data', names = headers)\n",
    "df = data.copy()"
   ],
   "outputs": [],
   "metadata": {}
  },
  {
   "cell_type": "code",
   "execution_count": 228,
   "source": [
    "df.head()\n"
   ],
   "outputs": [
    {
     "output_type": "execute_result",
     "data": {
      "text/html": [
       "<div>\n",
       "<style scoped>\n",
       "    .dataframe tbody tr th:only-of-type {\n",
       "        vertical-align: middle;\n",
       "    }\n",
       "\n",
       "    .dataframe tbody tr th {\n",
       "        vertical-align: top;\n",
       "    }\n",
       "\n",
       "    .dataframe thead th {\n",
       "        text-align: right;\n",
       "    }\n",
       "</style>\n",
       "<table border=\"1\" class=\"dataframe\">\n",
       "  <thead>\n",
       "    <tr style=\"text-align: right;\">\n",
       "      <th></th>\n",
       "      <th>age</th>\n",
       "      <th>workclass</th>\n",
       "      <th>fnlwgt</th>\n",
       "      <th>education</th>\n",
       "      <th>education-num</th>\n",
       "      <th>marital-status</th>\n",
       "      <th>occupation</th>\n",
       "      <th>relationship</th>\n",
       "      <th>race</th>\n",
       "      <th>sex</th>\n",
       "      <th>capital-gain</th>\n",
       "      <th>capital-loss</th>\n",
       "      <th>hours-per-week</th>\n",
       "      <th>native-country</th>\n",
       "      <th>target</th>\n",
       "    </tr>\n",
       "  </thead>\n",
       "  <tbody>\n",
       "    <tr>\n",
       "      <th>0</th>\n",
       "      <td>39</td>\n",
       "      <td>State-gov</td>\n",
       "      <td>77516</td>\n",
       "      <td>Bachelors</td>\n",
       "      <td>13</td>\n",
       "      <td>Never-married</td>\n",
       "      <td>Adm-clerical</td>\n",
       "      <td>Not-in-family</td>\n",
       "      <td>White</td>\n",
       "      <td>Male</td>\n",
       "      <td>2174</td>\n",
       "      <td>0</td>\n",
       "      <td>40</td>\n",
       "      <td>United-States</td>\n",
       "      <td>&lt;=50K</td>\n",
       "    </tr>\n",
       "    <tr>\n",
       "      <th>1</th>\n",
       "      <td>50</td>\n",
       "      <td>Self-emp-not-inc</td>\n",
       "      <td>83311</td>\n",
       "      <td>Bachelors</td>\n",
       "      <td>13</td>\n",
       "      <td>Married-civ-spouse</td>\n",
       "      <td>Exec-managerial</td>\n",
       "      <td>Husband</td>\n",
       "      <td>White</td>\n",
       "      <td>Male</td>\n",
       "      <td>0</td>\n",
       "      <td>0</td>\n",
       "      <td>13</td>\n",
       "      <td>United-States</td>\n",
       "      <td>&lt;=50K</td>\n",
       "    </tr>\n",
       "    <tr>\n",
       "      <th>2</th>\n",
       "      <td>38</td>\n",
       "      <td>Private</td>\n",
       "      <td>215646</td>\n",
       "      <td>HS-grad</td>\n",
       "      <td>9</td>\n",
       "      <td>Divorced</td>\n",
       "      <td>Handlers-cleaners</td>\n",
       "      <td>Not-in-family</td>\n",
       "      <td>White</td>\n",
       "      <td>Male</td>\n",
       "      <td>0</td>\n",
       "      <td>0</td>\n",
       "      <td>40</td>\n",
       "      <td>United-States</td>\n",
       "      <td>&lt;=50K</td>\n",
       "    </tr>\n",
       "    <tr>\n",
       "      <th>3</th>\n",
       "      <td>53</td>\n",
       "      <td>Private</td>\n",
       "      <td>234721</td>\n",
       "      <td>11th</td>\n",
       "      <td>7</td>\n",
       "      <td>Married-civ-spouse</td>\n",
       "      <td>Handlers-cleaners</td>\n",
       "      <td>Husband</td>\n",
       "      <td>Black</td>\n",
       "      <td>Male</td>\n",
       "      <td>0</td>\n",
       "      <td>0</td>\n",
       "      <td>40</td>\n",
       "      <td>United-States</td>\n",
       "      <td>&lt;=50K</td>\n",
       "    </tr>\n",
       "    <tr>\n",
       "      <th>4</th>\n",
       "      <td>28</td>\n",
       "      <td>Private</td>\n",
       "      <td>338409</td>\n",
       "      <td>Bachelors</td>\n",
       "      <td>13</td>\n",
       "      <td>Married-civ-spouse</td>\n",
       "      <td>Prof-specialty</td>\n",
       "      <td>Wife</td>\n",
       "      <td>Black</td>\n",
       "      <td>Female</td>\n",
       "      <td>0</td>\n",
       "      <td>0</td>\n",
       "      <td>40</td>\n",
       "      <td>Cuba</td>\n",
       "      <td>&lt;=50K</td>\n",
       "    </tr>\n",
       "  </tbody>\n",
       "</table>\n",
       "</div>"
      ],
      "text/plain": [
       "   age          workclass  fnlwgt   education  education-num  \\\n",
       "0   39          State-gov   77516   Bachelors             13   \n",
       "1   50   Self-emp-not-inc   83311   Bachelors             13   \n",
       "2   38            Private  215646     HS-grad              9   \n",
       "3   53            Private  234721        11th              7   \n",
       "4   28            Private  338409   Bachelors             13   \n",
       "\n",
       "        marital-status          occupation    relationship    race      sex  \\\n",
       "0        Never-married        Adm-clerical   Not-in-family   White     Male   \n",
       "1   Married-civ-spouse     Exec-managerial         Husband   White     Male   \n",
       "2             Divorced   Handlers-cleaners   Not-in-family   White     Male   \n",
       "3   Married-civ-spouse   Handlers-cleaners         Husband   Black     Male   \n",
       "4   Married-civ-spouse      Prof-specialty            Wife   Black   Female   \n",
       "\n",
       "   capital-gain  capital-loss  hours-per-week  native-country  target  \n",
       "0          2174             0              40   United-States   <=50K  \n",
       "1             0             0              13   United-States   <=50K  \n",
       "2             0             0              40   United-States   <=50K  \n",
       "3             0             0              40   United-States   <=50K  \n",
       "4             0             0              40            Cuba   <=50K  "
      ]
     },
     "metadata": {},
     "execution_count": 228
    }
   ],
   "metadata": {}
  },
  {
   "cell_type": "code",
   "execution_count": null,
   "source": [],
   "outputs": [],
   "metadata": {}
  },
  {
   "cell_type": "code",
   "execution_count": 229,
   "source": [
    "df.replace({\" ?\":np.nan},inplace=True)\n",
    "df.columns\n",
    "df.info()\n",
    "\n"
   ],
   "outputs": [
    {
     "output_type": "stream",
     "name": "stdout",
     "text": [
      "<class 'pandas.core.frame.DataFrame'>\n",
      "RangeIndex: 32561 entries, 0 to 32560\n",
      "Data columns (total 15 columns):\n",
      " #   Column          Non-Null Count  Dtype \n",
      "---  ------          --------------  ----- \n",
      " 0   age             32561 non-null  int64 \n",
      " 1   workclass       30725 non-null  object\n",
      " 2   fnlwgt          32561 non-null  int64 \n",
      " 3   education       32561 non-null  object\n",
      " 4   education-num   32561 non-null  int64 \n",
      " 5   marital-status  32561 non-null  object\n",
      " 6   occupation      30718 non-null  object\n",
      " 7   relationship    32561 non-null  object\n",
      " 8   race            32561 non-null  object\n",
      " 9   sex             32561 non-null  object\n",
      " 10  capital-gain    32561 non-null  int64 \n",
      " 11  capital-loss    32561 non-null  int64 \n",
      " 12  hours-per-week  32561 non-null  int64 \n",
      " 13  native-country  31978 non-null  object\n",
      " 14  target          32561 non-null  object\n",
      "dtypes: int64(6), object(9)\n",
      "memory usage: 3.7+ MB\n"
     ]
    }
   ],
   "metadata": {}
  },
  {
   "cell_type": "code",
   "execution_count": 230,
   "source": [
    "cat_col = ['workclass', 'education','marital-status', 'occupation', 'relationship', 'race', 'sex', 'native-country']\n",
    "num_cols = [ 'age', 'fnlwgt', 'education-num','capital-gain', 'capital-loss', 'hours-per-week']"
   ],
   "outputs": [],
   "metadata": {}
  },
  {
   "cell_type": "markdown",
   "source": [
    "On first look, it appears there are no missing values. **However the dataset descrption indicates that missing values have been flled with '?'.** Figure out what to do here :)"
   ],
   "metadata": {}
  },
  {
   "cell_type": "code",
   "execution_count": 231,
   "source": [
    "from sklearn.model_selection import train_test_split\n",
    "from sklearn.preprocessing import LabelEncoder\n",
    "lab_enc = LabelEncoder()\n",
    "X=df.iloc[:,:-1]\n",
    "y=df.iloc[:,-1]\n",
    "y= lab_enc.fit_transform(y)\n",
    "X_train,X_test,y_traint,y_test = train_test_split(X,y,test_size=0.2,random_state=0)\n",
    "X_train.info()\n"
   ],
   "outputs": [
    {
     "output_type": "stream",
     "name": "stdout",
     "text": [
      "<class 'pandas.core.frame.DataFrame'>\n",
      "Int64Index: 26048 entries, 15282 to 2732\n",
      "Data columns (total 14 columns):\n",
      " #   Column          Non-Null Count  Dtype \n",
      "---  ------          --------------  ----- \n",
      " 0   age             26048 non-null  int64 \n",
      " 1   workclass       24590 non-null  object\n",
      " 2   fnlwgt          26048 non-null  int64 \n",
      " 3   education       26048 non-null  object\n",
      " 4   education-num   26048 non-null  int64 \n",
      " 5   marital-status  26048 non-null  object\n",
      " 6   occupation      24584 non-null  object\n",
      " 7   relationship    26048 non-null  object\n",
      " 8   race            26048 non-null  object\n",
      " 9   sex             26048 non-null  object\n",
      " 10  capital-gain    26048 non-null  int64 \n",
      " 11  capital-loss    26048 non-null  int64 \n",
      " 12  hours-per-week  26048 non-null  int64 \n",
      " 13  native-country  25571 non-null  object\n",
      "dtypes: int64(6), object(8)\n",
      "memory usage: 3.0+ MB\n"
     ]
    }
   ],
   "metadata": {}
  },
  {
   "cell_type": "markdown",
   "source": [
    "Before deciding **how to deal with the missing values want to know how they influence the data**. For example, if workclass and occupation for example both have missing values (in the same tuple) it would be reasonable to drop the data."
   ],
   "metadata": {}
  },
  {
   "cell_type": "code",
   "execution_count": null,
   "source": [],
   "outputs": [],
   "metadata": {}
  },
  {
   "cell_type": "code",
   "execution_count": 232,
   "source": [
    "from sklearn.impute import SimpleImputer\n",
    "from sklearn.compose import ColumnTransformer\n",
    "from sklearn.preprocessing import OrdinalEncoder,OneHotEncoder\n",
    "from sklearn.pipeline import Pipeline\n",
    "num_imputer = SimpleImputer(strategy='median')\n",
    "cat_imputer = SimpleImputer(strategy='most_frequent')\n",
    "cat_encoder = OneHotEncoder()\n",
    "cat_pipe = Pipeline([('imputer',cat_imputer),('encoder',cat_encoder)])\n",
    "transformer = ColumnTransformer([('numerical',num_imputer,num_cols),('categorical',cat_pipe,cat_col)],remainder='drop')\n",
    "X_train_imputed = transformer.fit_transform(X_train)\n",
    "X_test_imputed = transformer.transform(X_test)"
   ],
   "outputs": [],
   "metadata": {}
  },
  {
   "cell_type": "markdown",
   "source": [
    "**What % of the dataset do nans represent?** What is the **best approach** for dealing with the nan's?"
   ],
   "metadata": {}
  },
  {
   "cell_type": "code",
   "execution_count": 238,
   "source": [
    "from sklearn.preprocessing import StandardScaler\n",
    "from sklearn.ensemble import RandomForestClassifier\n",
    "from sklearn.linear_model import LogisticRegression\n",
    "from sklearn.svm import SVC\n",
    "scaler = StandardScaler(with_mean=False)\n",
    "clf = SVC()\n",
    "model = Pipeline([('scaler',scaler),('clf',clf)])\n",
    "\n"
   ],
   "outputs": [],
   "metadata": {}
  },
  {
   "cell_type": "code",
   "execution_count": 239,
   "source": [
    "from sklearn import set_config\n",
    "set_config(display='diagram')\n",
    "model"
   ],
   "outputs": [
    {
     "output_type": "execute_result",
     "data": {
      "text/html": [
       "<style>#sk-b423272c-3c78-46a7-8f24-24054c523f9a {color: black;background-color: white;}#sk-b423272c-3c78-46a7-8f24-24054c523f9a pre{padding: 0;}#sk-b423272c-3c78-46a7-8f24-24054c523f9a div.sk-toggleable {background-color: white;}#sk-b423272c-3c78-46a7-8f24-24054c523f9a label.sk-toggleable__label {cursor: pointer;display: block;width: 100%;margin-bottom: 0;padding: 0.2em 0.3em;box-sizing: border-box;text-align: center;}#sk-b423272c-3c78-46a7-8f24-24054c523f9a div.sk-toggleable__content {max-height: 0;max-width: 0;overflow: hidden;text-align: left;background-color: #f0f8ff;}#sk-b423272c-3c78-46a7-8f24-24054c523f9a div.sk-toggleable__content pre {margin: 0.2em;color: black;border-radius: 0.25em;background-color: #f0f8ff;}#sk-b423272c-3c78-46a7-8f24-24054c523f9a input.sk-toggleable__control:checked~div.sk-toggleable__content {max-height: 200px;max-width: 100%;overflow: auto;}#sk-b423272c-3c78-46a7-8f24-24054c523f9a div.sk-estimator input.sk-toggleable__control:checked~label.sk-toggleable__label {background-color: #d4ebff;}#sk-b423272c-3c78-46a7-8f24-24054c523f9a div.sk-label input.sk-toggleable__control:checked~label.sk-toggleable__label {background-color: #d4ebff;}#sk-b423272c-3c78-46a7-8f24-24054c523f9a input.sk-hidden--visually {border: 0;clip: rect(1px 1px 1px 1px);clip: rect(1px, 1px, 1px, 1px);height: 1px;margin: -1px;overflow: hidden;padding: 0;position: absolute;width: 1px;}#sk-b423272c-3c78-46a7-8f24-24054c523f9a div.sk-estimator {font-family: monospace;background-color: #f0f8ff;margin: 0.25em 0.25em;border: 1px dotted black;border-radius: 0.25em;box-sizing: border-box;}#sk-b423272c-3c78-46a7-8f24-24054c523f9a div.sk-estimator:hover {background-color: #d4ebff;}#sk-b423272c-3c78-46a7-8f24-24054c523f9a div.sk-parallel-item::after {content: \"\";width: 100%;border-bottom: 1px solid gray;flex-grow: 1;}#sk-b423272c-3c78-46a7-8f24-24054c523f9a div.sk-label:hover label.sk-toggleable__label {background-color: #d4ebff;}#sk-b423272c-3c78-46a7-8f24-24054c523f9a div.sk-serial::before {content: \"\";position: absolute;border-left: 1px solid gray;box-sizing: border-box;top: 2em;bottom: 0;left: 50%;}#sk-b423272c-3c78-46a7-8f24-24054c523f9a div.sk-serial {display: flex;flex-direction: column;align-items: center;background-color: white;}#sk-b423272c-3c78-46a7-8f24-24054c523f9a div.sk-item {z-index: 1;}#sk-b423272c-3c78-46a7-8f24-24054c523f9a div.sk-parallel {display: flex;align-items: stretch;justify-content: center;background-color: white;}#sk-b423272c-3c78-46a7-8f24-24054c523f9a div.sk-parallel-item {display: flex;flex-direction: column;position: relative;background-color: white;}#sk-b423272c-3c78-46a7-8f24-24054c523f9a div.sk-parallel-item:first-child::after {align-self: flex-end;width: 50%;}#sk-b423272c-3c78-46a7-8f24-24054c523f9a div.sk-parallel-item:last-child::after {align-self: flex-start;width: 50%;}#sk-b423272c-3c78-46a7-8f24-24054c523f9a div.sk-parallel-item:only-child::after {width: 0;}#sk-b423272c-3c78-46a7-8f24-24054c523f9a div.sk-dashed-wrapped {border: 1px dashed gray;margin: 0.2em;box-sizing: border-box;padding-bottom: 0.1em;background-color: white;position: relative;}#sk-b423272c-3c78-46a7-8f24-24054c523f9a div.sk-label label {font-family: monospace;font-weight: bold;background-color: white;display: inline-block;line-height: 1.2em;}#sk-b423272c-3c78-46a7-8f24-24054c523f9a div.sk-label-container {position: relative;z-index: 2;text-align: center;}#sk-b423272c-3c78-46a7-8f24-24054c523f9a div.sk-container {display: inline-block;position: relative;}</style><div id=\"sk-b423272c-3c78-46a7-8f24-24054c523f9a\" class\"sk-top-container\"><div class=\"sk-container\"><div class=\"sk-item sk-dashed-wrapped\"><div class=\"sk-label-container\"><div class=\"sk-label sk-toggleable\"><input class=\"sk-toggleable__control sk-hidden--visually\" id=\"6a975a05-3509-4fe7-9041-832c6ea9d7e1\" type=\"checkbox\" ><label class=\"sk-toggleable__label\" for=\"6a975a05-3509-4fe7-9041-832c6ea9d7e1\">Pipeline</label><div class=\"sk-toggleable__content\"><pre>Pipeline(steps=[('scaler', StandardScaler(with_mean=False)), ('clf', SVC())])</pre></div></div></div><div class=\"sk-serial\"><div class=\"sk-item\"><div class=\"sk-estimator sk-toggleable\"><input class=\"sk-toggleable__control sk-hidden--visually\" id=\"9ed149da-033b-47bf-8dc5-09a9d93309ee\" type=\"checkbox\" ><label class=\"sk-toggleable__label\" for=\"9ed149da-033b-47bf-8dc5-09a9d93309ee\">StandardScaler</label><div class=\"sk-toggleable__content\"><pre>StandardScaler(with_mean=False)</pre></div></div></div><div class=\"sk-item\"><div class=\"sk-estimator sk-toggleable\"><input class=\"sk-toggleable__control sk-hidden--visually\" id=\"15c34330-86a8-4b9c-ac97-383139a011b3\" type=\"checkbox\" ><label class=\"sk-toggleable__label\" for=\"15c34330-86a8-4b9c-ac97-383139a011b3\">SVC</label><div class=\"sk-toggleable__content\"><pre>SVC()</pre></div></div></div></div></div></div></div>"
      ],
      "text/plain": [
       "Pipeline(steps=[('scaler', StandardScaler(with_mean=False)), ('clf', SVC())])"
      ]
     },
     "metadata": {},
     "execution_count": 239
    }
   ],
   "metadata": {}
  },
  {
   "cell_type": "code",
   "execution_count": 234,
   "source": [
    "# model.score(X_test_imputed,y_test)"
   ],
   "outputs": [],
   "metadata": {}
  },
  {
   "cell_type": "code",
   "execution_count": 242,
   "source": [
    "from sklearn.model_selection import cross_val_score\n",
    "params = {\n",
    "    'clf__kernel':['rbf','poly'],\n",
    "    'clf__C':[1,10,10]\n",
    "}\n",
    "new_grid = GridSearchCV(model,params,cv=5)"
   ],
   "outputs": [],
   "metadata": {}
  },
  {
   "cell_type": "code",
   "execution_count": 243,
   "source": [
    "new_grid.fit(X_train_imputed,y_traint)"
   ],
   "outputs": [
    {
     "output_type": "execute_result",
     "data": {
      "text/html": [
       "<style>#sk-4a2cf5c0-fca5-4b52-aee3-258f472de2fb {color: black;background-color: white;}#sk-4a2cf5c0-fca5-4b52-aee3-258f472de2fb pre{padding: 0;}#sk-4a2cf5c0-fca5-4b52-aee3-258f472de2fb div.sk-toggleable {background-color: white;}#sk-4a2cf5c0-fca5-4b52-aee3-258f472de2fb label.sk-toggleable__label {cursor: pointer;display: block;width: 100%;margin-bottom: 0;padding: 0.2em 0.3em;box-sizing: border-box;text-align: center;}#sk-4a2cf5c0-fca5-4b52-aee3-258f472de2fb div.sk-toggleable__content {max-height: 0;max-width: 0;overflow: hidden;text-align: left;background-color: #f0f8ff;}#sk-4a2cf5c0-fca5-4b52-aee3-258f472de2fb div.sk-toggleable__content pre {margin: 0.2em;color: black;border-radius: 0.25em;background-color: #f0f8ff;}#sk-4a2cf5c0-fca5-4b52-aee3-258f472de2fb input.sk-toggleable__control:checked~div.sk-toggleable__content {max-height: 200px;max-width: 100%;overflow: auto;}#sk-4a2cf5c0-fca5-4b52-aee3-258f472de2fb div.sk-estimator input.sk-toggleable__control:checked~label.sk-toggleable__label {background-color: #d4ebff;}#sk-4a2cf5c0-fca5-4b52-aee3-258f472de2fb div.sk-label input.sk-toggleable__control:checked~label.sk-toggleable__label {background-color: #d4ebff;}#sk-4a2cf5c0-fca5-4b52-aee3-258f472de2fb input.sk-hidden--visually {border: 0;clip: rect(1px 1px 1px 1px);clip: rect(1px, 1px, 1px, 1px);height: 1px;margin: -1px;overflow: hidden;padding: 0;position: absolute;width: 1px;}#sk-4a2cf5c0-fca5-4b52-aee3-258f472de2fb div.sk-estimator {font-family: monospace;background-color: #f0f8ff;margin: 0.25em 0.25em;border: 1px dotted black;border-radius: 0.25em;box-sizing: border-box;}#sk-4a2cf5c0-fca5-4b52-aee3-258f472de2fb div.sk-estimator:hover {background-color: #d4ebff;}#sk-4a2cf5c0-fca5-4b52-aee3-258f472de2fb div.sk-parallel-item::after {content: \"\";width: 100%;border-bottom: 1px solid gray;flex-grow: 1;}#sk-4a2cf5c0-fca5-4b52-aee3-258f472de2fb div.sk-label:hover label.sk-toggleable__label {background-color: #d4ebff;}#sk-4a2cf5c0-fca5-4b52-aee3-258f472de2fb div.sk-serial::before {content: \"\";position: absolute;border-left: 1px solid gray;box-sizing: border-box;top: 2em;bottom: 0;left: 50%;}#sk-4a2cf5c0-fca5-4b52-aee3-258f472de2fb div.sk-serial {display: flex;flex-direction: column;align-items: center;background-color: white;}#sk-4a2cf5c0-fca5-4b52-aee3-258f472de2fb div.sk-item {z-index: 1;}#sk-4a2cf5c0-fca5-4b52-aee3-258f472de2fb div.sk-parallel {display: flex;align-items: stretch;justify-content: center;background-color: white;}#sk-4a2cf5c0-fca5-4b52-aee3-258f472de2fb div.sk-parallel-item {display: flex;flex-direction: column;position: relative;background-color: white;}#sk-4a2cf5c0-fca5-4b52-aee3-258f472de2fb div.sk-parallel-item:first-child::after {align-self: flex-end;width: 50%;}#sk-4a2cf5c0-fca5-4b52-aee3-258f472de2fb div.sk-parallel-item:last-child::after {align-self: flex-start;width: 50%;}#sk-4a2cf5c0-fca5-4b52-aee3-258f472de2fb div.sk-parallel-item:only-child::after {width: 0;}#sk-4a2cf5c0-fca5-4b52-aee3-258f472de2fb div.sk-dashed-wrapped {border: 1px dashed gray;margin: 0.2em;box-sizing: border-box;padding-bottom: 0.1em;background-color: white;position: relative;}#sk-4a2cf5c0-fca5-4b52-aee3-258f472de2fb div.sk-label label {font-family: monospace;font-weight: bold;background-color: white;display: inline-block;line-height: 1.2em;}#sk-4a2cf5c0-fca5-4b52-aee3-258f472de2fb div.sk-label-container {position: relative;z-index: 2;text-align: center;}#sk-4a2cf5c0-fca5-4b52-aee3-258f472de2fb div.sk-container {display: inline-block;position: relative;}</style><div id=\"sk-4a2cf5c0-fca5-4b52-aee3-258f472de2fb\" class\"sk-top-container\"><div class=\"sk-container\"><div class=\"sk-item sk-dashed-wrapped\"><div class=\"sk-label-container\"><div class=\"sk-label sk-toggleable\"><input class=\"sk-toggleable__control sk-hidden--visually\" id=\"dd4cefa9-4ef1-4808-8a55-3fca9dc26dfb\" type=\"checkbox\" ><label class=\"sk-toggleable__label\" for=\"dd4cefa9-4ef1-4808-8a55-3fca9dc26dfb\">GridSearchCV</label><div class=\"sk-toggleable__content\"><pre>GridSearchCV(cv=5,\n",
       "             estimator=Pipeline(steps=[('scaler',\n",
       "                                        StandardScaler(with_mean=False)),\n",
       "                                       ('clf', SVC())]),\n",
       "             param_grid={'clf__C': [1, 10, 10], 'clf__kernel': ['rbf', 'poly']})</pre></div></div></div><div class=\"sk-parallel\"><div class=\"sk-parallel-item\"><div class=\"sk-item\"><div class=\"sk-serial\"><div class=\"sk-item\"><div class=\"sk-serial\"><div class=\"sk-item\"><div class=\"sk-estimator sk-toggleable\"><input class=\"sk-toggleable__control sk-hidden--visually\" id=\"ed70147b-0ad1-49b3-8a02-461ef1f1b3d2\" type=\"checkbox\" ><label class=\"sk-toggleable__label\" for=\"ed70147b-0ad1-49b3-8a02-461ef1f1b3d2\">StandardScaler</label><div class=\"sk-toggleable__content\"><pre>StandardScaler(with_mean=False)</pre></div></div></div><div class=\"sk-item\"><div class=\"sk-estimator sk-toggleable\"><input class=\"sk-toggleable__control sk-hidden--visually\" id=\"355bc94f-94fd-4c08-9a8c-523b4a1d7a15\" type=\"checkbox\" ><label class=\"sk-toggleable__label\" for=\"355bc94f-94fd-4c08-9a8c-523b4a1d7a15\">SVC</label><div class=\"sk-toggleable__content\"><pre>SVC()</pre></div></div></div></div></div></div></div></div></div></div></div></div>"
      ],
      "text/plain": [
       "GridSearchCV(cv=5,\n",
       "             estimator=Pipeline(steps=[('scaler',\n",
       "                                        StandardScaler(with_mean=False)),\n",
       "                                       ('clf', SVC())]),\n",
       "             param_grid={'clf__C': [1, 10, 10], 'clf__kernel': ['rbf', 'poly']})"
      ]
     },
     "metadata": {},
     "execution_count": 243
    }
   ],
   "metadata": {}
  },
  {
   "cell_type": "code",
   "execution_count": 245,
   "source": [
    "df_scores = pd.DataFrame(new_grid.cv_results_)\n",
    "df_scores"
   ],
   "outputs": [
    {
     "output_type": "execute_result",
     "data": {
      "text/html": [
       "<div>\n",
       "<style scoped>\n",
       "    .dataframe tbody tr th:only-of-type {\n",
       "        vertical-align: middle;\n",
       "    }\n",
       "\n",
       "    .dataframe tbody tr th {\n",
       "        vertical-align: top;\n",
       "    }\n",
       "\n",
       "    .dataframe thead th {\n",
       "        text-align: right;\n",
       "    }\n",
       "</style>\n",
       "<table border=\"1\" class=\"dataframe\">\n",
       "  <thead>\n",
       "    <tr style=\"text-align: right;\">\n",
       "      <th></th>\n",
       "      <th>mean_fit_time</th>\n",
       "      <th>std_fit_time</th>\n",
       "      <th>mean_score_time</th>\n",
       "      <th>std_score_time</th>\n",
       "      <th>param_clf__C</th>\n",
       "      <th>param_clf__kernel</th>\n",
       "      <th>params</th>\n",
       "      <th>split0_test_score</th>\n",
       "      <th>split1_test_score</th>\n",
       "      <th>split2_test_score</th>\n",
       "      <th>split3_test_score</th>\n",
       "      <th>split4_test_score</th>\n",
       "      <th>mean_test_score</th>\n",
       "      <th>std_test_score</th>\n",
       "      <th>rank_test_score</th>\n",
       "    </tr>\n",
       "  </thead>\n",
       "  <tbody>\n",
       "    <tr>\n",
       "      <th>0</th>\n",
       "      <td>7.652972</td>\n",
       "      <td>0.132441</td>\n",
       "      <td>1.344189</td>\n",
       "      <td>0.024625</td>\n",
       "      <td>1</td>\n",
       "      <td>rbf</td>\n",
       "      <td>{'clf__C': 1, 'clf__kernel': 'rbf'}</td>\n",
       "      <td>0.854319</td>\n",
       "      <td>0.852591</td>\n",
       "      <td>0.849328</td>\n",
       "      <td>0.848531</td>\n",
       "      <td>0.845844</td>\n",
       "      <td>0.850123</td>\n",
       "      <td>0.003006</td>\n",
       "      <td>1</td>\n",
       "    </tr>\n",
       "    <tr>\n",
       "      <th>1</th>\n",
       "      <td>6.976254</td>\n",
       "      <td>0.048189</td>\n",
       "      <td>1.268104</td>\n",
       "      <td>0.007789</td>\n",
       "      <td>1</td>\n",
       "      <td>poly</td>\n",
       "      <td>{'clf__C': 1, 'clf__kernel': 'poly'}</td>\n",
       "      <td>0.851440</td>\n",
       "      <td>0.849712</td>\n",
       "      <td>0.849520</td>\n",
       "      <td>0.844500</td>\n",
       "      <td>0.841428</td>\n",
       "      <td>0.847320</td>\n",
       "      <td>0.003747</td>\n",
       "      <td>6</td>\n",
       "    </tr>\n",
       "    <tr>\n",
       "      <th>2</th>\n",
       "      <td>8.746066</td>\n",
       "      <td>0.126852</td>\n",
       "      <td>1.283429</td>\n",
       "      <td>0.022735</td>\n",
       "      <td>10</td>\n",
       "      <td>rbf</td>\n",
       "      <td>{'clf__C': 10, 'clf__kernel': 'rbf'}</td>\n",
       "      <td>0.855278</td>\n",
       "      <td>0.852015</td>\n",
       "      <td>0.850480</td>\n",
       "      <td>0.846804</td>\n",
       "      <td>0.841812</td>\n",
       "      <td>0.849278</td>\n",
       "      <td>0.004622</td>\n",
       "      <td>2</td>\n",
       "    </tr>\n",
       "    <tr>\n",
       "      <th>3</th>\n",
       "      <td>8.288231</td>\n",
       "      <td>0.190584</td>\n",
       "      <td>1.223332</td>\n",
       "      <td>0.021054</td>\n",
       "      <td>10</td>\n",
       "      <td>poly</td>\n",
       "      <td>{'clf__C': 10, 'clf__kernel': 'poly'}</td>\n",
       "      <td>0.852207</td>\n",
       "      <td>0.851440</td>\n",
       "      <td>0.849904</td>\n",
       "      <td>0.846996</td>\n",
       "      <td>0.840276</td>\n",
       "      <td>0.848165</td>\n",
       "      <td>0.004329</td>\n",
       "      <td>4</td>\n",
       "    </tr>\n",
       "    <tr>\n",
       "      <th>4</th>\n",
       "      <td>8.827147</td>\n",
       "      <td>0.122206</td>\n",
       "      <td>1.277371</td>\n",
       "      <td>0.011127</td>\n",
       "      <td>10</td>\n",
       "      <td>rbf</td>\n",
       "      <td>{'clf__C': 10, 'clf__kernel': 'rbf'}</td>\n",
       "      <td>0.855278</td>\n",
       "      <td>0.852015</td>\n",
       "      <td>0.850480</td>\n",
       "      <td>0.846804</td>\n",
       "      <td>0.841812</td>\n",
       "      <td>0.849278</td>\n",
       "      <td>0.004622</td>\n",
       "      <td>2</td>\n",
       "    </tr>\n",
       "    <tr>\n",
       "      <th>5</th>\n",
       "      <td>8.494260</td>\n",
       "      <td>0.261905</td>\n",
       "      <td>1.217066</td>\n",
       "      <td>0.011860</td>\n",
       "      <td>10</td>\n",
       "      <td>poly</td>\n",
       "      <td>{'clf__C': 10, 'clf__kernel': 'poly'}</td>\n",
       "      <td>0.852207</td>\n",
       "      <td>0.851440</td>\n",
       "      <td>0.849904</td>\n",
       "      <td>0.846996</td>\n",
       "      <td>0.840276</td>\n",
       "      <td>0.848165</td>\n",
       "      <td>0.004329</td>\n",
       "      <td>4</td>\n",
       "    </tr>\n",
       "  </tbody>\n",
       "</table>\n",
       "</div>"
      ],
      "text/plain": [
       "   mean_fit_time  std_fit_time  mean_score_time  std_score_time param_clf__C  \\\n",
       "0       7.652972      0.132441         1.344189        0.024625            1   \n",
       "1       6.976254      0.048189         1.268104        0.007789            1   \n",
       "2       8.746066      0.126852         1.283429        0.022735           10   \n",
       "3       8.288231      0.190584         1.223332        0.021054           10   \n",
       "4       8.827147      0.122206         1.277371        0.011127           10   \n",
       "5       8.494260      0.261905         1.217066        0.011860           10   \n",
       "\n",
       "  param_clf__kernel                                 params  split0_test_score  \\\n",
       "0               rbf    {'clf__C': 1, 'clf__kernel': 'rbf'}           0.854319   \n",
       "1              poly   {'clf__C': 1, 'clf__kernel': 'poly'}           0.851440   \n",
       "2               rbf   {'clf__C': 10, 'clf__kernel': 'rbf'}           0.855278   \n",
       "3              poly  {'clf__C': 10, 'clf__kernel': 'poly'}           0.852207   \n",
       "4               rbf   {'clf__C': 10, 'clf__kernel': 'rbf'}           0.855278   \n",
       "5              poly  {'clf__C': 10, 'clf__kernel': 'poly'}           0.852207   \n",
       "\n",
       "   split1_test_score  split2_test_score  split3_test_score  split4_test_score  \\\n",
       "0           0.852591           0.849328           0.848531           0.845844   \n",
       "1           0.849712           0.849520           0.844500           0.841428   \n",
       "2           0.852015           0.850480           0.846804           0.841812   \n",
       "3           0.851440           0.849904           0.846996           0.840276   \n",
       "4           0.852015           0.850480           0.846804           0.841812   \n",
       "5           0.851440           0.849904           0.846996           0.840276   \n",
       "\n",
       "   mean_test_score  std_test_score  rank_test_score  \n",
       "0         0.850123        0.003006                1  \n",
       "1         0.847320        0.003747                6  \n",
       "2         0.849278        0.004622                2  \n",
       "3         0.848165        0.004329                4  \n",
       "4         0.849278        0.004622                2  \n",
       "5         0.848165        0.004329                4  "
      ]
     },
     "metadata": {},
     "execution_count": 245
    }
   ],
   "metadata": {}
  },
  {
   "cell_type": "code",
   "execution_count": 236,
   "source": [
    "# from sklearn.ensemble import RandomForestClassifier\n",
    "# from sklearn.preprocessing import StandardScaler\n",
    "# from sklearn.metrics import accuracy_score\n",
    "# sc = StandardScaler()\n",
    "# X_tr_sc = sc.fit_transform(X_train)\n",
    "# X_ts_sc = sc.transform(X_test)\n",
    "# mod = RandomForestClassifier()\n",
    "# mod.fit(X_tr_sc,y_train)\n",
    "# pred = mod.predict(X_ts_sc)\n",
    "\n",
    "# accuracy_score(y_test,pred)"
   ],
   "outputs": [],
   "metadata": {}
  },
  {
   "cell_type": "code",
   "execution_count": 237,
   "source": [
    "# lin_mod = LogisticRegression()\n",
    "# lin_mod.fit(X_tr_sc,y_train)\n",
    "# pred_lin = lin_mod.predict(X_ts_sc)\n",
    "# accuracy_score(y_test,pred_lin)"
   ],
   "outputs": [],
   "metadata": {}
  }
 ],
 "metadata": {
  "kernelspec": {
   "name": "python3",
   "display_name": "Python 3.9.7 64-bit ('new_env': conda)"
  },
  "language_info": {
   "codemirror_mode": {
    "name": "ipython",
    "version": 3
   },
   "file_extension": ".py",
   "mimetype": "text/x-python",
   "name": "python",
   "nbconvert_exporter": "python",
   "pygments_lexer": "ipython3",
   "version": "3.9.7"
  },
  "interpreter": {
   "hash": "be7f91b8a86516165fcb6cb0d2d574b7f158dfa612c4d7a1e53febf57ef86532"
  }
 },
 "nbformat": 4,
 "nbformat_minor": 2
}