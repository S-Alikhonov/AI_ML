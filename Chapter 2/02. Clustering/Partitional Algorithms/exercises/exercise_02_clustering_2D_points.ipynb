{
 "cells": [
  {
   "cell_type": "markdown",
   "source": [
    "# Exercise 2: Clustering 2D points"
   ],
   "metadata": {}
  },
  {
   "cell_type": "markdown",
   "source": [
    "From the scatter plot of the previous exercise, you saw that the points seem to separate into 3 clusters.  Now create a KMeans model to find 3 clusters, and fit it to the data points from the previous exercise.  After the model has been fit, obtain the cluster labels for points, and also for some new points using the `.predict()` method.\n",
    "\n",
    "You are given the array `points` from the previous exercise, and also an array `new_points`."
   ],
   "metadata": {}
  },
  {
   "cell_type": "markdown",
   "source": [
    "**Step 1:** Load the dataset _(written for you)_."
   ],
   "metadata": {}
  },
  {
   "cell_type": "code",
   "execution_count": 12,
   "source": [
    "import pandas as pd\n",
    "\n",
    "df = pd.read_csv('../datasets/ch1ex1.csv')\n",
    "points = df.values\n",
    "\n",
    "new_df = pd.read_csv('../datasets/ch1ex2.csv')\n",
    "new_points = new_df.values"
   ],
   "outputs": [],
   "metadata": {
    "collapsed": true,
    "exercise": false
   }
  },
  {
   "cell_type": "markdown",
   "source": [
    "**Step 2:** Import `KMeans` from `sklearn.cluster`"
   ],
   "metadata": {}
  },
  {
   "cell_type": "code",
   "execution_count": 13,
   "source": [
    "from sklearn.cluster import KMeans"
   ],
   "outputs": [],
   "metadata": {
    "collapsed": true
   }
  },
  {
   "cell_type": "markdown",
   "source": [
    "**Step 3:** Using `KMeans()`, create a `KMeans` instance called `model` to find `3` clusters. To specify the number of clusters, use the `n_clusters` keyword argument"
   ],
   "metadata": {}
  },
  {
   "cell_type": "code",
   "execution_count": 14,
   "source": [
    "model = KMeans(n_clusters=3)"
   ],
   "outputs": [],
   "metadata": {
    "collapsed": true
   }
  },
  {
   "cell_type": "markdown",
   "source": [
    "**Step 4:** Use the `.fit()` method of `model` to fit the model to the array of points `points`."
   ],
   "metadata": {}
  },
  {
   "cell_type": "code",
   "execution_count": 15,
   "source": [
    "model.fit(points)"
   ],
   "outputs": [
    {
     "output_type": "execute_result",
     "data": {
      "text/plain": [
       "KMeans(n_clusters=3)"
      ]
     },
     "metadata": {},
     "execution_count": 15
    }
   ],
   "metadata": {}
  },
  {
   "cell_type": "markdown",
   "source": [
    "**Step 5:** Use the `.predict()` method of `model` to predict the cluster labels of `points`, assigning the result to `labels`."
   ],
   "metadata": {}
  },
  {
   "cell_type": "code",
   "execution_count": 16,
   "source": [
    "labels = model.predict(points)"
   ],
   "outputs": [],
   "metadata": {
    "collapsed": true
   }
  },
  {
   "cell_type": "markdown",
   "source": [
    "**Step 6:** Print out the labels, and have a look at them!  _(In the next exercise, I'll show you how to visualise this clustering better.)_"
   ],
   "metadata": {}
  },
  {
   "cell_type": "code",
   "execution_count": 17,
   "source": [
    "print(labels)"
   ],
   "outputs": [
    {
     "output_type": "stream",
     "name": "stdout",
     "text": [
      "[2 0 1 1 0 0 1 2 0 0 1 2 0 1 0 2 1 1 2 1 0 2 0 2 2 0 2 2 2 0 1 1 1 0 2 0 2\n",
      " 2 0 2 2 1 0 0 0 2 2 1 2 1 1 1 2 2 2 0 2 2 0 1 0 2 2 1 1 0 1 0 0 2 1 0 1 2\n",
      " 1 0 2 2 2 1 2 0 1 0 0 0 0 2 2 1 0 1 0 2 2 2 1 0 0 1 0 2 0 1 2 1 1 1 0 0 2\n",
      " 0 1 0 0 0 2 0 1 1 2 2 2 2 2 0 1 2 0 0 1 1 0 2 0 2 1 0 1 2 1 1 2 1 1 2 1 0\n",
      " 2 2 2 1 1 0 1 0 2 2 1 0 1 1 1 0 2 2 0 1 1 2 2 1 2 2 0 2 1 1 1 2 2 1 2 1 1\n",
      " 2 0 1 2 2 2 2 0 1 2 0 0 0 2 0 2 2 0 1 1 2 1 2 2 0 0 2 1 0 1 2 1 0 2 0 0 0\n",
      " 0 1 1 1 2 2 0 2 1 0 2 2 0 2 1 1 1 1 1 0 2 2 1 1 2 0 1 0 0 2 2 0 0 0 2 1 2\n",
      " 0 2 1 1 1 1 1 2 2 0 2 2 0 1 1 0 2 1 1 0 0 2 2 2 0 0 2 1 0 0 1 2 2 2 0 2 2\n",
      " 2 0 0 0]\n"
     ]
    }
   ],
   "metadata": {}
  },
  {
   "cell_type": "markdown",
   "source": [
    "**Step 7:** Use the `.predict()` method of `model` to predict the cluster labels of `new_points`, assigning the result to `new_labels`.  Notice that KMeans can assign previously unseen points to the clusters it has already found!"
   ],
   "metadata": {}
  },
  {
   "cell_type": "code",
   "execution_count": 18,
   "source": [
    "new_labels = model.predict(new_points)"
   ],
   "outputs": [],
   "metadata": {
    "collapsed": true
   }
  }
 ],
 "metadata": {
  "kernelspec": {
   "name": "python3",
   "display_name": "Python 3.8.11 64-bit ('sayeed': conda)"
  },
  "language_info": {
   "codemirror_mode": {
    "name": "ipython",
    "version": 3
   },
   "file_extension": ".py",
   "mimetype": "text/x-python",
   "name": "python",
   "nbconvert_exporter": "python",
   "pygments_lexer": "ipython3",
   "version": "3.8.11"
  },
  "interpreter": {
   "hash": "57ccbecd372b9becaf4e59334636d42e5a64583ce917e4ad46b635842aed01d7"
  }
 },
 "nbformat": 4,
 "nbformat_minor": 1
}