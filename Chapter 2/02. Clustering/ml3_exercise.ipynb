{
  "nbformat": 4,
  "nbformat_minor": 2,
  "metadata": {
    "celltoolbar": "Create Assignment",
    "kernelspec": {
      "name": "python3",
      "display_name": "Python 3.8.12 64-bit ('strive': conda)"
    },
    "language_info": {
      "codemirror_mode": {
        "name": "ipython",
        "version": 3
      },
      "file_extension": ".py",
      "mimetype": "text/x-python",
      "name": "python",
      "nbconvert_exporter": "python",
      "pygments_lexer": "ipython3",
      "version": "3.8.12"
    },
    "colab": {
      "name": "ml3_exercise.ipynb",
      "provenance": [],
      "collapsed_sections": []
    },
    "interpreter": {
      "hash": "474ac02e50c49bd2e5c48b8a8175c7e46a92ecb6860b4a01aa1c73b8fbab235e"
    }
  },
  "cells": [
    {
      "cell_type": "markdown",
      "source": [
        "# Exercise 10: Hierarchical clustering of the grain data\n",
        "\n",
        "In the video, you learnt that the SciPy `linkage()` function performs hierarchical clustering on an array of samples.  Use the `linkage()` function to obtain a hierarchical clustering of the grain samples, and use `dendrogram()` to visualize the result.  A sample of the grain measurements is provided in the array `samples`, while the variety of each grain sample is given by the list `varieties`.\n"
      ],
      "metadata": {
        "nbgrader": {
          "grade": false,
          "grade_id": "cell-33d26828be6e1038",
          "locked": true,
          "schema_version": 3,
          "solution": false,
          "task": false
        },
        "id": "7yoAeqZtaBmp"
      }
    },
    {
      "cell_type": "markdown",
      "source": [
        "**Step 1:** Import:\n",
        "\n",
        " + `linkage` and `dendrogram` from `scipy.cluster.hierarchy`.\n",
        " + `matplotlib.pyplot` as `plt`.\n",
        " + `pandas`\n",
        " + `load_iris` and `train_test_split`"
      ],
      "metadata": {
        "nbgrader": {
          "grade": false,
          "grade_id": "cell-f184e018b98e7d52",
          "locked": true,
          "schema_version": 3,
          "solution": false,
          "task": false
        },
        "id": "mk3dxh5naBmt"
      }
    },
    {
      "cell_type": "code",
      "execution_count": 2,
      "source": [
        "import numpy as np\n",
        "from sklearn import datasets\n",
        "import pandas as pd\n",
        "from scipy.cluster.hierarchy import dendrogram, linkage\n",
        "import matplotlib.pyplot as plt\n"
      ],
      "outputs": [],
      "metadata": {
        "id": "ciFPMqPgaBmv"
      }
    },
    {
      "cell_type": "markdown",
      "source": [
        "**Step 2:** Load the dataset _(done for you)_."
      ],
      "metadata": {
        "nbgrader": {
          "grade": false,
          "grade_id": "cell-5d407d7746dba37b",
          "locked": true,
          "schema_version": 3,
          "solution": false,
          "task": false
        },
        "id": "zSW_vygVaBmw"
      }
    },
    {
      "cell_type": "code",
      "execution_count": 3,
      "source": [
        "\n",
        "iris_data = datasets.load_iris()\n",
        "iris_data\n"
      ],
      "outputs": [
        {
          "output_type": "execute_result",
          "data": {
            "text/plain": [
              "{'data': array([[5.1, 3.5, 1.4, 0.2],\n",
              "        [4.9, 3. , 1.4, 0.2],\n",
              "        [4.7, 3.2, 1.3, 0.2],\n",
              "        [4.6, 3.1, 1.5, 0.2],\n",
              "        [5. , 3.6, 1.4, 0.2],\n",
              "        [5.4, 3.9, 1.7, 0.4],\n",
              "        [4.6, 3.4, 1.4, 0.3],\n",
              "        [5. , 3.4, 1.5, 0.2],\n",
              "        [4.4, 2.9, 1.4, 0.2],\n",
              "        [4.9, 3.1, 1.5, 0.1],\n",
              "        [5.4, 3.7, 1.5, 0.2],\n",
              "        [4.8, 3.4, 1.6, 0.2],\n",
              "        [4.8, 3. , 1.4, 0.1],\n",
              "        [4.3, 3. , 1.1, 0.1],\n",
              "        [5.8, 4. , 1.2, 0.2],\n",
              "        [5.7, 4.4, 1.5, 0.4],\n",
              "        [5.4, 3.9, 1.3, 0.4],\n",
              "        [5.1, 3.5, 1.4, 0.3],\n",
              "        [5.7, 3.8, 1.7, 0.3],\n",
              "        [5.1, 3.8, 1.5, 0.3],\n",
              "        [5.4, 3.4, 1.7, 0.2],\n",
              "        [5.1, 3.7, 1.5, 0.4],\n",
              "        [4.6, 3.6, 1. , 0.2],\n",
              "        [5.1, 3.3, 1.7, 0.5],\n",
              "        [4.8, 3.4, 1.9, 0.2],\n",
              "        [5. , 3. , 1.6, 0.2],\n",
              "        [5. , 3.4, 1.6, 0.4],\n",
              "        [5.2, 3.5, 1.5, 0.2],\n",
              "        [5.2, 3.4, 1.4, 0.2],\n",
              "        [4.7, 3.2, 1.6, 0.2],\n",
              "        [4.8, 3.1, 1.6, 0.2],\n",
              "        [5.4, 3.4, 1.5, 0.4],\n",
              "        [5.2, 4.1, 1.5, 0.1],\n",
              "        [5.5, 4.2, 1.4, 0.2],\n",
              "        [4.9, 3.1, 1.5, 0.2],\n",
              "        [5. , 3.2, 1.2, 0.2],\n",
              "        [5.5, 3.5, 1.3, 0.2],\n",
              "        [4.9, 3.6, 1.4, 0.1],\n",
              "        [4.4, 3. , 1.3, 0.2],\n",
              "        [5.1, 3.4, 1.5, 0.2],\n",
              "        [5. , 3.5, 1.3, 0.3],\n",
              "        [4.5, 2.3, 1.3, 0.3],\n",
              "        [4.4, 3.2, 1.3, 0.2],\n",
              "        [5. , 3.5, 1.6, 0.6],\n",
              "        [5.1, 3.8, 1.9, 0.4],\n",
              "        [4.8, 3. , 1.4, 0.3],\n",
              "        [5.1, 3.8, 1.6, 0.2],\n",
              "        [4.6, 3.2, 1.4, 0.2],\n",
              "        [5.3, 3.7, 1.5, 0.2],\n",
              "        [5. , 3.3, 1.4, 0.2],\n",
              "        [7. , 3.2, 4.7, 1.4],\n",
              "        [6.4, 3.2, 4.5, 1.5],\n",
              "        [6.9, 3.1, 4.9, 1.5],\n",
              "        [5.5, 2.3, 4. , 1.3],\n",
              "        [6.5, 2.8, 4.6, 1.5],\n",
              "        [5.7, 2.8, 4.5, 1.3],\n",
              "        [6.3, 3.3, 4.7, 1.6],\n",
              "        [4.9, 2.4, 3.3, 1. ],\n",
              "        [6.6, 2.9, 4.6, 1.3],\n",
              "        [5.2, 2.7, 3.9, 1.4],\n",
              "        [5. , 2. , 3.5, 1. ],\n",
              "        [5.9, 3. , 4.2, 1.5],\n",
              "        [6. , 2.2, 4. , 1. ],\n",
              "        [6.1, 2.9, 4.7, 1.4],\n",
              "        [5.6, 2.9, 3.6, 1.3],\n",
              "        [6.7, 3.1, 4.4, 1.4],\n",
              "        [5.6, 3. , 4.5, 1.5],\n",
              "        [5.8, 2.7, 4.1, 1. ],\n",
              "        [6.2, 2.2, 4.5, 1.5],\n",
              "        [5.6, 2.5, 3.9, 1.1],\n",
              "        [5.9, 3.2, 4.8, 1.8],\n",
              "        [6.1, 2.8, 4. , 1.3],\n",
              "        [6.3, 2.5, 4.9, 1.5],\n",
              "        [6.1, 2.8, 4.7, 1.2],\n",
              "        [6.4, 2.9, 4.3, 1.3],\n",
              "        [6.6, 3. , 4.4, 1.4],\n",
              "        [6.8, 2.8, 4.8, 1.4],\n",
              "        [6.7, 3. , 5. , 1.7],\n",
              "        [6. , 2.9, 4.5, 1.5],\n",
              "        [5.7, 2.6, 3.5, 1. ],\n",
              "        [5.5, 2.4, 3.8, 1.1],\n",
              "        [5.5, 2.4, 3.7, 1. ],\n",
              "        [5.8, 2.7, 3.9, 1.2],\n",
              "        [6. , 2.7, 5.1, 1.6],\n",
              "        [5.4, 3. , 4.5, 1.5],\n",
              "        [6. , 3.4, 4.5, 1.6],\n",
              "        [6.7, 3.1, 4.7, 1.5],\n",
              "        [6.3, 2.3, 4.4, 1.3],\n",
              "        [5.6, 3. , 4.1, 1.3],\n",
              "        [5.5, 2.5, 4. , 1.3],\n",
              "        [5.5, 2.6, 4.4, 1.2],\n",
              "        [6.1, 3. , 4.6, 1.4],\n",
              "        [5.8, 2.6, 4. , 1.2],\n",
              "        [5. , 2.3, 3.3, 1. ],\n",
              "        [5.6, 2.7, 4.2, 1.3],\n",
              "        [5.7, 3. , 4.2, 1.2],\n",
              "        [5.7, 2.9, 4.2, 1.3],\n",
              "        [6.2, 2.9, 4.3, 1.3],\n",
              "        [5.1, 2.5, 3. , 1.1],\n",
              "        [5.7, 2.8, 4.1, 1.3],\n",
              "        [6.3, 3.3, 6. , 2.5],\n",
              "        [5.8, 2.7, 5.1, 1.9],\n",
              "        [7.1, 3. , 5.9, 2.1],\n",
              "        [6.3, 2.9, 5.6, 1.8],\n",
              "        [6.5, 3. , 5.8, 2.2],\n",
              "        [7.6, 3. , 6.6, 2.1],\n",
              "        [4.9, 2.5, 4.5, 1.7],\n",
              "        [7.3, 2.9, 6.3, 1.8],\n",
              "        [6.7, 2.5, 5.8, 1.8],\n",
              "        [7.2, 3.6, 6.1, 2.5],\n",
              "        [6.5, 3.2, 5.1, 2. ],\n",
              "        [6.4, 2.7, 5.3, 1.9],\n",
              "        [6.8, 3. , 5.5, 2.1],\n",
              "        [5.7, 2.5, 5. , 2. ],\n",
              "        [5.8, 2.8, 5.1, 2.4],\n",
              "        [6.4, 3.2, 5.3, 2.3],\n",
              "        [6.5, 3. , 5.5, 1.8],\n",
              "        [7.7, 3.8, 6.7, 2.2],\n",
              "        [7.7, 2.6, 6.9, 2.3],\n",
              "        [6. , 2.2, 5. , 1.5],\n",
              "        [6.9, 3.2, 5.7, 2.3],\n",
              "        [5.6, 2.8, 4.9, 2. ],\n",
              "        [7.7, 2.8, 6.7, 2. ],\n",
              "        [6.3, 2.7, 4.9, 1.8],\n",
              "        [6.7, 3.3, 5.7, 2.1],\n",
              "        [7.2, 3.2, 6. , 1.8],\n",
              "        [6.2, 2.8, 4.8, 1.8],\n",
              "        [6.1, 3. , 4.9, 1.8],\n",
              "        [6.4, 2.8, 5.6, 2.1],\n",
              "        [7.2, 3. , 5.8, 1.6],\n",
              "        [7.4, 2.8, 6.1, 1.9],\n",
              "        [7.9, 3.8, 6.4, 2. ],\n",
              "        [6.4, 2.8, 5.6, 2.2],\n",
              "        [6.3, 2.8, 5.1, 1.5],\n",
              "        [6.1, 2.6, 5.6, 1.4],\n",
              "        [7.7, 3. , 6.1, 2.3],\n",
              "        [6.3, 3.4, 5.6, 2.4],\n",
              "        [6.4, 3.1, 5.5, 1.8],\n",
              "        [6. , 3. , 4.8, 1.8],\n",
              "        [6.9, 3.1, 5.4, 2.1],\n",
              "        [6.7, 3.1, 5.6, 2.4],\n",
              "        [6.9, 3.1, 5.1, 2.3],\n",
              "        [5.8, 2.7, 5.1, 1.9],\n",
              "        [6.8, 3.2, 5.9, 2.3],\n",
              "        [6.7, 3.3, 5.7, 2.5],\n",
              "        [6.7, 3. , 5.2, 2.3],\n",
              "        [6.3, 2.5, 5. , 1.9],\n",
              "        [6.5, 3. , 5.2, 2. ],\n",
              "        [6.2, 3.4, 5.4, 2.3],\n",
              "        [5.9, 3. , 5.1, 1.8]]),\n",
              " 'target': array([0, 0, 0, 0, 0, 0, 0, 0, 0, 0, 0, 0, 0, 0, 0, 0, 0, 0, 0, 0, 0, 0,\n",
              "        0, 0, 0, 0, 0, 0, 0, 0, 0, 0, 0, 0, 0, 0, 0, 0, 0, 0, 0, 0, 0, 0,\n",
              "        0, 0, 0, 0, 0, 0, 1, 1, 1, 1, 1, 1, 1, 1, 1, 1, 1, 1, 1, 1, 1, 1,\n",
              "        1, 1, 1, 1, 1, 1, 1, 1, 1, 1, 1, 1, 1, 1, 1, 1, 1, 1, 1, 1, 1, 1,\n",
              "        1, 1, 1, 1, 1, 1, 1, 1, 1, 1, 1, 1, 2, 2, 2, 2, 2, 2, 2, 2, 2, 2,\n",
              "        2, 2, 2, 2, 2, 2, 2, 2, 2, 2, 2, 2, 2, 2, 2, 2, 2, 2, 2, 2, 2, 2,\n",
              "        2, 2, 2, 2, 2, 2, 2, 2, 2, 2, 2, 2, 2, 2, 2, 2, 2, 2]),\n",
              " 'frame': None,\n",
              " 'target_names': array(['setosa', 'versicolor', 'virginica'], dtype='<U10'),\n",
              " 'DESCR': '.. _iris_dataset:\\n\\nIris plants dataset\\n--------------------\\n\\n**Data Set Characteristics:**\\n\\n    :Number of Instances: 150 (50 in each of three classes)\\n    :Number of Attributes: 4 numeric, predictive attributes and the class\\n    :Attribute Information:\\n        - sepal length in cm\\n        - sepal width in cm\\n        - petal length in cm\\n        - petal width in cm\\n        - class:\\n                - Iris-Setosa\\n                - Iris-Versicolour\\n                - Iris-Virginica\\n                \\n    :Summary Statistics:\\n\\n    ============== ==== ==== ======= ===== ====================\\n                    Min  Max   Mean    SD   Class Correlation\\n    ============== ==== ==== ======= ===== ====================\\n    sepal length:   4.3  7.9   5.84   0.83    0.7826\\n    sepal width:    2.0  4.4   3.05   0.43   -0.4194\\n    petal length:   1.0  6.9   3.76   1.76    0.9490  (high!)\\n    petal width:    0.1  2.5   1.20   0.76    0.9565  (high!)\\n    ============== ==== ==== ======= ===== ====================\\n\\n    :Missing Attribute Values: None\\n    :Class Distribution: 33.3% for each of 3 classes.\\n    :Creator: R.A. Fisher\\n    :Donor: Michael Marshall (MARSHALL%PLU@io.arc.nasa.gov)\\n    :Date: July, 1988\\n\\nThe famous Iris database, first used by Sir R.A. Fisher. The dataset is taken\\nfrom Fisher\\'s paper. Note that it\\'s the same as in R, but not as in the UCI\\nMachine Learning Repository, which has two wrong data points.\\n\\nThis is perhaps the best known database to be found in the\\npattern recognition literature.  Fisher\\'s paper is a classic in the field and\\nis referenced frequently to this day.  (See Duda & Hart, for example.)  The\\ndata set contains 3 classes of 50 instances each, where each class refers to a\\ntype of iris plant.  One class is linearly separable from the other 2; the\\nlatter are NOT linearly separable from each other.\\n\\n.. topic:: References\\n\\n   - Fisher, R.A. \"The use of multiple measurements in taxonomic problems\"\\n     Annual Eugenics, 7, Part II, 179-188 (1936); also in \"Contributions to\\n     Mathematical Statistics\" (John Wiley, NY, 1950).\\n   - Duda, R.O., & Hart, P.E. (1973) Pattern Classification and Scene Analysis.\\n     (Q327.D83) John Wiley & Sons.  ISBN 0-471-22361-1.  See page 218.\\n   - Dasarathy, B.V. (1980) \"Nosing Around the Neighborhood: A New System\\n     Structure and Classification Rule for Recognition in Partially Exposed\\n     Environments\".  IEEE Transactions on Pattern Analysis and Machine\\n     Intelligence, Vol. PAMI-2, No. 1, 67-71.\\n   - Gates, G.W. (1972) \"The Reduced Nearest Neighbor Rule\".  IEEE Transactions\\n     on Information Theory, May 1972, 431-433.\\n   - See also: 1988 MLC Proceedings, 54-64.  Cheeseman et al\"s AUTOCLASS II\\n     conceptual clustering system finds 3 classes in the data.\\n   - Many, many more ...',\n",
              " 'feature_names': ['sepal length (cm)',\n",
              "  'sepal width (cm)',\n",
              "  'petal length (cm)',\n",
              "  'petal width (cm)'],\n",
              " 'filename': '/Users/saidalikhonalikhonov/opt/anaconda3/envs/strive/lib/python3.8/site-packages/sklearn/datasets/data/iris.csv'}"
            ]
          },
          "metadata": {},
          "execution_count": 3
        }
      ],
      "metadata": {
        "exercise": false,
        "id": "nWePNZPAaBmx"
      }
    },
    {
      "cell_type": "code",
      "execution_count": 4,
      "source": [
        "#Create pd DF the same way you did the first day\n",
        "#Create the class and target columns and remove de cm from the columns names\n",
        "\n",
        "def create_df():\n",
        "    \n",
        "    df = pd.DataFrame(iris_data.data,columns=iris_data.feature_names)\n",
        "    df = df.rename(columns = {'sepal length (cm)':'sepal length',\n",
        "                        'sepal width (cm)':'sepal width',\n",
        "                        'petal length (cm)':'petal length',\n",
        "                        'petal width (cm)':'petal width'\n",
        "\n",
        "    })\n",
        "\n",
        "    df['target'] = iris_data.target\n",
        "    df['class']= 0\n",
        "    df[df['target']==0]['class'],df[df['target']==1]['class'],df[df['target']==2]['class'] = iris_data.target_names\n",
        "    return df\n",
        "    \n",
        "    # Add target and class to DataFrame\n",
        "    \n",
        "    #rename the columns - remove the (cm)\n",
        "  \n",
        "    \n",
        "    \n",
        "    ### END SOLUTION\n"
      ],
      "outputs": [],
      "metadata": {
        "nbgrader": {
          "grade": false,
          "grade_id": "cell-5b5863d4b8ed6db7",
          "locked": false,
          "schema_version": 3,
          "solution": true,
          "task": false
        },
        "id": "XqQDLv8DaBmx"
      }
    },
    {
      "cell_type": "code",
      "execution_count": 5,
      "source": [
        "\n",
        "df_iris = create_df()"
      ],
      "outputs": [
        {
          "output_type": "stream",
          "name": "stderr",
          "text": [
            "/var/folders/1h/x7tmv9xd1bsclx868ql32nf40000gn/T/ipykernel_10248/1771707230.py:16: SettingWithCopyWarning: \n",
            "A value is trying to be set on a copy of a slice from a DataFrame.\n",
            "Try using .loc[row_indexer,col_indexer] = value instead\n",
            "\n",
            "See the caveats in the documentation: https://pandas.pydata.org/pandas-docs/stable/user_guide/indexing.html#returning-a-view-versus-a-copy\n",
            "  df[df['target']==0]['class'],df[df['target']==1]['class'],df[df['target']==2]['class'] = iris_data.target_names\n",
            "/var/folders/1h/x7tmv9xd1bsclx868ql32nf40000gn/T/ipykernel_10248/1771707230.py:16: SettingWithCopyWarning: \n",
            "A value is trying to be set on a copy of a slice from a DataFrame.\n",
            "Try using .loc[row_indexer,col_indexer] = value instead\n",
            "\n",
            "See the caveats in the documentation: https://pandas.pydata.org/pandas-docs/stable/user_guide/indexing.html#returning-a-view-versus-a-copy\n",
            "  df[df['target']==0]['class'],df[df['target']==1]['class'],df[df['target']==2]['class'] = iris_data.target_names\n",
            "/var/folders/1h/x7tmv9xd1bsclx868ql32nf40000gn/T/ipykernel_10248/1771707230.py:16: SettingWithCopyWarning: \n",
            "A value is trying to be set on a copy of a slice from a DataFrame.\n",
            "Try using .loc[row_indexer,col_indexer] = value instead\n",
            "\n",
            "See the caveats in the documentation: https://pandas.pydata.org/pandas-docs/stable/user_guide/indexing.html#returning-a-view-versus-a-copy\n",
            "  df[df['target']==0]['class'],df[df['target']==1]['class'],df[df['target']==2]['class'] = iris_data.target_names\n"
          ]
        }
      ],
      "metadata": {}
    },
    {
      "cell_type": "code",
      "execution_count": 6,
      "source": [
        "assert df_iris['sepal length'].shape == (150,)\n",
        "assert df_iris['sepal width'].shape == (150,)\n",
        "assert df_iris['petal length'].shape == (150,)\n",
        "assert df_iris['petal width'].shape == (150,)\n",
        "assert df_iris['target'].shape == (150,)\n",
        "assert df_iris['class'].shape == (150,)"
      ],
      "outputs": [],
      "metadata": {
        "nbgrader": {
          "grade": true,
          "grade_id": "cell-632fd0e11b776633",
          "locked": true,
          "points": 2,
          "schema_version": 3,
          "solution": false,
          "task": false
        },
        "id": "PH4R0XYLaBmz"
      }
    },
    {
      "cell_type": "code",
      "execution_count": 7,
      "source": [
        "\n",
        "#From our data we will only get variable columns as np.array\n",
        "x = np.array(df_iris[['sepal length','sepal width','petal length','petal width']])\n",
        "### BEGIN SOLUTION\n",
        "\n",
        "### END SOLUTIONS"
      ],
      "outputs": [],
      "metadata": {
        "nbgrader": {
          "grade": false,
          "grade_id": "cell-1b1da2fc006dd2f6",
          "locked": false,
          "schema_version": 3,
          "solution": true,
          "task": false
        },
        "id": "EWzr4u11aBmz"
      }
    },
    {
      "cell_type": "code",
      "execution_count": 8,
      "source": [
        "assert x.shape == (150,4)"
      ],
      "outputs": [],
      "metadata": {
        "nbgrader": {
          "grade": true,
          "grade_id": "cell-81d6796d99e92aa3",
          "locked": true,
          "points": 0,
          "schema_version": 3,
          "solution": false,
          "task": false
        },
        "id": "RPpXTyW6aBmz"
      }
    },
    {
      "cell_type": "markdown",
      "source": [
        "**Step 3:** Perform hierarchical clustering on `samples` using the `linkage()` function with the `method='complete'` keyword argument. Assign the result to `mergings`."
      ],
      "metadata": {
        "id": "SkdaAzsqaBm0"
      }
    },
    {
      "cell_type": "code",
      "execution_count": 9,
      "source": [
        "mergings = linkage(x,method='complete')\n",
        "### BEGIN SOLUTION\n"
      ],
      "outputs": [],
      "metadata": {
        "nbgrader": {
          "grade": false,
          "grade_id": "cell-2a4681a4e740a6fe",
          "locked": false,
          "schema_version": 3,
          "solution": true,
          "task": false
        },
        "id": "AlmrTMz2aBm0",
        "outputId": "50af95a8-4ab9-45ea-f541-0e3d0cb42772"
      }
    },
    {
      "cell_type": "code",
      "execution_count": 10,
      "source": [
        "assert mergings.shape == (149,4)"
      ],
      "outputs": [],
      "metadata": {
        "nbgrader": {
          "grade": true,
          "grade_id": "cell-bd07f2be641ae1c5",
          "locked": true,
          "points": 3,
          "schema_version": 3,
          "solution": false,
          "task": false
        },
        "id": "r6MiksWRaBm1"
      }
    },
    {
      "cell_type": "markdown",
      "source": [
        "**Step 4:** Plot a dendrogram using the `dendrogram()` function on `mergings`, specifying the keyword arguments `labels=varieties`, `leaf_rotation=90`, and `leaf_font_size=6`.  Remember to call `plt.show()` afterwards, to display your plot."
      ],
      "metadata": {
        "nbgrader": {
          "grade": false,
          "grade_id": "cell-e0502f3d32a027c4",
          "locked": true,
          "schema_version": 3,
          "solution": false,
          "task": false
        },
        "id": "vklGk2QRaBm1"
      }
    },
    {
      "cell_type": "code",
      "execution_count": 30,
      "source": [
        "dn = 0\n",
        "### BEGIN SOLUTION\n",
        "plt.figure(figsize=(20,8))\n",
        "dn = dendrogram(mergings,leaf_font_size=6)\n",
        "# END SOLUTION"
      ],
      "outputs": [
        {
          "output_type": "display_data",
          "data": {
            "image/png": "[encoded data removed]",
            "text/plain": [
              "<Figure size 1440x576 with 1 Axes>"
            ]
          },
          "metadata": {
            "needs_background": "light"
          }
        }
      ],
      "metadata": {
        "nbgrader": {
          "grade": false,
          "grade_id": "cell-8ba6a5e72836aa92",
          "locked": false,
          "schema_version": 3,
          "solution": true,
          "task": false
        },
        "id": "w9PmgqrmaBm1",
        "outputId": "eeafc922-5158-4132-d56e-e9b9c840dbc4"
      }
    },
    {
      "cell_type": "code",
      "execution_count": 12,
      "source": [
        "assert type(dn) == type(dendrogram(np.random.rand(15, 4)))"
      ],
      "outputs": [
        {
          "output_type": "display_data",
          "data": {
            "image/png": "[encoded data removed]",
            "text/plain": [
              "<Figure size 432x288 with 1 Axes>"
            ]
          },
          "metadata": {
            "needs_background": "light"
          }
        }
      ],
      "metadata": {
        "nbgrader": {
          "grade": true,
          "grade_id": "cell-bc0248a8151d10ab",
          "locked": true,
          "points": 3,
          "schema_version": 3,
          "solution": false,
          "task": false
        },
        "id": "GExzAYjJaBm2",
        "outputId": "0475b7fd-740a-44fa-f3f6-4ce5185e3916"
      }
    },
    {
      "cell_type": "markdown",
      "source": [
        "## K-MEANS\n",
        "\n",
        "for this next part we will use the K-Means algorithm in order to cluster your data"
      ],
      "metadata": {
        "nbgrader": {
          "grade": false,
          "grade_id": "cell-6c3fb83905359f79",
          "locked": true,
          "schema_version": 3,
          "solution": false,
          "task": false
        },
        "id": "Ixtxyc4AaBm3"
      }
    },
    {
      "cell_type": "markdown",
      "source": [
        "**Step 1:** \n",
        "+ import `KMeans` from `sklearn.cluster`\n",
        "+ loading our new datasets"
      ],
      "metadata": {
        "nbgrader": {
          "grade": false,
          "grade_id": "cell-e554a1446ad626ec",
          "locked": true,
          "schema_version": 3,
          "solution": false,
          "task": false
        },
        "id": "V1yvVNG8aBm3"
      }
    },
    {
      "cell_type": "code",
      "execution_count": 13,
      "source": [
        "from sklearn.cluster import KMeans\n",
        "\n",
        "df = pd.read_csv('./Partitional Algorithms/datasets/ch1ex1.csv')\n",
        "points = df.values\n",
        "\n",
        "new_df = pd.read_csv('./Partitional Algorithms/datasets/ch1ex2.csv')\n",
        "new_points = new_df.values"
      ],
      "outputs": [],
      "metadata": {
        "id": "AKdPwz_NaBm4"
      }
    },
    {
      "cell_type": "code",
      "execution_count": null,
      "source": [],
      "outputs": [],
      "metadata": {}
    },
    {
      "cell_type": "markdown",
      "source": [
        "**Step 2:** Using `KMeans()`, create a `KMeans` instance called `model` to find `3` clusters. To specify the number of clusters, use the `n_clusters` keyword argument\n"
      ],
      "metadata": {
        "nbgrader": {
          "grade": false,
          "grade_id": "cell-09b5216391582184",
          "locked": true,
          "schema_version": 3,
          "solution": false,
          "task": false
        },
        "id": "dWHXGo7QaBm4"
      }
    },
    {
      "cell_type": "code",
      "execution_count": 14,
      "source": [
        "model = KMeans(n_clusters=3)\n",
        "### BEGIN SOLUTION\n",
        "\n",
        "### END SOLUTION"
      ],
      "outputs": [],
      "metadata": {
        "nbgrader": {
          "grade": false,
          "grade_id": "cell-d4136dfc2ba753ba",
          "locked": false,
          "schema_version": 3,
          "solution": true,
          "task": false
        },
        "id": "pfYDW3x4aBm4"
      }
    },
    {
      "cell_type": "code",
      "execution_count": 15,
      "source": [
        "assert type(model)== type(KMeans())"
      ],
      "outputs": [],
      "metadata": {
        "nbgrader": {
          "grade": true,
          "grade_id": "cell-a6a59ad2afd63249",
          "locked": true,
          "points": 1,
          "schema_version": 3,
          "solution": false,
          "task": false
        },
        "id": "s4_UgkHuaBm5"
      }
    },
    {
      "cell_type": "markdown",
      "source": [
        "**Step 4:** Use the `.fit()` method of `model` to fit the model to the array of points `points`."
      ],
      "metadata": {
        "nbgrader": {
          "grade": false,
          "grade_id": "cell-3b83408ca14ce116",
          "locked": true,
          "schema_version": 3,
          "solution": false,
          "task": false
        },
        "id": "8tS9mJhtaBm5"
      }
    },
    {
      "cell_type": "code",
      "execution_count": 16,
      "source": [
        "### BEGIN SOLUTION\n",
        "model.fit(points)\n",
        "### END SOLUTION\n"
      ],
      "outputs": [
        {
          "output_type": "execute_result",
          "data": {
            "text/plain": [
              "KMeans(n_clusters=3)"
            ]
          },
          "metadata": {},
          "execution_count": 16
        }
      ],
      "metadata": {
        "nbgrader": {
          "grade": false,
          "grade_id": "cell-9a699df5bd74992a",
          "locked": false,
          "schema_version": 3,
          "solution": true,
          "task": false
        },
        "id": "3JiyJXGZaBm5"
      }
    },
    {
      "cell_type": "markdown",
      "source": [
        "**Step 5:** Use the `.predict()` method of `model` to predict the cluster labels of `points`, assigning the result to `labels`."
      ],
      "metadata": {
        "nbgrader": {
          "grade": false,
          "grade_id": "cell-5f7dc6671c80bcf3",
          "locked": true,
          "schema_version": 3,
          "solution": false,
          "task": false
        },
        "id": "P94uhFNcaBm6"
      }
    },
    {
      "cell_type": "code",
      "execution_count": 17,
      "source": [
        "### BEGIN SOLUTION\n",
        "labels = model.predict(points)\n",
        "### END SOLUTION\n"
      ],
      "outputs": [],
      "metadata": {
        "nbgrader": {
          "grade": false,
          "grade_id": "cell-fe0636d9d3113913",
          "locked": false,
          "schema_version": 3,
          "solution": true,
          "task": false
        },
        "id": "98hs3LytaBm6"
      }
    },
    {
      "cell_type": "code",
      "execution_count": 18,
      "source": [
        "assert labels[labels.argmax()] == 2\n",
        "assert labels.shape == (300,)"
      ],
      "outputs": [],
      "metadata": {
        "nbgrader": {
          "grade": true,
          "grade_id": "cell-3e790b82f9bf37fc",
          "locked": true,
          "points": 2,
          "schema_version": 3,
          "solution": false,
          "task": false
        },
        "id": "wbEbY9sraBm6"
      }
    },
    {
      "cell_type": "code",
      "execution_count": null,
      "source": [],
      "outputs": [],
      "metadata": {}
    },
    {
      "cell_type": "code",
      "execution_count": 19,
      "source": [
        "# Make a function that returns 3 numpy arrays each one with the points associated for each class\n",
        "#If the label is 0 they go into data_0\n",
        "#If the label is 1 they go into data_1\n",
        "#If the label is 2 they go into data_2\n",
        "def separate_labels(labels, points):\n",
        "    data_0 = []\n",
        "    data_1 = []\n",
        "    data_2 = []\n",
        "    for i,val in enumerate(labels):\n",
        "        if val == 0:\n",
        "            data_0.append(points[i])\n",
        "        elif val == 1:\n",
        "            data_1.append(points[i])\n",
        "            \n",
        "        elif val == 2:\n",
        "            data_2.append(points[i])\n",
        "    return [data_0,data_1,data_2]\n",
        "\n",
        "data_0,data_1,data_2 = separate_labels(labels,points)\n",
        "data_0 = np.array(data_0)\n",
        "data_1 = np.array(data_1)\n",
        "data_2 = np.array(data_2)\n"
      ],
      "outputs": [],
      "metadata": {
        "nbgrader": {
          "grade": false,
          "grade_id": "cell-917ce87ba793a518",
          "locked": false,
          "schema_version": 3,
          "solution": true,
          "task": false
        },
        "id": "imYlD1QuaBm7"
      }
    },
    {
      "cell_type": "code",
      "execution_count": 20,
      "source": [
        "assert abs(data_0.shape[0] - 94) <= 20\n",
        "assert abs(data_1.shape[0] - 95) <= 20\n",
        "assert abs(data_2.shape[0] - 111) <= 20"
      ],
      "outputs": [],
      "metadata": {
        "nbgrader": {
          "grade": true,
          "grade_id": "cell-9d19700f8e07d490",
          "locked": true,
          "points": 2,
          "schema_version": 3,
          "solution": false,
          "task": false
        },
        "id": "RsnTH6biaBm7"
      }
    },
    {
      "cell_type": "code",
      "execution_count": null,
      "source": [],
      "outputs": [],
      "metadata": {}
    },
    {
      "cell_type": "code",
      "execution_count": 21,
      "source": [
        "# plotting the data \n",
        "plt.scatter(data_0[:,0],data_0[:,1])\n",
        "plt.scatter(data_1[:,0],data_1[:,1])\n",
        "plt.scatter(data_2[:,0],data_2[:,1])\n",
        "### BEGIN SOLUTION\n",
        "\n",
        "\n",
        "### END SOLUTION"
      ],
      "outputs": [
        {
          "output_type": "execute_result",
          "data": {
            "text/plain": [
              "<matplotlib.collections.PathCollection at 0x7ff4701c6310>"
            ]
          },
          "metadata": {},
          "execution_count": 21
        },
        {
          "output_type": "display_data",
          "data": {
            "image/png": "[encoded data removed]",
            "text/plain": [
              "<Figure size 432x288 with 1 Axes>"
            ]
          },
          "metadata": {
            "needs_background": "light"
          }
        }
      ],
      "metadata": {
        "nbgrader": {
          "grade": false,
          "grade_id": "cell-6ae9d7e6dfb48eda",
          "locked": false,
          "schema_version": 3,
          "solution": true,
          "task": false
        },
        "id": "slfkz_onaBm8"
      }
    },
    {
      "cell_type": "markdown",
      "source": [
        "**Step 7:** Use the `.predict()` method of `model` to predict the cluster labels of `new_points`, assigning the result to `new_labels`.  Notice that KMeans can assign previously unseen points to the clusters it has already found!"
      ],
      "metadata": {
        "id": "2eEQmMvFaBm9"
      }
    },
    {
      "cell_type": "code",
      "execution_count": 22,
      "source": [
        "new_labels = model.predict(new_points)\n",
        "### BEGIN SOLUTION\n",
        "\n",
        "### END SOLUTION\n"
      ],
      "outputs": [],
      "metadata": {
        "nbgrader": {
          "grade": false,
          "grade_id": "cell-e1c6be8c2b6c48ab",
          "locked": false,
          "schema_version": 3,
          "solution": true,
          "task": false
        },
        "id": "5RCsQ8uYaBm9"
      }
    },
    {
      "cell_type": "code",
      "execution_count": 23,
      "source": [
        "assert new_labels[new_labels.argmax()] == 2\n",
        "assert new_labels.shape == (100,)"
      ],
      "outputs": [],
      "metadata": {
        "nbgrader": {
          "grade": true,
          "grade_id": "cell-33a135652cf843e7",
          "locked": true,
          "points": 2,
          "schema_version": 3,
          "solution": false,
          "task": false
        },
        "id": "G39NZZOEaBm9"
      }
    },
    {
      "cell_type": "code",
      "execution_count": 24,
      "source": [
        "#separate the data by labels like we did before\n",
        "\n",
        "new_0,new_1,new_2 = separate_labels(new_labels,new_points)\n",
        "\n",
        "### BEGIN SOLUTION\n",
        "new_0 = np.array(new_0)\n",
        "new_1 = np.array(new_1)\n",
        "new_2 = np.array(new_2)\n",
        "### END SOLUTION\n"
      ],
      "outputs": [],
      "metadata": {
        "nbgrader": {
          "grade": false,
          "grade_id": "cell-91d525783ae0a408",
          "locked": false,
          "schema_version": 3,
          "solution": true,
          "task": false
        },
        "id": "XZgzl7c3aBm-"
      }
    },
    {
      "cell_type": "code",
      "execution_count": 25,
      "source": [
        "assert abs(new_0.shape[0] - 34) <= 5\n",
        "assert abs(new_1.shape[0] - 34) <= 5\n",
        "assert abs(new_2.shape[0] - 34) <= 5"
      ],
      "outputs": [],
      "metadata": {
        "nbgrader": {
          "grade": true,
          "grade_id": "cell-bbb9a9b41cb01987",
          "locked": true,
          "points": 2,
          "schema_version": 3,
          "solution": false,
          "task": false
        },
        "id": "uzCSRzHUaBm_"
      }
    },
    {
      "cell_type": "code",
      "execution_count": 26,
      "source": [
        "#plot the new labels\n",
        "\n",
        "plt.scatter(new_0[:,0],new_0[:,1])\n",
        "plt.scatter(new_1[:,0],new_1[:,1])\n",
        "plt.scatter(new_2[:,0],new_2[:,1])\n",
        "### BEGIN SOLUTION\n",
        "\n",
        "### END SOLUTION"
      ],
      "outputs": [
        {
          "output_type": "execute_result",
          "data": {
            "text/plain": [
              "<matplotlib.collections.PathCollection at 0x7ff47034f3d0>"
            ]
          },
          "metadata": {},
          "execution_count": 26
        },
        {
          "output_type": "display_data",
          "data": {
            "image/png": "[encoded data removed]",
            "text/plain": [
              "<Figure size 432x288 with 1 Axes>"
            ]
          },
          "metadata": {
            "needs_background": "light"
          }
        }
      ],
      "metadata": {
        "nbgrader": {
          "grade": false,
          "grade_id": "cell-f0f51c7f91e8b4df",
          "locked": false,
          "schema_version": 3,
          "solution": true,
          "task": false
        },
        "id": "tA8qY8EPaBm_"
      }
    },
    {
      "cell_type": "code",
      "execution_count": 27,
      "source": [
        "#plot all the points together\n",
        "\n",
        "### BEGIN SOLUTION\n",
        "#seen points\n",
        "plt.scatter(data_0[:,0],data_0[:,1],c='green')\n",
        "plt.scatter(data_1[:,0],data_1[:,1],c='blue')\n",
        "plt.scatter(data_2[:,0],data_2[:,1],c='red')\n",
        "#unseen points \n",
        "plt.scatter(new_0[:,0],new_0[:,1],c='green')\n",
        "plt.scatter(new_1[:,0],new_1[:,1],c='blue')\n",
        "plt.scatter(new_2[:,0],new_2[:,1],c='red')\n",
        "### END SOLUTION"
      ],
      "outputs": [
        {
          "output_type": "execute_result",
          "data": {
            "text/plain": [
              "<matplotlib.collections.PathCollection at 0x7ff4702f1b20>"
            ]
          },
          "metadata": {},
          "execution_count": 27
        },
        {
          "output_type": "display_data",
          "data": {
            "image/png": "[encoded data removed]",
            "text/plain": [
              "<Figure size 432x288 with 1 Axes>"
            ]
          },
          "metadata": {
            "needs_background": "light"
          }
        }
      ],
      "metadata": {
        "nbgrader": {
          "grade": false,
          "grade_id": "cell-fb66bc887cd85537",
          "locked": false,
          "schema_version": 3,
          "solution": true,
          "task": false
        },
        "id": "lpXuiukraBnA"
      }
    },
    {
      "cell_type": "code",
      "execution_count": null,
      "source": [],
      "outputs": [],
      "metadata": {
        "id": "KwmYt5Vea902"
      }
    }
  ]
}