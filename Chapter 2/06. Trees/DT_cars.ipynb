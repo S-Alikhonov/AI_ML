{
 "cells": [
  {
   "cell_type": "code",
   "execution_count": 1,
   "source": [
    "import pandas as pd\n",
    "import numpy as np\n",
    "from sklearn.model_selection import train_test_split\n",
    "from sklearn.tree import DecisionTreeClassifier\n"
   ],
   "outputs": [],
   "metadata": {}
  },
  {
   "cell_type": "code",
   "execution_count": 56,
   "source": [
    "info_url ='https://archive.ics.uci.edu/ml/machine-learning-databases/car/'\n",
    "url ='https://archive.ics.uci.edu/ml/machine-learning-databases/car/car.data'\n",
    "columns = ['buying','maint','doors','persons','lug_boot','safety','class']\n",
    "df_cars = pd.read_csv(url,header=None,names=columns)\n",
    "\n"
   ],
   "outputs": [],
   "metadata": {}
  },
  {
   "cell_type": "code",
   "execution_count": 57,
   "source": [
    "from sklearn.preprocessing import OrdinalEncoder\n",
    "prep = OrdinalEncoder()\n",
    "df_cars[['buying','lug_boot','safety','maint']] = prep.fit_transform(df_cars[['buying','lug_boot','safety','maint']])\n",
    "\n",
    "df_cars.persons[df_cars.persons=='more'] = 5\n",
    "df_cars.doors[df_cars.doors == '5more'] =5"
   ],
   "outputs": [],
   "metadata": {}
  },
  {
   "cell_type": "code",
   "execution_count": 58,
   "source": [
    "X = df_cars.iloc[:,:-1].values\n",
    "y = df_cars['class'].values\n",
    "\n"
   ],
   "outputs": [],
   "metadata": {}
  },
  {
   "cell_type": "code",
   "execution_count": 59,
   "source": [
    "X_test,X_train,y_text,y_train = train_test_split(X,y,test_size=0.3,random_state=42)"
   ],
   "outputs": [],
   "metadata": {}
  },
  {
   "cell_type": "code",
   "execution_count": 76,
   "source": [
    "clf = DecisionTreeClassifier(random_state=42)\n",
    "clf.fit(X_train,y_train)\n",
    "pred = clf.predict(X_test)\n",
    "sum(pred==y_text)/pred.shape[0]\n"
   ],
   "outputs": [
    {
     "output_type": "execute_result",
     "data": {
      "text/plain": [
       "0.9404466501240695"
      ]
     },
     "metadata": {},
     "execution_count": 76
    }
   ],
   "metadata": {}
  },
  {
   "cell_type": "code",
   "execution_count": 77,
   "source": [
    "clf = DecisionTreeClassifier(random_state=42,criterion='entropy')\n",
    "clf.fit(X_train,y_train)\n",
    "pred = clf.predict(X_test)\n",
    "sum(pred==y_text)/pred.shape[0]\n",
    "#ehtropy gives slighly better result"
   ],
   "outputs": [
    {
     "output_type": "execute_result",
     "data": {
      "text/plain": [
       "0.946236559139785"
      ]
     },
     "metadata": {},
     "execution_count": 77
    }
   ],
   "metadata": {}
  },
  {
   "cell_type": "code",
   "execution_count": 91,
   "source": [
    "clf = DecisionTreeClassifier(random_state=42,criterion='entropy',max_depth=12)\n",
    "clf.fit(X_train,y_train)\n",
    "pred = clf.predict(X_test)\n",
    "sum(pred==y_text)/pred.shape[0]\n",
    "#max_depth , if it's less than 12, accuracy decreases, for deep values, it remains constant"
   ],
   "outputs": [
    {
     "output_type": "execute_result",
     "data": {
      "text/plain": [
       "0.946236559139785"
      ]
     },
     "metadata": {},
     "execution_count": 91
    }
   ],
   "metadata": {}
  },
  {
   "cell_type": "code",
   "execution_count": 119,
   "source": [
    "clf = DecisionTreeClassifier(random_state=42,criterion='entropy',max_leaf_nodes=5)\n",
    "clf.fit(X_train,y_train)\n",
    "pred = clf.predict(X_test)\n",
    "sum(pred==y_text)/pred.shape[0]\n",
    "#max_depth , if it's less than 12, accura"
   ],
   "outputs": [
    {
     "output_type": "execute_result",
     "data": {
      "text/plain": [
       "0.771712158808933"
      ]
     },
     "metadata": {},
     "execution_count": 119
    }
   ],
   "metadata": {}
  }
 ],
 "metadata": {
  "orig_nbformat": 4,
  "language_info": {
   "name": "python",
   "version": "3.8.12",
   "mimetype": "text/x-python",
   "codemirror_mode": {
    "name": "ipython",
    "version": 3
   },
   "pygments_lexer": "ipython3",
   "nbconvert_exporter": "python",
   "file_extension": ".py"
  },
  "kernelspec": {
   "name": "python3",
   "display_name": "Python 3.8.12 64-bit ('strive': conda)"
  },
  "interpreter": {
   "hash": "474ac02e50c49bd2e5c48b8a8175c7e46a92ecb6860b4a01aa1c73b8fbab235e"
  }
 },
 "nbformat": 4,
 "nbformat_minor": 2
}