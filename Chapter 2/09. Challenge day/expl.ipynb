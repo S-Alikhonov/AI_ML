{
 "cells": [
  {
   "cell_type": "code",
   "execution_count": null,
   "source": [
    "import pandas as pd\n",
    "import numpy as np\n",
    "import matplotlib.pyplot as plt\n",
    "from sklearn.compose import ColumnTransformer\n",
    "from sklearn.preprocessing import StandardScaler,MinMaxScaler\n",
    "from sklearn.preprocessing import QuantileTransformer\n",
    "from sklearn.model_selection import train_test_split\n",
    "from sklearn.preprocessing   import Normalizer\n",
    "from sklearn.discriminant_analysis import LinearDiscriminantAnalysis as LDA\n",
    "\n",
    "df = pd.read_csv('heart.csv')\n",
    "X,y = df.iloc[:,:-1],df.iloc[:,-1]\n",
    "X_test,X_train,y_test,y_train = train_test_split(X,y,train_size=0.8,random_state=0)\n",
    "cat_cols = ['sex','exng','caa','cp','fbs','restecg','slp','thall']\n",
    "num_cols = [\"age\",\"trtbps\",\"chol\",\"thalachh\",\"oldpeak\"]\n",
    "\n",
    "\n"
   ],
   "outputs": [],
   "metadata": {}
  },
  {
   "cell_type": "code",
   "execution_count": null,
   "source": [
    "numerical_transformer = StandardScaler()\n",
    "# numerical_transformer = MinMaxScaler()\n",
    "ct = ColumnTransformer(\n",
    "    transformers=[\n",
    "        (\"num\", numerical_transformer, num_cols)\n",
    "    ], remainder='passthrough')\n",
    "x_tr_scaled = ct.fit_transform(X_train)\n",
    "x_ts_scaled = ct.transform(X_test)"
   ],
   "outputs": [],
   "metadata": {}
  },
  {
   "cell_type": "code",
   "execution_count": null,
   "source": [
    "lda = LDA(solver='eigen')\n",
    "X_tr_lda = lda.fit(x_tr_scaled,y_train)\n",
    "X_train_lda = X_tr_lda.transform(x_tr_scaled)\n",
    "X_test_lda = X_tr_lda.transform(x_ts_scaled)"
   ],
   "outputs": [],
   "metadata": {}
  }
 ],
 "metadata": {
  "orig_nbformat": 4,
  "language_info": {
   "name": "python"
  }
 },
 "nbformat": 4,
 "nbformat_minor": 2
}