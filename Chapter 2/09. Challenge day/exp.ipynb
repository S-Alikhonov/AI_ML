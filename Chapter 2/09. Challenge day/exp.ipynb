{
 "cells": [
  {
   "cell_type": "code",
   "execution_count": 257,
   "source": [
    "import pandas as pd\n",
    "import numpy as np\n",
    "import matplotlib.pyplot as plt\n",
    "from sklearn.compose import ColumnTransformer\n",
    "from sklearn.preprocessing import StandardScaler,MinMaxScaler\n",
    "\n",
    "df = pd.read_csv('heart.csv')"
   ],
   "outputs": [],
   "metadata": {}
  },
  {
   "cell_type": "code",
   "execution_count": 258,
   "source": [
    "X,y = df.iloc[:,:-1],df.iloc[:,-1]\n",
    "\n"
   ],
   "outputs": [],
   "metadata": {}
  },
  {
   "cell_type": "code",
   "execution_count": 259,
   "source": [
    "# fig,ax = plt.subplots(len(X.columns),figsize=(5,35))\n",
    "# for i,column in enumerate(X.columns):\n",
    "#     ax[i].hist(X[column],bins=100)\n",
    "#     ax[i].set_title(column)\n"
   ],
   "outputs": [],
   "metadata": {}
  },
  {
   "cell_type": "code",
   "execution_count": 260,
   "source": [
    "from sklearn.preprocessing import QuantileTransformer\n",
    "from sklearn.model_selection import train_test_split\n",
    "from sklearn.preprocessing   import Normalizer\n",
    "# dist_norm = QuantileTransformer(output_distribution='normal',random_state=0)\n",
    "X_test,X_train,y_test,y_train = train_test_split(X,y,train_size=0.8,random_state=0)\n",
    "\n",
    "# X_test = dist_norm.fit_transform(X_test)\n"
   ],
   "outputs": [],
   "metadata": {}
  },
  {
   "cell_type": "code",
   "execution_count": 261,
   "source": [
    "# from sklearn.preprocessing import MinMaxScaler\n",
    "# min_max = MinMaxScaler()\n",
    "# X_train_scaled = min_max.fit_transform(X_train)\n",
    "# X_test_scaled = min_max.transform(X_test)\n"
   ],
   "outputs": [],
   "metadata": {}
  },
  {
   "cell_type": "code",
   "execution_count": 262,
   "source": [
    "# import pandas as pd\n",
    "# import numpy as np\n",
    "# import matplotlib.pyplot as plt\n",
    "# from sklearn.preprocessing import QuantileTransformer\n",
    "# from sklearn.model_selection import train_test_split\n",
    "# from sklearn.preprocessing   import Normalizer\n",
    "# from sklearn.preprocessing import MinMaxScaler\n",
    "# df = pd.read_csv('heart.csv')\n",
    "# X,y = df.iloc[:,:-1],df.iloc[:,-1]\n",
    "\n",
    "# dist_norm = QuantileTransformer(output_distribution='normal',random_state=0)\n",
    "# X_test,X_train,y_test,y_train = train_test_split(X,y,train_size=0.8,random_state=0)\n",
    "# # X_train = dist_norm.fit_transform(X_train)\n",
    "# # X_test = dist_norm.transform(X_test)\n",
    "# min_max = MinMaxScaler()\n",
    "# X_train_scaled = min_max.fit_transform(X_train)\n",
    "# X_test_scaled = min_max.transform(X_test)"
   ],
   "outputs": [],
   "metadata": {}
  },
  {
   "cell_type": "code",
   "execution_count": 263,
   "source": [
    "cat_cols = ['sex','exng','caa','cp','fbs','restecg','slp','thall']\n",
    "num_cols = [\"age\",\"trtbps\",\"chol\",\"thalachh\",\"oldpeak\"]\n",
    "numerical_transformer = StandardScaler()\n",
    "# numerical_transformer = MinMaxScaler()\n",
    "ct = ColumnTransformer(\n",
    "    transformers=[\n",
    "        (\"num\", numerical_transformer, num_cols)\n",
    "    ], remainder='passthrough')\n",
    "x_tr_scaled = ct.fit_transform(X_train)\n",
    "x_ts_scaled = ct.transform(X_test)\n"
   ],
   "outputs": [],
   "metadata": {}
  },
  {
   "cell_type": "code",
   "execution_count": 264,
   "source": [
    "from sklearn.decomposition import PCA\n",
    "pca = PCA(3)\n",
    "X_train_pca =pca.fit_transform(x_tr_scaled)"
   ],
   "outputs": [],
   "metadata": {}
  },
  {
   "cell_type": "code",
   "execution_count": 265,
   "source": [
    "X_test_pca = pca.transform(x_ts_scaled)"
   ],
   "outputs": [],
   "metadata": {}
  },
  {
   "cell_type": "code",
   "execution_count": 266,
   "source": [
    "from sklearn.discriminant_analysis import LinearDiscriminantAnalysis as LDA\n",
    "lda = LDA(solver='eigen')\n",
    "X_tr_lda = lda.fit(x_tr_scaled,y_train)\n",
    "X_train_lda = X_tr_lda.transform(x_tr_scaled)\n",
    "X_test_lda = X_tr_lda.transform(x_ts_scaled)"
   ],
   "outputs": [],
   "metadata": {}
  },
  {
   "cell_type": "code",
   "execution_count": null,
   "source": [],
   "outputs": [],
   "metadata": {}
  },
  {
   "cell_type": "code",
   "execution_count": 267,
   "source": [
    "from sklearn.model_selection import GridSearchCV\n",
    "from sklearn.ensemble import RandomForestClassifier\n",
    "\n",
    "clf = RandomForestClassifier()\n",
    "grid = GridSearchCV(clf,{'criterion':['gini', 'entropy'],\n",
    "'n_estimators':[x for x in range(1,100,10)],\n",
    "'max_depth' :[x for x in range(1,10,1)]},scoring='accuracy',cv=5)\n",
    "model = grid.fit(x_tr_scaled,y_train)"
   ],
   "outputs": [],
   "metadata": {}
  },
  {
   "cell_type": "code",
   "execution_count": 268,
   "source": [
    "model.best_score_\n"
   ],
   "outputs": [
    {
     "output_type": "execute_result",
     "data": {
      "text/plain": [
       "0.8692307692307694"
      ]
     },
     "metadata": {},
     "execution_count": 268
    }
   ],
   "metadata": {}
  },
  {
   "cell_type": "code",
   "execution_count": null,
   "source": [],
   "outputs": [],
   "metadata": {}
  },
  {
   "cell_type": "code",
   "execution_count": 269,
   "source": [
    "model.best_params_"
   ],
   "outputs": [
    {
     "output_type": "execute_result",
     "data": {
      "text/plain": [
       "{'criterion': 'gini', 'max_depth': 7, 'n_estimators': 31}"
      ]
     },
     "metadata": {},
     "execution_count": 269
    }
   ],
   "metadata": {}
  },
  {
   "cell_type": "code",
   "execution_count": 270,
   "source": [
    "model.score(x_ts_scaled,y_test)"
   ],
   "outputs": [
    {
     "output_type": "execute_result",
     "data": {
      "text/plain": [
       "0.7644628099173554"
      ]
     },
     "metadata": {},
     "execution_count": 270
    }
   ],
   "metadata": {}
  },
  {
   "cell_type": "code",
   "execution_count": null,
   "source": [],
   "outputs": [],
   "metadata": {}
  }
 ],
 "metadata": {
  "orig_nbformat": 4,
  "language_info": {
   "name": "python",
   "version": "3.9.7",
   "mimetype": "text/x-python",
   "codemirror_mode": {
    "name": "ipython",
    "version": 3
   },
   "pygments_lexer": "ipython3",
   "nbconvert_exporter": "python",
   "file_extension": ".py"
  },
  "kernelspec": {
   "name": "python3",
   "display_name": "Python 3.9.7 64-bit ('new_env': conda)"
  },
  "interpreter": {
   "hash": "be7f91b8a86516165fcb6cb0d2d574b7f158dfa612c4d7a1e53febf57ef86532"
  }
 },
 "nbformat": 4,
 "nbformat_minor": 2
}