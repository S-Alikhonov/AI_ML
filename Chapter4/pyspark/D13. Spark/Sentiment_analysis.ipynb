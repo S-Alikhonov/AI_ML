{
 "cells": [
  {
   "cell_type": "code",
   "execution_count": 12,
   "metadata": {},
   "outputs": [],
   "source": [
    "\n",
    "\n",
    "import pyspark as ps\n",
    "import warnings\n",
    "from pyspark.sql import SQLContext\n",
    "\n",
    "\n",
    "from pyspark.ml.feature import HashingTF, IDF, Tokenizer, CountVectorizer\n",
    "from pyspark.ml.feature import StringIndexer\n",
    "from pyspark.ml import Pipeline\n",
    "from pyspark.ml.classification import NaiveBayes, LinearSVC, MultilayerPerceptronClassifier\n",
    "from pyspark.ml.evaluation import MulticlassClassificationEvaluator\n",
    "\n",
    "\n",
    "from pyspark.ml.feature import HashingTF, IDF, Tokenizer\n",
    "from pyspark.ml.feature import StringIndexer\n",
    "from pyspark.ml import Pipeline\n",
    "\n"
   ]
  },
  {
   "cell_type": "code",
   "execution_count": 13,
   "metadata": {},
   "outputs": [],
   "source": [
    "\n",
    "sc = ps.SparkContext.getOrCreate()\n",
    "sqlContext = SQLContext(sc)\n"
   ]
  },
  {
   "cell_type": "code",
   "execution_count": 14,
   "metadata": {},
   "outputs": [
    {
     "name": "stdout",
     "output_type": "stream",
     "text": [
      "+--------------------+--------+\n",
      "|         description| feeling|\n",
      "+--------------------+--------+\n",
      "|i didnt feel humi...| sadness|\n",
      "|i can go from fee...| sadness|\n",
      "|im grabbing a min...|   anger|\n",
      "|i am ever feeling...|    love|\n",
      "|i am feeling grouchy|   anger|\n",
      "|ive been feeling ...| sadness|\n",
      "|ive been taking o...|surprise|\n",
      "|i feel as confuse...|    fear|\n",
      "|i have been with ...|     joy|\n",
      "| i feel romantic too|    love|\n",
      "+--------------------+--------+\n",
      "only showing top 10 rows\n",
      "\n"
     ]
    }
   ],
   "source": [
    "df_train = sqlContext.read.format('com.databricks.spark.csv').options(header = False, inferschema = True, sep = \";\").load(\"data/train.csv\")\n",
    "df_train= df_train.withColumnRenamed('_c0','description').withColumnRenamed('_c1','feeling')\n",
    "df_train.show(10)"
   ]
  },
  {
   "cell_type": "code",
   "execution_count": 15,
   "metadata": {},
   "outputs": [
    {
     "name": "stdout",
     "output_type": "stream",
     "text": [
      "+--------------------+-------+\n",
      "|         description|feeling|\n",
      "+--------------------+-------+\n",
      "|im feeling quite ...|sadness|\n",
      "|i feel like i am ...|sadness|\n",
      "|i feel like a fai...|   love|\n",
      "|i am just feeling...|  anger|\n",
      "|i can have for a ...|    joy|\n",
      "|i start to feel m...|    joy|\n",
      "|i am feeling more...|    joy|\n",
      "|i feel incredibly...|    joy|\n",
      "|i feel less keen ...|    joy|\n",
      "|i feel dirty and ...|sadness|\n",
      "+--------------------+-------+\n",
      "only showing top 10 rows\n",
      "\n"
     ]
    }
   ],
   "source": [
    "df_test = sqlContext.read.format('com.databricks.spark.csv').options(header = False, inferschema = True, sep = \";\").load(\"data/val.csv\")\n",
    "df_test= df_test.withColumnRenamed('_c0','description').withColumnRenamed('_c1','feeling')\n",
    "df_test.show(10)"
   ]
  },
  {
   "cell_type": "code",
   "execution_count": 16,
   "metadata": {},
   "outputs": [
    {
     "name": "stdout",
     "output_type": "stream",
     "text": [
      "16000\n"
     ]
    },
    {
     "data": {
      "text/plain": [
       "16000"
      ]
     },
     "execution_count": 16,
     "metadata": {},
     "output_type": "execute_result"
    }
   ],
   "source": [
    "print(df_train.count())\n",
    "df_train.dropna()\n",
    "df_train.count()"
   ]
  },
  {
   "cell_type": "code",
   "execution_count": 17,
   "metadata": {},
   "outputs": [
    {
     "name": "stdout",
     "output_type": "stream",
     "text": [
      "2000\n"
     ]
    },
    {
     "data": {
      "text/plain": [
       "2000"
      ]
     },
     "execution_count": 17,
     "metadata": {},
     "output_type": "execute_result"
    }
   ],
   "source": [
    "print(df_test.count())\n",
    "df_test.dropna()\n",
    "df_test.count()"
   ]
  },
  {
   "cell_type": "code",
   "execution_count": 18,
   "metadata": {},
   "outputs": [],
   "source": [
    "label_stringIdx = StringIndexer(inputCol = 'feeling', outputCol = 'label')\n",
    "tokenizer = Tokenizer(inputCol = 'description', outputCol = 'tokens')\n",
    "hashingtf = HashingTF(numFeatures= 2**16, inputCol = \"tokens\", outputCol = 'tf')\n",
    "idf = IDF(inputCol = \"tf\", outputCol = 'features', minDocFreq=3)"
   ]
  },
  {
   "cell_type": "code",
   "execution_count": 19,
   "metadata": {},
   "outputs": [],
   "source": [
    "pipeline = Pipeline(stages = [label_stringIdx, tokenizer, hashingtf, idf ])"
   ]
  },
  {
   "cell_type": "code",
   "execution_count": 20,
   "metadata": {},
   "outputs": [
    {
     "name": "stderr",
     "output_type": "stream",
     "text": [
      "                                                                                \r"
     ]
    }
   ],
   "source": [
    "pipeline = pipeline.fit(df_train)\n",
    "df_train = pipeline.transform(df_train)\n",
    "df_test = pipeline.transform(df_test)"
   ]
  },
  {
   "cell_type": "code",
   "execution_count": 21,
   "metadata": {},
   "outputs": [
    {
     "name": "stdout",
     "output_type": "stream",
     "text": [
      "+--------------------+--------+-----+--------------------+--------------------+--------------------+\n",
      "|         description| feeling|label|              tokens|                  tf|            features|\n",
      "+--------------------+--------+-----+--------------------+--------------------+--------------------+\n",
      "|i didnt feel humi...| sadness|  1.0|[i, didnt, feel, ...|(65536,[13351,244...|(65536,[13351,244...|\n",
      "|i can go from fee...| sadness|  1.0|[i, can, go, from...|(65536,[3266,8436...|(65536,[3266,8436...|\n",
      "|im grabbing a min...|   anger|  2.0|[im, grabbing, a,...|(65536,[8436,2441...|(65536,[8436,2441...|\n",
      "|i am ever feeling...|    love|  4.0|[i, am, ever, fee...|(65536,[3266,7194...|(65536,[3266,7194...|\n",
      "|i am feeling grouchy|   anger|  2.0|[i, am, feeling, ...|(65536,[2187,3266...|(65536,[2187,3266...|\n",
      "|ive been feeling ...| sadness|  1.0|[ive, been, feeli...|(65536,[3053,3266...|(65536,[3053,3266...|\n",
      "|ive been taking o...|surprise|  5.0|[ive, been, takin...|(65536,[6834,1045...|(65536,[6834,1045...|\n",
      "|i feel as confuse...|    fear|  3.0|[i, feel, as, con...|(65536,[81,4200,5...|(65536,[81,4200,5...|\n",
      "|i have been with ...|     joy|  0.0|[i, have, been, w...|(65536,[8937,9712...|(65536,[8937,9712...|\n",
      "| i feel romantic too|    love|  4.0|[i, feel, romanti...|(65536,[24417,285...|(65536,[24417,285...|\n",
      "+--------------------+--------+-----+--------------------+--------------------+--------------------+\n",
      "only showing top 10 rows\n",
      "\n"
     ]
    }
   ],
   "source": [
    "df_train.show(10)"
   ]
  },
  {
   "cell_type": "code",
   "execution_count": 22,
   "metadata": {},
   "outputs": [
    {
     "name": "stdout",
     "output_type": "stream",
     "text": [
      "+--------------------+-------+-----+--------------------+--------------------+--------------------+\n",
      "|         description|feeling|label|              tokens|                  tf|            features|\n",
      "+--------------------+-------+-----+--------------------+--------------------+--------------------+\n",
      "|im feeling quite ...|sadness|  1.0|[im, feeling, qui...|(65536,[3266,9318...|(65536,[3266,9318...|\n",
      "|i feel like i am ...|sadness|  1.0|[i, feel, like, i...|(65536,[731,8315,...|(65536,[731,8315,...|\n",
      "|i feel like a fai...|   love|  4.0|[i, feel, like, a...|(65536,[10172,116...|(65536,[10172,116...|\n",
      "|i am just feeling...|  anger|  2.0|[i, am, just, fee...|(65536,[3266,2441...|(65536,[3266,2441...|\n",
      "|i can have for a ...|    joy|  0.0|[i, can, have, fo...|(65536,[2089,3266...|(65536,[2089,3266...|\n",
      "|i start to feel m...|    joy|  0.0|[i, start, to, fe...|(65536,[3024,8436...|(65536,[3024,8436...|\n",
      "|i am feeling more...|    joy|  0.0|[i, am, feeling, ...|(65536,[3266,8436...|(65536,[3266,8436...|\n",
      "|i feel incredibly...|    joy|  0.0|[i, feel, incredi...|(65536,[6589,8417...|(65536,[6589,8417...|\n",
      "|i feel less keen ...|    joy|  0.0|[i, feel, less, k...|(65536,[13957,244...|(65536,[13957,244...|\n",
      "|i feel dirty and ...|sadness|  1.0|[i, feel, dirty, ...|(65536,[8921,1330...|(65536,[8921,1330...|\n",
      "+--------------------+-------+-----+--------------------+--------------------+--------------------+\n",
      "only showing top 10 rows\n",
      "\n"
     ]
    }
   ],
   "source": [
    "df_test.show(10)"
   ]
  },
  {
   "cell_type": "code",
   "execution_count": 23,
   "metadata": {},
   "outputs": [],
   "source": [
    "nb = NaiveBayes(smoothing=1.0, modelType=\"multinomial\")"
   ]
  },
  {
   "cell_type": "code",
   "execution_count": 24,
   "metadata": {},
   "outputs": [
    {
     "name": "stderr",
     "output_type": "stream",
     "text": [
      "                                                                                \r"
     ]
    }
   ],
   "source": [
    "nb = nb.fit(df_train)"
   ]
  },
  {
   "cell_type": "code",
   "execution_count": 25,
   "metadata": {},
   "outputs": [],
   "source": [
    "predictions = nb.transform(df_test)"
   ]
  },
  {
   "cell_type": "code",
   "execution_count": 26,
   "metadata": {},
   "outputs": [
    {
     "name": "stdout",
     "output_type": "stream",
     "text": [
      "2022-01-26 20:36:50 WARN  BLAS:61 - Failed to load implementation from: com.github.fommil.netlib.NativeSystemBLAS\n",
      "2022-01-26 20:36:50 WARN  BLAS:61 - Failed to load implementation from: com.github.fommil.netlib.NativeRefBLAS\n"
     ]
    },
    {
     "data": {
      "text/plain": [
       "0.7375165137942361"
      ]
     },
     "execution_count": 26,
     "metadata": {},
     "output_type": "execute_result"
    }
   ],
   "source": [
    "criterion = MulticlassClassificationEvaluator()\n",
    "criterion.evaluate(predictions)"
   ]
  }
 ],
 "metadata": {
  "kernelspec": {
   "display_name": "Python 3",
   "language": "python",
   "name": "python3"
  },
  "language_info": {
   "codemirror_mode": {
    "name": "ipython",
    "version": 3
   },
   "file_extension": ".py",
   "mimetype": "text/x-python",
   "name": "python",
   "nbconvert_exporter": "python",
   "pygments_lexer": "ipython3",
   "version": "3.7.12"
  }
 },
 "nbformat": 4,
 "nbformat_minor": 4
}
