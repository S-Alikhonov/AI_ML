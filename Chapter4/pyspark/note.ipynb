{
 "cells": [
  {
   "cell_type": "code",
   "execution_count": 42,
   "metadata": {},
   "outputs": [],
   "source": [
    "from pyspark.sql import SparkSession\n",
    "from pyspark.sql.types import *\n"
   ]
  },
  {
   "cell_type": "markdown",
   "metadata": {},
   "source": [
    "## create spark session\n",
    "to use spark functionalities, we need to create spark session"
   ]
  },
  {
   "cell_type": "code",
   "execution_count": 43,
   "metadata": {},
   "outputs": [],
   "source": [
    "sp = SparkSession.builder.appName('spark').getOrCreate()"
   ]
  },
  {
   "cell_type": "markdown",
   "metadata": {},
   "source": [
    "## Read files\n",
    "to read files we can use read method of the session we created\n"
   ]
  },
  {
   "cell_type": "code",
   "execution_count": 44,
   "metadata": {},
   "outputs": [
    {
     "name": "stdout",
     "output_type": "stream",
     "text": [
      "+---+-------------+------------+-------------+------------+-----------+\n",
      "|_c0|          _c1|         _c2|          _c3|         _c4|        _c5|\n",
      "+---+-------------+------------+-------------+------------+-----------+\n",
      "| Id|SepalLengthCm|SepalWidthCm|PetalLengthCm|PetalWidthCm|    Species|\n",
      "|  1|          5.1|         3.5|          1.4|         0.2|Iris-setosa|\n",
      "|  2|          4.9|         3.0|          1.4|         0.2|Iris-setosa|\n",
      "|  3|          4.7|         3.2|          1.3|         0.2|Iris-setosa|\n",
      "|  4|          4.6|         3.1|          1.5|         0.2|Iris-setosa|\n",
      "|  5|          5.0|         3.6|          1.4|         0.2|Iris-setosa|\n",
      "|  6|          5.4|         3.9|          1.7|         0.4|Iris-setosa|\n",
      "|  7|          4.6|         3.4|          1.4|         0.3|Iris-setosa|\n",
      "|  8|          5.0|         3.4|          1.5|         0.2|Iris-setosa|\n",
      "|  9|          4.4|         2.9|          1.4|         0.2|Iris-setosa|\n",
      "| 10|          4.9|         3.1|          1.5|         0.1|Iris-setosa|\n",
      "| 11|          5.4|         3.7|          1.5|         0.2|Iris-setosa|\n",
      "| 12|          4.8|         3.4|          1.6|         0.2|Iris-setosa|\n",
      "| 13|          4.8|         3.0|          1.4|         0.1|Iris-setosa|\n",
      "| 14|          4.3|         3.0|          1.1|         0.1|Iris-setosa|\n",
      "| 15|          5.8|         4.0|          1.2|         0.2|Iris-setosa|\n",
      "| 16|          5.7|         4.4|          1.5|         0.4|Iris-setosa|\n",
      "| 17|          5.4|         3.9|          1.3|         0.4|Iris-setosa|\n",
      "| 18|          5.1|         3.5|          1.4|         0.3|Iris-setosa|\n",
      "| 19|          5.7|         3.8|          1.7|         0.3|Iris-setosa|\n",
      "+---+-------------+------------+-------------+------------+-----------+\n",
      "only showing top 20 rows\n",
      "\n"
     ]
    }
   ],
   "source": [
    "df = sp.read.csv('iris.csv')\n",
    "df.show()"
   ]
  },
  {
   "cell_type": "markdown",
   "metadata": {},
   "source": [
    "to know strcuture and types of the dataset , we can use print schema"
   ]
  },
  {
   "cell_type": "code",
   "execution_count": 45,
   "metadata": {},
   "outputs": [
    {
     "name": "stdout",
     "output_type": "stream",
     "text": [
      "root\n",
      " |-- _c0: string (nullable = true)\n",
      " |-- _c1: string (nullable = true)\n",
      " |-- _c2: string (nullable = true)\n",
      " |-- _c3: string (nullable = true)\n",
      " |-- _c4: string (nullable = true)\n",
      " |-- _c5: string (nullable = true)\n",
      "\n"
     ]
    }
   ],
   "source": [
    "df.printSchema()"
   ]
  },
  {
   "cell_type": "markdown",
   "metadata": {},
   "source": [
    "### properly loading the file\n",
    "plain read method loads, but headers wont be handled, as you can see headers are counted as entry points. And types of data points are String by default.\n",
    "To handle header, we can defin argument <b>header</b> as true, to load with proper datatype we need  <b>inferSchema</b>"
   ]
  },
  {
   "cell_type": "code",
   "execution_count": 46,
   "metadata": {},
   "outputs": [],
   "source": [
    "df = sp.read.csv('iris.csv',header=True,inferSchema=True)"
   ]
  },
  {
   "cell_type": "code",
   "execution_count": 47,
   "metadata": {},
   "outputs": [
    {
     "name": "stdout",
     "output_type": "stream",
     "text": [
      "root\n",
      " |-- Id: integer (nullable = true)\n",
      " |-- SepalLengthCm: double (nullable = true)\n",
      " |-- SepalWidthCm: double (nullable = true)\n",
      " |-- PetalLengthCm: double (nullable = true)\n",
      " |-- PetalWidthCm: double (nullable = true)\n",
      " |-- Species: string (nullable = true)\n",
      "\n"
     ]
    }
   ],
   "source": [
    "df.printSchema()"
   ]
  },
  {
   "cell_type": "markdown",
   "metadata": {},
   "source": [
    "### using custom schema"
   ]
  },
  {
   "cell_type": "code",
   "execution_count": 48,
   "metadata": {},
   "outputs": [],
   "source": [
    "schema = StructType([\n",
    "    StructField('Id',IntegerType()),\n",
    "    StructField('SepalLengthCm',DoubleType()),\n",
    "    StructField('SepalWidthCm',DoubleType()),\n",
    "    StructField('PetalLengthCm',DoubleType()),\n",
    "    StructField('PetalWidthCm',DoubleType()),\n",
    "    StructField('Species',StringType())\n",
    "])"
   ]
  },
  {
   "cell_type": "code",
   "execution_count": 49,
   "metadata": {},
   "outputs": [],
   "source": [
    "df = sp.read.csv('iris.csv',header=True,schema=schema)"
   ]
  },
  {
   "cell_type": "code",
   "execution_count": 50,
   "metadata": {},
   "outputs": [
    {
     "name": "stdout",
     "output_type": "stream",
     "text": [
      "+---+-------------+------------+-------------+------------+-----------+\n",
      "| Id|SepalLengthCm|SepalWidthCm|PetalLengthCm|PetalWidthCm|    Species|\n",
      "+---+-------------+------------+-------------+------------+-----------+\n",
      "|  1|          5.1|         3.5|          1.4|         0.2|Iris-setosa|\n",
      "|  2|          4.9|         3.0|          1.4|         0.2|Iris-setosa|\n",
      "|  3|          4.7|         3.2|          1.3|         0.2|Iris-setosa|\n",
      "|  4|          4.6|         3.1|          1.5|         0.2|Iris-setosa|\n",
      "|  5|          5.0|         3.6|          1.4|         0.2|Iris-setosa|\n",
      "|  6|          5.4|         3.9|          1.7|         0.4|Iris-setosa|\n",
      "|  7|          4.6|         3.4|          1.4|         0.3|Iris-setosa|\n",
      "|  8|          5.0|         3.4|          1.5|         0.2|Iris-setosa|\n",
      "|  9|          4.4|         2.9|          1.4|         0.2|Iris-setosa|\n",
      "| 10|          4.9|         3.1|          1.5|         0.1|Iris-setosa|\n",
      "| 11|          5.4|         3.7|          1.5|         0.2|Iris-setosa|\n",
      "| 12|          4.8|         3.4|          1.6|         0.2|Iris-setosa|\n",
      "| 13|          4.8|         3.0|          1.4|         0.1|Iris-setosa|\n",
      "| 14|          4.3|         3.0|          1.1|         0.1|Iris-setosa|\n",
      "| 15|          5.8|         4.0|          1.2|         0.2|Iris-setosa|\n",
      "| 16|          5.7|         4.4|          1.5|         0.4|Iris-setosa|\n",
      "| 17|          5.4|         3.9|          1.3|         0.4|Iris-setosa|\n",
      "| 18|          5.1|         3.5|          1.4|         0.3|Iris-setosa|\n",
      "| 19|          5.7|         3.8|          1.7|         0.3|Iris-setosa|\n",
      "| 20|          5.1|         3.8|          1.5|         0.3|Iris-setosa|\n",
      "+---+-------------+------------+-------------+------------+-----------+\n",
      "only showing top 20 rows\n",
      "\n"
     ]
    }
   ],
   "source": [
    "df.show()"
   ]
  },
  {
   "cell_type": "code",
   "execution_count": 51,
   "metadata": {},
   "outputs": [
    {
     "name": "stdout",
     "output_type": "stream",
     "text": [
      "root\n",
      " |-- Id: integer (nullable = true)\n",
      " |-- SepalLengthCm: double (nullable = true)\n",
      " |-- SepalWidthCm: double (nullable = true)\n",
      " |-- PetalLengthCm: double (nullable = true)\n",
      " |-- PetalWidthCm: double (nullable = true)\n",
      " |-- Species: string (nullable = true)\n",
      "\n"
     ]
    }
   ],
   "source": [
    "df.printSchema()"
   ]
  },
  {
   "cell_type": "markdown",
   "metadata": {},
   "source": [
    "## we can do ML using pyspark\n",
    "we can choose our independent variables (feautures) and or target using vector assembler."
   ]
  },
  {
   "cell_type": "code",
   "execution_count": 52,
   "metadata": {},
   "outputs": [],
   "source": [
    "from pyspark.ml.feature import VectorAssembler\n",
    "inputCol = ['SepalLengthCm','SepalWidthCm','PetalLengthCm','PetalWidthCm']\n",
    "vectorizer = VectorAssembler( inputCols=inputCol,\n",
    "                                outputCol='features')\n",
    "df = vectorizer.transform(df)\n"
   ]
  },
  {
   "cell_type": "code",
   "execution_count": 53,
   "metadata": {},
   "outputs": [
    {
     "name": "stdout",
     "output_type": "stream",
     "text": [
      "+---+-------------+------------+-------------+------------+-----------+-----------------+\n",
      "| Id|SepalLengthCm|SepalWidthCm|PetalLengthCm|PetalWidthCm|    Species|         features|\n",
      "+---+-------------+------------+-------------+------------+-----------+-----------------+\n",
      "|  1|          5.1|         3.5|          1.4|         0.2|Iris-setosa|[5.1,3.5,1.4,0.2]|\n",
      "|  2|          4.9|         3.0|          1.4|         0.2|Iris-setosa|[4.9,3.0,1.4,0.2]|\n",
      "|  3|          4.7|         3.2|          1.3|         0.2|Iris-setosa|[4.7,3.2,1.3,0.2]|\n",
      "|  4|          4.6|         3.1|          1.5|         0.2|Iris-setosa|[4.6,3.1,1.5,0.2]|\n",
      "|  5|          5.0|         3.6|          1.4|         0.2|Iris-setosa|[5.0,3.6,1.4,0.2]|\n",
      "|  6|          5.4|         3.9|          1.7|         0.4|Iris-setosa|[5.4,3.9,1.7,0.4]|\n",
      "|  7|          4.6|         3.4|          1.4|         0.3|Iris-setosa|[4.6,3.4,1.4,0.3]|\n",
      "|  8|          5.0|         3.4|          1.5|         0.2|Iris-setosa|[5.0,3.4,1.5,0.2]|\n",
      "|  9|          4.4|         2.9|          1.4|         0.2|Iris-setosa|[4.4,2.9,1.4,0.2]|\n",
      "| 10|          4.9|         3.1|          1.5|         0.1|Iris-setosa|[4.9,3.1,1.5,0.1]|\n",
      "| 11|          5.4|         3.7|          1.5|         0.2|Iris-setosa|[5.4,3.7,1.5,0.2]|\n",
      "| 12|          4.8|         3.4|          1.6|         0.2|Iris-setosa|[4.8,3.4,1.6,0.2]|\n",
      "| 13|          4.8|         3.0|          1.4|         0.1|Iris-setosa|[4.8,3.0,1.4,0.1]|\n",
      "| 14|          4.3|         3.0|          1.1|         0.1|Iris-setosa|[4.3,3.0,1.1,0.1]|\n",
      "| 15|          5.8|         4.0|          1.2|         0.2|Iris-setosa|[5.8,4.0,1.2,0.2]|\n",
      "| 16|          5.7|         4.4|          1.5|         0.4|Iris-setosa|[5.7,4.4,1.5,0.4]|\n",
      "| 17|          5.4|         3.9|          1.3|         0.4|Iris-setosa|[5.4,3.9,1.3,0.4]|\n",
      "| 18|          5.1|         3.5|          1.4|         0.3|Iris-setosa|[5.1,3.5,1.4,0.3]|\n",
      "| 19|          5.7|         3.8|          1.7|         0.3|Iris-setosa|[5.7,3.8,1.7,0.3]|\n",
      "| 20|          5.1|         3.8|          1.5|         0.3|Iris-setosa|[5.1,3.8,1.5,0.3]|\n",
      "+---+-------------+------------+-------------+------------+-----------+-----------------+\n",
      "only showing top 20 rows\n",
      "\n"
     ]
    }
   ],
   "source": [
    "df.show()"
   ]
  },
  {
   "cell_type": "markdown",
   "metadata": {},
   "source": [
    "#### as you can see, my feautures are in the form of array like object. still, I need to encode labels, because they are still in string format."
   ]
  },
  {
   "cell_type": "markdown",
   "metadata": {},
   "source": [
    "### preprocessing"
   ]
  },
  {
   "cell_type": "code",
   "execution_count": 55,
   "metadata": {},
   "outputs": [],
   "source": [
    "from pyspark.ml.feature import StringIndexer\n",
    "indexer = StringIndexer(inputCol='Species',outputCol='target')"
   ]
  },
  {
   "cell_type": "code",
   "execution_count": 56,
   "metadata": {},
   "outputs": [],
   "source": [
    "df = indexer.fit(df).transform(df)"
   ]
  },
  {
   "cell_type": "code",
   "execution_count": 57,
   "metadata": {},
   "outputs": [
    {
     "name": "stdout",
     "output_type": "stream",
     "text": [
      "+---+-------------+------------+-------------+------------+-----------+-----------------+------+\n",
      "| Id|SepalLengthCm|SepalWidthCm|PetalLengthCm|PetalWidthCm|    Species|         features|target|\n",
      "+---+-------------+------------+-------------+------------+-----------+-----------------+------+\n",
      "|  1|          5.1|         3.5|          1.4|         0.2|Iris-setosa|[5.1,3.5,1.4,0.2]|   0.0|\n",
      "|  2|          4.9|         3.0|          1.4|         0.2|Iris-setosa|[4.9,3.0,1.4,0.2]|   0.0|\n",
      "|  3|          4.7|         3.2|          1.3|         0.2|Iris-setosa|[4.7,3.2,1.3,0.2]|   0.0|\n",
      "|  4|          4.6|         3.1|          1.5|         0.2|Iris-setosa|[4.6,3.1,1.5,0.2]|   0.0|\n",
      "|  5|          5.0|         3.6|          1.4|         0.2|Iris-setosa|[5.0,3.6,1.4,0.2]|   0.0|\n",
      "|  6|          5.4|         3.9|          1.7|         0.4|Iris-setosa|[5.4,3.9,1.7,0.4]|   0.0|\n",
      "|  7|          4.6|         3.4|          1.4|         0.3|Iris-setosa|[4.6,3.4,1.4,0.3]|   0.0|\n",
      "|  8|          5.0|         3.4|          1.5|         0.2|Iris-setosa|[5.0,3.4,1.5,0.2]|   0.0|\n",
      "|  9|          4.4|         2.9|          1.4|         0.2|Iris-setosa|[4.4,2.9,1.4,0.2]|   0.0|\n",
      "| 10|          4.9|         3.1|          1.5|         0.1|Iris-setosa|[4.9,3.1,1.5,0.1]|   0.0|\n",
      "| 11|          5.4|         3.7|          1.5|         0.2|Iris-setosa|[5.4,3.7,1.5,0.2]|   0.0|\n",
      "| 12|          4.8|         3.4|          1.6|         0.2|Iris-setosa|[4.8,3.4,1.6,0.2]|   0.0|\n",
      "| 13|          4.8|         3.0|          1.4|         0.1|Iris-setosa|[4.8,3.0,1.4,0.1]|   0.0|\n",
      "| 14|          4.3|         3.0|          1.1|         0.1|Iris-setosa|[4.3,3.0,1.1,0.1]|   0.0|\n",
      "| 15|          5.8|         4.0|          1.2|         0.2|Iris-setosa|[5.8,4.0,1.2,0.2]|   0.0|\n",
      "| 16|          5.7|         4.4|          1.5|         0.4|Iris-setosa|[5.7,4.4,1.5,0.4]|   0.0|\n",
      "| 17|          5.4|         3.9|          1.3|         0.4|Iris-setosa|[5.4,3.9,1.3,0.4]|   0.0|\n",
      "| 18|          5.1|         3.5|          1.4|         0.3|Iris-setosa|[5.1,3.5,1.4,0.3]|   0.0|\n",
      "| 19|          5.7|         3.8|          1.7|         0.3|Iris-setosa|[5.7,3.8,1.7,0.3]|   0.0|\n",
      "| 20|          5.1|         3.8|          1.5|         0.3|Iris-setosa|[5.1,3.8,1.5,0.3]|   0.0|\n",
      "+---+-------------+------------+-------------+------------+-----------+-----------------+------+\n",
      "only showing top 20 rows\n",
      "\n"
     ]
    }
   ],
   "source": [
    "df.show()"
   ]
  },
  {
   "cell_type": "markdown",
   "metadata": {},
   "source": [
    "### split into test and train\n",
    "we can easily split into train and test using randomSplit method of dataframe object."
   ]
  },
  {
   "cell_type": "code",
   "execution_count": 58,
   "metadata": {},
   "outputs": [],
   "source": [
    "df_train,df_test = df.randomSplit([0.7,0.3],seed=1)"
   ]
  },
  {
   "cell_type": "markdown",
   "metadata": {},
   "source": []
  },
  {
   "cell_type": "code",
   "execution_count": 60,
   "metadata": {},
   "outputs": [
    {
     "name": "stdout",
     "output_type": "stream",
     "text": [
      "+---+-------------+------------+-------------+------------+---------------+-----------------+------+\n",
      "| Id|SepalLengthCm|SepalWidthCm|PetalLengthCm|PetalWidthCm|        Species|         features|target|\n",
      "+---+-------------+------------+-------------+------------+---------------+-----------------+------+\n",
      "|  5|          5.0|         3.6|          1.4|         0.2|    Iris-setosa|[5.0,3.6,1.4,0.2]|   0.0|\n",
      "| 11|          5.4|         3.7|          1.5|         0.2|    Iris-setosa|[5.4,3.7,1.5,0.2]|   0.0|\n",
      "| 17|          5.4|         3.9|          1.3|         0.4|    Iris-setosa|[5.4,3.9,1.3,0.4]|   0.0|\n",
      "| 19|          5.7|         3.8|          1.7|         0.3|    Iris-setosa|[5.7,3.8,1.7,0.3]|   0.0|\n",
      "| 21|          5.4|         3.4|          1.7|         0.2|    Iris-setosa|[5.4,3.4,1.7,0.2]|   0.0|\n",
      "| 25|          4.8|         3.4|          1.9|         0.2|    Iris-setosa|[4.8,3.4,1.9,0.2]|   0.0|\n",
      "| 29|          5.2|         3.4|          1.4|         0.2|    Iris-setosa|[5.2,3.4,1.4,0.2]|   0.0|\n",
      "| 33|          5.2|         4.1|          1.5|         0.1|    Iris-setosa|[5.2,4.1,1.5,0.1]|   0.0|\n",
      "| 37|          5.5|         3.5|          1.3|         0.2|    Iris-setosa|[5.5,3.5,1.3,0.2]|   0.0|\n",
      "| 39|          4.4|         3.0|          1.3|         0.2|    Iris-setosa|[4.4,3.0,1.3,0.2]|   0.0|\n",
      "| 40|          5.1|         3.4|          1.5|         0.2|    Iris-setosa|[5.1,3.4,1.5,0.2]|   0.0|\n",
      "| 41|          5.0|         3.5|          1.3|         0.3|    Iris-setosa|[5.0,3.5,1.3,0.3]|   0.0|\n",
      "| 43|          4.4|         3.2|          1.3|         0.2|    Iris-setosa|[4.4,3.2,1.3,0.2]|   0.0|\n",
      "| 44|          5.0|         3.5|          1.6|         0.6|    Iris-setosa|[5.0,3.5,1.6,0.6]|   0.0|\n",
      "| 49|          5.3|         3.7|          1.5|         0.2|    Iris-setosa|[5.3,3.7,1.5,0.2]|   0.0|\n",
      "| 53|          6.9|         3.1|          4.9|         1.5|Iris-versicolor|[6.9,3.1,4.9,1.5]|   1.0|\n",
      "| 57|          6.3|         3.3|          4.7|         1.6|Iris-versicolor|[6.3,3.3,4.7,1.6]|   1.0|\n",
      "| 61|          5.0|         2.0|          3.5|         1.0|Iris-versicolor|[5.0,2.0,3.5,1.0]|   1.0|\n",
      "| 81|          5.5|         2.4|          3.8|         1.1|Iris-versicolor|[5.5,2.4,3.8,1.1]|   1.0|\n",
      "| 90|          5.5|         2.5|          4.0|         1.3|Iris-versicolor|[5.5,2.5,4.0,1.3]|   1.0|\n",
      "+---+-------------+------------+-------------+------------+---------------+-----------------+------+\n",
      "only showing top 20 rows\n",
      "\n"
     ]
    }
   ],
   "source": [
    "df_test.show()"
   ]
  },
  {
   "cell_type": "markdown",
   "metadata": {},
   "source": [
    "## create a model - fit - predict - evaluate"
   ]
  },
  {
   "cell_type": "code",
   "execution_count": 63,
   "metadata": {},
   "outputs": [],
   "source": [
    "from pyspark.ml.classification import RandomForestClassifier"
   ]
  },
  {
   "cell_type": "code",
   "execution_count": 66,
   "metadata": {},
   "outputs": [],
   "source": [
    "rf_clf = RandomForestClassifier(featuresCol='features',labelCol='target')"
   ]
  },
  {
   "cell_type": "code",
   "execution_count": 68,
   "metadata": {},
   "outputs": [],
   "source": [
    "rf_clf = rf_clf.fit(df_train)"
   ]
  },
  {
   "cell_type": "code",
   "execution_count": 69,
   "metadata": {},
   "outputs": [],
   "source": [
    "df_test = rf_clf.transform(df_test)"
   ]
  },
  {
   "cell_type": "code",
   "execution_count": 70,
   "metadata": {},
   "outputs": [
    {
     "name": "stdout",
     "output_type": "stream",
     "text": [
      "+---+-------------+------------+-------------+------------+---------------+-----------------+------+--------------------+--------------------+----------+\n",
      "| Id|SepalLengthCm|SepalWidthCm|PetalLengthCm|PetalWidthCm|        Species|         features|target|       rawPrediction|         probability|prediction|\n",
      "+---+-------------+------------+-------------+------------+---------------+-----------------+------+--------------------+--------------------+----------+\n",
      "|  5|          5.0|         3.6|          1.4|         0.2|    Iris-setosa|[5.0,3.6,1.4,0.2]|   0.0|      [20.0,0.0,0.0]|       [1.0,0.0,0.0]|       0.0|\n",
      "| 11|          5.4|         3.7|          1.5|         0.2|    Iris-setosa|[5.4,3.7,1.5,0.2]|   0.0|      [20.0,0.0,0.0]|       [1.0,0.0,0.0]|       0.0|\n",
      "| 17|          5.4|         3.9|          1.3|         0.4|    Iris-setosa|[5.4,3.9,1.3,0.4]|   0.0|      [20.0,0.0,0.0]|       [1.0,0.0,0.0]|       0.0|\n",
      "| 19|          5.7|         3.8|          1.7|         0.3|    Iris-setosa|[5.7,3.8,1.7,0.3]|   0.0|      [17.0,3.0,0.0]|     [0.85,0.15,0.0]|       0.0|\n",
      "| 21|          5.4|         3.4|          1.7|         0.2|    Iris-setosa|[5.4,3.4,1.7,0.2]|   0.0|      [19.0,1.0,0.0]|     [0.95,0.05,0.0]|       0.0|\n",
      "| 25|          4.8|         3.4|          1.9|         0.2|    Iris-setosa|[4.8,3.4,1.9,0.2]|   0.0|      [16.0,3.0,1.0]|     [0.8,0.15,0.05]|       0.0|\n",
      "| 29|          5.2|         3.4|          1.4|         0.2|    Iris-setosa|[5.2,3.4,1.4,0.2]|   0.0|      [20.0,0.0,0.0]|       [1.0,0.0,0.0]|       0.0|\n",
      "| 33|          5.2|         4.1|          1.5|         0.1|    Iris-setosa|[5.2,4.1,1.5,0.1]|   0.0|      [20.0,0.0,0.0]|       [1.0,0.0,0.0]|       0.0|\n",
      "| 37|          5.5|         3.5|          1.3|         0.2|    Iris-setosa|[5.5,3.5,1.3,0.2]|   0.0|      [20.0,0.0,0.0]|       [1.0,0.0,0.0]|       0.0|\n",
      "| 39|          4.4|         3.0|          1.3|         0.2|    Iris-setosa|[4.4,3.0,1.3,0.2]|   0.0|      [20.0,0.0,0.0]|       [1.0,0.0,0.0]|       0.0|\n",
      "| 40|          5.1|         3.4|          1.5|         0.2|    Iris-setosa|[5.1,3.4,1.5,0.2]|   0.0|      [20.0,0.0,0.0]|       [1.0,0.0,0.0]|       0.0|\n",
      "| 41|          5.0|         3.5|          1.3|         0.3|    Iris-setosa|[5.0,3.5,1.3,0.3]|   0.0|      [20.0,0.0,0.0]|       [1.0,0.0,0.0]|       0.0|\n",
      "| 43|          4.4|         3.2|          1.3|         0.2|    Iris-setosa|[4.4,3.2,1.3,0.2]|   0.0|      [20.0,0.0,0.0]|       [1.0,0.0,0.0]|       0.0|\n",
      "| 44|          5.0|         3.5|          1.6|         0.6|    Iris-setosa|[5.0,3.5,1.6,0.6]|   0.0|      [17.0,3.0,0.0]|     [0.85,0.15,0.0]|       0.0|\n",
      "| 49|          5.3|         3.7|          1.5|         0.2|    Iris-setosa|[5.3,3.7,1.5,0.2]|   0.0|      [20.0,0.0,0.0]|       [1.0,0.0,0.0]|       0.0|\n",
      "| 53|          6.9|         3.1|          4.9|         1.5|Iris-versicolor|[6.9,3.1,4.9,1.5]|   1.0|      [0.0,19.0,1.0]|     [0.0,0.95,0.05]|       1.0|\n",
      "| 57|          6.3|         3.3|          4.7|         1.6|Iris-versicolor|[6.3,3.3,4.7,1.6]|   1.0|[0.0,18.090909090...|[0.0,0.9045454545...|       1.0|\n",
      "| 61|          5.0|         2.0|          3.5|         1.0|Iris-versicolor|[5.0,2.0,3.5,1.0]|   1.0|      [0.0,20.0,0.0]|       [0.0,1.0,0.0]|       1.0|\n",
      "| 81|          5.5|         2.4|          3.8|         1.1|Iris-versicolor|[5.5,2.4,3.8,1.1]|   1.0|      [0.0,20.0,0.0]|       [0.0,1.0,0.0]|       1.0|\n",
      "| 90|          5.5|         2.5|          4.0|         1.3|Iris-versicolor|[5.5,2.5,4.0,1.3]|   1.0|      [0.0,20.0,0.0]|       [0.0,1.0,0.0]|       1.0|\n",
      "+---+-------------+------------+-------------+------------+---------------+-----------------+------+--------------------+--------------------+----------+\n",
      "only showing top 20 rows\n",
      "\n"
     ]
    }
   ],
   "source": [
    "df_test.show()"
   ]
  },
  {
   "cell_type": "code",
   "execution_count": 73,
   "metadata": {},
   "outputs": [
    {
     "name": "stdout",
     "output_type": "stream",
     "text": [
      "+---------------+-----------------+------+--------------------+----------+\n",
      "|        Species|         features|target|         probability|prediction|\n",
      "+---------------+-----------------+------+--------------------+----------+\n",
      "|    Iris-setosa|[5.0,3.6,1.4,0.2]|   0.0|       [1.0,0.0,0.0]|       0.0|\n",
      "|    Iris-setosa|[5.4,3.7,1.5,0.2]|   0.0|       [1.0,0.0,0.0]|       0.0|\n",
      "|    Iris-setosa|[5.4,3.9,1.3,0.4]|   0.0|       [1.0,0.0,0.0]|       0.0|\n",
      "|    Iris-setosa|[5.7,3.8,1.7,0.3]|   0.0|     [0.85,0.15,0.0]|       0.0|\n",
      "|    Iris-setosa|[5.4,3.4,1.7,0.2]|   0.0|     [0.95,0.05,0.0]|       0.0|\n",
      "|    Iris-setosa|[4.8,3.4,1.9,0.2]|   0.0|     [0.8,0.15,0.05]|       0.0|\n",
      "|    Iris-setosa|[5.2,3.4,1.4,0.2]|   0.0|       [1.0,0.0,0.0]|       0.0|\n",
      "|    Iris-setosa|[5.2,4.1,1.5,0.1]|   0.0|       [1.0,0.0,0.0]|       0.0|\n",
      "|    Iris-setosa|[5.5,3.5,1.3,0.2]|   0.0|       [1.0,0.0,0.0]|       0.0|\n",
      "|    Iris-setosa|[4.4,3.0,1.3,0.2]|   0.0|       [1.0,0.0,0.0]|       0.0|\n",
      "|    Iris-setosa|[5.1,3.4,1.5,0.2]|   0.0|       [1.0,0.0,0.0]|       0.0|\n",
      "|    Iris-setosa|[5.0,3.5,1.3,0.3]|   0.0|       [1.0,0.0,0.0]|       0.0|\n",
      "|    Iris-setosa|[4.4,3.2,1.3,0.2]|   0.0|       [1.0,0.0,0.0]|       0.0|\n",
      "|    Iris-setosa|[5.0,3.5,1.6,0.6]|   0.0|     [0.85,0.15,0.0]|       0.0|\n",
      "|    Iris-setosa|[5.3,3.7,1.5,0.2]|   0.0|       [1.0,0.0,0.0]|       0.0|\n",
      "|Iris-versicolor|[6.9,3.1,4.9,1.5]|   1.0|     [0.0,0.95,0.05]|       1.0|\n",
      "|Iris-versicolor|[6.3,3.3,4.7,1.6]|   1.0|[0.0,0.9045454545...|       1.0|\n",
      "|Iris-versicolor|[5.0,2.0,3.5,1.0]|   1.0|       [0.0,1.0,0.0]|       1.0|\n",
      "|Iris-versicolor|[5.5,2.4,3.8,1.1]|   1.0|       [0.0,1.0,0.0]|       1.0|\n",
      "|Iris-versicolor|[5.5,2.5,4.0,1.3]|   1.0|       [0.0,1.0,0.0]|       1.0|\n",
      "+---------------+-----------------+------+--------------------+----------+\n",
      "only showing top 20 rows\n",
      "\n"
     ]
    }
   ],
   "source": [
    "df_test.select('Species','features','target','probability','prediction').show()"
   ]
  },
  {
   "cell_type": "markdown",
   "metadata": {},
   "source": [
    "### evaluate model preformance"
   ]
  },
  {
   "cell_type": "code",
   "execution_count": 75,
   "metadata": {},
   "outputs": [],
   "source": [
    "from pyspark.ml.evaluation import MulticlassClassificationEvaluator\n",
    "criterion = MulticlassClassificationEvaluator(labelCol='target')\n",
    "acc = criterion.evaluate(df_test)"
   ]
  },
  {
   "cell_type": "code",
   "execution_count": 76,
   "metadata": {},
   "outputs": [
    {
     "data": {
      "text/plain": [
       "0.9559343434343436"
      ]
     },
     "execution_count": 76,
     "metadata": {},
     "output_type": "execute_result"
    }
   ],
   "source": [
    "acc"
   ]
  }
 ],
 "metadata": {
  "interpreter": {
   "hash": "7bf57e7387173780f765e877ab92ff03779e53cdfd431e7f632f6059409b8dbd"
  },
  "kernelspec": {
   "display_name": "Python 3.8.8 64-bit ('base': conda)",
   "language": "python",
   "name": "python3"
  },
  "language_info": {
   "codemirror_mode": {
    "name": "ipython",
    "version": 3
   },
   "file_extension": ".py",
   "mimetype": "text/x-python",
   "name": "python",
   "nbconvert_exporter": "python",
   "pygments_lexer": "ipython3",
   "version": "3.7.12"
  },
  "orig_nbformat": 4
 },
 "nbformat": 4,
 "nbformat_minor": 2
}
